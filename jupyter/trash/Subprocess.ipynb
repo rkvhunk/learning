{
 "cells": [
  {
   "cell_type": "code",
   "execution_count": 1,
   "id": "2db6f1df",
   "metadata": {},
   "outputs": [],
   "source": [
    "import subprocess"
   ]
  },
  {
   "cell_type": "code",
   "execution_count": null,
   "id": "e38b997c",
   "metadata": {},
   "outputs": [],
   "source": [
    "p=subprocess.Popen([\"echo\",\"hello world\"],stdout=subprocess.PIPE,shell=True)"
   ]
  },
  {
   "cell_type": "code",
   "execution_count": null,
   "id": "3fa97ffd",
   "metadata": {},
   "outputs": [],
   "source": [
    "p.communicate()"
   ]
  },
  {
   "cell_type": "code",
   "execution_count": null,
   "id": "bb364b1c",
   "metadata": {},
   "outputs": [],
   "source": [
    "proc=subprocess.Popen(['echo','\"to stdout\"'],stdout=subprocess.PIPE,shell=True)"
   ]
  },
  {
   "cell_type": "code",
   "execution_count": null,
   "id": "cfe7bbc1",
   "metadata": {},
   "outputs": [],
   "source": [
    "stdout_value=proc.communicate()[0]"
   ]
  },
  {
   "cell_type": "code",
   "execution_count": null,
   "id": "ac7800e7",
   "metadata": {},
   "outputs": [],
   "source": [
    "repr(stdout_value)"
   ]
  },
  {
   "cell_type": "code",
   "execution_count": null,
   "id": "9d41bef0",
   "metadata": {},
   "outputs": [],
   "source": [
    "p=subprocess.Popen([\"echo\",\"hello world\"],stdout=subprocess.PIPE,shell=True)"
   ]
  },
  {
   "cell_type": "code",
   "execution_count": null,
   "id": "df2ea473",
   "metadata": {},
   "outputs": [],
   "source": [
    "p.communicate()"
   ]
  },
  {
   "cell_type": "code",
   "execution_count": null,
   "id": "0cae00b2",
   "metadata": {},
   "outputs": [],
   "source": [
    "proc=subprocess.Popen(['echo','\"to stdout\"'],stdout=subprocess.PIPE,shell=True)"
   ]
  },
  {
   "cell_type": "code",
   "execution_count": null,
   "id": "650b307b",
   "metadata": {},
   "outputs": [],
   "source": [
    "stdout_value=proc.communicate()[0]"
   ]
  },
  {
   "cell_type": "code",
   "execution_count": null,
   "id": "71e350c6",
   "metadata": {},
   "outputs": [],
   "source": [
    "repr(stdout_value)"
   ]
  },
  {
   "cell_type": "code",
   "execution_count": 2,
   "id": "80e09576",
   "metadata": {},
   "outputs": [
    {
     "data": {
      "text/plain": [
       "1"
      ]
     },
     "execution_count": 2,
     "metadata": {},
     "output_type": "execute_result"
    }
   ],
   "source": [
    "subprocess.call('exit 1',shell=True)"
   ]
  },
  {
   "cell_type": "code",
   "execution_count": 3,
   "id": "120fe05f",
   "metadata": {},
   "outputs": [
    {
     "name": "stdout",
     "output_type": "stream",
     "text": [
      "total 36\n",
      "drwxrwxr-x 6 rahulkumar rahulkumar  4096 Feb  9 17:55 jupyter_env\n",
      "-rw-rw-r-- 1 rahulkumar rahulkumar  3987 Apr  1 16:41 Subprocess.ipynb\n",
      "-rw-rw-r-- 1 rahulkumar rahulkumar  3309 Mar 30 10:14 Untitled1.ipynb\n",
      "-rw-rw-r-- 1 rahulkumar rahulkumar 20619 Feb 17 10:53 Untitled.ipynb\n",
      "-rw-rw-r-- 1 rahulkumar rahulkumar     0 Mar 23 11:52 untitled.txt\n"
     ]
    },
    {
     "data": {
      "text/plain": [
       "0"
      ]
     },
     "execution_count": 3,
     "metadata": {},
     "output_type": "execute_result"
    }
   ],
   "source": [
    "subprocess.call('ls -l',shell=True)"
   ]
  },
  {
   "cell_type": "code",
   "execution_count": 4,
   "id": "19abc413",
   "metadata": {},
   "outputs": [
    {
     "name": "stdout",
     "output_type": "stream",
     "text": [
      "jupyter_env\n",
      "Subprocess.ipynb\n",
      "Untitled1.ipynb\n",
      "Untitled.ipynb\n",
      "untitled.txt\n"
     ]
    },
    {
     "data": {
      "text/plain": [
       "CompletedProcess(args=['ls', '-l'], returncode=0)"
      ]
     },
     "execution_count": 4,
     "metadata": {},
     "output_type": "execute_result"
    }
   ],
   "source": [
    "subprocess.run(['ls','-l'],shell=True)"
   ]
  },
  {
   "cell_type": "code",
   "execution_count": 5,
   "id": "67521230",
   "metadata": {},
   "outputs": [
    {
     "data": {
      "text/plain": [
       "0"
      ]
     },
     "execution_count": 5,
     "metadata": {},
     "output_type": "execute_result"
    }
   ],
   "source": [
    "subprocess.check_call('true',shell=True)"
   ]
  },
  {
   "cell_type": "code",
   "execution_count": 6,
   "id": "45c95a3f",
   "metadata": {},
   "outputs": [
    {
     "data": {
      "text/plain": [
       "b'\\n'"
      ]
     },
     "execution_count": 6,
     "metadata": {},
     "output_type": "execute_result"
    }
   ],
   "source": [
    "subprocess.check_output([\"echo\",\"Hello World!\"],shell=True)"
   ]
  },
  {
   "cell_type": "code",
   "execution_count": 9,
   "id": "afc20dd5",
   "metadata": {},
   "outputs": [],
   "source": [
    "RUN_JOB = 'python /app/entityextractor/core_backend/build_solutions/pipeline_Test_solution_TC_01975630-1f35-451e-ae34-54258fda5601.py fafa34b3-2008-4013-a5cc-56fec6c5ea81 01975630-1f35-451e-ae34-54258fda5601 {}'"
   ]
  },
  {
   "cell_type": "code",
   "execution_count": 10,
   "id": "912e857b",
   "metadata": {},
   "outputs": [
    {
     "ename": "FileNotFoundError",
     "evalue": "[Errno 2] No such file or directory: 'python /app/entityextractor/core_backend/build_solutions/pipeline_Test_solution_TC_01975630-1f35-451e-ae34-54258fda5601.py fafa34b3-2008-4013-a5cc-56fec6c5ea81 01975630-1f35-451e-ae34-54258fda5601 {}'",
     "output_type": "error",
     "traceback": [
      "\u001b[0;31m---------------------------------------------------------------------------\u001b[0m",
      "\u001b[0;31mFileNotFoundError\u001b[0m                         Traceback (most recent call last)",
      "Input \u001b[0;32mIn [10]\u001b[0m, in \u001b[0;36m<module>\u001b[0;34m\u001b[0m\n\u001b[0;32m----> 1\u001b[0m sub \u001b[38;5;241m=\u001b[39m \u001b[43msubprocess\u001b[49m\u001b[38;5;241;43m.\u001b[39;49m\u001b[43mPopen\u001b[49m\u001b[43m(\u001b[49m\u001b[43mRUN_JOB\u001b[49m\u001b[43m,\u001b[49m\u001b[43mstdout\u001b[49m\u001b[38;5;241;43m=\u001b[39;49m\u001b[43msubprocess\u001b[49m\u001b[38;5;241;43m.\u001b[39;49m\u001b[43mPIPE\u001b[49m\u001b[43m,\u001b[49m\u001b[43mstderr\u001b[49m\u001b[38;5;241;43m=\u001b[39;49m\u001b[43msubprocess\u001b[49m\u001b[38;5;241;43m.\u001b[39;49m\u001b[43mPIPE\u001b[49m\u001b[43m,\u001b[49m\u001b[43muniversal_newlines\u001b[49m\u001b[38;5;241;43m=\u001b[39;49m\u001b[38;5;28;43;01mTrue\u001b[39;49;00m\u001b[43m)\u001b[49m\n",
      "File \u001b[0;32m/usr/lib/python3.8/subprocess.py:858\u001b[0m, in \u001b[0;36mPopen.__init__\u001b[0;34m(self, args, bufsize, executable, stdin, stdout, stderr, preexec_fn, close_fds, shell, cwd, env, universal_newlines, startupinfo, creationflags, restore_signals, start_new_session, pass_fds, encoding, errors, text)\u001b[0m\n\u001b[1;32m    854\u001b[0m         \u001b[38;5;28;01mif\u001b[39;00m \u001b[38;5;28mself\u001b[39m\u001b[38;5;241m.\u001b[39mtext_mode:\n\u001b[1;32m    855\u001b[0m             \u001b[38;5;28mself\u001b[39m\u001b[38;5;241m.\u001b[39mstderr \u001b[38;5;241m=\u001b[39m io\u001b[38;5;241m.\u001b[39mTextIOWrapper(\u001b[38;5;28mself\u001b[39m\u001b[38;5;241m.\u001b[39mstderr,\n\u001b[1;32m    856\u001b[0m                     encoding\u001b[38;5;241m=\u001b[39mencoding, errors\u001b[38;5;241m=\u001b[39merrors)\n\u001b[0;32m--> 858\u001b[0m     \u001b[38;5;28;43mself\u001b[39;49m\u001b[38;5;241;43m.\u001b[39;49m\u001b[43m_execute_child\u001b[49m\u001b[43m(\u001b[49m\u001b[43margs\u001b[49m\u001b[43m,\u001b[49m\u001b[43m \u001b[49m\u001b[43mexecutable\u001b[49m\u001b[43m,\u001b[49m\u001b[43m \u001b[49m\u001b[43mpreexec_fn\u001b[49m\u001b[43m,\u001b[49m\u001b[43m \u001b[49m\u001b[43mclose_fds\u001b[49m\u001b[43m,\u001b[49m\n\u001b[1;32m    859\u001b[0m \u001b[43m                        \u001b[49m\u001b[43mpass_fds\u001b[49m\u001b[43m,\u001b[49m\u001b[43m \u001b[49m\u001b[43mcwd\u001b[49m\u001b[43m,\u001b[49m\u001b[43m \u001b[49m\u001b[43menv\u001b[49m\u001b[43m,\u001b[49m\n\u001b[1;32m    860\u001b[0m \u001b[43m                        \u001b[49m\u001b[43mstartupinfo\u001b[49m\u001b[43m,\u001b[49m\u001b[43m \u001b[49m\u001b[43mcreationflags\u001b[49m\u001b[43m,\u001b[49m\u001b[43m \u001b[49m\u001b[43mshell\u001b[49m\u001b[43m,\u001b[49m\n\u001b[1;32m    861\u001b[0m \u001b[43m                        \u001b[49m\u001b[43mp2cread\u001b[49m\u001b[43m,\u001b[49m\u001b[43m \u001b[49m\u001b[43mp2cwrite\u001b[49m\u001b[43m,\u001b[49m\n\u001b[1;32m    862\u001b[0m \u001b[43m                        \u001b[49m\u001b[43mc2pread\u001b[49m\u001b[43m,\u001b[49m\u001b[43m \u001b[49m\u001b[43mc2pwrite\u001b[49m\u001b[43m,\u001b[49m\n\u001b[1;32m    863\u001b[0m \u001b[43m                        \u001b[49m\u001b[43merrread\u001b[49m\u001b[43m,\u001b[49m\u001b[43m \u001b[49m\u001b[43merrwrite\u001b[49m\u001b[43m,\u001b[49m\n\u001b[1;32m    864\u001b[0m \u001b[43m                        \u001b[49m\u001b[43mrestore_signals\u001b[49m\u001b[43m,\u001b[49m\u001b[43m \u001b[49m\u001b[43mstart_new_session\u001b[49m\u001b[43m)\u001b[49m\n\u001b[1;32m    865\u001b[0m \u001b[38;5;28;01mexcept\u001b[39;00m:\n\u001b[1;32m    866\u001b[0m     \u001b[38;5;66;03m# Cleanup if the child failed starting.\u001b[39;00m\n\u001b[1;32m    867\u001b[0m     \u001b[38;5;28;01mfor\u001b[39;00m f \u001b[38;5;129;01min\u001b[39;00m \u001b[38;5;28mfilter\u001b[39m(\u001b[38;5;28;01mNone\u001b[39;00m, (\u001b[38;5;28mself\u001b[39m\u001b[38;5;241m.\u001b[39mstdin, \u001b[38;5;28mself\u001b[39m\u001b[38;5;241m.\u001b[39mstdout, \u001b[38;5;28mself\u001b[39m\u001b[38;5;241m.\u001b[39mstderr)):\n",
      "File \u001b[0;32m/usr/lib/python3.8/subprocess.py:1704\u001b[0m, in \u001b[0;36mPopen._execute_child\u001b[0;34m(self, args, executable, preexec_fn, close_fds, pass_fds, cwd, env, startupinfo, creationflags, shell, p2cread, p2cwrite, c2pread, c2pwrite, errread, errwrite, restore_signals, start_new_session)\u001b[0m\n\u001b[1;32m   1702\u001b[0m     \u001b[38;5;28;01mif\u001b[39;00m errno_num \u001b[38;5;241m!=\u001b[39m \u001b[38;5;241m0\u001b[39m:\n\u001b[1;32m   1703\u001b[0m         err_msg \u001b[38;5;241m=\u001b[39m os\u001b[38;5;241m.\u001b[39mstrerror(errno_num)\n\u001b[0;32m-> 1704\u001b[0m     \u001b[38;5;28;01mraise\u001b[39;00m child_exception_type(errno_num, err_msg, err_filename)\n\u001b[1;32m   1705\u001b[0m \u001b[38;5;28;01mraise\u001b[39;00m child_exception_type(err_msg)\n",
      "\u001b[0;31mFileNotFoundError\u001b[0m: [Errno 2] No such file or directory: 'python /app/entityextractor/core_backend/build_solutions/pipeline_Test_solution_TC_01975630-1f35-451e-ae34-54258fda5601.py fafa34b3-2008-4013-a5cc-56fec6c5ea81 01975630-1f35-451e-ae34-54258fda5601 {}'"
     ]
    }
   ],
   "source": [
    "sub = subprocess.Popen(RUN_JOB,stdout=subprocess.PIPE,stderr=subprocess.PIPE,universal_newlines=True)"
   ]
  },
  {
   "cell_type": "code",
   "execution_count": 2,
   "id": "82a9268f",
   "metadata": {},
   "outputs": [
    {
     "name": "stdout",
     "output_type": "stream",
     "text": [
      "afb\n"
     ]
    }
   ],
   "source": [
    "a=0\n",
    "if a:\n",
    "    print(\"234\")\n",
    "else:\n",
    "    print(\"afb\")"
   ]
  },
  {
   "cell_type": "code",
   "execution_count": null,
   "id": "2324ba3d",
   "metadata": {},
   "outputs": [],
   "source": []
  },
  {
   "cell_type": "code",
   "execution_count": null,
   "id": "a5216a53",
   "metadata": {},
   "outputs": [],
   "source": []
  },
  {
   "cell_type": "code",
   "execution_count": 29,
   "id": "528ff1cd",
   "metadata": {},
   "outputs": [],
   "source": [
    "RUN_JOB = 'python /app/entityextractor/core_backend/build_solutions/pipeline_load_test_2a546280-d21c-4f0a-ace6-7a2f035419de.py 82daf469-2c4f-4f1d-8aa2-4f8610c05829 2a546280-d21c-4f0a-ace6-7a2f035419de {}'"
   ]
  },
  {
   "cell_type": "code",
   "execution_count": 30,
   "id": "2dc103a3",
   "metadata": {},
   "outputs": [
    {
     "data": {
      "text/plain": [
       "'python /app/entityextractor/core_backend/build_solutions/pipeline_load_test_2a546280-d21c-4f0a-ace6-7a2f035419de.py 82daf469-2c4f-4f1d-8aa2-4f8610c05829 2a546280-d21c-4f0a-ace6-7a2f035419de {}'"
      ]
     },
     "execution_count": 30,
     "metadata": {},
     "output_type": "execute_result"
    }
   ],
   "source": [
    "RUN_JOB"
   ]
  },
  {
   "cell_type": "code",
   "execution_count": 31,
   "id": "aee86077",
   "metadata": {},
   "outputs": [
    {
     "data": {
      "text/plain": [
       "['python',\n",
       " '/app/entityextractor/core_backend/build_solutions/pipeline_load_test_2a546280-d21c-4f0a-ace6-7a2f035419de.py',\n",
       " '82daf469-2c4f-4f1d-8aa2-4f8610c05829',\n",
       " '2a546280-d21c-4f0a-ace6-7a2f035419de',\n",
       " '{}']"
      ]
     },
     "execution_count": 31,
     "metadata": {},
     "output_type": "execute_result"
    }
   ],
   "source": [
    "RUN_JOB.split(\" \")"
   ]
  },
  {
   "cell_type": "code",
   "execution_count": null,
   "id": "8500edc2",
   "metadata": {},
   "outputs": [],
   "source": []
  },
  {
   "cell_type": "code",
   "execution_count": 32,
   "id": "d0ebd602",
   "metadata": {},
   "outputs": [],
   "source": [
    "import subprocess"
   ]
  },
  {
   "cell_type": "code",
   "execution_count": 33,
   "id": "2dbb4067",
   "metadata": {},
   "outputs": [],
   "source": [
    "job = 'ls -l'"
   ]
  },
  {
   "cell_type": "code",
   "execution_count": 34,
   "id": "2a961c77",
   "metadata": {},
   "outputs": [
    {
     "data": {
      "text/plain": [
       "['ls', '-l']"
      ]
     },
     "execution_count": 34,
     "metadata": {},
     "output_type": "execute_result"
    }
   ],
   "source": [
    "job.split(\" \")"
   ]
  },
  {
   "cell_type": "code",
   "execution_count": 35,
   "id": "ce01e675",
   "metadata": {},
   "outputs": [],
   "source": [
    "job = job.split(\" \")"
   ]
  },
  {
   "cell_type": "code",
   "execution_count": 49,
   "id": "fb2bf841",
   "metadata": {},
   "outputs": [
    {
     "name": "stdout",
     "output_type": "stream",
     "text": [
      "total 80\n",
      "-rw-rw-r-- 1 rahulkumar rahulkumar   147 Apr  3 20:47 a.py\n",
      "-rw-rw-r-- 1 rahulkumar rahulkumar  1220 Apr  3 20:46 a.py.ipynb\n",
      "drwxrwxr-x 6 rahulkumar rahulkumar  4096 Feb  9 17:55 jupyter_env\n",
      "-rw-rw-r-- 1 rahulkumar rahulkumar  3665 Apr  3 13:53 pipeline_Test_solution_TC_01975630-1f35-451e-ae34-54258fda5601.py\n",
      "-rw-rw-r-- 1 rahulkumar rahulkumar 34334 Apr  5 16:54 Subprocess.ipynb\n",
      "-rw-rw-r-- 1 rahulkumar rahulkumar  3309 Mar 30 10:14 Untitled1.ipynb\n",
      "-rw-rw-r-- 1 rahulkumar rahulkumar 20619 Feb 17 10:53 Untitled.ipynb\n",
      "-rw-rw-r-- 1 rahulkumar rahulkumar     0 Mar 23 11:52 untitled.txt\n",
      "0.007315158843994141\n"
     ]
    }
   ],
   "source": [
    "import time\n",
    "start = time.time()\n",
    "sub= subprocess.call(job)\n",
    "print(time.time()-start)"
   ]
  },
  {
   "cell_type": "code",
   "execution_count": 55,
   "id": "aff70cd9",
   "metadata": {},
   "outputs": [
    {
     "data": {
      "text/plain": [
       "0"
      ]
     },
     "execution_count": 55,
     "metadata": {},
     "output_type": "execute_result"
    }
   ],
   "source": [
    "sub"
   ]
  },
  {
   "cell_type": "code",
   "execution_count": 54,
   "id": "5f466a6f",
   "metadata": {},
   "outputs": [
    {
     "name": "stdout",
     "output_type": "stream",
     "text": [
      "total 80\n",
      "-rw-rw-r-- 1 rahulkumar rahulkumar   147 Apr  3 20:47 a.py\n",
      "-rw-rw-r-- 1 rahulkumar rahulkumar  1220 Apr  3 20:46 a.py.ipynb\n",
      "drwxrwxr-x 6 rahulkumar rahulkumar  4096 Feb  9 17:55 jupyter_env\n",
      "-rw-rw-r-- 1 rahulkumar rahulkumar  3665 Apr  3 13:53 pipeline_Test_solution_TC_01975630-1f35-451e-ae34-54258fda5601.py\n",
      "-rw-rw-r-- 1 rahulkumar rahulkumar 35888 Apr  5 16:56 Subprocess.ipynb\n",
      "-rw-rw-r-- 1 rahulkumar rahulkumar  3309 Mar 30 10:14 Untitled1.ipynb\n",
      "-rw-rw-r-- 1 rahulkumar rahulkumar 20619 Feb 17 10:53 Untitled.ipynb\n",
      "-rw-rw-r-- 1 rahulkumar rahulkumar     0 Mar 23 11:52 untitled.txt\n",
      "0.007458686828613281\n"
     ]
    }
   ],
   "source": [
    "import time\n",
    "start = time.time()\n",
    "sub= subprocess.check_call(job)\n",
    "print(time.time()-start)"
   ]
  },
  {
   "cell_type": "code",
   "execution_count": null,
   "id": "d147506b",
   "metadata": {},
   "outputs": [],
   "source": []
  },
  {
   "cell_type": "code",
   "execution_count": 46,
   "id": "059dbecd",
   "metadata": {},
   "outputs": [
    {
     "name": "stdout",
     "output_type": "stream",
     "text": [
      "total 80\n",
      "-rw-rw-r-- 1 rahulkumar rahulkumar   147 Apr  3 20:47 a.py\n",
      "-rw-rw-r-- 1 rahulkumar rahulkumar  1220 Apr  3 20:46 a.py.ipynb\n",
      "drwxrwxr-x 6 rahulkumar rahulkumar  4096 Feb  9 17:55 jupyter_env\n",
      "-rw-rw-r-- 1 rahulkumar rahulkumar  3665 Apr  3 13:53 pipeline_Test_solution_TC_01975630-1f35-451e-ae34-54258fda5601.py\n",
      "-rw-rw-r-- 1 rahulkumar rahulkumar 33135 Apr  5 16:30 Subprocess.ipynb\n",
      "-rw-rw-r-- 1 rahulkumar rahulkumar  3309 Mar 30 10:14 Untitled1.ipynb\n",
      "-rw-rw-r-- 1 rahulkumar rahulkumar 20619 Feb 17 10:53 Untitled.ipynb\n",
      "-rw-rw-r-- 1 rahulkumar rahulkumar     0 Mar 23 11:52 untitled.txt\n",
      "0.009745597839355469\n"
     ]
    }
   ],
   "source": [
    "import time\n",
    "start = time.time()\n",
    "subprocess.run(job)\n",
    "print(time.time()-start)"
   ]
  },
  {
   "cell_type": "code",
   "execution_count": null,
   "id": "c834dec3",
   "metadata": {},
   "outputs": [],
   "source": []
  },
  {
   "cell_type": "code",
   "execution_count": 47,
   "id": "b5344946",
   "metadata": {},
   "outputs": [
    {
     "name": "stdout",
     "output_type": "stream",
     "text": [
      "0.007556915283203125\n"
     ]
    }
   ],
   "source": [
    "import time\n",
    "start = time.time()\n",
    "a = subprocess.Popen(job, stdout=subprocess.PIPE, stderr=subprocess.PIPE, universal_newlines=True)\n",
    "a.communicate()\n",
    "print(time.time()-start)"
   ]
  },
  {
   "cell_type": "code",
   "execution_count": 11,
   "id": "8a7c8581",
   "metadata": {},
   "outputs": [],
   "source": [
    "job = 'ls -l'"
   ]
  },
  {
   "cell_type": "code",
   "execution_count": 12,
   "id": "22f9787e",
   "metadata": {},
   "outputs": [],
   "source": [
    "import os"
   ]
  },
  {
   "cell_type": "code",
   "execution_count": 14,
   "id": "2054fd7f",
   "metadata": {},
   "outputs": [
    {
     "name": "stdout",
     "output_type": "stream",
     "text": [
      "total 84\n",
      "-rw-rw-r-- 1 rahulkumar rahulkumar   147 Apr  3 20:47 a.py\n",
      "-rw-rw-r-- 1 rahulkumar rahulkumar  1220 Apr  3 20:46 a.py.ipynb\n",
      "drwxrwxr-x 6 rahulkumar rahulkumar  4096 Feb  9 17:55 jupyter_env\n",
      "-rw-rw-r-- 1 rahulkumar rahulkumar  3665 Apr  3 13:53 pipeline_Test_solution_TC_01975630-1f35-451e-ae34-54258fda5601.py\n",
      "-rw-rw-r-- 1 rahulkumar rahulkumar 39193 Apr  6 10:46 Subprocess.ipynb\n",
      "-rw-rw-r-- 1 rahulkumar rahulkumar  3309 Mar 30 10:14 Untitled1.ipynb\n",
      "-rw-rw-r-- 1 rahulkumar rahulkumar 20619 Feb 17 10:53 Untitled.ipynb\n",
      "-rw-rw-r-- 1 rahulkumar rahulkumar     0 Mar 23 11:52 untitled.txt\n",
      "0.004191398620605469\n"
     ]
    }
   ],
   "source": [
    "import time\n",
    "start = time.time()\n",
    "sub = os.system(job)\n",
    "print(time.time()-start)"
   ]
  },
  {
   "cell_type": "code",
   "execution_count": 15,
   "id": "dbb94d99",
   "metadata": {},
   "outputs": [
    {
     "data": {
      "text/plain": [
       "0"
      ]
     },
     "execution_count": 15,
     "metadata": {},
     "output_type": "execute_result"
    }
   ],
   "source": [
    "sub"
   ]
  },
  {
   "cell_type": "code",
   "execution_count": null,
   "id": "8837ebd2",
   "metadata": {},
   "outputs": [],
   "source": []
  },
  {
   "cell_type": "code",
   "execution_count": null,
   "id": "ba28437f",
   "metadata": {},
   "outputs": [],
   "source": []
  },
  {
   "cell_type": "code",
   "execution_count": null,
   "id": "f572cfb3",
   "metadata": {},
   "outputs": [],
   "source": []
  },
  {
   "cell_type": "code",
   "execution_count": null,
   "id": "c9936ad9",
   "metadata": {},
   "outputs": [],
   "source": []
  },
  {
   "cell_type": "code",
   "execution_count": null,
   "id": "4cbac4cf",
   "metadata": {},
   "outputs": [],
   "source": []
  },
  {
   "cell_type": "code",
   "execution_count": 60,
   "id": "b2935bcb",
   "metadata": {},
   "outputs": [
    {
     "data": {
      "text/plain": [
       "['ls', '-l']"
      ]
     },
     "execution_count": 60,
     "metadata": {},
     "output_type": "execute_result"
    }
   ],
   "source": [
    "job"
   ]
  },
  {
   "cell_type": "code",
   "execution_count": 63,
   "id": "5d81966f",
   "metadata": {},
   "outputs": [],
   "source": [
    "a = os.popen('ls -l')"
   ]
  },
  {
   "cell_type": "code",
   "execution_count": 67,
   "id": "1e5f7d90",
   "metadata": {},
   "outputs": [
    {
     "ename": "AttributeError",
     "evalue": "'_io.TextIOWrapper' object has no attribute 'communicate'",
     "output_type": "error",
     "traceback": [
      "\u001b[0;31m---------------------------------------------------------------------------\u001b[0m",
      "\u001b[0;31mAttributeError\u001b[0m                            Traceback (most recent call last)",
      "Input \u001b[0;32mIn [67]\u001b[0m, in \u001b[0;36m<module>\u001b[0;34m\u001b[0m\n\u001b[0;32m----> 1\u001b[0m z,x \u001b[38;5;241m=\u001b[39m \u001b[43ma\u001b[49m\u001b[38;5;241;43m.\u001b[39;49m\u001b[43mcommunicate\u001b[49m()\n",
      "File \u001b[0;32m/usr/lib/python3.8/os.py:1014\u001b[0m, in \u001b[0;36m_wrap_close.__getattr__\u001b[0;34m(self, name)\u001b[0m\n\u001b[1;32m   1013\u001b[0m \u001b[38;5;28;01mdef\u001b[39;00m \u001b[38;5;21m__getattr__\u001b[39m(\u001b[38;5;28mself\u001b[39m, name):\n\u001b[0;32m-> 1014\u001b[0m     \u001b[38;5;28;01mreturn\u001b[39;00m \u001b[38;5;28;43mgetattr\u001b[39;49m\u001b[43m(\u001b[49m\u001b[38;5;28;43mself\u001b[39;49m\u001b[38;5;241;43m.\u001b[39;49m\u001b[43m_stream\u001b[49m\u001b[43m,\u001b[49m\u001b[43m \u001b[49m\u001b[43mname\u001b[49m\u001b[43m)\u001b[49m\n",
      "\u001b[0;31mAttributeError\u001b[0m: '_io.TextIOWrapper' object has no attribute 'communicate'"
     ]
    }
   ],
   "source": [
    "z,x = a.communicate()"
   ]
  },
  {
   "cell_type": "code",
   "execution_count": null,
   "id": "06cb78b8",
   "metadata": {},
   "outputs": [],
   "source": []
  },
  {
   "cell_type": "code",
   "execution_count": null,
   "id": "79e80ade",
   "metadata": {},
   "outputs": [],
   "source": []
  },
  {
   "cell_type": "code",
   "execution_count": null,
   "id": "102cb0a3",
   "metadata": {},
   "outputs": [],
   "source": []
  },
  {
   "cell_type": "code",
   "execution_count": null,
   "id": "c6526a10",
   "metadata": {},
   "outputs": [],
   "source": []
  },
  {
   "cell_type": "code",
   "execution_count": null,
   "id": "e3286b35",
   "metadata": {},
   "outputs": [],
   "source": []
  },
  {
   "cell_type": "code",
   "execution_count": null,
   "id": "44f42fee",
   "metadata": {},
   "outputs": [],
   "source": []
  },
  {
   "cell_type": "code",
   "execution_count": null,
   "id": "e3f355dd",
   "metadata": {},
   "outputs": [],
   "source": []
  },
  {
   "cell_type": "code",
   "execution_count": null,
   "id": "63a0d4aa",
   "metadata": {},
   "outputs": [],
   "source": []
  },
  {
   "cell_type": "code",
   "execution_count": 42,
   "id": "f349d240",
   "metadata": {},
   "outputs": [
    {
     "data": {
      "text/plain": [
       "<subprocess.Popen at 0x7f059ca72ca0>"
      ]
     },
     "execution_count": 42,
     "metadata": {},
     "output_type": "execute_result"
    }
   ],
   "source": [
    "a"
   ]
  },
  {
   "cell_type": "code",
   "execution_count": 43,
   "id": "62062016",
   "metadata": {},
   "outputs": [
    {
     "data": {
      "text/plain": [
       "('total 76\\n-rw-rw-r-- 1 rahulkumar rahulkumar   147 Apr  3 20:47 a.py\\n-rw-rw-r-- 1 rahulkumar rahulkumar  1220 Apr  3 20:46 a.py.ipynb\\ndrwxrwxr-x 6 rahulkumar rahulkumar  4096 Feb  9 17:55 jupyter_env\\n-rw-rw-r-- 1 rahulkumar rahulkumar  3665 Apr  3 13:53 pipeline_Test_solution_TC_01975630-1f35-451e-ae34-54258fda5601.py\\n-rw-rw-r-- 1 rahulkumar rahulkumar 32011 Apr  5 16:28 Subprocess.ipynb\\n-rw-rw-r-- 1 rahulkumar rahulkumar  3309 Mar 30 10:14 Untitled1.ipynb\\n-rw-rw-r-- 1 rahulkumar rahulkumar 20619 Feb 17 10:53 Untitled.ipynb\\n-rw-rw-r-- 1 rahulkumar rahulkumar     0 Mar 23 11:52 untitled.txt\\n',\n",
       " '')"
      ]
     },
     "execution_count": 43,
     "metadata": {},
     "output_type": "execute_result"
    }
   ],
   "source": [
    "a.communicate()"
   ]
  },
  {
   "cell_type": "code",
   "execution_count": null,
   "id": "e639638d",
   "metadata": {},
   "outputs": [],
   "source": []
  },
  {
   "cell_type": "code",
   "execution_count": null,
   "id": "339387cc",
   "metadata": {},
   "outputs": [],
   "source": []
  },
  {
   "cell_type": "code",
   "execution_count": null,
   "id": "be202a08",
   "metadata": {},
   "outputs": [],
   "source": []
  },
  {
   "cell_type": "code",
   "execution_count": null,
   "id": "b492c55f",
   "metadata": {},
   "outputs": [],
   "source": []
  },
  {
   "cell_type": "code",
   "execution_count": null,
   "id": "442d8259",
   "metadata": {},
   "outputs": [],
   "source": []
  },
  {
   "cell_type": "code",
   "execution_count": null,
   "id": "16e17211",
   "metadata": {},
   "outputs": [],
   "source": [
    "subprocess.Popen()"
   ]
  },
  {
   "cell_type": "code",
   "execution_count": 22,
   "id": "3530bafa",
   "metadata": {},
   "outputs": [
    {
     "data": {
      "text/plain": [
       "0"
      ]
     },
     "execution_count": 22,
     "metadata": {},
     "output_type": "execute_result"
    }
   ],
   "source": [
    "sub"
   ]
  },
  {
   "cell_type": "code",
   "execution_count": 23,
   "id": "a555758f",
   "metadata": {},
   "outputs": [],
   "source": [
    "RUN_JOB = \"ls -l\""
   ]
  },
  {
   "cell_type": "code",
   "execution_count": 24,
   "id": "bc2df628",
   "metadata": {},
   "outputs": [],
   "source": [
    "data = subprocess.Popen(RUN_JOB.split(\" \"),stdout=subprocess.PIPE, stderr=subprocess.PIPE, universal_newlines=True)"
   ]
  },
  {
   "cell_type": "code",
   "execution_count": 26,
   "id": "54c8e7c7",
   "metadata": {},
   "outputs": [],
   "source": [
    "out = data.communicate()"
   ]
  },
  {
   "cell_type": "code",
   "execution_count": 27,
   "id": "0b4a4dc5",
   "metadata": {},
   "outputs": [
    {
     "data": {
      "text/plain": [
       "('total 72\\n-rw-rw-r-- 1 rahulkumar rahulkumar   147 Apr  3 20:47 a.py\\n-rw-rw-r-- 1 rahulkumar rahulkumar  1220 Apr  3 20:46 a.py.ipynb\\ndrwxrwxr-x 6 rahulkumar rahulkumar  4096 Feb  9 17:55 jupyter_env\\n-rw-rw-r-- 1 rahulkumar rahulkumar  3665 Apr  3 13:53 pipeline_Test_solution_TC_01975630-1f35-451e-ae34-54258fda5601.py\\n-rw-rw-r-- 1 rahulkumar rahulkumar 25930 Apr  5 15:16 Subprocess.ipynb\\n-rw-rw-r-- 1 rahulkumar rahulkumar  3309 Mar 30 10:14 Untitled1.ipynb\\n-rw-rw-r-- 1 rahulkumar rahulkumar 20619 Feb 17 10:53 Untitled.ipynb\\n-rw-rw-r-- 1 rahulkumar rahulkumar     0 Mar 23 11:52 untitled.txt\\n',\n",
       " '')"
      ]
     },
     "execution_count": 27,
     "metadata": {},
     "output_type": "execute_result"
    }
   ],
   "source": [
    "out"
   ]
  },
  {
   "cell_type": "code",
   "execution_count": null,
   "id": "ad1d5dfe",
   "metadata": {},
   "outputs": [],
   "source": []
  },
  {
   "cell_type": "code",
   "execution_count": null,
   "id": "15a77cca",
   "metadata": {},
   "outputs": [],
   "source": []
  },
  {
   "cell_type": "code",
   "execution_count": null,
   "id": "89f6f01d",
   "metadata": {},
   "outputs": [],
   "source": []
  },
  {
   "cell_type": "code",
   "execution_count": null,
   "id": "2ea45e8b",
   "metadata": {},
   "outputs": [],
   "source": []
  },
  {
   "cell_type": "code",
   "execution_count": 10,
   "id": "dbeb964c",
   "metadata": {},
   "outputs": [
    {
     "name": "stdout",
     "output_type": "stream",
     "text": [
      "total 64\n",
      "-rw-rw-r-- 1 rahulkumar rahulkumar   147 Apr  3 20:47 a.py\n",
      "-rw-rw-r-- 1 rahulkumar rahulkumar  1220 Apr  3 20:46 a.py.ipynb\n",
      "drwxrwxr-x 6 rahulkumar rahulkumar  4096 Feb  9 17:55 jupyter_env\n",
      "-rw-rw-r-- 1 rahulkumar rahulkumar  3665 Apr  3 13:53 pipeline_Test_solution_TC_01975630-1f35-451e-ae34-54258fda5601.py\n",
      "-rw-rw-r-- 1 rahulkumar rahulkumar 17310 Apr  5 14:58 Subprocess.ipynb\n",
      "-rw-rw-r-- 1 rahulkumar rahulkumar  3309 Mar 30 10:14 Untitled1.ipynb\n",
      "-rw-rw-r-- 1 rahulkumar rahulkumar 20619 Feb 17 10:53 Untitled.ipynb\n",
      "-rw-rw-r-- 1 rahulkumar rahulkumar     0 Mar 23 11:52 untitled.txt\n"
     ]
    },
    {
     "data": {
      "text/plain": [
       "0"
      ]
     },
     "execution_count": 10,
     "metadata": {},
     "output_type": "execute_result"
    }
   ],
   "source": [
    "subprocess.call(['ls' ,'-l'])"
   ]
  },
  {
   "cell_type": "code",
   "execution_count": null,
   "id": "af8a4f69",
   "metadata": {},
   "outputs": [],
   "source": []
  },
  {
   "cell_type": "code",
   "execution_count": null,
   "id": "3ed3b2c3",
   "metadata": {},
   "outputs": [],
   "source": []
  },
  {
   "cell_type": "code",
   "execution_count": null,
   "id": "f7a2431a",
   "metadata": {},
   "outputs": [],
   "source": []
  },
  {
   "cell_type": "code",
   "execution_count": null,
   "id": "5f40f93f",
   "metadata": {},
   "outputs": [],
   "source": []
  },
  {
   "cell_type": "code",
   "execution_count": null,
   "id": "c716e90e",
   "metadata": {},
   "outputs": [],
   "source": []
  },
  {
   "cell_type": "code",
   "execution_count": null,
   "id": "376d13de",
   "metadata": {},
   "outputs": [],
   "source": []
  },
  {
   "cell_type": "code",
   "execution_count": null,
   "id": "5b819df2",
   "metadata": {},
   "outputs": [],
   "source": []
  },
  {
   "cell_type": "code",
   "execution_count": 18,
   "id": "e42cd5f5",
   "metadata": {},
   "outputs": [
    {
     "ename": "FileNotFoundError",
     "evalue": "[Errno 2] No such file or directory: 'python'",
     "output_type": "error",
     "traceback": [
      "\u001b[0;31m---------------------------------------------------------------------------\u001b[0m",
      "\u001b[0;31mFileNotFoundError\u001b[0m                         Traceback (most recent call last)",
      "Input \u001b[0;32mIn [18]\u001b[0m, in \u001b[0;36m<module>\u001b[0;34m\u001b[0m\n\u001b[0;32m----> 1\u001b[0m \u001b[43msubprocess\u001b[49m\u001b[38;5;241;43m.\u001b[39;49m\u001b[43mcall\u001b[49m\u001b[43m(\u001b[49m\u001b[43m[\u001b[49m\u001b[38;5;124;43m\"\u001b[39;49m\u001b[38;5;124;43mpython\u001b[39;49m\u001b[38;5;124;43m\"\u001b[39;49m\u001b[43m,\u001b[49m\u001b[43m \u001b[49m\u001b[38;5;124;43m\"\u001b[39;49m\u001b[38;5;124;43m/app/entityextractor/core_backend/build_solutions/pipeline_load_test_2a546280-d21c-4f0a-ace6-7a2f035419de.py\u001b[39;49m\u001b[38;5;124;43m\"\u001b[39;49m\u001b[43m,\u001b[49m\u001b[43m \u001b[49m\u001b[38;5;124;43m\"\u001b[39;49m\u001b[38;5;124;43m3f6c0349-e599-4a02-a3f4-1d8819d02c74\u001b[39;49m\u001b[38;5;124;43m\"\u001b[39;49m\u001b[43m,\u001b[49m\u001b[43m \u001b[49m\u001b[38;5;124;43m\"\u001b[39;49m\u001b[38;5;124;43m2a546280-d21c-4f0a-ace6-7a2f035419de\u001b[39;49m\u001b[38;5;124;43m\"\u001b[39;49m\u001b[43m,\u001b[49m\u001b[43m \u001b[49m\u001b[38;5;124;43m\"\u001b[39;49m\u001b[38;5;132;43;01m{}\u001b[39;49;00m\u001b[38;5;124;43m\"\u001b[39;49m\u001b[43m]\u001b[49m\u001b[43m)\u001b[49m\n",
      "File \u001b[0;32m/usr/lib/python3.8/subprocess.py:340\u001b[0m, in \u001b[0;36mcall\u001b[0;34m(timeout, *popenargs, **kwargs)\u001b[0m\n\u001b[1;32m    332\u001b[0m \u001b[38;5;28;01mdef\u001b[39;00m \u001b[38;5;21mcall\u001b[39m(\u001b[38;5;241m*\u001b[39mpopenargs, timeout\u001b[38;5;241m=\u001b[39m\u001b[38;5;28;01mNone\u001b[39;00m, \u001b[38;5;241m*\u001b[39m\u001b[38;5;241m*\u001b[39mkwargs):\n\u001b[1;32m    333\u001b[0m     \u001b[38;5;124;03m\"\"\"Run command with arguments.  Wait for command to complete or\u001b[39;00m\n\u001b[1;32m    334\u001b[0m \u001b[38;5;124;03m    timeout, then return the returncode attribute.\u001b[39;00m\n\u001b[1;32m    335\u001b[0m \n\u001b[0;32m   (...)\u001b[0m\n\u001b[1;32m    338\u001b[0m \u001b[38;5;124;03m    retcode = call([\"ls\", \"-l\"])\u001b[39;00m\n\u001b[1;32m    339\u001b[0m \u001b[38;5;124;03m    \"\"\"\u001b[39;00m\n\u001b[0;32m--> 340\u001b[0m     \u001b[38;5;28;01mwith\u001b[39;00m \u001b[43mPopen\u001b[49m\u001b[43m(\u001b[49m\u001b[38;5;241;43m*\u001b[39;49m\u001b[43mpopenargs\u001b[49m\u001b[43m,\u001b[49m\u001b[43m \u001b[49m\u001b[38;5;241;43m*\u001b[39;49m\u001b[38;5;241;43m*\u001b[39;49m\u001b[43mkwargs\u001b[49m\u001b[43m)\u001b[49m \u001b[38;5;28;01mas\u001b[39;00m p:\n\u001b[1;32m    341\u001b[0m         \u001b[38;5;28;01mtry\u001b[39;00m:\n\u001b[1;32m    342\u001b[0m             \u001b[38;5;28;01mreturn\u001b[39;00m p\u001b[38;5;241m.\u001b[39mwait(timeout\u001b[38;5;241m=\u001b[39mtimeout)\n",
      "File \u001b[0;32m/usr/lib/python3.8/subprocess.py:858\u001b[0m, in \u001b[0;36mPopen.__init__\u001b[0;34m(self, args, bufsize, executable, stdin, stdout, stderr, preexec_fn, close_fds, shell, cwd, env, universal_newlines, startupinfo, creationflags, restore_signals, start_new_session, pass_fds, encoding, errors, text)\u001b[0m\n\u001b[1;32m    854\u001b[0m         \u001b[38;5;28;01mif\u001b[39;00m \u001b[38;5;28mself\u001b[39m\u001b[38;5;241m.\u001b[39mtext_mode:\n\u001b[1;32m    855\u001b[0m             \u001b[38;5;28mself\u001b[39m\u001b[38;5;241m.\u001b[39mstderr \u001b[38;5;241m=\u001b[39m io\u001b[38;5;241m.\u001b[39mTextIOWrapper(\u001b[38;5;28mself\u001b[39m\u001b[38;5;241m.\u001b[39mstderr,\n\u001b[1;32m    856\u001b[0m                     encoding\u001b[38;5;241m=\u001b[39mencoding, errors\u001b[38;5;241m=\u001b[39merrors)\n\u001b[0;32m--> 858\u001b[0m     \u001b[38;5;28;43mself\u001b[39;49m\u001b[38;5;241;43m.\u001b[39;49m\u001b[43m_execute_child\u001b[49m\u001b[43m(\u001b[49m\u001b[43margs\u001b[49m\u001b[43m,\u001b[49m\u001b[43m \u001b[49m\u001b[43mexecutable\u001b[49m\u001b[43m,\u001b[49m\u001b[43m \u001b[49m\u001b[43mpreexec_fn\u001b[49m\u001b[43m,\u001b[49m\u001b[43m \u001b[49m\u001b[43mclose_fds\u001b[49m\u001b[43m,\u001b[49m\n\u001b[1;32m    859\u001b[0m \u001b[43m                        \u001b[49m\u001b[43mpass_fds\u001b[49m\u001b[43m,\u001b[49m\u001b[43m \u001b[49m\u001b[43mcwd\u001b[49m\u001b[43m,\u001b[49m\u001b[43m \u001b[49m\u001b[43menv\u001b[49m\u001b[43m,\u001b[49m\n\u001b[1;32m    860\u001b[0m \u001b[43m                        \u001b[49m\u001b[43mstartupinfo\u001b[49m\u001b[43m,\u001b[49m\u001b[43m \u001b[49m\u001b[43mcreationflags\u001b[49m\u001b[43m,\u001b[49m\u001b[43m \u001b[49m\u001b[43mshell\u001b[49m\u001b[43m,\u001b[49m\n\u001b[1;32m    861\u001b[0m \u001b[43m                        \u001b[49m\u001b[43mp2cread\u001b[49m\u001b[43m,\u001b[49m\u001b[43m \u001b[49m\u001b[43mp2cwrite\u001b[49m\u001b[43m,\u001b[49m\n\u001b[1;32m    862\u001b[0m \u001b[43m                        \u001b[49m\u001b[43mc2pread\u001b[49m\u001b[43m,\u001b[49m\u001b[43m \u001b[49m\u001b[43mc2pwrite\u001b[49m\u001b[43m,\u001b[49m\n\u001b[1;32m    863\u001b[0m \u001b[43m                        \u001b[49m\u001b[43merrread\u001b[49m\u001b[43m,\u001b[49m\u001b[43m \u001b[49m\u001b[43merrwrite\u001b[49m\u001b[43m,\u001b[49m\n\u001b[1;32m    864\u001b[0m \u001b[43m                        \u001b[49m\u001b[43mrestore_signals\u001b[49m\u001b[43m,\u001b[49m\u001b[43m \u001b[49m\u001b[43mstart_new_session\u001b[49m\u001b[43m)\u001b[49m\n\u001b[1;32m    865\u001b[0m \u001b[38;5;28;01mexcept\u001b[39;00m:\n\u001b[1;32m    866\u001b[0m     \u001b[38;5;66;03m# Cleanup if the child failed starting.\u001b[39;00m\n\u001b[1;32m    867\u001b[0m     \u001b[38;5;28;01mfor\u001b[39;00m f \u001b[38;5;129;01min\u001b[39;00m \u001b[38;5;28mfilter\u001b[39m(\u001b[38;5;28;01mNone\u001b[39;00m, (\u001b[38;5;28mself\u001b[39m\u001b[38;5;241m.\u001b[39mstdin, \u001b[38;5;28mself\u001b[39m\u001b[38;5;241m.\u001b[39mstdout, \u001b[38;5;28mself\u001b[39m\u001b[38;5;241m.\u001b[39mstderr)):\n",
      "File \u001b[0;32m/usr/lib/python3.8/subprocess.py:1704\u001b[0m, in \u001b[0;36mPopen._execute_child\u001b[0;34m(self, args, executable, preexec_fn, close_fds, pass_fds, cwd, env, startupinfo, creationflags, shell, p2cread, p2cwrite, c2pread, c2pwrite, errread, errwrite, restore_signals, start_new_session)\u001b[0m\n\u001b[1;32m   1702\u001b[0m     \u001b[38;5;28;01mif\u001b[39;00m errno_num \u001b[38;5;241m!=\u001b[39m \u001b[38;5;241m0\u001b[39m:\n\u001b[1;32m   1703\u001b[0m         err_msg \u001b[38;5;241m=\u001b[39m os\u001b[38;5;241m.\u001b[39mstrerror(errno_num)\n\u001b[0;32m-> 1704\u001b[0m     \u001b[38;5;28;01mraise\u001b[39;00m child_exception_type(errno_num, err_msg, err_filename)\n\u001b[1;32m   1705\u001b[0m \u001b[38;5;28;01mraise\u001b[39;00m child_exception_type(err_msg)\n",
      "\u001b[0;31mFileNotFoundError\u001b[0m: [Errno 2] No such file or directory: 'python'"
     ]
    }
   ],
   "source": [
    "subprocess.call([\"python\", \"/app/entityextractor/core_backend/build_solutions/pipeline_load_test_2a546280-d21c-4f0a-ace6-7a2f035419de.py\", \"3f6c0349-e599-4a02-a3f4-1d8819d02c74\", \"2a546280-d21c-4f0a-ace6-7a2f035419de\", \"{}\"])"
   ]
  },
  {
   "cell_type": "code",
   "execution_count": null,
   "id": "8fec28a1",
   "metadata": {},
   "outputs": [],
   "source": []
  },
  {
   "cell_type": "code",
   "execution_count": null,
   "id": "104493b0",
   "metadata": {},
   "outputs": [],
   "source": []
  },
  {
   "cell_type": "code",
   "execution_count": null,
   "id": "b3eebb2f",
   "metadata": {},
   "outputs": [],
   "source": []
  },
  {
   "cell_type": "code",
   "execution_count": null,
   "id": "0a8be142",
   "metadata": {},
   "outputs": [],
   "source": []
  },
  {
   "cell_type": "code",
   "execution_count": null,
   "id": "d1870a0f",
   "metadata": {},
   "outputs": [],
   "source": []
  },
  {
   "cell_type": "code",
   "execution_count": null,
   "id": "b50a7e19",
   "metadata": {},
   "outputs": [],
   "source": []
  },
  {
   "cell_type": "code",
   "execution_count": null,
   "id": "7807997e",
   "metadata": {},
   "outputs": [],
   "source": []
  },
  {
   "cell_type": "code",
   "execution_count": null,
   "id": "26bad076",
   "metadata": {},
   "outputs": [],
   "source": []
  },
  {
   "cell_type": "code",
   "execution_count": null,
   "id": "e3761768",
   "metadata": {},
   "outputs": [],
   "source": []
  },
  {
   "cell_type": "code",
   "execution_count": null,
   "id": "eb6a66a3",
   "metadata": {},
   "outputs": [],
   "source": []
  },
  {
   "cell_type": "code",
   "execution_count": null,
   "id": "faa27c9e",
   "metadata": {},
   "outputs": [],
   "source": []
  },
  {
   "cell_type": "code",
   "execution_count": null,
   "id": "bb83095a",
   "metadata": {},
   "outputs": [],
   "source": []
  },
  {
   "cell_type": "code",
   "execution_count": null,
   "id": "4ad94d20",
   "metadata": {},
   "outputs": [],
   "source": []
  },
  {
   "cell_type": "code",
   "execution_count": null,
   "id": "4a0a1bb0",
   "metadata": {},
   "outputs": [],
   "source": []
  },
  {
   "cell_type": "code",
   "execution_count": null,
   "id": "796e18cc",
   "metadata": {},
   "outputs": [],
   "source": []
  },
  {
   "cell_type": "code",
   "execution_count": 7,
   "id": "2aede3cc",
   "metadata": {},
   "outputs": [
    {
     "data": {
      "text/plain": [
       "('Something to print\\nexiting\\n', '')"
      ]
     },
     "execution_count": 7,
     "metadata": {},
     "output_type": "execute_result"
    }
   ],
   "source": []
  },
  {
   "cell_type": "code",
   "execution_count": null,
   "id": "f8c2a7fc",
   "metadata": {},
   "outputs": [],
   "source": []
  },
  {
   "cell_type": "code",
   "execution_count": null,
   "id": "8f4de712",
   "metadata": {},
   "outputs": [],
   "source": []
  },
  {
   "cell_type": "code",
   "execution_count": null,
   "id": "79e66ae2",
   "metadata": {},
   "outputs": [],
   "source": []
  },
  {
   "cell_type": "code",
   "execution_count": null,
   "id": "15ff2e44",
   "metadata": {},
   "outputs": [],
   "source": []
  },
  {
   "cell_type": "code",
   "execution_count": null,
   "id": "6efea404",
   "metadata": {},
   "outputs": [],
   "source": []
  }
 ],
 "metadata": {
  "kernelspec": {
   "display_name": "Python 3 (ipykernel)",
   "language": "python",
   "name": "python3"
  },
  "language_info": {
   "codemirror_mode": {
    "name": "ipython",
    "version": 3
   },
   "file_extension": ".py",
   "mimetype": "text/x-python",
   "name": "python",
   "nbconvert_exporter": "python",
   "pygments_lexer": "ipython3",
   "version": "3.8.10"
  }
 },
 "nbformat": 4,
 "nbformat_minor": 5
}

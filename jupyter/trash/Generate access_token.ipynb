{
 "cells": [
  {
   "cell_type": "code",
   "execution_count": 4,
   "id": "cf69cf46",
   "metadata": {},
   "outputs": [
    {
     "name": "stderr",
     "output_type": "stream",
     "text": [
      "/usr/lib/python3/dist-packages/urllib3/connectionpool.py:999: InsecureRequestWarning: Unverified HTTPS request is being made to host 'qa-login.fosfor.com'. Adding certificate verification is strongly advised. See: https://urllib3.readthedocs.io/en/latest/advanced-usage.html#ssl-warnings\n",
      "  warnings.warn(\n"
     ]
    },
    {
     "name": "stdout",
     "output_type": "stream",
     "text": [
      "<Response [200]>\n",
      "eyJhbGciOiJSUzI1NiIsInR5cCIgOiAiSldUIiwia2lkIiA6ICItSlBNV01hOUItYzRJR1BiLVY0bjFJSC1LZmlRMGlVU1VzMUVUajluOGhjIn0.eyJleHAiOjE2NTk2ODczMzAsImlhdCI6MTY1OTY4NTUzMCwianRpIjoiMzk3OTJhNWItYjk3Yi00NGFmLWFlZjItMDU2YjJlOGFiYjNlIiwiaXNzIjoiaHR0cHM6Ly9xYS1sb2dpbi5mb3Nmb3IuY29tL2F1dGgvcmVhbG1zL21vc2FpYyIsImF1ZCI6WyJtb3NhaWMtZ2F0ZWtlZXBlciIsImFjY291bnQiXSwic3ViIjoiMTM0ZDEyMWQtOTA3Mi00YTQ0LTkzZDQtMTFjZWY0YmI0ZDFlIiwidHlwIjoiQmVhcmVyIiwiYXpwIjoibW9zYWljLWdhdGVrZWVwZXIiLCJzZXNzaW9uX3N0YXRlIjoiNDdkYzdjNjctMzdlZi00MTVkLWE2MzctY2IyZjJkZDhiOTZmIiwiYWNyIjoiMSIsImFsbG93ZWQtb3JpZ2lucyI6WyIqIl0sInJlYWxtX2FjY2VzcyI6eyJyb2xlcyI6WyJidXNpbmVzc191c2VyIiwibWFuYWdlciIsIkVFRl9TVVBFUl9VU0VSIiwidGVzdGluZ19kdW1teV9yb2xlIiwiRGF0YV9DaXRpemVuX1JlYWRlciIsIk1vc2FpYy1NYW5hZ2VyIiwiU0UtTDIiLCJuZ2ZuIiwiU0UtTDMiLCJvZmZsaW5lX2FjY2VzcyIsIk1PU0FJQ19FVExfT1BFUkFUT1IiLCJNT1NBSUNfRVRMX1JFQURfT05MWV9VU0VSIiwiTU9TQUlDX0FETUlOSVNUUkFUT1IiLCJzdXBlcl91c2VyIiwidW1hX2F1dGhvcml6YXRpb24iLCJBSS1MT0dJU1RJQ1MtREVWRUxPUEVSIiwiRGF0YV9DaXRpemVuX0F1dGhvciIsIk1PU0FJQ19FVExfREVWRUxPUEVSIl19LCJyZXNvdXJjZV9hY2Nlc3MiOnsiYWNjb3VudCI6eyJyb2xlcyI6WyJtYW5hZ2UtYWNjb3VudCIsIm1hbmFnZS1hY2NvdW50LWxpbmtzIiwidmlldy1wcm9maWxlIl19fSwic2NvcGUiOiJwcm9maWxlIGVtYWlsIiwiZW1haWxfdmVyaWZpZWQiOnRydWUsIm5hbWUiOiJEZXZlbG9wZXIgVXNlciIsInByZWZlcnJlZF91c2VybmFtZSI6InN1eW9nXzAxIiwiZ2l2ZW5fbmFtZSI6IkRldmVsb3BlciIsImZhbWlseV9uYW1lIjoiVXNlciIsImVtYWlsIjoic3V5b2cxQGxudGluZm90ZWNoLmNvbSJ9.GMJ0dHfPIMDvCWM2nD4-IIvnABmOzuDoHUqDdAHFa5tLO1AFF9blvZQZ2VMRYuMvePVagE7HtxziDfwKE1OuVjD-5azIRqyEucalO4TvktvmwFN1KhcN0d6B5wkmkajEFn4eiLAErt-pGKGdJ-tR8R6n4WfroPIO5mVF-szRY7JBYYJsOqvOV0Uyks5_nSqtZbmDcffayyCHwymmgzVL90l8DqFitqE8oH9DrtK6jsAK5fHm6dcf53iT4RdjUI_iQEkHsJ6n6PKSElSyDv_tHHLfDsMWynGCaDejFTylRqXrIreNZFA2swSDvUSKrr3D6VAVP7z7iTd9yWHZuhpJYw\n"
     ]
    }
   ],
   "source": [
    "import requests\n",
    "import hashlib\n",
    "\n",
    "#please update username,non_sso_password,client_id,client_secret,grant_type,keycloak_url\n",
    "username = 'admin'\n",
    "non_sso_password='admin'\n",
    "client_id = 'mosaic-gatekeeper'\n",
    "client_secret = '4325d8c8-9f8e-4fa9-81f1-9fs018e4g459'\n",
    "grant_type = 'password'\n",
    "keycloak_url = 'https://dev-login.fosfor.com'\n",
    "\n",
    "password = hashlib.md5(non_sso_password.encode('utf-8')).hexdigest()\n",
    "request_url = keycloak_url+\"/auth/realms/mosaic/protocol/openid-connect/token\"\n",
    "params = [(\"grant_type\", grant_type), (\"client_id\", client_id),\n",
    "            (\"client_secret\", client_secret), (\"username\", username),\n",
    "            (\"password\", password)]\n",
    "headers = {\"Content-Type\": \"application/x-www-form-urlencoded\"}\n",
    "response = requests.post(request_url, data=params, headers=headers, verify=False)\n",
    "print(response)\n",
    "print(response.json()[\"access_token\"])"
   ]
  },
  {
   "cell_type": "code",
   "execution_count": null,
   "id": "75837e1e",
   "metadata": {},
   "outputs": [],
   "source": []
  },
  {
   "cell_type": "code",
   "execution_count": null,
   "id": "bbaeebee",
   "metadata": {},
   "outputs": [],
   "source": []
  },
  {
   "cell_type": "code",
   "execution_count": null,
   "id": "a3c7b216",
   "metadata": {},
   "outputs": [],
   "source": []
  },
  {
   "cell_type": "code",
   "execution_count": null,
   "id": "e60336c2",
   "metadata": {},
   "outputs": [],
   "source": []
  },
  {
   "cell_type": "code",
   "execution_count": 6,
   "id": "7dec83e9",
   "metadata": {},
   "outputs": [],
   "source": [
    "keycloak_url = 'https://login.dev.fosfor.com'\n",
    "request_url = \"${keycloak_url}/auth/realms/mosaic/protocol/openid-connect/token\""
   ]
  },
  {
   "cell_type": "code",
   "execution_count": 7,
   "id": "e48430e9",
   "metadata": {},
   "outputs": [
    {
     "data": {
      "text/plain": [
       "'${keycloak_url}/auth/realms/mosaic/protocol/openid-connect/token'"
      ]
     },
     "execution_count": 7,
     "metadata": {},
     "output_type": "execute_result"
    }
   ],
   "source": [
    "request_url"
   ]
  },
  {
   "cell_type": "code",
   "execution_count": null,
   "id": "466ccfc6",
   "metadata": {},
   "outputs": [],
   "source": []
  },
  {
   "cell_type": "code",
   "execution_count": null,
   "id": "ed4526e3",
   "metadata": {},
   "outputs": [],
   "source": []
  },
  {
   "cell_type": "code",
   "execution_count": null,
   "id": "5ca44908",
   "metadata": {},
   "outputs": [],
   "source": []
  }
 ],
 "metadata": {
  "kernelspec": {
   "display_name": "Python 3 (ipykernel)",
   "language": "python",
   "name": "python3"
  },
  "language_info": {
   "codemirror_mode": {
    "name": "ipython",
    "version": 3
   },
   "file_extension": ".py",
   "mimetype": "text/x-python",
   "name": "python",
   "nbconvert_exporter": "python",
   "pygments_lexer": "ipython3",
   "version": "3.8.10"
  }
 },
 "nbformat": 4,
 "nbformat_minor": 5
}

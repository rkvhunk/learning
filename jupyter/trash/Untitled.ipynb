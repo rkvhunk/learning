{
 "cells": [
  {
   "cell_type": "code",
   "execution_count": 3,
   "id": "e63a4b7b",
   "metadata": {},
   "outputs": [],
   "source": [
    "data = {\"username\":\"aayushi@lntinfotech.com\",\"email\":\"aayushi@lntinfotech.com\",\"firstName\":\"Aayushi\",\"lastName\":\"Agarwal\",\"tenant_id\":\"mosaic\",\"tenantId\":\"0fba83e5-7f54-11ec-ab4c-0e4c3ab7ec52\",\"realmName\":\"mosaic\",\"tenantName\":\"mosaic\",\"subscriberId\":\"a293cb28-1b54-4dc8-b178-e9fc3f3328f2\"}"
   ]
  },
  {
   "cell_type": "code",
   "execution_count": 4,
   "id": "a0d3a8ae",
   "metadata": {},
   "outputs": [
    {
     "data": {
      "text/plain": [
       "{'username': 'aayushi@lntinfotech.com',\n",
       " 'email': 'aayushi@lntinfotech.com',\n",
       " 'firstName': 'Aayushi',\n",
       " 'lastName': 'Agarwal',\n",
       " 'tenant_id': 'mosaic',\n",
       " 'tenantId': '0fba83e5-7f54-11ec-ab4c-0e4c3ab7ec52',\n",
       " 'realmName': 'mosaic',\n",
       " 'tenantName': 'mosaic',\n",
       " 'subscriberId': 'a293cb28-1b54-4dc8-b178-e9fc3f3328f2'}"
      ]
     },
     "execution_count": 4,
     "metadata": {},
     "output_type": "execute_result"
    }
   ],
   "source": [
    "data"
   ]
  },
  {
   "cell_type": "code",
   "execution_count": 6,
   "id": "8bb2e5e8",
   "metadata": {},
   "outputs": [
    {
     "data": {
      "text/plain": [
       "'aayushi@lntinfotech.com'"
      ]
     },
     "execution_count": 6,
     "metadata": {},
     "output_type": "execute_result"
    }
   ],
   "source": [
    "data.get('username')"
   ]
  },
  {
   "cell_type": "code",
   "execution_count": 7,
   "id": "6b79084e",
   "metadata": {},
   "outputs": [
    {
     "data": {
      "text/plain": [
       "'aayushi@lntinfotech.com'"
      ]
     },
     "execution_count": 7,
     "metadata": {},
     "output_type": "execute_result"
    }
   ],
   "source": [
    "data['username']"
   ]
  },
  {
   "cell_type": "code",
   "execution_count": 1,
   "id": "b7b1fa50",
   "metadata": {},
   "outputs": [],
   "source": [
    "file_name_pdf = 'sample.docx'"
   ]
  },
  {
   "cell_type": "code",
   "execution_count": 2,
   "id": "f80aeaf4",
   "metadata": {},
   "outputs": [
    {
     "data": {
      "text/plain": [
       "'docx'"
      ]
     },
     "execution_count": 2,
     "metadata": {},
     "output_type": "execute_result"
    }
   ],
   "source": [
    "file_name_pdf.split('.')[-1]"
   ]
  },
  {
   "cell_type": "code",
   "execution_count": 3,
   "id": "adad16b3",
   "metadata": {},
   "outputs": [],
   "source": [
    "file_name = \"sample_1.docx\""
   ]
  },
  {
   "cell_type": "code",
   "execution_count": 6,
   "id": "e44df5db",
   "metadata": {},
   "outputs": [],
   "source": [
    "file_ext = '.docx'"
   ]
  },
  {
   "cell_type": "code",
   "execution_count": 7,
   "id": "e75a8325",
   "metadata": {},
   "outputs": [],
   "source": [
    "pdf_file_name = file_name.replace(file_ext, '.pdf')"
   ]
  },
  {
   "cell_type": "code",
   "execution_count": 8,
   "id": "fb89a53b",
   "metadata": {},
   "outputs": [
    {
     "data": {
      "text/plain": [
       "'sample_1.pdf'"
      ]
     },
     "execution_count": 8,
     "metadata": {},
     "output_type": "execute_result"
    }
   ],
   "source": [
    "pdf_file_name"
   ]
  },
  {
   "cell_type": "code",
   "execution_count": 9,
   "id": "a66a30f7",
   "metadata": {},
   "outputs": [],
   "source": [
    "whomi = {\"username\":\"aayushi@lntinfotech.com\",\"email\":\"aayushi@lntinfotech.com\",\"firstName\":\"Aayushi\",\"lastName\":\"Agarwal\",\"tenant_id\":\"mosaic\",\"tenantId\":\"0fba83e5-7f54-11ec-ab4c-0e4c3ab7ec52\",\"realmName\":\"mosaic\",\"tenantName\":\"mosaic\",\"subscriberId\":\"a293cb28-1b54-4dc8-b178-e9fc3f3328f2\"}"
   ]
  },
  {
   "cell_type": "code",
   "execution_count": 42,
   "id": "abb235e1",
   "metadata": {},
   "outputs": [],
   "source": [
    "result = {}\n",
    "var = {\n",
    "        \"user_name\": \"aayushi@lntinfotech.com\",\n",
    "        \"user_role\": \"EEF_ADMIN\",\n",
    "        \"tenant_id\": \"f37cf59a-3d57-4ff5-8540-b3eb7ac15f9e\",\n",
    "        \"email\": \"test.user@email.com\",\n",
    "        \"roleDetails\": [\n",
    "            {\n",
    "                \"name\": \"TEST_USER\",\n",
    "                \"description\": \"This group belongs to TEST_USER.\",\n",
    "            }\n",
    "        ],\n",
    "        \"groups\": [\n",
    "            \"TEST_USER_GROUP\"\n",
    "    ]\n",
    "}\n",
    "result['data'] = var\n",
    "x = {\"subscriberId\": \"a293cb28-1b54-4dc8-b178-e9fc3f3328f2\"}"
   ]
  },
  {
   "cell_type": "code",
   "execution_count": 43,
   "id": "0de8f336",
   "metadata": {},
   "outputs": [
    {
     "data": {
      "text/plain": [
       "{'user_name': 'aayushi@lntinfotech.com',\n",
       " 'user_role': 'EEF_ADMIN',\n",
       " 'tenant_id': 'f37cf59a-3d57-4ff5-8540-b3eb7ac15f9e',\n",
       " 'email': 'test.user@email.com',\n",
       " 'roleDetails': [{'name': 'TEST_USER',\n",
       "   'description': 'This group belongs to TEST_USER.'}],\n",
       " 'groups': ['TEST_USER_GROUP']}"
      ]
     },
     "execution_count": 43,
     "metadata": {},
     "output_type": "execute_result"
    }
   ],
   "source": [
    "result['data']"
   ]
  },
  {
   "cell_type": "code",
   "execution_count": 44,
   "id": "db745ed7",
   "metadata": {},
   "outputs": [],
   "source": [
    "result['data']['x'] = \"y\""
   ]
  },
  {
   "cell_type": "code",
   "execution_count": 45,
   "id": "65946076",
   "metadata": {},
   "outputs": [
    {
     "data": {
      "text/plain": [
       "{'data': {'user_name': 'aayushi@lntinfotech.com',\n",
       "  'user_role': 'EEF_ADMIN',\n",
       "  'tenant_id': 'f37cf59a-3d57-4ff5-8540-b3eb7ac15f9e',\n",
       "  'email': 'test.user@email.com',\n",
       "  'roleDetails': [{'name': 'TEST_USER',\n",
       "    'description': 'This group belongs to TEST_USER.'}],\n",
       "  'groups': ['TEST_USER_GROUP'],\n",
       "  'x': 'y'}}"
      ]
     },
     "execution_count": 45,
     "metadata": {},
     "output_type": "execute_result"
    }
   ],
   "source": [
    "result"
   ]
  },
  {
   "cell_type": "code",
   "execution_count": null,
   "id": "e6a8e3bc",
   "metadata": {},
   "outputs": [],
   "source": []
  },
  {
   "cell_type": "code",
   "execution_count": null,
   "id": "23a05346",
   "metadata": {},
   "outputs": [],
   "source": []
  },
  {
   "cell_type": "code",
   "execution_count": 40,
   "id": "3ce7fa9a",
   "metadata": {},
   "outputs": [
    {
     "data": {
      "text/plain": [
       "{'x': 'y'}"
      ]
     },
     "execution_count": 40,
     "metadata": {},
     "output_type": "execute_result"
    }
   ],
   "source": [
    "result['data']"
   ]
  },
  {
   "cell_type": "code",
   "execution_count": null,
   "id": "78f4d438",
   "metadata": {},
   "outputs": [],
   "source": []
  },
  {
   "cell_type": "code",
   "execution_count": null,
   "id": "067b0551",
   "metadata": {},
   "outputs": [],
   "source": []
  },
  {
   "cell_type": "code",
   "execution_count": 34,
   "id": "5d7f6d86",
   "metadata": {},
   "outputs": [
    {
     "data": {
      "text/plain": [
       "{'data': {'user_name': 'aayushi@lntinfotech.com',\n",
       "  'user_role': 'EEF_ADMIN',\n",
       "  'tenant_id': 'f37cf59a-3d57-4ff5-8540-b3eb7ac15f9e',\n",
       "  'email': 'test.user@email.com',\n",
       "  'roleDetails': [{'name': 'TEST_USER',\n",
       "    'description': 'This group belongs to TEST_USER.'}],\n",
       "  'groups': ['TEST_USER_GROUP']}}"
      ]
     },
     "execution_count": 34,
     "metadata": {},
     "output_type": "execute_result"
    }
   ],
   "source": [
    "result"
   ]
  },
  {
   "cell_type": "code",
   "execution_count": 35,
   "id": "64273c3b",
   "metadata": {},
   "outputs": [],
   "source": [
    "result[\"paid_tenant\"] = x"
   ]
  },
  {
   "cell_type": "code",
   "execution_count": 36,
   "id": "29245f48",
   "metadata": {},
   "outputs": [
    {
     "data": {
      "text/plain": [
       "{'data': {'user_name': 'aayushi@lntinfotech.com',\n",
       "  'user_role': 'EEF_ADMIN',\n",
       "  'tenant_id': 'f37cf59a-3d57-4ff5-8540-b3eb7ac15f9e',\n",
       "  'email': 'test.user@email.com',\n",
       "  'roleDetails': [{'name': 'TEST_USER',\n",
       "    'description': 'This group belongs to TEST_USER.'}],\n",
       "  'groups': ['TEST_USER_GROUP']},\n",
       " 'paid_tenant': {'subscriberId': 'a293cb28-1b54-4dc8-b178-e9fc3f3328f2'}}"
      ]
     },
     "execution_count": 36,
     "metadata": {},
     "output_type": "execute_result"
    }
   ],
   "source": [
    "result"
   ]
  },
  {
   "cell_type": "code",
   "execution_count": null,
   "id": "6cd6a7c2",
   "metadata": {},
   "outputs": [],
   "source": []
  },
  {
   "cell_type": "code",
   "execution_count": null,
   "id": "948648c2",
   "metadata": {},
   "outputs": [],
   "source": []
  },
  {
   "cell_type": "code",
   "execution_count": 23,
   "id": "0078ff68",
   "metadata": {},
   "outputs": [
    {
     "data": {
      "text/plain": [
       "dict"
      ]
     },
     "execution_count": 23,
     "metadata": {},
     "output_type": "execute_result"
    }
   ],
   "source": [
    "type(result)"
   ]
  },
  {
   "cell_type": "code",
   "execution_count": 26,
   "id": "1479ed98",
   "metadata": {},
   "outputs": [],
   "source": [
    "result[\"data\"][\"subscriberId\"] = \"a293cb28-1b54-4dc8-b178-e9fc3f3328f2\""
   ]
  },
  {
   "cell_type": "code",
   "execution_count": 31,
   "id": "0f8d5666",
   "metadata": {},
   "outputs": [
    {
     "data": {
      "text/plain": [
       "{'data': {'user_name': 'aayushi@lntinfotech.com',\n",
       "  'user_role': 'EEF_ADMIN',\n",
       "  'tenant_id': 'f37cf59a-3d57-4ff5-8540-b3eb7ac15f9e',\n",
       "  'email': 'test.user@email.com',\n",
       "  'roleDetails': [{'name': 'TEST_USER',\n",
       "    'description': 'This group belongs to TEST_USER.'}],\n",
       "  'groups': ['TEST_USER_GROUP'],\n",
       "  'subscriberId': 'a293cb28-1b54-4dc8-b178-e9fc3f3328f2'}}"
      ]
     },
     "execution_count": 31,
     "metadata": {},
     "output_type": "execute_result"
    }
   ],
   "source": [
    "result"
   ]
  },
  {
   "cell_type": "code",
   "execution_count": 4,
   "id": "ef70c7c1",
   "metadata": {},
   "outputs": [],
   "source": [
    "whomi_response = {\"username\":\"sanchit\",\"email\":\"sanchit@lntinfotech.com\",\"firstName\":\"Sanchit\",\"lastName\":\"Mehrotra\",\"tenantId\":\"1234\",\"tenantName\":\"rahul\",\"realmName\":\"mosaic\",\"subscriberId\":\"xyz\"}"
   ]
  },
  {
   "cell_type": "code",
   "execution_count": 14,
   "id": "c570889e",
   "metadata": {},
   "outputs": [],
   "source": [
    "tenant_metadata = {'log_file_path':'c014e9e3-ece2-4b8a-bc17-8f59171f8bfb'}"
   ]
  },
  {
   "cell_type": "code",
   "execution_count": 15,
   "id": "0c1ba72e",
   "metadata": {},
   "outputs": [],
   "source": [
    "result = {\"status\":\"success\", \"data\":{\"user_name\": whomi_response[\"username\"],\n",
    "                                                  \"user_email\": whomi_response.get(\"email\"), \"first_name\": whomi_response.get(\"firstName\"), \"last_name\": whomi_response.get(\"lastName\"),\n",
    "                                                  \"tenant_id\": whomi_response.get('tenantId'), \"tenant_name\": whomi_response.get('tenantName'),\n",
    "                                                  \"realm_name\": whomi_response.get('realmName'), \"subscriber_id\": whomi_response.get('subscriberId'),\n",
    "                                                  \"tenant_metadata\":tenant_metadata}}"
   ]
  },
  {
   "cell_type": "code",
   "execution_count": 16,
   "id": "5c05e2bc",
   "metadata": {},
   "outputs": [
    {
     "data": {
      "text/plain": [
       "'success'"
      ]
     },
     "execution_count": 16,
     "metadata": {},
     "output_type": "execute_result"
    }
   ],
   "source": [
    "result[\"status\"]"
   ]
  },
  {
   "cell_type": "code",
   "execution_count": 17,
   "id": "25a0a26e",
   "metadata": {},
   "outputs": [
    {
     "data": {
      "text/plain": [
       "{}"
      ]
     },
     "execution_count": 17,
     "metadata": {},
     "output_type": "execute_result"
    }
   ],
   "source": [
    "result[\"data\"][\"tenant_metadata\"]"
   ]
  },
  {
   "cell_type": "code",
   "execution_count": 18,
   "id": "3a7694a1",
   "metadata": {},
   "outputs": [],
   "source": [
    "if result[\"status\"] == \"success\" and result[\"data\"][\"tenant_metadata\"]:\n",
    "    print(\"1\")"
   ]
  },
  {
   "cell_type": "code",
   "execution_count": null,
   "id": "a10a0035",
   "metadata": {},
   "outputs": [],
   "source": []
  },
  {
   "cell_type": "code",
   "execution_count": 29,
   "id": "2c70a89e",
   "metadata": {},
   "outputs": [],
   "source": [
    "x =  {'user_name': 'aayushi@lntinfotech.com', 'user_role': 'EEF_ADMIN', 'email': 'test.user@email.com', 'tenant_metadata': {'log_file_path':'c014e9e3-ece2-4b8a-bc17-8f59171f8bfb'}, 'roleDetails': [{'name': 'TEST_USER', 'description': 'This group belongs to TEST_USER.'}], 'groups': ['TEST_USER_GROUP'], 'tenant_id': 'a293cb28-1b54-4dc8-b178-e9fc3f3328f2'}"
   ]
  },
  {
   "cell_type": "code",
   "execution_count": 30,
   "id": "4140520c",
   "metadata": {},
   "outputs": [
    {
     "data": {
      "text/plain": [
       "{'user_name': 'aayushi@lntinfotech.com',\n",
       " 'user_role': 'EEF_ADMIN',\n",
       " 'email': 'test.user@email.com',\n",
       " 'tenant_metadata': {'log_file_path': 'c014e9e3-ece2-4b8a-bc17-8f59171f8bfb'},\n",
       " 'roleDetails': [{'name': 'TEST_USER',\n",
       "   'description': 'This group belongs to TEST_USER.'}],\n",
       " 'groups': ['TEST_USER_GROUP'],\n",
       " 'tenant_id': 'a293cb28-1b54-4dc8-b178-e9fc3f3328f2'}"
      ]
     },
     "execution_count": 30,
     "metadata": {},
     "output_type": "execute_result"
    }
   ],
   "source": [
    "x"
   ]
  },
  {
   "cell_type": "code",
   "execution_count": 31,
   "id": "39d2c489",
   "metadata": {},
   "outputs": [
    {
     "data": {
      "text/plain": [
       "{'log_file_path': 'c014e9e3-ece2-4b8a-bc17-8f59171f8bfb'}"
      ]
     },
     "execution_count": 31,
     "metadata": {},
     "output_type": "execute_result"
    }
   ],
   "source": [
    "x.get('tenant_metadata')"
   ]
  },
  {
   "cell_type": "code",
   "execution_count": 32,
   "id": "0b7e7421",
   "metadata": {},
   "outputs": [
    {
     "data": {
      "text/plain": [
       "'c014e9e3-ece2-4b8a-bc17-8f59171f8bfb'"
      ]
     },
     "execution_count": 32,
     "metadata": {},
     "output_type": "execute_result"
    }
   ],
   "source": [
    "x.get('tenant_metadata').get('log_file_path')"
   ]
  },
  {
   "cell_type": "code",
   "execution_count": null,
   "id": "532eda7c",
   "metadata": {},
   "outputs": [],
   "source": []
  },
  {
   "cell_type": "code",
   "execution_count": 17,
   "id": "4f5a7c7e",
   "metadata": {},
   "outputs": [],
   "source": [
    "user_details = [{\"email\":\"test\"}]"
   ]
  },
  {
   "cell_type": "code",
   "execution_count": 18,
   "id": "445de076",
   "metadata": {},
   "outputs": [],
   "source": [
    "x = [user.get('email') for user in user_details]"
   ]
  },
  {
   "cell_type": "code",
   "execution_count": 19,
   "id": "00fd04fc",
   "metadata": {},
   "outputs": [
    {
     "data": {
      "text/plain": [
       "['test']"
      ]
     },
     "execution_count": 19,
     "metadata": {},
     "output_type": "execute_result"
    }
   ],
   "source": [
    "x"
   ]
  },
  {
   "cell_type": "code",
   "execution_count": null,
   "id": "bfc525d2",
   "metadata": {},
   "outputs": [],
   "source": []
  },
  {
   "cell_type": "code",
   "execution_count": null,
   "id": "46779318",
   "metadata": {},
   "outputs": [],
   "source": []
  },
  {
   "cell_type": "code",
   "execution_count": null,
   "id": "e771352f",
   "metadata": {},
   "outputs": [],
   "source": []
  },
  {
   "cell_type": "code",
   "execution_count": null,
   "id": "c29da8c5",
   "metadata": {},
   "outputs": [],
   "source": []
  },
  {
   "cell_type": "code",
   "execution_count": null,
   "id": "e6d3297d",
   "metadata": {},
   "outputs": [],
   "source": []
  },
  {
   "cell_type": "code",
   "execution_count": null,
   "id": "bb2ac886",
   "metadata": {},
   "outputs": [],
   "source": []
  },
  {
   "cell_type": "code",
   "execution_count": null,
   "id": "8518ae59",
   "metadata": {},
   "outputs": [],
   "source": []
  },
  {
   "cell_type": "code",
   "execution_count": null,
   "id": "b90e2d61",
   "metadata": {},
   "outputs": [],
   "source": []
  },
  {
   "cell_type": "code",
   "execution_count": null,
   "id": "a2a0b365",
   "metadata": {},
   "outputs": [],
   "source": []
  },
  {
   "cell_type": "code",
   "execution_count": null,
   "id": "c65a7872",
   "metadata": {},
   "outputs": [],
   "source": []
  },
  {
   "cell_type": "code",
   "execution_count": null,
   "id": "6cc50daf",
   "metadata": {},
   "outputs": [],
   "source": []
  },
  {
   "cell_type": "code",
   "execution_count": null,
   "id": "b31c63e2",
   "metadata": {},
   "outputs": [],
   "source": []
  },
  {
   "cell_type": "code",
   "execution_count": null,
   "id": "cba2cd7a",
   "metadata": {},
   "outputs": [],
   "source": []
  },
  {
   "cell_type": "code",
   "execution_count": null,
   "id": "8f4477e3",
   "metadata": {},
   "outputs": [],
   "source": []
  },
  {
   "cell_type": "code",
   "execution_count": null,
   "id": "0347d8a9",
   "metadata": {},
   "outputs": [],
   "source": []
  },
  {
   "cell_type": "code",
   "execution_count": null,
   "id": "f317f001",
   "metadata": {},
   "outputs": [],
   "source": [
    "result"
   ]
  },
  {
   "cell_type": "code",
   "execution_count": null,
   "id": "d78b4654",
   "metadata": {},
   "outputs": [],
   "source": []
  },
  {
   "cell_type": "code",
   "execution_count": null,
   "id": "77b7ad37",
   "metadata": {},
   "outputs": [],
   "source": []
  },
  {
   "cell_type": "code",
   "execution_count": null,
   "id": "aa3268c9",
   "metadata": {},
   "outputs": [],
   "source": []
  },
  {
   "cell_type": "code",
   "execution_count": null,
   "id": "f0eb35a1",
   "metadata": {},
   "outputs": [],
   "source": []
  },
  {
   "cell_type": "code",
   "execution_count": null,
   "id": "17064854",
   "metadata": {},
   "outputs": [],
   "source": []
  },
  {
   "cell_type": "code",
   "execution_count": null,
   "id": "d34b9a9f",
   "metadata": {},
   "outputs": [],
   "source": []
  },
  {
   "cell_type": "code",
   "execution_count": null,
   "id": "c884bbd4",
   "metadata": {},
   "outputs": [],
   "source": []
  },
  {
   "cell_type": "code",
   "execution_count": null,
   "id": "24b55d61",
   "metadata": {},
   "outputs": [],
   "source": []
  },
  {
   "cell_type": "code",
   "execution_count": 16,
   "id": "8adfb050",
   "metadata": {},
   "outputs": [
    {
     "data": {
      "text/plain": [
       "{'data': {'subscriberId': 'a293cb28-1b54-4dc8-b178-e9fc3f3328f2'}}"
      ]
     },
     "execution_count": 16,
     "metadata": {},
     "output_type": "execute_result"
    }
   ],
   "source": [
    "result"
   ]
  },
  {
   "cell_type": "code",
   "execution_count": null,
   "id": "13058025",
   "metadata": {},
   "outputs": [],
   "source": []
  },
  {
   "cell_type": "code",
   "execution_count": null,
   "id": "35bb69e6",
   "metadata": {},
   "outputs": [],
   "source": []
  },
  {
   "cell_type": "code",
   "execution_count": null,
   "id": "9ad674f5",
   "metadata": {},
   "outputs": [],
   "source": []
  },
  {
   "cell_type": "code",
   "execution_count": 5,
   "id": "b11331cb",
   "metadata": {},
   "outputs": [],
   "source": [
    "a=1\n",
    "if a == 1:\n",
    "#     print(\"1\")\n",
    "    \"TODO\""
   ]
  },
  {
   "cell_type": "code",
   "execution_count": null,
   "id": "14bc149d",
   "metadata": {},
   "outputs": [],
   "source": []
  },
  {
   "cell_type": "code",
   "execution_count": null,
   "id": "bed1535c",
   "metadata": {},
   "outputs": [],
   "source": []
  },
  {
   "cell_type": "code",
   "execution_count": null,
   "id": "3f9009c7",
   "metadata": {},
   "outputs": [],
   "source": []
  },
  {
   "cell_type": "code",
   "execution_count": null,
   "id": "73f64c82",
   "metadata": {},
   "outputs": [],
   "source": []
  },
  {
   "cell_type": "code",
   "execution_count": null,
   "id": "cfb09fb3",
   "metadata": {},
   "outputs": [],
   "source": []
  },
  {
   "cell_type": "code",
   "execution_count": null,
   "id": "58c36e15",
   "metadata": {},
   "outputs": [],
   "source": []
  },
  {
   "cell_type": "code",
   "execution_count": null,
   "id": "e71c2866",
   "metadata": {},
   "outputs": [],
   "source": []
  },
  {
   "cell_type": "code",
   "execution_count": null,
   "id": "a141be44",
   "metadata": {},
   "outputs": [],
   "source": [
    "data"
   ]
  }
 ],
 "metadata": {
  "kernelspec": {
   "display_name": "Python 3 (ipykernel)",
   "language": "python",
   "name": "python3"
  },
  "language_info": {
   "codemirror_mode": {
    "name": "ipython",
    "version": 3
   },
   "file_extension": ".py",
   "mimetype": "text/x-python",
   "name": "python",
   "nbconvert_exporter": "python",
   "pygments_lexer": "ipython3",
   "version": "3.8.10"
  }
 },
 "nbformat": 4,
 "nbformat_minor": 5
}

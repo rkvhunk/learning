{
 "cells": [
  {
   "cell_type": "code",
   "execution_count": 1,
   "id": "030cb2ba",
   "metadata": {},
   "outputs": [],
   "source": [
    "import os"
   ]
  },
  {
   "cell_type": "code",
   "execution_count": 2,
   "id": "9b185f86",
   "metadata": {},
   "outputs": [],
   "source": [
    "files_output_data = [{'solution_id':'72a4f738-25a7-45e5-ba6a-ed8ed062949d','id':'0229d311-aade-4ed5-89c1-87bdfb6adac5','name':'10_Document#_split_5.pdf','data':{'NER':[{'attribute_name':'Purchaser_Name_organization','annotation':{'annotation':'Purchaser_Name_organization','page_no':'2','sentence_no':'1','unique_id':2385478,'word':'8366 Proin','word_list':['8366','Proin'],'starting_index':[141,146],'end_position':[144,150],'score':['0.5909699','0.8700672'],'word_index':[42,44]},'attribute_type':'global','value':'8366 Proin','order':1}]}}]"
   ]
  },
  {
   "cell_type": "code",
   "execution_count": 3,
   "id": "cbb6f9ce",
   "metadata": {},
   "outputs": [],
   "source": [
    "status = 'after'"
   ]
  },
  {
   "cell_type": "code",
   "execution_count": 4,
   "id": "00f35e5b",
   "metadata": {},
   "outputs": [],
   "source": [
    "extension = 'csv'"
   ]
  },
  {
   "cell_type": "code",
   "execution_count": 5,
   "id": "29c8d3f1",
   "metadata": {},
   "outputs": [],
   "source": [
    "solution_name = 'test'"
   ]
  },
  {
   "cell_type": "code",
   "execution_count": 6,
   "id": "a6147bf9",
   "metadata": {},
   "outputs": [],
   "source": [
    "download_folder_path = '/home/rahulkumar/Downloads/LTI' + os.sep + status + os.sep + solution_name"
   ]
  },
  {
   "cell_type": "code",
   "execution_count": 17,
   "id": "e1c3b032",
   "metadata": {},
   "outputs": [
    {
     "data": {
      "text/plain": [
       "dict"
      ]
     },
     "execution_count": 17,
     "metadata": {},
     "output_type": "execute_result"
    }
   ],
   "source": [
    "type(files_output_data[0]['data'])"
   ]
  },
  {
   "cell_type": "code",
   "execution_count": 18,
   "id": "7cdd1207",
   "metadata": {},
   "outputs": [],
   "source": [
    "ne_data = files_output_data[0]['data']"
   ]
  },
  {
   "cell_type": "code",
   "execution_count": 19,
   "id": "f15803f0",
   "metadata": {},
   "outputs": [
    {
     "data": {
      "text/plain": [
       "{'NER': [{'attribute_name': 'Purchaser_Name_organization',\n",
       "   'annotation': {'annotation': 'Purchaser_Name_organization',\n",
       "    'page_no': '2',\n",
       "    'sentence_no': '1',\n",
       "    'unique_id': 2385478,\n",
       "    'word': '8366 Proin',\n",
       "    'word_list': ['8366', 'Proin'],\n",
       "    'starting_index': [141, 146],\n",
       "    'end_position': [144, 150],\n",
       "    'score': ['0.5909699', '0.8700672'],\n",
       "    'word_index': [42, 44]},\n",
       "   'attribute_type': 'global',\n",
       "   'value': '8366 Proin',\n",
       "   'order': 1}]}"
      ]
     },
     "execution_count": 19,
     "metadata": {},
     "output_type": "execute_result"
    }
   ],
   "source": [
    "ne_data"
   ]
  },
  {
   "cell_type": "code",
   "execution_count": 20,
   "id": "a118228c",
   "metadata": {},
   "outputs": [
    {
     "ename": "KeyError",
     "evalue": "'data'",
     "output_type": "error",
     "traceback": [
      "\u001b[0;31m---------------------------------------------------------------------------\u001b[0m",
      "\u001b[0;31mKeyError\u001b[0m                                  Traceback (most recent call last)",
      "Input \u001b[0;32mIn [20]\u001b[0m, in \u001b[0;36m<module>\u001b[0;34m\u001b[0m\n\u001b[0;32m----> 1\u001b[0m \u001b[43mne_data\u001b[49m\u001b[43m[\u001b[49m\u001b[38;5;124;43m'\u001b[39;49m\u001b[38;5;124;43mdata\u001b[39;49m\u001b[38;5;124;43m'\u001b[39;49m\u001b[43m]\u001b[49m\n",
      "\u001b[0;31mKeyError\u001b[0m: 'data'"
     ]
    }
   ],
   "source": [
    "ne_data['data']"
   ]
  },
  {
   "cell_type": "code",
   "execution_count": null,
   "id": "ba1eebb2",
   "metadata": {},
   "outputs": [],
   "source": []
  },
  {
   "cell_type": "code",
   "execution_count": 22,
   "id": "e7c790ea",
   "metadata": {},
   "outputs": [
    {
     "ename": "AttributeError",
     "evalue": "'str' object has no attribute 'get'",
     "output_type": "error",
     "traceback": [
      "\u001b[0;31m---------------------------------------------------------------------------\u001b[0m",
      "\u001b[0;31mAttributeError\u001b[0m                            Traceback (most recent call last)",
      "Input \u001b[0;32mIn [22]\u001b[0m, in \u001b[0;36m<module>\u001b[0;34m\u001b[0m\n\u001b[1;32m      1\u001b[0m \u001b[38;5;28;01mfor\u001b[39;00m each_file_data \u001b[38;5;129;01min\u001b[39;00m files_output_data:\n\u001b[1;32m      2\u001b[0m     \u001b[38;5;28;01mif\u001b[39;00m each_file_data[\u001b[38;5;124m'\u001b[39m\u001b[38;5;124mdata\u001b[39m\u001b[38;5;124m'\u001b[39m]:\n\u001b[0;32m----> 3\u001b[0m         \u001b[43mwrite_node_wise_data\u001b[49m\u001b[43m(\u001b[49m\u001b[43meach_file_data\u001b[49m\u001b[43m[\u001b[49m\u001b[38;5;124;43m'\u001b[39;49m\u001b[38;5;124;43mdata\u001b[39;49m\u001b[38;5;124;43m'\u001b[39;49m\u001b[43m]\u001b[49m\u001b[43m,\u001b[49m\u001b[43m \u001b[49m\u001b[43meach_file_data\u001b[49m\u001b[43m[\u001b[49m\u001b[38;5;124;43m'\u001b[39;49m\u001b[38;5;124;43mname\u001b[39;49m\u001b[38;5;124;43m'\u001b[39;49m\u001b[43m]\u001b[49m\u001b[43m,\u001b[49m\u001b[43m \u001b[49m\u001b[43meach_file_data\u001b[49m\u001b[43m[\u001b[49m\u001b[38;5;124;43m'\u001b[39;49m\u001b[38;5;124;43mid\u001b[39;49m\u001b[38;5;124;43m'\u001b[39;49m\u001b[43m]\u001b[49m\u001b[43m,\u001b[49m\u001b[43m \u001b[49m\u001b[43mdownload_folder_path\u001b[49m\u001b[43m,\u001b[49m\u001b[43m \u001b[49m\u001b[43mstatus\u001b[49m\u001b[43m)\u001b[49m\n",
      "Input \u001b[0;32mIn [21]\u001b[0m, in \u001b[0;36mwrite_node_wise_data\u001b[0;34m(ner_data, file_name, file_id, download_path, status)\u001b[0m\n\u001b[1;32m     16\u001b[0m filtered_final_ner_data \u001b[38;5;241m=\u001b[39m []\n\u001b[1;32m     17\u001b[0m \u001b[38;5;28;01mfor\u001b[39;00m _, entity \u001b[38;5;129;01min\u001b[39;00m \u001b[38;5;28menumerate\u001b[39m(final_ner_data):\n\u001b[0;32m---> 18\u001b[0m     \u001b[38;5;28;01mif\u001b[39;00m \u001b[43mentity\u001b[49m\u001b[38;5;241;43m.\u001b[39;49m\u001b[43mget\u001b[49m(\u001b[38;5;124m'\u001b[39m\u001b[38;5;124mattribute_name\u001b[39m\u001b[38;5;124m'\u001b[39m) \u001b[38;5;129;01mnot\u001b[39;00m \u001b[38;5;129;01min\u001b[39;00m \u001b[38;5;28mself\u001b[39m\u001b[38;5;241m.\u001b[39mshow_intermediate_entity_list:\n\u001b[1;32m     19\u001b[0m         filtered_final_ner_data\u001b[38;5;241m.\u001b[39mappend(entity)\n\u001b[1;32m     20\u001b[0m final_ner_data \u001b[38;5;241m=\u001b[39m filtered_final_ner_data\n",
      "\u001b[0;31mAttributeError\u001b[0m: 'str' object has no attribute 'get'"
     ]
    }
   ],
   "source": [
    "for each_file_data in files_output_data:\n",
    "    if each_file_data['data']:\n",
    "        write_node_wise_data(each_file_data['data'], each_file_data['name'], each_file_data['id'], download_folder_path, status)"
   ]
  },
  {
   "cell_type": "code",
   "execution_count": null,
   "id": "2f4667fe",
   "metadata": {},
   "outputs": [],
   "source": []
  },
  {
   "cell_type": "code",
   "execution_count": null,
   "id": "cdfaeb10",
   "metadata": {},
   "outputs": [],
   "source": []
  },
  {
   "cell_type": "code",
   "execution_count": null,
   "id": "6198942e",
   "metadata": {},
   "outputs": [],
   "source": []
  },
  {
   "cell_type": "code",
   "execution_count": null,
   "id": "f46fd4a6",
   "metadata": {},
   "outputs": [],
   "source": []
  },
  {
   "cell_type": "code",
   "execution_count": null,
   "id": "d00fd90c",
   "metadata": {},
   "outputs": [],
   "source": []
  },
  {
   "cell_type": "code",
   "execution_count": null,
   "id": "b2a1f8bd",
   "metadata": {},
   "outputs": [],
   "source": []
  },
  {
   "cell_type": "code",
   "execution_count": null,
   "id": "d4718d0d",
   "metadata": {},
   "outputs": [],
   "source": []
  },
  {
   "cell_type": "code",
   "execution_count": null,
   "id": "bed30bc6",
   "metadata": {},
   "outputs": [],
   "source": []
  },
  {
   "cell_type": "code",
   "execution_count": null,
   "id": "bf12e911",
   "metadata": {},
   "outputs": [],
   "source": []
  },
  {
   "cell_type": "code",
   "execution_count": 21,
   "id": "910b75d0",
   "metadata": {},
   "outputs": [],
   "source": [
    "def write_node_wise_data(ner_data, file_name, file_id, download_path, status):\n",
    "    file_name = file_name.split('.')[0]\n",
    "    file_path_for_ner = os.path.join(download_path, f'Downloaded Data {status.title()} QC')\n",
    "    if not os.path.exists(file_path_for_ner):\n",
    "        os.makedirs(file_path_for_ner)\n",
    "    final_ner_data = []\n",
    "    ner_mode=None\n",
    "    if ner_mode == 'MODE_TYPE_3':\n",
    "        for page in ner_data['data']:\n",
    "            final_ner_data.extend(page.get('entities', []))\n",
    "    else:\n",
    "        if isinstance(ner_data, dict):\n",
    "            final_ner_data = ner_data\n",
    "        else:\n",
    "            final_ner_data = ner_data\n",
    "    filtered_final_ner_data = []\n",
    "    for _, entity in enumerate(final_ner_data):\n",
    "#         if entity.get('attribute_name') not in self.show_intermediate_entity_list:\n",
    "        filtered_final_ner_data.append(entity)\n",
    "    final_ner_data = filtered_final_ner_data\n",
    "    if final_ner_data:\n",
    "        file_name = f'{file_name}_{file_id}_{status.title()}_QC_Data_NER.csv'\n",
    "        file_path_for_ner = os.path.join(file_path_for_ner, file_name)\n",
    "        df_data = self.get_data_for_ner_df(final_ner_data, ner_mode)\n",
    "        df = pd.DataFrame(df_data)\n",
    "        if soln_language == \"mongolian\":\n",
    "            df.to_csv(file_path_for_ner, encoding='latin1', errors='ignore')\n",
    "        else:\n",
    "            df.to_csv(file_path_for_ner)\n",
    "        return df\n",
    "    else:\n",
    "        file_name = f'{file_name}_{file_id}_{status.title()}_QC_Data_NER.txt'\n",
    "        file_path_for_ner = os.path.join(file_path_for_ner, file_name)\n",
    "        with open(file_path_for_ner, 'w') as txt_file:\n",
    "            txt_file.write(\"No Data Found\")"
   ]
  },
  {
   "cell_type": "code",
   "execution_count": null,
   "id": "27a93a72",
   "metadata": {},
   "outputs": [],
   "source": []
  },
  {
   "cell_type": "code",
   "execution_count": null,
   "id": "1ab4dff8",
   "metadata": {},
   "outputs": [],
   "source": []
  },
  {
   "cell_type": "code",
   "execution_count": null,
   "id": "af7db80a",
   "metadata": {},
   "outputs": [],
   "source": []
  },
  {
   "cell_type": "code",
   "execution_count": null,
   "id": "6dce33e6",
   "metadata": {},
   "outputs": [],
   "source": []
  },
  {
   "cell_type": "code",
   "execution_count": null,
   "id": "3f512716",
   "metadata": {},
   "outputs": [],
   "source": []
  },
  {
   "cell_type": "code",
   "execution_count": null,
   "id": "9c1aba4c",
   "metadata": {},
   "outputs": [],
   "source": []
  },
  {
   "cell_type": "code",
   "execution_count": null,
   "id": "78f16694",
   "metadata": {},
   "outputs": [],
   "source": []
  },
  {
   "cell_type": "code",
   "execution_count": null,
   "id": "f8169b63",
   "metadata": {},
   "outputs": [],
   "source": []
  },
  {
   "cell_type": "code",
   "execution_count": null,
   "id": "c5a7032d",
   "metadata": {},
   "outputs": [],
   "source": [
    "="
   ]
  },
  {
   "cell_type": "code",
   "execution_count": null,
   "id": "397d170f",
   "metadata": {},
   "outputs": [],
   "source": []
  },
  {
   "cell_type": "code",
   "execution_count": null,
   "id": "4cb25e46",
   "metadata": {},
   "outputs": [],
   "source": []
  },
  {
   "cell_type": "code",
   "execution_count": null,
   "id": "a680e05b",
   "metadata": {},
   "outputs": [],
   "source": []
  },
  {
   "cell_type": "code",
   "execution_count": null,
   "id": "a02d8b9f",
   "metadata": {},
   "outputs": [],
   "source": []
  },
  {
   "cell_type": "code",
   "execution_count": null,
   "id": "e325653b",
   "metadata": {},
   "outputs": [],
   "source": []
  },
  {
   "cell_type": "code",
   "execution_count": null,
   "id": "363450ca",
   "metadata": {},
   "outputs": [],
   "source": []
  },
  {
   "cell_type": "code",
   "execution_count": null,
   "id": "85ed798c",
   "metadata": {},
   "outputs": [],
   "source": []
  },
  {
   "cell_type": "code",
   "execution_count": null,
   "id": "05c56d94",
   "metadata": {},
   "outputs": [],
   "source": []
  }
 ],
 "metadata": {
  "kernelspec": {
   "display_name": "Python 3 (ipykernel)",
   "language": "python",
   "name": "python3"
  },
  "language_info": {
   "codemirror_mode": {
    "name": "ipython",
    "version": 3
   },
   "file_extension": ".py",
   "mimetype": "text/x-python",
   "name": "python",
   "nbconvert_exporter": "python",
   "pygments_lexer": "ipython3",
   "version": "3.8.10"
  }
 },
 "nbformat": 4,
 "nbformat_minor": 5
}

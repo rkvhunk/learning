{
 "cells": [
  {
   "cell_type": "code",
   "execution_count": 1,
   "id": "385e3321",
   "metadata": {},
   "outputs": [],
   "source": [
    "l1 = [1,2,3,41,1,2,3,321321,121,23,32,32,21,22]"
   ]
  },
  {
   "cell_type": "code",
   "execution_count": 2,
   "id": "d403b211",
   "metadata": {},
   "outputs": [
    {
     "data": {
      "text/plain": [
       "[1, 2, 3, 41, 1, 2, 3, 321321, 121, 23, 32, 32, 21, 22]"
      ]
     },
     "execution_count": 2,
     "metadata": {},
     "output_type": "execute_result"
    }
   ],
   "source": [
    "l1"
   ]
  },
  {
   "cell_type": "code",
   "execution_count": 3,
   "id": "db9b2efa",
   "metadata": {},
   "outputs": [],
   "source": [
    "s1 = set(l1)"
   ]
  },
  {
   "cell_type": "code",
   "execution_count": 4,
   "id": "582c9a1b",
   "metadata": {},
   "outputs": [
    {
     "data": {
      "text/plain": [
       "{1, 2, 3, 21, 22, 23, 32, 41, 121, 321321}"
      ]
     },
     "execution_count": 4,
     "metadata": {},
     "output_type": "execute_result"
    }
   ],
   "source": [
    "s1"
   ]
  },
  {
   "cell_type": "code",
   "execution_count": 6,
   "id": "abe4185f",
   "metadata": {},
   "outputs": [
    {
     "data": {
      "text/plain": [
       "[32, 1, 2, 3, 321321, 41, 21, 22, 23, 121]"
      ]
     },
     "execution_count": 6,
     "metadata": {},
     "output_type": "execute_result"
    }
   ],
   "source": [
    "l2"
   ]
  },
  {
   "cell_type": "code",
   "execution_count": 11,
   "id": "5dd58255",
   "metadata": {},
   "outputs": [],
   "source": [
    "dic = {}\n",
    "op= []\n",
    "for i in l1:\n",
    "    if i in dic:\n",
    "        dic[i] += 1\n",
    "        op.append(i)\n",
    "    else:\n",
    "        dic[i] = 1\n"
   ]
  },
  {
   "cell_type": "code",
   "execution_count": 12,
   "id": "59b13d37",
   "metadata": {},
   "outputs": [
    {
     "data": {
      "text/plain": [
       "[1, 2, 3, 32]"
      ]
     },
     "execution_count": 12,
     "metadata": {},
     "output_type": "execute_result"
    }
   ],
   "source": [
    "op"
   ]
  },
  {
   "cell_type": "code",
   "execution_count": null,
   "id": "862a7030",
   "metadata": {},
   "outputs": [],
   "source": []
  },
  {
   "cell_type": "code",
   "execution_count": null,
   "id": "6dd4120f",
   "metadata": {},
   "outputs": [],
   "source": []
  },
  {
   "cell_type": "code",
   "execution_count": 9,
   "id": "dd062737",
   "metadata": {},
   "outputs": [
    {
     "data": {
      "text/plain": [
       "{1: 2, 2: 2, 3: 2, 41: 1, 321321: 1, 121: 1, 23: 1, 32: 2, 21: 1, 22: 1}"
      ]
     },
     "execution_count": 9,
     "metadata": {},
     "output_type": "execute_result"
    }
   ],
   "source": [
    "dic"
   ]
  },
  {
   "cell_type": "code",
   "execution_count": null,
   "id": "7cd5a36a",
   "metadata": {},
   "outputs": [],
   "source": [
    "string of length n\n",
    "order occurence"
   ]
  },
  {
   "cell_type": "code",
   "execution_count": 13,
   "id": "719ebeb3",
   "metadata": {},
   "outputs": [],
   "source": [
    "n = 5\n",
    "string = 'abcde'"
   ]
  },
  {
   "cell_type": "code",
   "execution_count": 14,
   "id": "c6f9bc25",
   "metadata": {},
   "outputs": [
    {
     "data": {
      "text/plain": [
       "5"
      ]
     },
     "execution_count": 14,
     "metadata": {},
     "output_type": "execute_result"
    }
   ],
   "source": [
    "len(string)"
   ]
  },
  {
   "cell_type": "code",
   "execution_count": 24,
   "id": "6c872730",
   "metadata": {},
   "outputs": [],
   "source": [
    "def print_string(n):\n",
    "    str1 = 'a'\n",
    "    str2 = 'b'\n",
    "    if n%2==0:\n",
    "        result = str1*(n-1)+str2\n",
    "    else:\n",
    "        result = str1*n\n",
    "    return result"
   ]
  },
  {
   "cell_type": "code",
   "execution_count": 26,
   "id": "780d568b",
   "metadata": {},
   "outputs": [
    {
     "data": {
      "text/plain": [
       "'aaaaaaaaaaa'"
      ]
     },
     "execution_count": 26,
     "metadata": {},
     "output_type": "execute_result"
    }
   ],
   "source": [
    "print_string(11)"
   ]
  },
  {
   "cell_type": "code",
   "execution_count": null,
   "id": "e5134036",
   "metadata": {},
   "outputs": [],
   "source": [
    "make migration\n",
    "seriazabel\n",
    "inheritance\n",
    "signal\n"
   ]
  },
  {
   "cell_type": "code",
   "execution_count": null,
   "id": "c15edf35",
   "metadata": {},
   "outputs": [],
   "source": []
  },
  {
   "cell_type": "code",
   "execution_count": null,
   "id": "b9f55b09",
   "metadata": {},
   "outputs": [],
   "source": []
  },
  {
   "cell_type": "code",
   "execution_count": null,
   "id": "efdd9640",
   "metadata": {},
   "outputs": [],
   "source": []
  },
  {
   "cell_type": "code",
   "execution_count": null,
   "id": "2b4adbc2",
   "metadata": {},
   "outputs": [],
   "source": []
  },
  {
   "cell_type": "code",
   "execution_count": null,
   "id": "126f199e",
   "metadata": {},
   "outputs": [],
   "source": []
  },
  {
   "cell_type": "code",
   "execution_count": null,
   "id": "c4acd0e4",
   "metadata": {},
   "outputs": [],
   "source": []
  }
 ],
 "metadata": {
  "kernelspec": {
   "display_name": "Python 3 (ipykernel)",
   "language": "python",
   "name": "python3"
  },
  "language_info": {
   "codemirror_mode": {
    "name": "ipython",
    "version": 3
   },
   "file_extension": ".py",
   "mimetype": "text/x-python",
   "name": "python",
   "nbconvert_exporter": "python",
   "pygments_lexer": "ipython3",
   "version": "3.8.10"
  }
 },
 "nbformat": 4,
 "nbformat_minor": 5
}

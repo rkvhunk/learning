{
 "cells": [
  {
   "cell_type": "code",
   "execution_count": 20,
   "id": "ad7e9acf",
   "metadata": {},
   "outputs": [],
   "source": [
    "ip = '5782'\n",
    "op = [5-78*2]"
   ]
  },
  {
   "cell_type": "code",
   "execution_count": 22,
   "id": "adc70553",
   "metadata": {},
   "outputs": [
    {
     "data": {
      "text/plain": [
       "'5-78*2'"
      ]
     },
     "execution_count": 22,
     "metadata": {},
     "output_type": "execute_result"
    }
   ],
   "source": [
    "ip[0]+'-'+ip[1:3]+'*'+ip[3]"
   ]
  },
  {
   "cell_type": "code",
   "execution_count": null,
   "id": "c72b0711",
   "metadata": {},
   "outputs": [],
   "source": []
  },
  {
   "cell_type": "code",
   "execution_count": null,
   "id": "9a183651",
   "metadata": {},
   "outputs": [],
   "source": []
  },
  {
   "cell_type": "code",
   "execution_count": 17,
   "id": "20fe446a",
   "metadata": {},
   "outputs": [],
   "source": [
    "l = []\n",
    "for i in ip:\n",
    "    if i == '7':\n",
    "        l.append('-')\n",
    "        l.append(i)\n",
    "    elif i == '2':\n",
    "        l.append('*')\n",
    "        l.append(i)\n",
    "    else:\n",
    "        l.append(i)"
   ]
  },
  {
   "cell_type": "code",
   "execution_count": 19,
   "id": "39b1a71f",
   "metadata": {},
   "outputs": [
    {
     "data": {
      "text/plain": [
       "'5-78*2'"
      ]
     },
     "execution_count": 19,
     "metadata": {},
     "output_type": "execute_result"
    }
   ],
   "source": [
    "\"\".join(l)"
   ]
  },
  {
   "cell_type": "code",
   "execution_count": null,
   "id": "3b2aa0f7",
   "metadata": {},
   "outputs": [],
   "source": [
    "emp\n",
    "dept,name,salary\n",
    "3rd highest"
   ]
  },
  {
   "cell_type": "code",
   "execution_count": null,
   "id": "ca44cd45",
   "metadata": {},
   "outputs": [],
   "source": [
    "select max(salary) from emp not in (select max(salary) from emp not in (select max(salary) from emp))"
   ]
  },
  {
   "cell_type": "code",
   "execution_count": null,
   "id": "4666ab73",
   "metadata": {},
   "outputs": [],
   "source": [
    "window\n",
    "analytrical\n",
    "rank order by"
   ]
  },
  {
   "cell_type": "code",
   "execution_count": null,
   "id": "f70f2d4e",
   "metadata": {},
   "outputs": [],
   "source": []
  },
  {
   "cell_type": "code",
   "execution_count": null,
   "id": "048eeeb8",
   "metadata": {},
   "outputs": [],
   "source": []
  },
  {
   "cell_type": "code",
   "execution_count": null,
   "id": "c8649eb3",
   "metadata": {},
   "outputs": [],
   "source": []
  },
  {
   "cell_type": "code",
   "execution_count": null,
   "id": "52cbb8f3",
   "metadata": {},
   "outputs": [],
   "source": []
  },
  {
   "cell_type": "code",
   "execution_count": null,
   "id": "5c3ece9b",
   "metadata": {},
   "outputs": [],
   "source": []
  },
  {
   "cell_type": "code",
   "execution_count": null,
   "id": "324cae89",
   "metadata": {},
   "outputs": [],
   "source": []
  },
  {
   "cell_type": "code",
   "execution_count": null,
   "id": "450cf8ef",
   "metadata": {},
   "outputs": [],
   "source": []
  },
  {
   "cell_type": "code",
   "execution_count": null,
   "id": "9ec32670",
   "metadata": {},
   "outputs": [],
   "source": []
  },
  {
   "cell_type": "code",
   "execution_count": null,
   "id": "16ee552f",
   "metadata": {},
   "outputs": [],
   "source": []
  }
 ],
 "metadata": {
  "kernelspec": {
   "display_name": "Python 3 (ipykernel)",
   "language": "python",
   "name": "python3"
  },
  "language_info": {
   "codemirror_mode": {
    "name": "ipython",
    "version": 3
   },
   "file_extension": ".py",
   "mimetype": "text/x-python",
   "name": "python",
   "nbconvert_exporter": "python",
   "pygments_lexer": "ipython3",
   "version": "3.8.10"
  }
 },
 "nbformat": 4,
 "nbformat_minor": 5
}

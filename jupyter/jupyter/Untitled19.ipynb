{
 "cells": [
  {
   "cell_type": "code",
   "execution_count": 2,
   "id": "20b8360c",
   "metadata": {},
   "outputs": [],
   "source": [
    "class parent:\n",
    "    def __init__(a,b):\n",
    "        a = '10'\n",
    "        b = '20'\n",
    "\n",
    "class child(parent):\n",
    "    def fun():\n",
    "        print(\"this is child class\")"
   ]
  },
  {
   "cell_type": "code",
   "execution_count": 4,
   "id": "3e24a1d5",
   "metadata": {},
   "outputs": [
    {
     "ename": "TypeError",
     "evalue": "__init__() missing 1 required positional argument: 'b'",
     "output_type": "error",
     "traceback": [
      "\u001b[0;31m---------------------------------------------------------------------------\u001b[0m",
      "\u001b[0;31mTypeError\u001b[0m                                 Traceback (most recent call last)",
      "Input \u001b[0;32mIn [4]\u001b[0m, in \u001b[0;36m<module>\u001b[0;34m\u001b[0m\n\u001b[0;32m----> 1\u001b[0m obj \u001b[38;5;241m=\u001b[39m \u001b[43mparent\u001b[49m\u001b[43m(\u001b[49m\u001b[43m)\u001b[49m\n",
      "\u001b[0;31mTypeError\u001b[0m: __init__() missing 1 required positional argument: 'b'"
     ]
    }
   ],
   "source": [
    "obj = parent()"
   ]
  },
  {
   "cell_type": "code",
   "execution_count": 6,
   "id": "b12911cb",
   "metadata": {},
   "outputs": [
    {
     "name": "stdout",
     "output_type": "stream",
     "text": [
      "1 1 1\n",
      "1 2 1\n",
      "3 2 3\n"
     ]
    }
   ],
   "source": [
    " class Parent(object):\n",
    "     x = 1\n",
    "\n",
    "class Child1(Parent):\n",
    "     pass\n",
    "\n",
    "class Child2(Parent):\n",
    "     pass\n",
    "\n",
    "print(Parent.x, Child1.x, Child2.x)\n",
    "Child1.x = 2\n",
    "print(Parent.x, Child1.x, Child2.x)\n",
    "Parent.x = 3 \n",
    "print(Parent.x, Child1.x, Child2.x)"
   ]
  },
  {
   "cell_type": "code",
   "execution_count": null,
   "id": "e2b1afc7",
   "metadata": {},
   "outputs": [],
   "source": [
    "init self"
   ]
  },
  {
   "cell_type": "code",
   "execution_count": 10,
   "id": "54332d96",
   "metadata": {},
   "outputs": [],
   "source": [
    "class A:\n",
    "    def __init__(self,a,b):\n",
    "        self.a = a\n",
    "        self.b = b\n",
    "    def abc(self):\n",
    "        print(self.a)\n",
    "    def xyz(selfa,b):\n",
    "        print(\"!\")\n",
    "obj = A(10)"
   ]
  },
  {
   "cell_type": "code",
   "execution_count": 11,
   "id": "7daea2b1",
   "metadata": {},
   "outputs": [
    {
     "name": "stdout",
     "output_type": "stream",
     "text": [
      "10\n"
     ]
    }
   ],
   "source": [
    "obj.abc()"
   ]
  },
  {
   "cell_type": "code",
   "execution_count": null,
   "id": "c58845ed",
   "metadata": {},
   "outputs": [],
   "source": []
  },
  {
   "cell_type": "code",
   "execution_count": null,
   "id": "95e9dbef",
   "metadata": {},
   "outputs": [],
   "source": []
  },
  {
   "cell_type": "code",
   "execution_count": null,
   "id": "635c84ea",
   "metadata": {},
   "outputs": [],
   "source": [
    "1 1 1\n",
    "1 2 1\n",
    "3 3 3"
   ]
  },
  {
   "cell_type": "code",
   "execution_count": null,
   "id": "fe9abc82",
   "metadata": {},
   "outputs": [],
   "source": []
  },
  {
   "cell_type": "code",
   "execution_count": null,
   "id": "50b5494b",
   "metadata": {},
   "outputs": [],
   "source": []
  },
  {
   "cell_type": "code",
   "execution_count": 61,
   "id": "7a978c88",
   "metadata": {},
   "outputs": [],
   "source": [
    "input =[\"hey\", \"am\", \"working\",\"datascience\",\"also\",\"working\",\"datascience\",\"in\",\"india\",\"and\",\"working\",\"as\",\"datascience\",\"expert\"] \n"
   ]
  },
  {
   "cell_type": "code",
   "execution_count": 16,
   "id": "3e4ad75e",
   "metadata": {},
   "outputs": [],
   "source": [
    "output = [\"hey\", \"am\", \"ml\",\"also\",\"ml\",\"in\",\"india\",\"and\",\"working\",\"as\",\"datascience\",\"expert\"]"
   ]
  },
  {
   "cell_type": "code",
   "execution_count": 32,
   "id": "8b4c09df",
   "metadata": {},
   "outputs": [
    {
     "data": {
      "text/plain": [
       "'hey am working datascience also working datascience in india and working as datascience expert'"
      ]
     },
     "execution_count": 32,
     "metadata": {},
     "output_type": "execute_result"
    }
   ],
   "source": [
    "\" \".join(input)"
   ]
  },
  {
   "cell_type": "code",
   "execution_count": 62,
   "id": "d4cf635a",
   "metadata": {},
   "outputs": [
    {
     "name": "stdout",
     "output_type": "stream",
     "text": [
      " \n",
      " \n"
     ]
    }
   ],
   "source": [
    "input =[\"hey\", \"am\", \"working\",\"datascience\",\"also\",\"working\",\"datascience\",\"in\",\"india\",\"and\",\"working\",\"as\",\"datascience\",\"expert\"] \n",
    "length = len(input)\n",
    "op = []\n",
    "for k,v in enumerate(input):\n",
    "#     print(k,v, length, k)\n",
    "    if length-2>=k and input[k] == \"working\" and input[k+1] == \"datascience\":\n",
    "        input[k] = input[k].replace(\"working\", \"ml\")\n",
    "        input[k] = input[k+1].replace(\"datascience\", \" \")\n",
    "        print(input[k])\n",
    "    op.append(input[k])"
   ]
  },
  {
   "cell_type": "code",
   "execution_count": null,
   "id": "b0476a6e",
   "metadata": {},
   "outputs": [],
   "source": []
  },
  {
   "cell_type": "code",
   "execution_count": 59,
   "id": "02b47f26",
   "metadata": {},
   "outputs": [
    {
     "data": {
      "text/plain": [
       "['hey',\n",
       " 'am',\n",
       " ' ',\n",
       " 'datascience',\n",
       " 'also',\n",
       " ' ',\n",
       " 'datascience',\n",
       " 'in',\n",
       " 'india',\n",
       " 'and',\n",
       " 'working',\n",
       " 'as',\n",
       " 'datascience',\n",
       " 'expert']"
      ]
     },
     "execution_count": 59,
     "metadata": {},
     "output_type": "execute_result"
    }
   ],
   "source": [
    "op"
   ]
  },
  {
   "cell_type": "code",
   "execution_count": null,
   "id": "dfc28580",
   "metadata": {},
   "outputs": [],
   "source": []
  },
  {
   "cell_type": "code",
   "execution_count": 57,
   "id": "fec01314",
   "metadata": {},
   "outputs": [
    {
     "data": {
      "text/plain": [
       "['hey',\n",
       " 'am',\n",
       " ' ',\n",
       " 'datascience',\n",
       " 'also',\n",
       " ' ',\n",
       " 'datascience',\n",
       " 'in',\n",
       " 'india',\n",
       " 'and',\n",
       " 'working',\n",
       " 'as',\n",
       " 'datascience',\n",
       " 'expert']"
      ]
     },
     "execution_count": 57,
     "metadata": {},
     "output_type": "execute_result"
    }
   ],
   "source": [
    "input"
   ]
  },
  {
   "cell_type": "code",
   "execution_count": null,
   "id": "04688985",
   "metadata": {},
   "outputs": [],
   "source": []
  },
  {
   "cell_type": "code",
   "execution_count": null,
   "id": "397539e4",
   "metadata": {},
   "outputs": [],
   "source": []
  },
  {
   "cell_type": "code",
   "execution_count": null,
   "id": "31064cd8",
   "metadata": {},
   "outputs": [],
   "source": []
  },
  {
   "cell_type": "code",
   "execution_count": null,
   "id": "563ffaed",
   "metadata": {},
   "outputs": [],
   "source": []
  },
  {
   "cell_type": "code",
   "execution_count": null,
   "id": "5d707ff8",
   "metadata": {},
   "outputs": [],
   "source": []
  },
  {
   "cell_type": "code",
   "execution_count": null,
   "id": "86a1d89b",
   "metadata": {},
   "outputs": [],
   "source": []
  },
  {
   "cell_type": "code",
   "execution_count": null,
   "id": "985fab75",
   "metadata": {},
   "outputs": [],
   "source": []
  },
  {
   "cell_type": "code",
   "execution_count": null,
   "id": "37020c89",
   "metadata": {},
   "outputs": [],
   "source": []
  },
  {
   "cell_type": "code",
   "execution_count": null,
   "id": "a404f353",
   "metadata": {},
   "outputs": [],
   "source": []
  },
  {
   "cell_type": "code",
   "execution_count": null,
   "id": "a3ae1d7b",
   "metadata": {},
   "outputs": [],
   "source": []
  },
  {
   "cell_type": "code",
   "execution_count": 45,
   "id": "3130adff",
   "metadata": {},
   "outputs": [
    {
     "data": {
      "text/plain": [
       "['hey',\n",
       " 'am',\n",
       " 'ml',\n",
       " 'datascience',\n",
       " 'also',\n",
       " 'ml',\n",
       " 'datascience',\n",
       " 'in',\n",
       " 'india',\n",
       " 'and',\n",
       " 'working',\n",
       " 'as',\n",
       " 'datascience',\n",
       " 'expert']"
      ]
     },
     "execution_count": 45,
     "metadata": {},
     "output_type": "execute_result"
    }
   ],
   "source": [
    "op"
   ]
  },
  {
   "cell_type": "code",
   "execution_count": null,
   "id": "0455fad2",
   "metadata": {},
   "outputs": [],
   "source": []
  },
  {
   "cell_type": "code",
   "execution_count": null,
   "id": "e556a23d",
   "metadata": {},
   "outputs": [],
   "source": []
  },
  {
   "cell_type": "code",
   "execution_count": 41,
   "id": "18be5ffe",
   "metadata": {},
   "outputs": [
    {
     "data": {
      "text/plain": [
       "['hey',\n",
       " 'am',\n",
       " 'ml',\n",
       " 'datascience',\n",
       " 'also',\n",
       " 'ml',\n",
       " 'datascience',\n",
       " 'in',\n",
       " 'india',\n",
       " 'and',\n",
       " 'working',\n",
       " 'as',\n",
       " 'datascience',\n",
       " 'expert']"
      ]
     },
     "execution_count": 41,
     "metadata": {},
     "output_type": "execute_result"
    }
   ],
   "source": [
    "op"
   ]
  },
  {
   "cell_type": "code",
   "execution_count": null,
   "id": "5b53fc2c",
   "metadata": {},
   "outputs": [],
   "source": []
  },
  {
   "cell_type": "code",
   "execution_count": null,
   "id": "8ced80a5",
   "metadata": {},
   "outputs": [],
   "source": []
  },
  {
   "cell_type": "code",
   "execution_count": null,
   "id": "ef5b787f",
   "metadata": {},
   "outputs": [],
   "source": []
  },
  {
   "cell_type": "code",
   "execution_count": 35,
   "id": "39290ebb",
   "metadata": {},
   "outputs": [
    {
     "data": {
      "text/plain": [
       "['hey',\n",
       " 'am',\n",
       " 'working',\n",
       " 'datascience',\n",
       " 'also',\n",
       " 'working',\n",
       " 'datascience',\n",
       " 'in',\n",
       " 'india',\n",
       " 'and',\n",
       " 'working',\n",
       " 'as',\n",
       " 'datascience',\n",
       " 'expert']"
      ]
     },
     "execution_count": 35,
     "metadata": {},
     "output_type": "execute_result"
    }
   ],
   "source": [
    "input"
   ]
  },
  {
   "cell_type": "code",
   "execution_count": null,
   "id": "9cf062ec",
   "metadata": {},
   "outputs": [],
   "source": []
  },
  {
   "cell_type": "code",
   "execution_count": null,
   "id": "29574b84",
   "metadata": {},
   "outputs": [],
   "source": []
  },
  {
   "cell_type": "code",
   "execution_count": null,
   "id": "70c0780e",
   "metadata": {},
   "outputs": [],
   "source": []
  },
  {
   "cell_type": "code",
   "execution_count": null,
   "id": "2cd9f98b",
   "metadata": {},
   "outputs": [],
   "source": []
  },
  {
   "cell_type": "code",
   "execution_count": null,
   "id": "0fa3ef70",
   "metadata": {},
   "outputs": [],
   "source": []
  },
  {
   "cell_type": "code",
   "execution_count": null,
   "id": "bd167343",
   "metadata": {},
   "outputs": [],
   "source": []
  },
  {
   "cell_type": "code",
   "execution_count": null,
   "id": "ce9e3f05",
   "metadata": {},
   "outputs": [],
   "source": []
  },
  {
   "cell_type": "code",
   "execution_count": null,
   "id": "a6b36203",
   "metadata": {},
   "outputs": [],
   "source": []
  },
  {
   "cell_type": "code",
   "execution_count": null,
   "id": "d8b52dbb",
   "metadata": {},
   "outputs": [],
   "source": []
  },
  {
   "cell_type": "code",
   "execution_count": null,
   "id": "5e95db79",
   "metadata": {},
   "outputs": [],
   "source": []
  },
  {
   "cell_type": "code",
   "execution_count": null,
   "id": "74d4916b",
   "metadata": {},
   "outputs": [],
   "source": []
  },
  {
   "cell_type": "code",
   "execution_count": 63,
   "id": "ed99cce7",
   "metadata": {},
   "outputs": [],
   "source": [
    "languages = {\n",
    "    \"Py\": {\n",
    "        \"year\": 1991,\n",
    "        \"creator\": \"G. van Rossum\",\n",
    "    },\n",
    "    \"Java\": {\n",
    "        \"year\": 1995,\n",
    "        \"creator\": \"J. Gosling\",\n",
    "    },\n",
    "    \"C#\": {\n",
    "        \"year\": 2000,\n",
    "        \"creator\": \"Microsoft\",\n",
    "    }\n",
    "}"
   ]
  },
  {
   "cell_type": "code",
   "execution_count": 64,
   "id": "e8cbf2dd",
   "metadata": {},
   "outputs": [
    {
     "data": {
      "text/plain": [
       "{'Py': {'year': 1991, 'creator': 'G. van Rossum'},\n",
       " 'Java': {'year': 1995, 'creator': 'J. Gosling'},\n",
       " 'C#': {'year': 2000, 'creator': 'Microsoft'}}"
      ]
     },
     "execution_count": 64,
     "metadata": {},
     "output_type": "execute_result"
    }
   ],
   "source": [
    "languages"
   ]
  },
  {
   "cell_type": "code",
   "execution_count": 72,
   "id": "99fe8029",
   "metadata": {},
   "outputs": [],
   "source": [
    "keys = []\n",
    "for k,v in languages.items():\n",
    "    keys.append(k)\n",
    "    for i,j in v.items():\n",
    "        keys.append(i)\n",
    "keys=set(keys)"
   ]
  },
  {
   "cell_type": "code",
   "execution_count": 73,
   "id": "53331a0a",
   "metadata": {},
   "outputs": [
    {
     "data": {
      "text/plain": [
       "{'C#', 'Java', 'Py', 'creator', 'year'}"
      ]
     },
     "execution_count": 73,
     "metadata": {},
     "output_type": "execute_result"
    }
   ],
   "source": [
    "keys"
   ]
  },
  {
   "cell_type": "code",
   "execution_count": null,
   "id": "527d4f84",
   "metadata": {},
   "outputs": [],
   "source": [
    "for i in range(10):\n",
    "    if i:\n",
    "        break"
   ]
  },
  {
   "cell_type": "code",
   "execution_count": null,
   "id": "dec2ba43",
   "metadata": {},
   "outputs": [],
   "source": [
    "yeild\n",
    "return"
   ]
  },
  {
   "cell_type": "code",
   "execution_count": null,
   "id": "0c340508",
   "metadata": {},
   "outputs": [],
   "source": []
  },
  {
   "cell_type": "code",
   "execution_count": null,
   "id": "9ffd44c6",
   "metadata": {},
   "outputs": [],
   "source": []
  },
  {
   "cell_type": "code",
   "execution_count": 67,
   "id": "05a275dc",
   "metadata": {},
   "outputs": [
    {
     "data": {
      "text/plain": [
       "['Py', 'Java', 'C#']"
      ]
     },
     "execution_count": 67,
     "metadata": {},
     "output_type": "execute_result"
    }
   ],
   "source": [
    "keys"
   ]
  },
  {
   "cell_type": "code",
   "execution_count": null,
   "id": "b9924dda",
   "metadata": {},
   "outputs": [],
   "source": []
  },
  {
   "cell_type": "code",
   "execution_count": null,
   "id": "30cd7106",
   "metadata": {},
   "outputs": [],
   "source": []
  },
  {
   "cell_type": "code",
   "execution_count": null,
   "id": "9a67d3f6",
   "metadata": {},
   "outputs": [],
   "source": []
  },
  {
   "cell_type": "code",
   "execution_count": null,
   "id": "147a66cf",
   "metadata": {},
   "outputs": [],
   "source": []
  },
  {
   "cell_type": "code",
   "execution_count": null,
   "id": "243aa6c0",
   "metadata": {},
   "outputs": [],
   "source": []
  },
  {
   "cell_type": "code",
   "execution_count": null,
   "id": "24b92c4a",
   "metadata": {},
   "outputs": [],
   "source": []
  },
  {
   "cell_type": "code",
   "execution_count": null,
   "id": "eb5b5f0d",
   "metadata": {},
   "outputs": [],
   "source": []
  },
  {
   "cell_type": "code",
   "execution_count": null,
   "id": "e2dd394d",
   "metadata": {},
   "outputs": [],
   "source": []
  }
 ],
 "metadata": {
  "kernelspec": {
   "display_name": "Python 3 (ipykernel)",
   "language": "python",
   "name": "python3"
  },
  "language_info": {
   "codemirror_mode": {
    "name": "ipython",
    "version": 3
   },
   "file_extension": ".py",
   "mimetype": "text/x-python",
   "name": "python",
   "nbconvert_exporter": "python",
   "pygments_lexer": "ipython3",
   "version": "3.8.10"
  }
 },
 "nbformat": 4,
 "nbformat_minor": 5
}

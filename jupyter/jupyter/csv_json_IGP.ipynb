{
 "cells": [
  {
   "cell_type": "code",
   "execution_count": 1,
   "id": "07130ad5",
   "metadata": {},
   "outputs": [],
   "source": [
    "sentiment_analysis_data = {'data':[{'text':\"Table of Contents\\nPARAGRAPH 1:......\\n1\\nPARAGRAPH 2:......\\n1\\nPARAGRAPH 3:......\\n1\\nPARAGRAPH 4:......\\n2\\nPARAGRAPH 5:..\\n2\\nPARAGRAPH 6:......\\n2\\n2\\nPARAGRAPH 7:......\\nPARAGRAPH 8:......\\n3\\nPARAGRAPH 9:.\\n3\\nPARAGRAPH 1:\\nI r\\n\",'page_no':1,'sentiment':'positive','score':0.64}],'provider':'mosaic','type':'page_level'}"
   ]
  },
  {
   "cell_type": "code",
   "execution_count": 7,
   "id": "7097626c",
   "metadata": {},
   "outputs": [],
   "source": [
    "level = sentiment_analysis_data.get('type')"
   ]
  },
  {
   "cell_type": "code",
   "execution_count": 8,
   "id": "d5df0d75",
   "metadata": {},
   "outputs": [],
   "source": [
    "provider = sentiment_analysis_data.get('provider', \"\")"
   ]
  },
  {
   "cell_type": "code",
   "execution_count": 9,
   "id": "b5759519",
   "metadata": {},
   "outputs": [],
   "source": [
    "sentiment_analysis_data = sentiment_analysis_data.get('data')"
   ]
  },
  {
   "cell_type": "code",
   "execution_count": 16,
   "id": "d1cec084",
   "metadata": {},
   "outputs": [
    {
     "data": {
      "text/plain": [
       "[{'page_no': 1, 'sentiment': 'positive', 'score': 0.64}]"
      ]
     },
     "execution_count": 16,
     "metadata": {},
     "output_type": "execute_result"
    }
   ],
   "source": [
    "df_data = []\n",
    "for each_box in sentiment_analysis_data:\n",
    "    box_dict = {}\n",
    "    if level == 'page_level':\n",
    "        box_dict[\"page_no\"] = each_box.get(\"page_no\", \"\")\n",
    "#     elif level == self.config['DOCUMENT_DECONSTRUCTION_LEVEL']['DOCUMENT_LEVEL']:\n",
    "#         box_dict[\"document_no\"] = each_box.get(\"document_no\", \"\")\n",
    "#     elif level == self.config['DOCUMENT_DECONSTRUCTION_LEVEL']['HEADER_PARA_LEVEL']:\n",
    "#         box_dict[\"header\"] = each_box.get(\"header\", \"\")\n",
    "#     elif level == self.config['DOCUMENT_DECONSTRUCTION_LEVEL']['SENTENCE_LEVEL']:\n",
    "#         box_dict[\"page_no\"] = each_box.get(\"page_no\", \"\")\n",
    "#         box_dict[\"sentence_no\"] = each_box.get(\"sentence_no\", \"\")\n",
    "\n",
    "#     if level == self.config['DOCUMENT_DECONSTRUCTION_LEVEL']['DOCUMENT_LEVEL']:\n",
    "#         box_dict[\"text\"] = each_box.get(\"text\", \"\")[0].get(\"page_data\")\n",
    "#     else:\n",
    "#         box_dict[\"text\"] = each_box.get(\"text\", \"\")\n",
    "    box_dict[\"sentiment\"] = each_box.get(\"sentiment\", \"\")\n",
    "    box_dict[\"score\"] = each_box.get(\"score\", \"\")\n",
    "    df_data.append(box_dict)\n",
    "df_data"
   ]
  },
  {
   "cell_type": "code",
   "execution_count": null,
   "id": "d06bd48d",
   "metadata": {},
   "outputs": [],
   "source": []
  },
  {
   "cell_type": "code",
   "execution_count": null,
   "id": "2f464e28",
   "metadata": {},
   "outputs": [],
   "source": []
  },
  {
   "cell_type": "code",
   "execution_count": null,
   "id": "fa71804d",
   "metadata": {},
   "outputs": [],
   "source": []
  },
  {
   "cell_type": "code",
   "execution_count": null,
   "id": "29178a54",
   "metadata": {},
   "outputs": [],
   "source": []
  },
  {
   "cell_type": "code",
   "execution_count": null,
   "id": "61c4efa9",
   "metadata": {},
   "outputs": [],
   "source": []
  },
  {
   "cell_type": "code",
   "execution_count": null,
   "id": "f0bd2d7f",
   "metadata": {},
   "outputs": [],
   "source": []
  },
  {
   "cell_type": "code",
   "execution_count": null,
   "id": "515f42b6",
   "metadata": {},
   "outputs": [],
   "source": []
  },
  {
   "cell_type": "code",
   "execution_count": null,
   "id": "2f4b8e3f",
   "metadata": {},
   "outputs": [],
   "source": []
  }
 ],
 "metadata": {
  "kernelspec": {
   "display_name": "Python 3 (ipykernel)",
   "language": "python",
   "name": "python3"
  },
  "language_info": {
   "codemirror_mode": {
    "name": "ipython",
    "version": 3
   },
   "file_extension": ".py",
   "mimetype": "text/x-python",
   "name": "python",
   "nbconvert_exporter": "python",
   "pygments_lexer": "ipython3",
   "version": "3.8.10"
  }
 },
 "nbformat": 4,
 "nbformat_minor": 5
}

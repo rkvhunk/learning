{
 "cells": [
  {
   "cell_type": "code",
   "execution_count": 1,
   "id": "4e6ddb36",
   "metadata": {},
   "outputs": [],
   "source": [
    "l = [1,0,5,3,0,1,0,2,1]"
   ]
  },
  {
   "cell_type": "code",
   "execution_count": 2,
   "id": "209c2627",
   "metadata": {
    "scrolled": true
   },
   "outputs": [
    {
     "data": {
      "text/plain": [
       "['__add__',\n",
       " '__class__',\n",
       " '__contains__',\n",
       " '__delattr__',\n",
       " '__delitem__',\n",
       " '__dir__',\n",
       " '__doc__',\n",
       " '__eq__',\n",
       " '__format__',\n",
       " '__ge__',\n",
       " '__getattribute__',\n",
       " '__getitem__',\n",
       " '__gt__',\n",
       " '__hash__',\n",
       " '__iadd__',\n",
       " '__imul__',\n",
       " '__init__',\n",
       " '__init_subclass__',\n",
       " '__iter__',\n",
       " '__le__',\n",
       " '__len__',\n",
       " '__lt__',\n",
       " '__mul__',\n",
       " '__ne__',\n",
       " '__new__',\n",
       " '__reduce__',\n",
       " '__reduce_ex__',\n",
       " '__repr__',\n",
       " '__reversed__',\n",
       " '__rmul__',\n",
       " '__setattr__',\n",
       " '__setitem__',\n",
       " '__sizeof__',\n",
       " '__str__',\n",
       " '__subclasshook__',\n",
       " 'append',\n",
       " 'clear',\n",
       " 'copy',\n",
       " 'count',\n",
       " 'extend',\n",
       " 'index',\n",
       " 'insert',\n",
       " 'pop',\n",
       " 'remove',\n",
       " 'reverse',\n",
       " 'sort']"
      ]
     },
     "execution_count": 2,
     "metadata": {},
     "output_type": "execute_result"
    }
   ],
   "source": [
    "dir(l)"
   ]
  },
  {
   "cell_type": "code",
   "execution_count": null,
   "id": "072f6737",
   "metadata": {},
   "outputs": [],
   "source": []
  },
  {
   "cell_type": "code",
   "execution_count": 2,
   "id": "8acbe046",
   "metadata": {},
   "outputs": [],
   "source": [
    "# op = [0,0,0,1,5,3,1,2,1]"
   ]
  },
  {
   "cell_type": "code",
   "execution_count": null,
   "id": "f29b0200",
   "metadata": {},
   "outputs": [],
   "source": [
    "# op = []\n",
    "for i in l:\n",
    "    if i == 0:\n",
    "        l.insert(0,i)\n",
    "#     else:\n",
    "#         l.append(i)\n",
    "l"
   ]
  },
  {
   "cell_type": "code",
   "execution_count": 2,
   "id": "51e52ff8",
   "metadata": {},
   "outputs": [
    {
     "data": {
      "text/plain": [
       "{'r': 2, 'a': 2, 'h': 1, 'u': 2, 'l': 1, ' ': 1, 'k': 1, 'm': 1}"
      ]
     },
     "execution_count": 2,
     "metadata": {},
     "output_type": "execute_result"
    }
   ],
   "source": [
    "s = \"rahul kumar\"\n",
    "dic = {}\n",
    "for i in s:\n",
    "    dic[i] = dic.get(i, 0) + 1\n",
    "dic"
   ]
  },
  {
   "cell_type": "code",
   "execution_count": null,
   "id": "ebda8df3",
   "metadata": {},
   "outputs": [],
   "source": [
    "l = [2,3,5,6,9,1,4,8,7]"
   ]
  },
  {
   "cell_type": "code",
   "execution_count": 6,
   "id": "d71f1121",
   "metadata": {},
   "outputs": [
    {
     "data": {
      "text/plain": [
       "'b'"
      ]
     },
     "execution_count": 6,
     "metadata": {},
     "output_type": "execute_result"
    }
   ],
   "source": [
    "# import itertools\n",
    "s = \"abc\"\n",
    "# abc,acb,bca,bac,cab,cba\n",
    "# nPr\n",
    "# 3! = 6\n",
    "op = []\n",
    "s[1]\n",
    "for k,v in enumerate(s):\n",
    "    op.append(s[k]+)\n"
   ]
  },
  {
   "cell_type": "code",
   "execution_count": null,
   "id": "61d45467",
   "metadata": {},
   "outputs": [],
   "source": [
    "select max(salary) from emp where salary not in (select max(salary) from emp where salary )"
   ]
  },
  {
   "cell_type": "code",
   "execution_count": 7,
   "id": "9dbadda4",
   "metadata": {},
   "outputs": [
    {
     "ename": "SyntaxError",
     "evalue": "invalid syntax (2175887890.py, line 1)",
     "output_type": "error",
     "traceback": [
      "\u001b[0;36m  Input \u001b[0;32mIn [7]\u001b[0;36m\u001b[0m\n\u001b[0;31m    select salary from emp order by salary desc limit 3;\u001b[0m\n\u001b[0m           ^\u001b[0m\n\u001b[0;31mSyntaxError\u001b[0m\u001b[0;31m:\u001b[0m invalid syntax\n"
     ]
    }
   ],
   "source": [
    "select salary from emp order by salary desc limit 3;"
   ]
  },
  {
   "cell_type": "code",
   "execution_count": null,
   "id": "93811fc6",
   "metadata": {},
   "outputs": [],
   "source": [
    "offset"
   ]
  },
  {
   "cell_type": "code",
   "execution_count": null,
   "id": "56f4f6b7",
   "metadata": {},
   "outputs": [],
   "source": [
    "select * from emp where  join(dept)"
   ]
  },
  {
   "cell_type": "code",
   "execution_count": null,
   "id": "b43cb496",
   "metadata": {},
   "outputs": [],
   "source": [
    "session.query(emp).filter(emp.id=dept.id).rightjoin(emp,dept).first()"
   ]
  },
  {
   "cell_type": "code",
   "execution_count": null,
   "id": "b960bc9e",
   "metadata": {},
   "outputs": [],
   "source": []
  },
  {
   "cell_type": "code",
   "execution_count": null,
   "id": "0ba8eb6f",
   "metadata": {},
   "outputs": [],
   "source": []
  },
  {
   "cell_type": "code",
   "execution_count": null,
   "id": "7584c6d9",
   "metadata": {},
   "outputs": [],
   "source": []
  },
  {
   "cell_type": "code",
   "execution_count": null,
   "id": "502b0584",
   "metadata": {},
   "outputs": [],
   "source": []
  },
  {
   "cell_type": "code",
   "execution_count": null,
   "id": "dfd96074",
   "metadata": {},
   "outputs": [],
   "source": []
  },
  {
   "cell_type": "code",
   "execution_count": null,
   "id": "5de4739c",
   "metadata": {},
   "outputs": [],
   "source": []
  }
 ],
 "metadata": {
  "kernelspec": {
   "display_name": "Python 3 (ipykernel)",
   "language": "python",
   "name": "python3"
  },
  "language_info": {
   "codemirror_mode": {
    "name": "ipython",
    "version": 3
   },
   "file_extension": ".py",
   "mimetype": "text/x-python",
   "name": "python",
   "nbconvert_exporter": "python",
   "pygments_lexer": "ipython3",
   "version": "3.8.10"
  }
 },
 "nbformat": 4,
 "nbformat_minor": 5
}

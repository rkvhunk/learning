{
 "cells": [
  {
   "cell_type": "code",
   "execution_count": 22,
   "id": "216b2ec2",
   "metadata": {},
   "outputs": [],
   "source": [
    "data = {'NER': {'data': [{'annotation': {'annotation': 'Buyer_Name', 'end_position': [6], 'page_no': '1', 'score': ['0.37638536'], 'sentence_no': '9', 'starting_index': [0], 'unique_id': 'd0840592-90e2-49f6-9422-a86728347338', 'word': 'Гифоник', 'word_index': [0], 'word_list': ['Гифоник']}, 'attribute_list': [], 'attribute_name': 'Buyer_Name', 'attribute_type': 'global', 'order': 1, 'value': 'Гифоник'}, {'annotation': {'annotation': 'GST', 'end_position': [14], 'page_no': '1', 'score': ['0.91135204'], 'sentence_no': '40', 'starting_index': [9], 'unique_id': '2d3bd17b-e6b6-4e5d-9664-6d020ca19168', 'word': '448.00', 'word_index': [4], 'word_list': ['448.00']}, 'attribute_list': [], 'attribute_name': 'GST', 'attribute_type': 'global', 'order': 2, 'value': '448.00'}, {'annotation': {'annotation': 'Invoice_Amount_With_GST', 'end_position': [12], 'page_no': '1', 'score': ['0.53435355'], 'sentence_no': '41', 'starting_index': [5], 'unique_id': 'c1476dfe-556c-499d-917e-f4b719604e4f', 'word': '6,848.00', 'word_index': [2], 'word_list': ['6,848.00']}, 'attribute_list': [], 'attribute_name': 'Invoice_Amount_With_GST', 'attribute_type': 'global', 'order': 3, 'value': '6,848.00'}, {'annotation': {'annotation': 'Invoice_Amount_Without_GST', 'end_position': [36], 'page_no': '1', 'score': ['0.9999982'], 'sentence_no': '39', 'starting_index': [29], 'unique_id': '3a7edcfa-661a-4c19-ab6a-ca0ea8d34fce', 'word': '6,400.00', 'word_index': [12], 'word_list': ['6,400.00']}, 'attribute_list': [], 'attribute_name': 'Invoice_Amount_Without_GST', 'attribute_type': 'global', 'order': 4, 'value': '6,400.00'}, {'annotation': {'annotation': 'Invoice_Date', 'end_position': [23, 24, 26, 27, 31], 'page_no': '1', 'score': ['0.9999864', '0.9971521', '0.99538356', '0.99380684', '0.99988806'], 'sentence_no': '11', 'starting_index': [22, 24, 25, 27, 28], 'unique_id': 'cfab2667-6519-47a0-84d3-ed72974ccc92', 'word': '13/06/2020', 'word_index': [6, 7, 8, 9, 10], 'word_list': ['13', '/', '06', '/', '2020']}, 'attribute_list': [], 'attribute_name': 'Invoice_Date', 'attribute_type': 'global', 'order': 5, 'value': '13/06/2020'}, {'annotation': {'annotation': 'Invoice_Number', 'end_position': [31], 'page_no': '1', 'score': ['0.99805754'], 'sentence_no': '8', 'starting_index': [28], 'unique_id': '2bd36f25-e052-4451-a301-0ee0494cad70', 'word': '3026', 'word_index': [8], 'word_list': ['3026']}, 'attribute_list': [], 'attribute_name': 'Invoice_Number', 'attribute_type': 'global', 'order': 6, 'value': '3026'}, {'annotation': {'annotation': 'PO_Number', 'end_position': [6, 7, 9], 'page_no': '1', 'score': ['0.84468335', '0.92139363', '0'], 'sentence_no': '15', 'starting_index': [0, 7, 8], 'unique_id': 'b4e04bfc-326f-44c8-b862-a31c42d8f798', 'word': '3XT0276-21', 'word_index': [0, 1, 2], 'word_list': ['3XT0276', '-', '21']}, 'attribute_list': [], 'attribute_name': 'PO_Number', 'attribute_type': 'global', 'order': 7, 'value': '3XT0276-21'}, {'annotation': {'annotation': 'Seller_Name', 'end_position': [3, 11, 16, 23, 27], 'page_no': '1', 'score': ['0.54601485', '0.9126061', '0.92311174', '0.85509235', '0'], 'sentence_no': '1', 'starting_index': [0, 5, 13, 18, 25], 'unique_id': 'b73b3351-3637-40a4-a591-526d3cad7884', 'word': 'Олон нийтийн тайз хувийн ХХК', 'word_index': [0, 2, 4, 6, 8], 'word_list': ['Олон', 'нийтийн', 'тайз', 'хувийн', 'ХХК']}, 'attribute_list': [], 'attribute_name': 'Seller_Name', 'attribute_type': 'global', 'order': 8, 'value': 'Олон нийтийн тайз хувийн ХХК'}, {'annotation': {'annotation': 'Seller_Name', 'end_position': [13, 17], 'page_no': '1', 'score': ['0.48132882', '0'], 'sentence_no': '9', 'starting_index': [8, 15], 'unique_id': 'd0840592-90e2-49f6-9422-a86728347338', 'word': 'хувийн ХХК', 'word_index': [2, 4], 'word_list': ['хувийн', 'ХХК']}, 'attribute_list': [], 'attribute_name': 'Seller_Name', 'attribute_type': 'global', 'order': 8, 'value': 'хувийн ХХК'}]}}"
   ]
  },
  {
   "cell_type": "code",
   "execution_count": 69,
   "id": "85b287a4",
   "metadata": {},
   "outputs": [],
   "source": [
    "each_file_data = {\"Rule_based_extraction\": {\"generic\": [{\"attribute_value\": [{\"value\": \"\\n10104\", \"page_no\": 1, \"match\": 100, \"starting_index\": [\"391\"], \"end_position\": [\"396\"], \"score\": [\"100.0\"], \"word_index\": [55], \"sentence_no\": \"3\", \"sentence_data\": [2, \"Box 5126 \\nCincinnati, OH 45201-5126 \\nPlease send remittance to: \\nStart 2 Finish \\n30 West Third Street, Suite 4M \\nCincinnati, Ohio 45202 \\nINVOICE \\n10104 \\nPAYMENT TERMS \\tAMOUNT DUE \\nNet 90 \\t$16,657.00 \\nINVOICE DATE \\tCUSTOMER ID \\n1/04/2018 \\t350004 \\nJOB NUMBER \\n6500980004 \\nPage 1 of 1 \\nJOB Procter & Gamble GO \\nSITE: 301 East 6th Street \\nCincinnati, OH 45202 \\nJOB LOCATION: P&G - DO \\nCONTRACT NUMBER: 50080004 \\nCONTRACT DESCRIPTION: Projector \\nJohn Rail \\nQUANTITY DESCRIPTION \\nAMOUNT\"]}], \"attribute_name\": \"Invoice_Number\"}, {\"attribute_value\": [{\"value\": \" \\n1/04/2018\", \"page_no\": 1, \"match\": 100, \"starting_index\": [\"472\"], \"end_position\": [\"481\"], \"score\": [\"100.0\"], \"word_index\": [87], \"sentence_no\": \"3\", \"sentence_data\": [2, \"Box 5126 \\nCincinnati, OH 45201-5126 \\nPlease send remittance to: \\nStart 2 Finish \\n30 West Third Street, Suite 4M \\nCincinnati, Ohio 45202 \\nINVOICE \\n10104 \\nPAYMENT TERMS \\tAMOUNT DUE \\nNet 90 \\t$16,657.00 \\nINVOICE DATE \\tCUSTOMER ID \\n1/04/2018 \\t350004 \\nJOB NUMBER \\n6500980004 \\nPage 1 of 1 \\nJOB Procter & Gamble GO \\nSITE: 301 East 6th Street \\nCincinnati, OH 45202 \\nJOB LOCATION: P&G - DO \\nCONTRACT NUMBER: 50080004 \\nCONTRACT DESCRIPTION: Projector \\nJohn Rail \\nQUANTITY DESCRIPTION \\nAMOUNT\"]}], \"attribute_name\": \"Invoice_Date\"}, {\"attribute_value\": [{\"value\": \"\\t$16,657.00\", \"page_no\": 2, \"match\": 100, \"starting_index\": [\"433\"], \"end_position\": [\"443\"], \"score\": [\"100.0\"], \"word_index\": [33, 34], \"sentence_no\": \"1\", \"sentence_data\": [0, \"2 \\tLaptop \\t15,685.65 \\nTOTAL SALES: \\t15,685.65 \\nSALES TAX: \\t971.35 \\nINVOICE AMOUNT: \\t$16,657.00 \\nADDITIONAL BILLING INFORMATION: \\nProvide labor, material and equipment to replace (1) piece of projector with user \\nmanual.\"]}], \"attribute_name\": \"Invoice_Amount\"}, {\"attribute_value\": [{\"value\": \"\\n6500980004\", \"page_no\": 1, \"match\": 100, \"starting_index\": [\"503\"], \"end_position\": [\"513\"], \"score\": [\"100.0\"], \"word_index\": [98], \"sentence_no\": \"3\", \"sentence_data\": [2, \"Box 5126 \\nCincinnati, OH 45201-5126 \\nPlease send remittance to: \\nStart 2 Finish \\n30 West Third Street, Suite 4M \\nCincinnati, Ohio 45202 \\nINVOICE \\n10104 \\nPAYMENT TERMS \\tAMOUNT DUE \\nNet 90 \\t$16,657.00 \\nINVOICE DATE \\tCUSTOMER ID \\n1/04/2018 \\t350004 \\nJOB NUMBER \\n6500980004 \\nPage 1 of 1 \\nJOB Procter & Gamble GO \\nSITE: 301 East 6th Street \\nCincinnati, OH 45202 \\nJOB LOCATION: P&G - DO \\nCONTRACT NUMBER: 50080004 \\nCONTRACT DESCRIPTION: Projector \\nJohn Rail \\nQUANTITY DESCRIPTION \\nAMOUNT\"]}], \"attribute_name\": \"Job_Number\"}]}}"
   ]
  },
  {
   "cell_type": "code",
   "execution_count": 71,
   "id": "b19a2177",
   "metadata": {},
   "outputs": [
    {
     "data": {
      "text/plain": [
       "'rule_based_extraction'"
      ]
     },
     "execution_count": 71,
     "metadata": {},
     "output_type": "execute_result"
    }
   ],
   "source": [
    "list(each_file_data.keys())[0].lower()"
   ]
  },
  {
   "cell_type": "code",
   "execution_count": 89,
   "id": "18a0b8f5",
   "metadata": {},
   "outputs": [],
   "source": [
    "final_data = {'NER': {'data': [{'annotation': {'annotation': 'Buyer_Name', 'end_position': [6], 'page_no': '1', 'score': ['0.37638536'], 'sentence_no': '9', 'starting_index': [0], 'unique_id': 'd0840592-90e2-49f6-9422-a86728347338', 'word': 'Гифоник', 'word_index': [0], 'word_list': ['Гифоник']}, 'attribute_list': [], 'attribute_name': 'Buyer_Name', 'attribute_type': 'global', 'order': 1, 'value': 'Гифоник'}, {'annotation': {'annotation': 'GST', 'end_position': [14], 'page_no': '1', 'score': ['0.91135204'], 'sentence_no': '40', 'starting_index': [9], 'unique_id': '2d3bd17b-e6b6-4e5d-9664-6d020ca19168', 'word': '448.00', 'word_index': [4], 'word_list': ['448.00']}, 'attribute_list': [], 'attribute_name': 'GST', 'attribute_type': 'global', 'order': 2, 'value': '448.00'}, {'annotation': {'annotation': 'Invoice_Amount_With_GST', 'end_position': [12], 'page_no': '1', 'score': ['0.53435355'], 'sentence_no': '41', 'starting_index': [5], 'unique_id': 'c1476dfe-556c-499d-917e-f4b719604e4f', 'word': '6,848.00', 'word_index': [2], 'word_list': ['6,848.00']}, 'attribute_list': [], 'attribute_name': 'Invoice_Amount_With_GST', 'attribute_type': 'global', 'order': 3, 'value': '6,848.00'}, {'annotation': {'annotation': 'Invoice_Amount_Without_GST', 'end_position': [36], 'page_no': '1', 'score': ['0.9999982'], 'sentence_no': '39', 'starting_index': [29], 'unique_id': '3a7edcfa-661a-4c19-ab6a-ca0ea8d34fce', 'word': '6,400.00', 'word_index': [12], 'word_list': ['6,400.00']}, 'attribute_list': [], 'attribute_name': 'Invoice_Amount_Without_GST', 'attribute_type': 'global', 'order': 4, 'value': '6,400.00'}, {'annotation': {'annotation': 'Invoice_Date', 'end_position': [23, 24, 26, 27, 31], 'page_no': '1', 'score': ['0.9999864', '0.9971521', '0.99538356', '0.99380684', '0.99988806'], 'sentence_no': '11', 'starting_index': [22, 24, 25, 27, 28], 'unique_id': 'cfab2667-6519-47a0-84d3-ed72974ccc92', 'word': '13/06/2020', 'word_index': [6, 7, 8, 9, 10], 'word_list': ['13', '/', '06', '/', '2020']}, 'attribute_list': [], 'attribute_name': 'Invoice_Date', 'attribute_type': 'global', 'order': 5, 'value': '13/06/2020'}, {'annotation': {'annotation': 'Invoice_Number', 'end_position': [31], 'page_no': '1', 'score': ['0.99805754'], 'sentence_no': '8', 'starting_index': [28], 'unique_id': '2bd36f25-e052-4451-a301-0ee0494cad70', 'word': '3026', 'word_index': [8], 'word_list': ['3026']}, 'attribute_list': [], 'attribute_name': 'Invoice_Number', 'attribute_type': 'global', 'order': 6, 'value': '3026'}, {'annotation': {'annotation': 'PO_Number', 'end_position': [6, 7, 9], 'page_no': '1', 'score': ['0.84468335', '0.92139363', '0'], 'sentence_no': '15', 'starting_index': [0, 7, 8], 'unique_id': 'b4e04bfc-326f-44c8-b862-a31c42d8f798', 'word': '3XT0276-21', 'word_index': [0, 1, 2], 'word_list': ['3XT0276', '-', '21']}, 'attribute_list': [], 'attribute_name': 'PO_Number', 'attribute_type': 'global', 'order': 7, 'value': '3XT0276-21'}, {'annotation': {'annotation': 'Seller_Name', 'end_position': [3, 11, 16, 23, 27], 'page_no': '1', 'score': ['0.54601485', '0.9126061', '0.92311174', '0.85509235', '0'], 'sentence_no': '1', 'starting_index': [0, 5, 13, 18, 25], 'unique_id': 'b73b3351-3637-40a4-a591-526d3cad7884', 'word': 'Олон нийтийн тайз хувийн ХХК', 'word_index': [0, 2, 4, 6, 8], 'word_list': ['Олон', 'нийтийн', 'тайз', 'хувийн', 'ХХК']}, 'attribute_list': [], 'attribute_name': 'Seller_Name', 'attribute_type': 'global', 'order': 8, 'value': 'Олон нийтийн тайз хувийн ХХК'}, {'annotation': {'annotation': 'Seller_Name', 'end_position': [13, 17], 'page_no': '1', 'score': ['0.48132882', '0'], 'sentence_no': '9', 'starting_index': [8, 15], 'unique_id': 'd0840592-90e2-49f6-9422-a86728347338', 'word': 'хувийн ХХК', 'word_index': [2, 4], 'word_list': ['хувийн', 'ХХК']}, 'attribute_list': [], 'attribute_name': 'Seller_Name', 'attribute_type': 'global', 'order': 8, 'value': 'хувийн ХХК'}]}}"
   ]
  },
  {
   "cell_type": "code",
   "execution_count": 106,
   "id": "6bdbcc00",
   "metadata": {},
   "outputs": [
    {
     "name": "stdout",
     "output_type": "stream",
     "text": [
      "{'Buyer_Name': 'Гифоник', 'GST': '448.00', 'Invoice_Amount_With_GST': '6,848.00', 'Invoice_Amount_Without_GST': '6,400.00', 'Invoice_Date': '13/06/2020', 'Invoice_Number': '3026', 'PO_Number': '3XT0276-21', 'Seller_Name': 'Олон нийтийн тайз хувийн ХХК,хувийн ХХК'}\n"
     ]
    }
   ],
   "source": [
    "final_dict = {}\n",
    "for cong_values in final_data['NER']['data']:\n",
    "    \n",
    "    for key, value in cong_values.items():\n",
    "        if key == 'attribute_name':\n",
    "            if value in final_dict.keys():\n",
    "                final_dict[value] += f',{cong_values[\"value\"]}'\n",
    "            else:\n",
    "                final_dict[value] = cong_values['value']\n",
    "print(final_dict)"
   ]
  },
  {
   "cell_type": "code",
   "execution_count": null,
   "id": "e559a698",
   "metadata": {},
   "outputs": [],
   "source": []
  },
  {
   "cell_type": "code",
   "execution_count": 109,
   "id": "e5434298",
   "metadata": {},
   "outputs": [],
   "source": [
    "final_RBE = {\"Rule_based_extraction\": {\"generic\": [{\"attribute_value\": [{\"value\": \"\\n10104\", \"page_no\": 1, \"match\": 100, \"starting_index\": [\"391\"], \"end_position\": [\"396\"], \"score\": [\"100.0\"], \"word_index\": [55], \"sentence_no\": \"3\", \"sentence_data\": [2, \"Box 5126 \\nCincinnati, OH 45201-5126 \\nPlease send remittance to: \\nStart 2 Finish \\n30 West Third Street, Suite 4M \\nCincinnati, Ohio 45202 \\nINVOICE \\n10104 \\nPAYMENT TERMS \\tAMOUNT DUE \\nNet 90 \\t$16,657.00 \\nINVOICE DATE \\tCUSTOMER ID \\n1/04/2018 \\t350004 \\nJOB NUMBER \\n6500980004 \\nPage 1 of 1 \\nJOB Procter & Gamble GO \\nSITE: 301 East 6th Street \\nCincinnati, OH 45202 \\nJOB LOCATION: P&G - DO \\nCONTRACT NUMBER: 50080004 \\nCONTRACT DESCRIPTION: Projector \\nJohn Rail \\nQUANTITY DESCRIPTION \\nAMOUNT\"]}], \"attribute_name\": \"Invoice_Number\"}, {\"attribute_value\": [{\"value\": \" \\n1/04/2018\", \"page_no\": 1, \"match\": 100, \"starting_index\": [\"472\"], \"end_position\": [\"481\"], \"score\": [\"100.0\"], \"word_index\": [87], \"sentence_no\": \"3\", \"sentence_data\": [2, \"Box 5126 \\nCincinnati, OH 45201-5126 \\nPlease send remittance to: \\nStart 2 Finish \\n30 West Third Street, Suite 4M \\nCincinnati, Ohio 45202 \\nINVOICE \\n10104 \\nPAYMENT TERMS \\tAMOUNT DUE \\nNet 90 \\t$16,657.00 \\nINVOICE DATE \\tCUSTOMER ID \\n1/04/2018 \\t350004 \\nJOB NUMBER \\n6500980004 \\nPage 1 of 1 \\nJOB Procter & Gamble GO \\nSITE: 301 East 6th Street \\nCincinnati, OH 45202 \\nJOB LOCATION: P&G - DO \\nCONTRACT NUMBER: 50080004 \\nCONTRACT DESCRIPTION: Projector \\nJohn Rail \\nQUANTITY DESCRIPTION \\nAMOUNT\"]}], \"attribute_name\": \"Invoice_Date\"}, {\"attribute_value\": [{\"value\": \"\\t$16,657.00\", \"page_no\": 2, \"match\": 100, \"starting_index\": [\"433\"], \"end_position\": [\"443\"], \"score\": [\"100.0\"], \"word_index\": [33, 34], \"sentence_no\": \"1\", \"sentence_data\": [0, \"2 \\tLaptop \\t15,685.65 \\nTOTAL SALES: \\t15,685.65 \\nSALES TAX: \\t971.35 \\nINVOICE AMOUNT: \\t$16,657.00 \\nADDITIONAL BILLING INFORMATION: \\nProvide labor, material and equipment to replace (1) piece of projector with user \\nmanual.\"]}], \"attribute_name\": \"Invoice_Amount\"}, {\"attribute_value\": [{\"value\": \"\\n6500980004\", \"page_no\": 1, \"match\": 100, \"starting_index\": [\"503\"], \"end_position\": [\"513\"], \"score\": [\"100.0\"], \"word_index\": [98], \"sentence_no\": \"3\", \"sentence_data\": [2, \"Box 5126 \\nCincinnati, OH 45201-5126 \\nPlease send remittance to: \\nStart 2 Finish \\n30 West Third Street, Suite 4M \\nCincinnati, Ohio 45202 \\nINVOICE \\n10104 \\nPAYMENT TERMS \\tAMOUNT DUE \\nNet 90 \\t$16,657.00 \\nINVOICE DATE \\tCUSTOMER ID \\n1/04/2018 \\t350004 \\nJOB NUMBER \\n6500980004 \\nPage 1 of 1 \\nJOB Procter & Gamble GO \\nSITE: 301 East 6th Street \\nCincinnati, OH 45202 \\nJOB LOCATION: P&G - DO \\nCONTRACT NUMBER: 50080004 \\nCONTRACT DESCRIPTION: Projector \\nJohn Rail \\nQUANTITY DESCRIPTION \\nAMOUNT\"]}], \"attribute_name\": \"Job_Number\"}]}}"
   ]
  },
  {
   "cell_type": "code",
   "execution_count": 112,
   "id": "cb0590cf",
   "metadata": {
    "scrolled": true
   },
   "outputs": [
    {
     "data": {
      "text/plain": [
       "[{'attribute_value': [{'value': '\\n10104',\n",
       "    'page_no': 1,\n",
       "    'match': 100,\n",
       "    'starting_index': ['391'],\n",
       "    'end_position': ['396'],\n",
       "    'score': ['100.0'],\n",
       "    'word_index': [55],\n",
       "    'sentence_no': '3',\n",
       "    'sentence_data': [2,\n",
       "     'Box 5126 \\nCincinnati, OH 45201-5126 \\nPlease send remittance to: \\nStart 2 Finish \\n30 West Third Street, Suite 4M \\nCincinnati, Ohio 45202 \\nINVOICE \\n10104 \\nPAYMENT TERMS \\tAMOUNT DUE \\nNet 90 \\t$16,657.00 \\nINVOICE DATE \\tCUSTOMER ID \\n1/04/2018 \\t350004 \\nJOB NUMBER \\n6500980004 \\nPage 1 of 1 \\nJOB Procter & Gamble GO \\nSITE: 301 East 6th Street \\nCincinnati, OH 45202 \\nJOB LOCATION: P&G - DO \\nCONTRACT NUMBER: 50080004 \\nCONTRACT DESCRIPTION: Projector \\nJohn Rail \\nQUANTITY DESCRIPTION \\nAMOUNT']}],\n",
       "  'attribute_name': 'Invoice_Number'},\n",
       " {'attribute_value': [{'value': ' \\n1/04/2018',\n",
       "    'page_no': 1,\n",
       "    'match': 100,\n",
       "    'starting_index': ['472'],\n",
       "    'end_position': ['481'],\n",
       "    'score': ['100.0'],\n",
       "    'word_index': [87],\n",
       "    'sentence_no': '3',\n",
       "    'sentence_data': [2,\n",
       "     'Box 5126 \\nCincinnati, OH 45201-5126 \\nPlease send remittance to: \\nStart 2 Finish \\n30 West Third Street, Suite 4M \\nCincinnati, Ohio 45202 \\nINVOICE \\n10104 \\nPAYMENT TERMS \\tAMOUNT DUE \\nNet 90 \\t$16,657.00 \\nINVOICE DATE \\tCUSTOMER ID \\n1/04/2018 \\t350004 \\nJOB NUMBER \\n6500980004 \\nPage 1 of 1 \\nJOB Procter & Gamble GO \\nSITE: 301 East 6th Street \\nCincinnati, OH 45202 \\nJOB LOCATION: P&G - DO \\nCONTRACT NUMBER: 50080004 \\nCONTRACT DESCRIPTION: Projector \\nJohn Rail \\nQUANTITY DESCRIPTION \\nAMOUNT']}],\n",
       "  'attribute_name': 'Invoice_Date'},\n",
       " {'attribute_value': [{'value': '\\t$16,657.00',\n",
       "    'page_no': 2,\n",
       "    'match': 100,\n",
       "    'starting_index': ['433'],\n",
       "    'end_position': ['443'],\n",
       "    'score': ['100.0'],\n",
       "    'word_index': [33, 34],\n",
       "    'sentence_no': '1',\n",
       "    'sentence_data': [0,\n",
       "     '2 \\tLaptop \\t15,685.65 \\nTOTAL SALES: \\t15,685.65 \\nSALES TAX: \\t971.35 \\nINVOICE AMOUNT: \\t$16,657.00 \\nADDITIONAL BILLING INFORMATION: \\nProvide labor, material and equipment to replace (1) piece of projector with user \\nmanual.']}],\n",
       "  'attribute_name': 'Invoice_Amount'},\n",
       " {'attribute_value': [{'value': '\\n6500980004',\n",
       "    'page_no': 1,\n",
       "    'match': 100,\n",
       "    'starting_index': ['503'],\n",
       "    'end_position': ['513'],\n",
       "    'score': ['100.0'],\n",
       "    'word_index': [98],\n",
       "    'sentence_no': '3',\n",
       "    'sentence_data': [2,\n",
       "     'Box 5126 \\nCincinnati, OH 45201-5126 \\nPlease send remittance to: \\nStart 2 Finish \\n30 West Third Street, Suite 4M \\nCincinnati, Ohio 45202 \\nINVOICE \\n10104 \\nPAYMENT TERMS \\tAMOUNT DUE \\nNet 90 \\t$16,657.00 \\nINVOICE DATE \\tCUSTOMER ID \\n1/04/2018 \\t350004 \\nJOB NUMBER \\n6500980004 \\nPage 1 of 1 \\nJOB Procter & Gamble GO \\nSITE: 301 East 6th Street \\nCincinnati, OH 45202 \\nJOB LOCATION: P&G - DO \\nCONTRACT NUMBER: 50080004 \\nCONTRACT DESCRIPTION: Projector \\nJohn Rail \\nQUANTITY DESCRIPTION \\nAMOUNT']}],\n",
       "  'attribute_name': 'Job_Number'}]"
      ]
     },
     "execution_count": 112,
     "metadata": {},
     "output_type": "execute_result"
    }
   ],
   "source": [
    "final_RBE['Rule_based_extraction']['generic']"
   ]
  },
  {
   "cell_type": "code",
   "execution_count": null,
   "id": "10d4f477",
   "metadata": {},
   "outputs": [],
   "source": []
  },
  {
   "cell_type": "code",
   "execution_count": null,
   "id": "c0031237",
   "metadata": {},
   "outputs": [],
   "source": []
  },
  {
   "cell_type": "code",
   "execution_count": 122,
   "id": "297d45fa",
   "metadata": {},
   "outputs": [
    {
     "name": "stdout",
     "output_type": "stream",
     "text": [
      "{'Invoice_Number': '\\n10104', 'Invoice_Date': ' \\n1/04/2018', 'Invoice_Amount': '\\t$16,657.00', 'Job_Number': '\\n6500980004'}\n"
     ]
    }
   ],
   "source": [
    "final_dict = {}\n",
    "for cong_values in final_RBE['Rule_based_extraction']['generic']:\n",
    "    for key, value in cong_values.items():\n",
    "        if key == 'attribute_name':\n",
    "            if value in final_dict.keys():\n",
    "                final_dict[value] += f',{cong_values[\"attribute_value\"][0][\"value\"]}'\n",
    "            else:\n",
    "                final_dict[value] = cong_values[\"attribute_value\"][0][\"value\"]\n",
    "print(final_dict)"
   ]
  },
  {
   "cell_type": "code",
   "execution_count": 124,
   "id": "1da3aa90",
   "metadata": {},
   "outputs": [],
   "source": [
    "import pandas as pd"
   ]
  },
  {
   "cell_type": "code",
   "execution_count": 125,
   "id": "554d9ef3",
   "metadata": {},
   "outputs": [
    {
     "ename": "UnicodeDecodeError",
     "evalue": "'utf-8' codec can't decode byte 0xff in position 0: invalid start byte",
     "output_type": "error",
     "traceback": [
      "\u001b[0;31m---------------------------------------------------------------------------\u001b[0m",
      "\u001b[0;31mUnicodeDecodeError\u001b[0m                        Traceback (most recent call last)",
      "Input \u001b[0;32mIn [125]\u001b[0m, in \u001b[0;36m<module>\u001b[0;34m\u001b[0m\n\u001b[0;32m----> 1\u001b[0m df \u001b[38;5;241m=\u001b[39m \u001b[43mpd\u001b[49m\u001b[38;5;241;43m.\u001b[39;49m\u001b[43mread_csv\u001b[49m\u001b[43m(\u001b[49m\u001b[38;5;124;43mr\u001b[39;49m\u001b[38;5;124;43m'\u001b[39;49m\u001b[38;5;124;43m/home/rahulkumar/Downloads/Invoice - Target Language (32)/Downloaded Data Before QC/invoice_7_1_1a15b9fa-882f-44e4-a6c0-f26246f7f6c1_Before_QC_Data_NER.csv\u001b[39;49m\u001b[38;5;124;43m'\u001b[39;49m\u001b[43m)\u001b[49m\n",
      "File \u001b[0;32m~/.local/lib/python3.8/site-packages/pandas/util/_decorators.py:311\u001b[0m, in \u001b[0;36mdeprecate_nonkeyword_arguments.<locals>.decorate.<locals>.wrapper\u001b[0;34m(*args, **kwargs)\u001b[0m\n\u001b[1;32m    305\u001b[0m \u001b[38;5;28;01mif\u001b[39;00m \u001b[38;5;28mlen\u001b[39m(args) \u001b[38;5;241m>\u001b[39m num_allow_args:\n\u001b[1;32m    306\u001b[0m     warnings\u001b[38;5;241m.\u001b[39mwarn(\n\u001b[1;32m    307\u001b[0m         msg\u001b[38;5;241m.\u001b[39mformat(arguments\u001b[38;5;241m=\u001b[39marguments),\n\u001b[1;32m    308\u001b[0m         \u001b[38;5;167;01mFutureWarning\u001b[39;00m,\n\u001b[1;32m    309\u001b[0m         stacklevel\u001b[38;5;241m=\u001b[39mstacklevel,\n\u001b[1;32m    310\u001b[0m     )\n\u001b[0;32m--> 311\u001b[0m \u001b[38;5;28;01mreturn\u001b[39;00m \u001b[43mfunc\u001b[49m\u001b[43m(\u001b[49m\u001b[38;5;241;43m*\u001b[39;49m\u001b[43margs\u001b[49m\u001b[43m,\u001b[49m\u001b[43m \u001b[49m\u001b[38;5;241;43m*\u001b[39;49m\u001b[38;5;241;43m*\u001b[39;49m\u001b[43mkwargs\u001b[49m\u001b[43m)\u001b[49m\n",
      "File \u001b[0;32m~/.local/lib/python3.8/site-packages/pandas/io/parsers/readers.py:680\u001b[0m, in \u001b[0;36mread_csv\u001b[0;34m(filepath_or_buffer, sep, delimiter, header, names, index_col, usecols, squeeze, prefix, mangle_dupe_cols, dtype, engine, converters, true_values, false_values, skipinitialspace, skiprows, skipfooter, nrows, na_values, keep_default_na, na_filter, verbose, skip_blank_lines, parse_dates, infer_datetime_format, keep_date_col, date_parser, dayfirst, cache_dates, iterator, chunksize, compression, thousands, decimal, lineterminator, quotechar, quoting, doublequote, escapechar, comment, encoding, encoding_errors, dialect, error_bad_lines, warn_bad_lines, on_bad_lines, delim_whitespace, low_memory, memory_map, float_precision, storage_options)\u001b[0m\n\u001b[1;32m    665\u001b[0m kwds_defaults \u001b[38;5;241m=\u001b[39m _refine_defaults_read(\n\u001b[1;32m    666\u001b[0m     dialect,\n\u001b[1;32m    667\u001b[0m     delimiter,\n\u001b[0;32m   (...)\u001b[0m\n\u001b[1;32m    676\u001b[0m     defaults\u001b[38;5;241m=\u001b[39m{\u001b[38;5;124m\"\u001b[39m\u001b[38;5;124mdelimiter\u001b[39m\u001b[38;5;124m\"\u001b[39m: \u001b[38;5;124m\"\u001b[39m\u001b[38;5;124m,\u001b[39m\u001b[38;5;124m\"\u001b[39m},\n\u001b[1;32m    677\u001b[0m )\n\u001b[1;32m    678\u001b[0m kwds\u001b[38;5;241m.\u001b[39mupdate(kwds_defaults)\n\u001b[0;32m--> 680\u001b[0m \u001b[38;5;28;01mreturn\u001b[39;00m \u001b[43m_read\u001b[49m\u001b[43m(\u001b[49m\u001b[43mfilepath_or_buffer\u001b[49m\u001b[43m,\u001b[49m\u001b[43m \u001b[49m\u001b[43mkwds\u001b[49m\u001b[43m)\u001b[49m\n",
      "File \u001b[0;32m~/.local/lib/python3.8/site-packages/pandas/io/parsers/readers.py:575\u001b[0m, in \u001b[0;36m_read\u001b[0;34m(filepath_or_buffer, kwds)\u001b[0m\n\u001b[1;32m    572\u001b[0m _validate_names(kwds\u001b[38;5;241m.\u001b[39mget(\u001b[38;5;124m\"\u001b[39m\u001b[38;5;124mnames\u001b[39m\u001b[38;5;124m\"\u001b[39m, \u001b[38;5;28;01mNone\u001b[39;00m))\n\u001b[1;32m    574\u001b[0m \u001b[38;5;66;03m# Create the parser.\u001b[39;00m\n\u001b[0;32m--> 575\u001b[0m parser \u001b[38;5;241m=\u001b[39m \u001b[43mTextFileReader\u001b[49m\u001b[43m(\u001b[49m\u001b[43mfilepath_or_buffer\u001b[49m\u001b[43m,\u001b[49m\u001b[43m \u001b[49m\u001b[38;5;241;43m*\u001b[39;49m\u001b[38;5;241;43m*\u001b[39;49m\u001b[43mkwds\u001b[49m\u001b[43m)\u001b[49m\n\u001b[1;32m    577\u001b[0m \u001b[38;5;28;01mif\u001b[39;00m chunksize \u001b[38;5;129;01mor\u001b[39;00m iterator:\n\u001b[1;32m    578\u001b[0m     \u001b[38;5;28;01mreturn\u001b[39;00m parser\n",
      "File \u001b[0;32m~/.local/lib/python3.8/site-packages/pandas/io/parsers/readers.py:933\u001b[0m, in \u001b[0;36mTextFileReader.__init__\u001b[0;34m(self, f, engine, **kwds)\u001b[0m\n\u001b[1;32m    930\u001b[0m     \u001b[38;5;28mself\u001b[39m\u001b[38;5;241m.\u001b[39moptions[\u001b[38;5;124m\"\u001b[39m\u001b[38;5;124mhas_index_names\u001b[39m\u001b[38;5;124m\"\u001b[39m] \u001b[38;5;241m=\u001b[39m kwds[\u001b[38;5;124m\"\u001b[39m\u001b[38;5;124mhas_index_names\u001b[39m\u001b[38;5;124m\"\u001b[39m]\n\u001b[1;32m    932\u001b[0m \u001b[38;5;28mself\u001b[39m\u001b[38;5;241m.\u001b[39mhandles: IOHandles \u001b[38;5;241m|\u001b[39m \u001b[38;5;28;01mNone\u001b[39;00m \u001b[38;5;241m=\u001b[39m \u001b[38;5;28;01mNone\u001b[39;00m\n\u001b[0;32m--> 933\u001b[0m \u001b[38;5;28mself\u001b[39m\u001b[38;5;241m.\u001b[39m_engine \u001b[38;5;241m=\u001b[39m \u001b[38;5;28;43mself\u001b[39;49m\u001b[38;5;241;43m.\u001b[39;49m\u001b[43m_make_engine\u001b[49m\u001b[43m(\u001b[49m\u001b[43mf\u001b[49m\u001b[43m,\u001b[49m\u001b[43m \u001b[49m\u001b[38;5;28;43mself\u001b[39;49m\u001b[38;5;241;43m.\u001b[39;49m\u001b[43mengine\u001b[49m\u001b[43m)\u001b[49m\n",
      "File \u001b[0;32m~/.local/lib/python3.8/site-packages/pandas/io/parsers/readers.py:1235\u001b[0m, in \u001b[0;36mTextFileReader._make_engine\u001b[0;34m(self, f, engine)\u001b[0m\n\u001b[1;32m   1232\u001b[0m     \u001b[38;5;28;01mraise\u001b[39;00m \u001b[38;5;167;01mValueError\u001b[39;00m(msg)\n\u001b[1;32m   1234\u001b[0m \u001b[38;5;28;01mtry\u001b[39;00m:\n\u001b[0;32m-> 1235\u001b[0m     \u001b[38;5;28;01mreturn\u001b[39;00m \u001b[43mmapping\u001b[49m\u001b[43m[\u001b[49m\u001b[43mengine\u001b[49m\u001b[43m]\u001b[49m\u001b[43m(\u001b[49m\u001b[43mf\u001b[49m\u001b[43m,\u001b[49m\u001b[43m \u001b[49m\u001b[38;5;241;43m*\u001b[39;49m\u001b[38;5;241;43m*\u001b[39;49m\u001b[38;5;28;43mself\u001b[39;49m\u001b[38;5;241;43m.\u001b[39;49m\u001b[43moptions\u001b[49m\u001b[43m)\u001b[49m\n\u001b[1;32m   1236\u001b[0m \u001b[38;5;28;01mexcept\u001b[39;00m \u001b[38;5;167;01mException\u001b[39;00m:\n\u001b[1;32m   1237\u001b[0m     \u001b[38;5;28;01mif\u001b[39;00m \u001b[38;5;28mself\u001b[39m\u001b[38;5;241m.\u001b[39mhandles \u001b[38;5;129;01mis\u001b[39;00m \u001b[38;5;129;01mnot\u001b[39;00m \u001b[38;5;28;01mNone\u001b[39;00m:\n",
      "File \u001b[0;32m~/.local/lib/python3.8/site-packages/pandas/io/parsers/c_parser_wrapper.py:75\u001b[0m, in \u001b[0;36mCParserWrapper.__init__\u001b[0;34m(self, src, **kwds)\u001b[0m\n\u001b[1;32m     72\u001b[0m     kwds\u001b[38;5;241m.\u001b[39mpop(key, \u001b[38;5;28;01mNone\u001b[39;00m)\n\u001b[1;32m     74\u001b[0m kwds[\u001b[38;5;124m\"\u001b[39m\u001b[38;5;124mdtype\u001b[39m\u001b[38;5;124m\"\u001b[39m] \u001b[38;5;241m=\u001b[39m ensure_dtype_objs(kwds\u001b[38;5;241m.\u001b[39mget(\u001b[38;5;124m\"\u001b[39m\u001b[38;5;124mdtype\u001b[39m\u001b[38;5;124m\"\u001b[39m, \u001b[38;5;28;01mNone\u001b[39;00m))\n\u001b[0;32m---> 75\u001b[0m \u001b[38;5;28mself\u001b[39m\u001b[38;5;241m.\u001b[39m_reader \u001b[38;5;241m=\u001b[39m \u001b[43mparsers\u001b[49m\u001b[38;5;241;43m.\u001b[39;49m\u001b[43mTextReader\u001b[49m\u001b[43m(\u001b[49m\u001b[43msrc\u001b[49m\u001b[43m,\u001b[49m\u001b[43m \u001b[49m\u001b[38;5;241;43m*\u001b[39;49m\u001b[38;5;241;43m*\u001b[39;49m\u001b[43mkwds\u001b[49m\u001b[43m)\u001b[49m\n\u001b[1;32m     77\u001b[0m \u001b[38;5;28mself\u001b[39m\u001b[38;5;241m.\u001b[39munnamed_cols \u001b[38;5;241m=\u001b[39m \u001b[38;5;28mself\u001b[39m\u001b[38;5;241m.\u001b[39m_reader\u001b[38;5;241m.\u001b[39munnamed_cols\n\u001b[1;32m     79\u001b[0m \u001b[38;5;66;03m# error: Cannot determine type of 'names'\u001b[39;00m\n",
      "File \u001b[0;32m~/.local/lib/python3.8/site-packages/pandas/_libs/parsers.pyx:544\u001b[0m, in \u001b[0;36mpandas._libs.parsers.TextReader.__cinit__\u001b[0;34m()\u001b[0m\n",
      "File \u001b[0;32m~/.local/lib/python3.8/site-packages/pandas/_libs/parsers.pyx:633\u001b[0m, in \u001b[0;36mpandas._libs.parsers.TextReader._get_header\u001b[0;34m()\u001b[0m\n",
      "File \u001b[0;32m~/.local/lib/python3.8/site-packages/pandas/_libs/parsers.pyx:847\u001b[0m, in \u001b[0;36mpandas._libs.parsers.TextReader._tokenize_rows\u001b[0;34m()\u001b[0m\n",
      "File \u001b[0;32m~/.local/lib/python3.8/site-packages/pandas/_libs/parsers.pyx:1952\u001b[0m, in \u001b[0;36mpandas._libs.parsers.raise_parser_error\u001b[0;34m()\u001b[0m\n",
      "\u001b[0;31mUnicodeDecodeError\u001b[0m: 'utf-8' codec can't decode byte 0xff in position 0: invalid start byte"
     ]
    }
   ],
   "source": [
    "df = pd.read_csv(r'/home/rahulkumar/Downloads/Invoice - Target Language (32)/Downloaded Data Before QC/invoice_7_1_1a15b9fa-882f-44e4-a6c0-f26246f7f6c1_Before_QC_Data_NER.csv')\n"
   ]
  },
  {
   "cell_type": "code",
   "execution_count": null,
   "id": "3a651e8e",
   "metadata": {},
   "outputs": [],
   "source": []
  },
  {
   "cell_type": "code",
   "execution_count": null,
   "id": "e8c718b3",
   "metadata": {},
   "outputs": [],
   "source": []
  },
  {
   "cell_type": "code",
   "execution_count": null,
   "id": "f553bb36",
   "metadata": {},
   "outputs": [],
   "source": []
  },
  {
   "cell_type": "code",
   "execution_count": 32,
   "id": "5422a3ce",
   "metadata": {},
   "outputs": [],
   "source": [
    "dc_data = {'data': {'class': 'даатгал', 'probability': '0.5319979574889547', 'recommended_class': 'unknown'}, 'request_id': '9472e69e-8ba1-416a-9e7c-f59c43649ef1', 'provider': 'default_dc', 'model_id': '51e3c8fa-603a-4551-9ee3-1037bd688150', 'level': 'document'}"
   ]
  },
  {
   "cell_type": "code",
   "execution_count": null,
   "id": "4c5f223c",
   "metadata": {},
   "outputs": [],
   "source": []
  },
  {
   "cell_type": "code",
   "execution_count": null,
   "id": "8a305a76",
   "metadata": {},
   "outputs": [],
   "source": [
    "[{'class': 'fghjk'}]"
   ]
  },
  {
   "cell_type": "code",
   "execution_count": 33,
   "id": "9a776ba2",
   "metadata": {},
   "outputs": [],
   "source": [
    "df_data = []"
   ]
  },
  {
   "cell_type": "code",
   "execution_count": 39,
   "id": "9c3f5233",
   "metadata": {},
   "outputs": [],
   "source": [
    "df_data.append({'class':dc_data['data']['class']})"
   ]
  },
  {
   "cell_type": "code",
   "execution_count": 41,
   "id": "5b4e8499",
   "metadata": {},
   "outputs": [
    {
     "data": {
      "text/plain": [
       "[{'class': 'даатгал'}]"
      ]
     },
     "execution_count": 41,
     "metadata": {},
     "output_type": "execute_result"
    }
   ],
   "source": [
    "df_data"
   ]
  },
  {
   "cell_type": "code",
   "execution_count": null,
   "id": "045047ea",
   "metadata": {},
   "outputs": [],
   "source": []
  },
  {
   "cell_type": "code",
   "execution_count": 44,
   "id": "345cd8d4",
   "metadata": {},
   "outputs": [],
   "source": [
    "sentiment_analysis_data = {'data': [{'text': 'ө Би Тарег хэрхэн өөр өөр\\nпрограмуудыг авч,\\nтэдгээрийг хооронд нь\\nхолбож өгөх дуртай\\n\\nө Би Тарїег-г цаашид\\nтуршиж үзэх\\nшаардлагатай бөгөөд энэ\\nнь надад ашигтай эсэхийг\\nхэлэх хэрэгтэй\\n\\n. Запьер миний хувьд\\nүнэхээр төөрөгдөлтэй\\nбайна\\n\\n21 04\\n\\x0c', 'sentiment': 'Эерэг', 'score': 0.4}], 'provider': 'mosaic', 'type': 'document_level'}"
   ]
  },
  {
   "cell_type": "code",
   "execution_count": 53,
   "id": "a3cd44ba",
   "metadata": {},
   "outputs": [
    {
     "data": {
      "text/plain": [
       "'ө Би Тарег хэрхэн өөр өөр\\nпрограмуудыг авч,\\nтэдгээрийг хооронд нь\\nхолбож өгөх дуртай\\n\\nө Би Тарїег-г цаашид\\nтуршиж үзэх\\nшаардлагатай бөгөөд энэ\\nнь надад ашигтай эсэхийг\\nхэлэх хэрэгтэй\\n\\n. Запьер миний хувьд\\nүнэхээр төөрөгдөлтэй\\nбайна\\n\\n21 04\\n\\x0c'"
      ]
     },
     "execution_count": 53,
     "metadata": {},
     "output_type": "execute_result"
    }
   ],
   "source": [
    "sentiment_analysis_data['data'][0]['text']"
   ]
  },
  {
   "cell_type": "code",
   "execution_count": 54,
   "id": "ee494677",
   "metadata": {},
   "outputs": [
    {
     "data": {
      "text/plain": [
       "[{'text': 'ө Би Тарег хэрхэн өөр өөр\\nпрограмуудыг авч,\\nтэдгээрийг хооронд нь\\nхолбож өгөх дуртай\\n\\nө Би Тарїег-г цаашид\\nтуршиж үзэх\\nшаардлагатай бөгөөд энэ\\nнь надад ашигтай эсэхийг\\nхэлэх хэрэгтэй\\n\\n. Запьер миний хувьд\\nүнэхээр төөрөгдөлтэй\\nбайна\\n\\n21 04\\n\\x0c',\n",
       "  'sentiment': 'Эерэг',\n",
       "  'score': 0.4}]"
      ]
     },
     "execution_count": 54,
     "metadata": {},
     "output_type": "execute_result"
    }
   ],
   "source": [
    "[obj for obj in sentiment_analysis_data['data']]"
   ]
  },
  {
   "cell_type": "code",
   "execution_count": 55,
   "id": "cb4a738b",
   "metadata": {},
   "outputs": [],
   "source": [
    "decontruction_data = [{'image': {'page_number': '1', 'value': '<image>', 'entity_value': '', 'entity': '', 'metadata': {'image_path': '/app/entityextractor/knowledge_mining_metadata/data/bbf9e4a6-7604-11ed-bd93-0a580a80039b/embedded_images/Page_0_image_0.png', 'image_name': 'Page_0_image_0.png', 'image_type': 'png', 'image_tag': 'INVOICE10103'}, 'subsections': []}}, {'image': {'page_number': '2', 'value': '<image>', 'entity_value': '', 'entity': '', 'metadata': {'image_path': '/app/entityextractor/knowledge_mining_metadata/data/bbf9e4a6-7604-11ed-bd93-0a580a80039b/embedded_images/Page_1_image_0.png', 'image_name': 'Page_1_image_0.png', 'image_type': 'png', 'image_tag': '< i m a g e >'}, 'subsections': []}}, {'image': {'page_number': '2', 'value': '<image>', 'entity_value': '', 'entity': '', 'metadata': {'image_path': '/app/entityextractor/knowledge_mining_metadata/data/bbf9e4a6-7604-11ed-bd93-0a580a80039b/embedded_images/Page_1_image_1.png', 'image_name': 'Page_1_image_1.png', 'image_type': 'png', 'image_tag': '10'}, 'subsections': []}}]\n"
   ]
  },
  {
   "cell_type": "code",
   "execution_count": 59,
   "id": "c793791a",
   "metadata": {},
   "outputs": [
    {
     "name": "stdout",
     "output_type": "stream",
     "text": [
      "image {'page_number': '1', 'value': '<image>', 'entity_value': '', 'entity': '', 'metadata': {'image_path': '/app/entityextractor/knowledge_mining_metadata/data/bbf9e4a6-7604-11ed-bd93-0a580a80039b/embedded_images/Page_0_image_0.png', 'image_name': 'Page_0_image_0.png', 'image_type': 'png', 'image_tag': 'INVOICE10103'}, 'subsections': []}\n"
     ]
    },
    {
     "ename": "NameError",
     "evalue": "name 'self' is not defined",
     "output_type": "error",
     "traceback": [
      "\u001b[0;31m---------------------------------------------------------------------------\u001b[0m",
      "\u001b[0;31mNameError\u001b[0m                                 Traceback (most recent call last)",
      "Input \u001b[0;32mIn [59]\u001b[0m, in \u001b[0;36m<module>\u001b[0;34m\u001b[0m\n\u001b[1;32m      6\u001b[0m \u001b[38;5;28;01mfor\u001b[39;00m value \u001b[38;5;129;01min\u001b[39;00m values:\n\u001b[1;32m      7\u001b[0m     dfs_result \u001b[38;5;241m=\u001b[39m \u001b[38;5;28mlist\u001b[39m()\n\u001b[0;32m----> 8\u001b[0m     final_dict, row_number \u001b[38;5;241m=\u001b[39m \u001b[38;5;28;43mself\u001b[39;49m\u001b[38;5;241m.\u001b[39mget_df(dfs_result, final_dict, row_number)\n",
      "\u001b[0;31mNameError\u001b[0m: name 'self' is not defined"
     ]
    }
   ],
   "source": [
    "final_dict = {}\n",
    "row_number = 0\n",
    "for i in decontruction_data:\n",
    "    for page_number, values in i.items():\n",
    "        print(page_number, values)\n",
    "        for value in values:\n",
    "            dfs_result = list()\n",
    "            final_dict, row_number = self.get_df(dfs_result, final_dict, row_number)"
   ]
  },
  {
   "cell_type": "code",
   "execution_count": null,
   "id": "dc00c30c",
   "metadata": {},
   "outputs": [],
   "source": []
  },
  {
   "cell_type": "code",
   "execution_count": 60,
   "id": "9af9b85b",
   "metadata": {},
   "outputs": [],
   "source": [
    "sentiment_analysis_data = {'data':[{'text':'ө Хуучин интерфейс нь илүү\\nхялбар байсан\\n\\n» Аймшигтай туршлага. Би\\nэнэ бүтээгдэхүүнийг дахиж\\nхэзээ Ч худалдаж авахгүй!\\n\\n. Бүтээгдэхүүнд үнэхээр\\nдургүй зүйл байхгүй гэж\\nби бодохгүй байна\\n\\n21 04\\n\\x0c','sentiment':'Эерэг','score':0.41}],'provider':'mosaic','type':'document_level'}"
   ]
  },
  {
   "cell_type": "code",
   "execution_count": 61,
   "id": "7a0fc33d",
   "metadata": {},
   "outputs": [
    {
     "data": {
      "text/plain": [
       "dict_keys(['data', 'provider', 'type'])"
      ]
     },
     "execution_count": 61,
     "metadata": {},
     "output_type": "execute_result"
    }
   ],
   "source": [
    "sentiment_analysis_data.keys()"
   ]
  },
  {
   "cell_type": "code",
   "execution_count": 62,
   "id": "81052c59",
   "metadata": {},
   "outputs": [
    {
     "data": {
      "text/plain": [
       "[{'text': 'ө Хуучин интерфейс нь илүү\\nхялбар байсан\\n\\n» Аймшигтай туршлага. Би\\nэнэ бүтээгдэхүүнийг дахиж\\nхэзээ Ч худалдаж авахгүй!\\n\\n. Бүтээгдэхүүнд үнэхээр\\nдургүй зүйл байхгүй гэж\\nби бодохгүй байна\\n\\n21 04\\n\\x0c',\n",
       "  'sentiment': 'Эерэг',\n",
       "  'score': 0.41}]"
      ]
     },
     "execution_count": 62,
     "metadata": {},
     "output_type": "execute_result"
    }
   ],
   "source": [
    "sentiment_analysis_data.get('data')"
   ]
  },
  {
   "cell_type": "code",
   "execution_count": 63,
   "id": "ad55c21a",
   "metadata": {},
   "outputs": [
    {
     "data": {
      "text/plain": [
       "{'data': [{'text': 'ө Хуучин интерфейс нь илүү\\nхялбар байсан\\n\\n» Аймшигтай туршлага. Би\\nэнэ бүтээгдэхүүнийг дахиж\\nхэзээ Ч худалдаж авахгүй!\\n\\n. Бүтээгдэхүүнд үнэхээр\\nдургүй зүйл байхгүй гэж\\nби бодохгүй байна\\n\\n21 04\\n\\x0c',\n",
       "   'sentiment': 'Эерэг',\n",
       "   'score': 0.41}],\n",
       " 'provider': 'mosaic',\n",
       " 'type': 'document_level'}"
      ]
     },
     "execution_count": 63,
     "metadata": {},
     "output_type": "execute_result"
    }
   ],
   "source": [
    "sentiment_analysis_data"
   ]
  },
  {
   "cell_type": "code",
   "execution_count": 64,
   "id": "1e317b61",
   "metadata": {},
   "outputs": [
    {
     "name": "stdout",
     "output_type": "stream",
     "text": [
      "data\n",
      "provider\n",
      "type\n"
     ]
    }
   ],
   "source": [
    "for each_box in sentiment_analysis_data:\n",
    "    print(each_box)"
   ]
  },
  {
   "cell_type": "code",
   "execution_count": null,
   "id": "9581b8f4",
   "metadata": {},
   "outputs": [],
   "source": []
  },
  {
   "cell_type": "code",
   "execution_count": null,
   "id": "ea77baae",
   "metadata": {},
   "outputs": [],
   "source": []
  },
  {
   "cell_type": "code",
   "execution_count": null,
   "id": "d534587f",
   "metadata": {},
   "outputs": [],
   "source": []
  },
  {
   "cell_type": "code",
   "execution_count": null,
   "id": "43781cad",
   "metadata": {},
   "outputs": [],
   "source": []
  },
  {
   "cell_type": "code",
   "execution_count": null,
   "id": "0d4b8848",
   "metadata": {},
   "outputs": [],
   "source": []
  },
  {
   "cell_type": "code",
   "execution_count": 43,
   "id": "b481fd57",
   "metadata": {},
   "outputs": [
    {
     "ename": "AttributeError",
     "evalue": "'str' object has no attribute 'get'",
     "output_type": "error",
     "traceback": [
      "\u001b[0;31m---------------------------------------------------------------------------\u001b[0m",
      "\u001b[0;31mAttributeError\u001b[0m                            Traceback (most recent call last)",
      "Input \u001b[0;32mIn [43]\u001b[0m, in \u001b[0;36m<module>\u001b[0;34m\u001b[0m\n\u001b[0;32m----> 1\u001b[0m [obj\u001b[38;5;241m.\u001b[39mget(\u001b[38;5;124m'\u001b[39m\u001b[38;5;124mdata\u001b[39m\u001b[38;5;124m'\u001b[39m) \u001b[38;5;28;01mfor\u001b[39;00m obj \u001b[38;5;129;01min\u001b[39;00m sentiment_analysis_data]\n",
      "Input \u001b[0;32mIn [43]\u001b[0m, in \u001b[0;36m<listcomp>\u001b[0;34m(.0)\u001b[0m\n\u001b[0;32m----> 1\u001b[0m [\u001b[43mobj\u001b[49m\u001b[38;5;241;43m.\u001b[39;49m\u001b[43mget\u001b[49m(\u001b[38;5;124m'\u001b[39m\u001b[38;5;124mdata\u001b[39m\u001b[38;5;124m'\u001b[39m) \u001b[38;5;28;01mfor\u001b[39;00m obj \u001b[38;5;129;01min\u001b[39;00m sentiment_analysis_data]\n",
      "\u001b[0;31mAttributeError\u001b[0m: 'str' object has no attribute 'get'"
     ]
    }
   ],
   "source": [
    "[obj.get('data') for obj in sentiment_analysis_data['data']]"
   ]
  },
  {
   "cell_type": "code",
   "execution_count": null,
   "id": "1b39263b",
   "metadata": {},
   "outputs": [],
   "source": []
  },
  {
   "cell_type": "code",
   "execution_count": null,
   "id": "6c9a792d",
   "metadata": {},
   "outputs": [],
   "source": []
  },
  {
   "cell_type": "code",
   "execution_count": null,
   "id": "dd010542",
   "metadata": {},
   "outputs": [],
   "source": []
  },
  {
   "cell_type": "code",
   "execution_count": null,
   "id": "68d3c182",
   "metadata": {},
   "outputs": [],
   "source": []
  },
  {
   "cell_type": "code",
   "execution_count": null,
   "id": "b51c7c04",
   "metadata": {},
   "outputs": [],
   "source": []
  },
  {
   "cell_type": "code",
   "execution_count": null,
   "id": "376bd115",
   "metadata": {},
   "outputs": [],
   "source": []
  },
  {
   "cell_type": "code",
   "execution_count": null,
   "id": "2e826417",
   "metadata": {},
   "outputs": [],
   "source": []
  },
  {
   "cell_type": "code",
   "execution_count": 29,
   "id": "ed7cf51a",
   "metadata": {},
   "outputs": [],
   "source": [
    "df_data.append(dc_data[\"data\"])"
   ]
  },
  {
   "cell_type": "code",
   "execution_count": 30,
   "id": "baf12e38",
   "metadata": {},
   "outputs": [
    {
     "data": {
      "text/plain": [
       "['даатгал']"
      ]
     },
     "execution_count": 30,
     "metadata": {},
     "output_type": "execute_result"
    }
   ],
   "source": [
    "df_data"
   ]
  },
  {
   "cell_type": "code",
   "execution_count": null,
   "id": "f37b779a",
   "metadata": {},
   "outputs": [],
   "source": [
    "{'data': {'class': 'даатгал', 'probability': '0.5319979574889547', 'recommended_class': 'unknown'}, 'request_id': '9472e69e-8ba1-416a-9e7c-f59c43649ef1', 'provider': 'default_dc', 'model_id': '51e3c8fa-603a-4551-9ee3-1037bd688150', 'level': 'document'}\n",
    "[{'class': 'даатгал', 'probability': '0.5319979574889547', 'recommended_class': 'unknown', 'page': None}]\n"
   ]
  },
  {
   "cell_type": "code",
   "execution_count": null,
   "id": "f9ea7e33",
   "metadata": {},
   "outputs": [],
   "source": []
  },
  {
   "cell_type": "code",
   "execution_count": null,
   "id": "1e5ec309",
   "metadata": {},
   "outputs": [],
   "source": []
  },
  {
   "cell_type": "code",
   "execution_count": null,
   "id": "4967f0aa",
   "metadata": {},
   "outputs": [],
   "source": []
  },
  {
   "cell_type": "code",
   "execution_count": null,
   "id": "2e1334b2",
   "metadata": {},
   "outputs": [],
   "source": []
  },
  {
   "cell_type": "code",
   "execution_count": null,
   "id": "ffee5e43",
   "metadata": {},
   "outputs": [],
   "source": []
  },
  {
   "cell_type": "code",
   "execution_count": null,
   "id": "476fa268",
   "metadata": {},
   "outputs": [],
   "source": []
  },
  {
   "cell_type": "code",
   "execution_count": null,
   "id": "c27e2bb7",
   "metadata": {},
   "outputs": [],
   "source": []
  },
  {
   "cell_type": "code",
   "execution_count": null,
   "id": "84eb737b",
   "metadata": {},
   "outputs": [],
   "source": []
  },
  {
   "cell_type": "code",
   "execution_count": null,
   "id": "37ed681c",
   "metadata": {},
   "outputs": [],
   "source": []
  },
  {
   "cell_type": "code",
   "execution_count": null,
   "id": "7ff84a54",
   "metadata": {},
   "outputs": [],
   "source": []
  },
  {
   "cell_type": "code",
   "execution_count": null,
   "id": "80a95b5f",
   "metadata": {},
   "outputs": [],
   "source": []
  },
  {
   "cell_type": "code",
   "execution_count": null,
   "id": "bd5776c4",
   "metadata": {},
   "outputs": [],
   "source": []
  },
  {
   "cell_type": "code",
   "execution_count": null,
   "id": "db5538bc",
   "metadata": {},
   "outputs": [],
   "source": []
  },
  {
   "cell_type": "code",
   "execution_count": null,
   "id": "b9171b41",
   "metadata": {},
   "outputs": [],
   "source": []
  },
  {
   "cell_type": "code",
   "execution_count": null,
   "id": "f7e8c296",
   "metadata": {},
   "outputs": [],
   "source": []
  },
  {
   "cell_type": "code",
   "execution_count": 1,
   "id": "25ffac0c",
   "metadata": {},
   "outputs": [
    {
     "name": "stdout",
     "output_type": "stream",
     "text": [
      "      ID    NAME DATE OF JOINING\n",
      "0  15135    Alex     25 / 4/2014\n",
      "1  23515     Bob     26 / 8/2018\n",
      "2  31313  Martha     18 / 1/2019\n",
      "3  55665    Alen      5 / 5/2020\n",
      "4  63513   Maria   9 / 12 / 2020\n"
     ]
    }
   ],
   "source": [
    "\n",
    "# importing the module\n",
    "import pandas as pd\n",
    "  \n",
    "# creating a DataFrame\n",
    "df = pd.DataFrame(data = [['15135', 'Alex', '25 / 4/2014'],\n",
    "                   ['23515', 'Bob', '26 / 8/2018'],\n",
    "                   ['31313', 'Martha', '18 / 1/2019'],\n",
    "                   ['55665', 'Alen', '5 / 5/2020'],\n",
    "                   ['63513', 'Maria', '9 / 12 / 2020']],\n",
    "                  columns =['ID', 'NAME', 'DATE OF JOINING'])\n",
    " \n",
    "# storing data in JSON format\n",
    "df.to_json('file1.json', orient = 'split', compression = 'infer')\n",
    " \n",
    "# reading the JSON file\n",
    "df = pd.read_json('file1.json', orient ='split', compression = 'infer')\n",
    "print(df)"
   ]
  },
  {
   "cell_type": "code",
   "execution_count": 2,
   "id": "7efb42d5",
   "metadata": {},
   "outputs": [
    {
     "name": "stdout",
     "output_type": "stream",
     "text": [
      "{\"col1\":{\"0\":\"1\",\"1\":\"3\"},\"col2\":{\"0\":\"2\",\"1\":\"4\"}}\n",
      "json_split =  {\"columns\":[\"col1\",\"col2\"],\"index\":[0,1],\"data\":[[\"1\",\"2\"],[\"3\",\"4\"]]} \n",
      "\n",
      "json_records =  [{\"col1\":\"1\",\"col2\":\"2\"},{\"col1\":\"3\",\"col2\":\"4\"}] \n",
      "\n",
      "json_index =  {\"0\":{\"col1\":\"1\",\"col2\":\"2\"},\"1\":{\"col1\":\"3\",\"col2\":\"4\"}} \n",
      "\n",
      "json_columns =  {\"col1\":{\"0\":\"1\",\"1\":\"3\"},\"col2\":{\"0\":\"2\",\"1\":\"4\"}} \n",
      "\n",
      "json_values =  [[\"1\",\"2\"],[\"3\",\"4\"]] \n",
      "\n",
      "json_table =  {\"schema\":{\"fields\":[{\"name\":\"index\",\"type\":\"integer\"},{\"name\":\"col1\",\"type\":\"string\"},{\"name\":\"col2\",\"type\":\"string\"}],\"primaryKey\":[\"index\"],\"pandas_version\":\"1.4.0\"},\"data\":[{\"index\":0,\"col1\":\"1\",\"col2\":\"2\"},{\"index\":1,\"col1\":\"3\",\"col2\":\"4\"}]} \n",
      "\n"
     ]
    }
   ],
   "source": [
    "import numpy as np\n",
    "import pandas as pd\n",
    "\n",
    "\n",
    "data = np.array([['1', '2'], ['3', '4']])\n",
    "\n",
    "dataFrame = pd.DataFrame(data, columns = ['col1', 'col2'])\n",
    "json = dataFrame.to_json()\n",
    "print(json)\n",
    "\n",
    "json_split = dataFrame.to_json(orient ='split')\n",
    "print(\"json_split = \", json_split, \"\\n\")\n",
    "\n",
    "json_records = dataFrame.to_json(orient ='records')\n",
    "print(\"json_records = \", json_records, \"\\n\")\n",
    "\n",
    "json_index = dataFrame.to_json(orient ='index')\n",
    "print(\"json_index = \", json_index, \"\\n\")\n",
    "\n",
    "json_columns = dataFrame.to_json(orient ='columns')\n",
    "print(\"json_columns = \", json_columns, \"\\n\")\n",
    "\n",
    "json_values = dataFrame.to_json(orient ='values')\n",
    "print(\"json_values = \", json_values, \"\\n\")\n",
    "\n",
    "json_table = dataFrame.to_json(orient ='table')\n",
    "print(\"json_table = \", json_table, \"\\n\")\n"
   ]
  },
  {
   "cell_type": "code",
   "execution_count": null,
   "id": "7c10de54",
   "metadata": {},
   "outputs": [],
   "source": []
  },
  {
   "cell_type": "code",
   "execution_count": 7,
   "id": "ca810ccb",
   "metadata": {},
   "outputs": [
    {
     "ename": "ModuleNotFoundError",
     "evalue": "No module named 'JSON'",
     "output_type": "error",
     "traceback": [
      "\u001b[0;31m---------------------------------------------------------------------------\u001b[0m",
      "\u001b[0;31mModuleNotFoundError\u001b[0m                       Traceback (most recent call last)",
      "Input \u001b[0;32mIn [7]\u001b[0m, in \u001b[0;36m<module>\u001b[0;34m\u001b[0m\n\u001b[0;32m----> 1\u001b[0m \u001b[38;5;28;01mimport\u001b[39;00m \u001b[38;5;21;01mJSON\u001b[39;00m\n\u001b[1;32m      2\u001b[0m result \u001b[38;5;241m=\u001b[39m {\n\u001b[1;32m      3\u001b[0m   \u001b[38;5;124m\"\u001b[39m\u001b[38;5;124mstateResult\u001b[39m\u001b[38;5;124m\"\u001b[39m: \u001b[38;5;124m\"\u001b[39m\u001b[38;5;124m[\u001b[39m\u001b[38;5;124m{\u001b[39m\u001b[38;5;130;01m\\\"\u001b[39;00m\u001b[38;5;124mstate_id\u001b[39m\u001b[38;5;130;01m\\\"\u001b[39;00m\u001b[38;5;124m:\u001b[39m\u001b[38;5;130;01m\\\"\u001b[39;00m\u001b[38;5;124m1\u001b[39m\u001b[38;5;130;01m\\\"\u001b[39;00m\u001b[38;5;124m,\u001b[39m\u001b[38;5;130;01m\\\"\u001b[39;00m\u001b[38;5;124mstate_name\u001b[39m\u001b[38;5;130;01m\\\"\u001b[39;00m\u001b[38;5;124m:\u001b[39m\u001b[38;5;130;01m\\\"\u001b[39;00m\u001b[38;5;124mMadhya Pradesh\u001b[39m\u001b[38;5;130;01m\\\"\u001b[39;00m\u001b[38;5;124m,\u001b[39m\u001b[38;5;130;01m\\\"\u001b[39;00m\u001b[38;5;124mIsActive\u001b[39m\u001b[38;5;130;01m\\\"\u001b[39;00m\u001b[38;5;124m:\u001b[39m\u001b[38;5;130;01m\\\"\u001b[39;00m\u001b[38;5;124mTrue\u001b[39m\u001b[38;5;130;01m\\\"\u001b[39;00m\u001b[38;5;124m},\u001b[39m\u001b[38;5;124m{\u001b[39m\u001b[38;5;130;01m\\\"\u001b[39;00m\u001b[38;5;124mstate_id\u001b[39m\u001b[38;5;130;01m\\\"\u001b[39;00m\u001b[38;5;124m:\u001b[39m\u001b[38;5;130;01m\\\"\u001b[39;00m\u001b[38;5;124m2\u001b[39m\u001b[38;5;130;01m\\\"\u001b[39;00m\u001b[38;5;124m,\u001b[39m\u001b[38;5;130;01m\\\"\u001b[39;00m\u001b[38;5;124mstate_name\u001b[39m\u001b[38;5;130;01m\\\"\u001b[39;00m\u001b[38;5;124m:\u001b[39m\u001b[38;5;130;01m\\\"\u001b[39;00m\u001b[38;5;124mGujrat\u001b[39m\u001b[38;5;130;01m\\\"\u001b[39;00m\u001b[38;5;124m,\u001b[39m\u001b[38;5;130;01m\\\"\u001b[39;00m\u001b[38;5;124mIsActive\u001b[39m\u001b[38;5;130;01m\\\"\u001b[39;00m\u001b[38;5;124m:\u001b[39m\u001b[38;5;130;01m\\\"\u001b[39;00m\u001b[38;5;124mTrue\u001b[39m\u001b[38;5;130;01m\\\"\u001b[39;00m\u001b[38;5;124m},\u001b[39m\u001b[38;5;124m{\u001b[39m\u001b[38;5;130;01m\\\"\u001b[39;00m\u001b[38;5;124mstate_id\u001b[39m\u001b[38;5;130;01m\\\"\u001b[39;00m\u001b[38;5;124m:\u001b[39m\u001b[38;5;130;01m\\\"\u001b[39;00m\u001b[38;5;124m3\u001b[39m\u001b[38;5;130;01m\\\"\u001b[39;00m\u001b[38;5;124m,\u001b[39m\u001b[38;5;130;01m\\\"\u001b[39;00m\u001b[38;5;124mstate_name\u001b[39m\u001b[38;5;130;01m\\\"\u001b[39;00m\u001b[38;5;124m:\u001b[39m\u001b[38;5;130;01m\\\"\u001b[39;00m\u001b[38;5;124mGoa\u001b[39m\u001b[38;5;130;01m\\\"\u001b[39;00m\u001b[38;5;124m,\u001b[39m\u001b[38;5;130;01m\\\"\u001b[39;00m\u001b[38;5;124mIsActive\u001b[39m\u001b[38;5;130;01m\\\"\u001b[39;00m\u001b[38;5;124m:\u001b[39m\u001b[38;5;130;01m\\\"\u001b[39;00m\u001b[38;5;124mTrue\u001b[39m\u001b[38;5;130;01m\\\"\u001b[39;00m\u001b[38;5;124m},\u001b[39m\u001b[38;5;124m{\u001b[39m\u001b[38;5;130;01m\\\"\u001b[39;00m\u001b[38;5;124mstate_id\u001b[39m\u001b[38;5;130;01m\\\"\u001b[39;00m\u001b[38;5;124m:\u001b[39m\u001b[38;5;130;01m\\\"\u001b[39;00m\u001b[38;5;124m4\u001b[39m\u001b[38;5;130;01m\\\"\u001b[39;00m\u001b[38;5;124m,\u001b[39m\u001b[38;5;130;01m\\\"\u001b[39;00m\u001b[38;5;124mstate_name\u001b[39m\u001b[38;5;130;01m\\\"\u001b[39;00m\u001b[38;5;124m:\u001b[39m\u001b[38;5;130;01m\\\"\u001b[39;00m\u001b[38;5;124mMaharashtra\u001b[39m\u001b[38;5;130;01m\\\"\u001b[39;00m\u001b[38;5;124m,\u001b[39m\u001b[38;5;130;01m\\\"\u001b[39;00m\u001b[38;5;124mIsActive\u001b[39m\u001b[38;5;130;01m\\\"\u001b[39;00m\u001b[38;5;124m:\u001b[39m\u001b[38;5;130;01m\\\"\u001b[39;00m\u001b[38;5;124mTrue\u001b[39m\u001b[38;5;130;01m\\\"\u001b[39;00m\u001b[38;5;124m}]\u001b[39m\u001b[38;5;124m\"\u001b[39m\n\u001b[1;32m      4\u001b[0m }\n\u001b[1;32m      5\u001b[0m result \u001b[38;5;241m=\u001b[39m JSON\u001b[38;5;241m.\u001b[39mparse(result\u001b[38;5;241m.\u001b[39mstateResult)\n",
      "\u001b[0;31mModuleNotFoundError\u001b[0m: No module named 'JSON'"
     ]
    }
   ],
   "source": [
    "import JSON\n",
    "result = {\n",
    "  \"stateResult\": \"[{\\\"state_id\\\":\\\"1\\\",\\\"state_name\\\":\\\"Madhya Pradesh\\\",\\\"IsActive\\\":\\\"True\\\"},{\\\"state_id\\\":\\\"2\\\",\\\"state_name\\\":\\\"Gujrat\\\",\\\"IsActive\\\":\\\"True\\\"},{\\\"state_id\\\":\\\"3\\\",\\\"state_name\\\":\\\"Goa\\\",\\\"IsActive\\\":\\\"True\\\"},{\\\"state_id\\\":\\\"4\\\",\\\"state_name\\\":\\\"Maharashtra\\\",\\\"IsActive\\\":\\\"True\\\"}]\"\n",
    "}\n",
    "result = JSON.parse(result.stateResult)"
   ]
  },
  {
   "cell_type": "code",
   "execution_count": 22,
   "id": "0565b35b",
   "metadata": {},
   "outputs": [],
   "source": [
    "data= \"[{\\\"attribute_name\\\":\\\"Buyer_Name\\\",\\\"value\\\":\\\"\\\\u0413\\\\u0438\\\\u0444\\\\u043e\\\\u043d\\\\u0438\\\\u043a\\\"},{\\\"attribute_name\\\":\\\"GST\\\",\\\"value\\\":\\\"448.00\\\"},{\\\"attribute_name\\\":\\\"Invoice_Amount_With_GST\\\",\\\"value\\\":\\\"6,848.00\\\"},{\\\"attribute_name\\\":\\\"Invoice_Amount_Without_GST\\\",\\\"value\\\":\\\"6,400.00\\\"},{\\\"attribute_name\\\":\\\"Invoice_Date\\\",\\\"value\\\":\\\"13\\\\/06\\\\/2020\\\"},{\\\"attribute_name\\\":\\\"Invoice_Number\\\",\\\"value\\\":\\\"3026\\\"},{\\\"attribute_name\\\":\\\"PO_Number\\\",\\\"value\\\":\\\"3XT0276-21\\\"},{\\\"attribute_name\\\":\\\"Seller_Name\\\",\\\"value\\\":\\\"\\\\u041e\\\\u043b\\\\u043e\\\\u043d \\\\u043d\\\\u0438\\\\u0439\\\\u0442\\\\u0438\\\\u0439\\\\u043d \\\\u0442\\\\u0430\\\\u0439\\\\u0437 \\\\u0445\\\\u0443\\\\u0432\\\\u0438\\\\u0439\\\\u043d \\\\u0425\\\\u0425\\\\u041a\\\"},{\\\"attribute_name\\\":\\\"Seller_Name\\\",\\\"value\\\":\\\"\\\\u0445\\\\u0443\\\\u0432\\\\u0438\\\\u0439\\\\u043d \\\\u0425\\\\u0425\\\\u041a\\\"}]\""
   ]
  },
  {
   "cell_type": "code",
   "execution_count": 23,
   "id": "e02a8383",
   "metadata": {},
   "outputs": [
    {
     "data": {
      "text/plain": [
       "'[{\"attribute_name\":\"Buyer_Name\",\"value\":\"\\\\u0413\\\\u0438\\\\u0444\\\\u043e\\\\u043d\\\\u0438\\\\u043a\"},{\"attribute_name\":\"GST\",\"value\":\"448.00\"},{\"attribute_name\":\"Invoice_Amount_With_GST\",\"value\":\"6,848.00\"},{\"attribute_name\":\"Invoice_Amount_Without_GST\",\"value\":\"6,400.00\"},{\"attribute_name\":\"Invoice_Date\",\"value\":\"13\\\\/06\\\\/2020\"},{\"attribute_name\":\"Invoice_Number\",\"value\":\"3026\"},{\"attribute_name\":\"PO_Number\",\"value\":\"3XT0276-21\"},{\"attribute_name\":\"Seller_Name\",\"value\":\"\\\\u041e\\\\u043b\\\\u043e\\\\u043d \\\\u043d\\\\u0438\\\\u0439\\\\u0442\\\\u0438\\\\u0439\\\\u043d \\\\u0442\\\\u0430\\\\u0439\\\\u0437 \\\\u0445\\\\u0443\\\\u0432\\\\u0438\\\\u0439\\\\u043d \\\\u0425\\\\u0425\\\\u041a\"},{\"attribute_name\":\"Seller_Name\",\"value\":\"\\\\u0445\\\\u0443\\\\u0432\\\\u0438\\\\u0439\\\\u043d \\\\u0425\\\\u0425\\\\u041a\"}]'"
      ]
     },
     "execution_count": 23,
     "metadata": {},
     "output_type": "execute_result"
    }
   ],
   "source": [
    "data.replace(\"\\'\", '\"')"
   ]
  },
  {
   "cell_type": "code",
   "execution_count": 25,
   "id": "449d07bd",
   "metadata": {},
   "outputs": [],
   "source": [
    "data_2 = \"{\\\"0\\\":{\\\"attribute_name\\\":\\\"Buyer_Name\\\",\\\"value\\\":\\\"\\\\u0413\\\\u0438\\\\u0444\\\\u043e\\\\u043d\\\\u0438\\\\u043a\\\"},\\\"1\\\":{\\\"attribute_name\\\":\\\"GST\\\",\\\"value\\\":\\\"448.00\\\"},\\\"2\\\":{\\\"attribute_name\\\":\\\"Invoice_Amount_With_GST\\\",\\\"value\\\":\\\"6,848.00\\\"},\\\"3\\\":{\\\"attribute_name\\\":\\\"Invoice_Amount_Without_GST\\\",\\\"value\\\":\\\"6,400.00\\\"},\\\"4\\\":{\\\"attribute_name\\\":\\\"Invoice_Date\\\",\\\"value\\\":\\\"13\\\\/06\\\\/2020\\\"},\\\"5\\\":{\\\"attribute_name\\\":\\\"Invoice_Number\\\",\\\"value\\\":\\\"3026\\\"},\\\"6\\\":{\\\"attribute_name\\\":\\\"PO_Number\\\",\\\"value\\\":\\\"3XT0276-21\\\"},\\\"7\\\":{\\\"attribute_name\\\":\\\"Seller_Name\\\",\\\"value\\\":\\\"\\\\u041e\\\\u043b\\\\u043e\\\\u043d \\\\u043d\\\\u0438\\\\u0439\\\\u0442\\\\u0438\\\\u0439\\\\u043d \\\\u0442\\\\u0430\\\\u0439\\\\u0437 \\\\u0445\\\\u0443\\\\u0432\\\\u0438\\\\u0439\\\\u043d \\\\u0425\\\\u0425\\\\u041a\\\"},\\\"8\\\":{\\\"attribute_name\\\":\\\"Seller_Name\\\",\\\"value\\\":\\\"\\\\u0445\\\\u0443\\\\u0432\\\\u0438\\\\u0439\\\\u043d \\\\u0425\\\\u0425\\\\u041a\\\"}}\""
   ]
  },
  {
   "cell_type": "code",
   "execution_count": 30,
   "id": "eaa7ad3c",
   "metadata": {},
   "outputs": [
    {
     "data": {
      "text/plain": [
       "'{\"0\":{\"attribute_name\":\"Buyer_Name\",\"value\":\"\\\\u0413\\\\u0438\\\\u0444\\\\u043e\\\\u043d\\\\u0438\\\\u043a\"},\"1\":{\"attribute_name\":\"GST\",\"value\":\"448.00\"},\"2\":{\"attribute_name\":\"Invoice_Amount_With_GST\",\"value\":\"6,848.00\"},\"3\":{\"attribute_name\":\"Invoice_Amount_Without_GST\",\"value\":\"6,400.00\"},\"4\":{\"attribute_name\":\"Invoice_Date\",\"value\":\"13\\\\/06\\\\/2020\"},\"5\":{\"attribute_name\":\"Invoice_Number\",\"value\":\"3026\"},\"6\":{\"attribute_name\":\"PO_Number\",\"value\":\"3XT0276-21\"},\"7\":{\"attribute_name\":\"Seller_Name\",\"value\":\"\\\\u041e\\\\u043b\\\\u043e\\\\u043d \\\\u043d\\\\u0438\\\\u0439\\\\u0442\\\\u0438\\\\u0439\\\\u043d \\\\u0442\\\\u0430\\\\u0439\\\\u0437 \\\\u0445\\\\u0443\\\\u0432\\\\u0438\\\\u0439\\\\u043d \\\\u0425\\\\u0425\\\\u041a\"},\"8\":{\"attribute_name\":\"Seller_Name\",\"value\":\"\\\\u0445\\\\u0443\\\\u0432\\\\u0438\\\\u0439\\\\u043d \\\\u0425\\\\u0425\\\\u041a\"}}'"
      ]
     },
     "execution_count": 30,
     "metadata": {},
     "output_type": "execute_result"
    }
   ],
   "source": [
    "data_2.replace(\"\\''\", \"\")"
   ]
  },
  {
   "cell_type": "code",
   "execution_count": null,
   "id": "a8b96bc8",
   "metadata": {},
   "outputs": [],
   "source": []
  },
  {
   "cell_type": "code",
   "execution_count": null,
   "id": "1c75a167",
   "metadata": {},
   "outputs": [],
   "source": []
  },
  {
   "cell_type": "code",
   "execution_count": null,
   "id": "3e710aea",
   "metadata": {},
   "outputs": [],
   "source": []
  },
  {
   "cell_type": "code",
   "execution_count": null,
   "id": "3fa94c40",
   "metadata": {},
   "outputs": [],
   "source": []
  },
  {
   "cell_type": "code",
   "execution_count": 35,
   "id": "fa82640d",
   "metadata": {},
   "outputs": [],
   "source": [
    "import json\n",
    "df = pd.DataFrame(\n",
    "    [[\"a\", \"b\"], [\"c\", \"d\"]],\n",
    "    columns=[\"col 1\", \"col 2\"],\n",
    ")"
   ]
  },
  {
   "cell_type": "code",
   "execution_count": 36,
   "id": "e84924af",
   "metadata": {},
   "outputs": [
    {
     "data": {
      "text/html": [
       "<div>\n",
       "<style scoped>\n",
       "    .dataframe tbody tr th:only-of-type {\n",
       "        vertical-align: middle;\n",
       "    }\n",
       "\n",
       "    .dataframe tbody tr th {\n",
       "        vertical-align: top;\n",
       "    }\n",
       "\n",
       "    .dataframe thead th {\n",
       "        text-align: right;\n",
       "    }\n",
       "</style>\n",
       "<table border=\"1\" class=\"dataframe\">\n",
       "  <thead>\n",
       "    <tr style=\"text-align: right;\">\n",
       "      <th></th>\n",
       "      <th>col 1</th>\n",
       "      <th>col 2</th>\n",
       "    </tr>\n",
       "  </thead>\n",
       "  <tbody>\n",
       "    <tr>\n",
       "      <th>0</th>\n",
       "      <td>a</td>\n",
       "      <td>b</td>\n",
       "    </tr>\n",
       "    <tr>\n",
       "      <th>1</th>\n",
       "      <td>c</td>\n",
       "      <td>d</td>\n",
       "    </tr>\n",
       "  </tbody>\n",
       "</table>\n",
       "</div>"
      ],
      "text/plain": [
       "  col 1 col 2\n",
       "0     a     b\n",
       "1     c     d"
      ]
     },
     "execution_count": 36,
     "metadata": {},
     "output_type": "execute_result"
    }
   ],
   "source": [
    "df"
   ]
  },
  {
   "cell_type": "code",
   "execution_count": 39,
   "id": "d9b398d5",
   "metadata": {},
   "outputs": [],
   "source": [
    "result = df.to_json(orient=\"index\")"
   ]
  },
  {
   "cell_type": "code",
   "execution_count": 40,
   "id": "7e2c781a",
   "metadata": {},
   "outputs": [
    {
     "data": {
      "text/plain": [
       "'{\"0\":{\"col 1\":\"a\",\"col 2\":\"b\"},\"1\":{\"col 1\":\"c\",\"col 2\":\"d\"}}'"
      ]
     },
     "execution_count": 40,
     "metadata": {},
     "output_type": "execute_result"
    }
   ],
   "source": [
    "result"
   ]
  },
  {
   "cell_type": "code",
   "execution_count": 41,
   "id": "dd16ec15",
   "metadata": {},
   "outputs": [],
   "source": [
    "parsed = json.loads(result)"
   ]
  },
  {
   "cell_type": "code",
   "execution_count": 42,
   "id": "43c25181",
   "metadata": {},
   "outputs": [
    {
     "data": {
      "text/plain": [
       "{'0': {'col 1': 'a', 'col 2': 'b'}, '1': {'col 1': 'c', 'col 2': 'd'}}"
      ]
     },
     "execution_count": 42,
     "metadata": {},
     "output_type": "execute_result"
    }
   ],
   "source": [
    "parsed"
   ]
  },
  {
   "cell_type": "code",
   "execution_count": 43,
   "id": "b20d3f97",
   "metadata": {},
   "outputs": [
    {
     "data": {
      "text/plain": [
       "'{\\n    \"0\": {\\n        \"col 1\": \"a\",\\n        \"col 2\": \"b\"\\n    },\\n    \"1\": {\\n        \"col 1\": \"c\",\\n        \"col 2\": \"d\"\\n    }\\n}'"
      ]
     },
     "execution_count": 43,
     "metadata": {},
     "output_type": "execute_result"
    }
   ],
   "source": [
    "json.dumps(parsed, indent=4) "
   ]
  },
  {
   "cell_type": "code",
   "execution_count": 46,
   "id": "12828a8a",
   "metadata": {},
   "outputs": [
    {
     "name": "stdout",
     "output_type": "stream",
     "text": [
      "<class 'dict'>\n"
     ]
    }
   ],
   "source": [
    "# Python program to write JSON\n",
    "# to a file\n",
    "\n",
    "\n",
    "import json\n",
    "\n",
    "# Data to be written\n",
    "dictionary ={\n",
    "\t\"name\" : \"sathiyajith\",\n",
    "\t\"rollno\" : 56,\n",
    "\t\"cgpa\" : 8.6,\n",
    "\t\"phonenumber\" : \"9976770500\"\n",
    "}\n",
    "print(type(dictionary))\n",
    "with open(\"sample.json\", \"w\") as outfile:\n",
    "\tjson.dump(dictionary, outfile)\n"
   ]
  },
  {
   "cell_type": "code",
   "execution_count": 49,
   "id": "cf17b8f3",
   "metadata": {},
   "outputs": [
    {
     "name": "stdout",
     "output_type": "stream",
     "text": [
      "<class 'dict'>\n",
      "<class 'dict'>\n"
     ]
    }
   ],
   "source": [
    "import json\n",
    "\n",
    "# Data to be written\n",
    "dictionary = {\n",
    "\t\"name\": \"sathiyajith\",\n",
    "\t\"rollno\": 56,\n",
    "\t\"cgpa\": 8.6,\n",
    "\t\"phonenumber\": \"9976770500\"\n",
    "}\n",
    "print(type(dictionary))\n",
    "# Serializing json\n",
    "json_object = json.dumps(dictionary, indent=4)\n",
    "print(type(dictionary))\n",
    "# Writing to sample.json\n",
    "with open(\"sample.json\", \"w\") as outfile:\n",
    "\toutfile.write(json_object)\n"
   ]
  },
  {
   "cell_type": "code",
   "execution_count": 50,
   "id": "85b7b195",
   "metadata": {},
   "outputs": [
    {
     "name": "stdout",
     "output_type": "stream",
     "text": [
      "<class 'dict'>\n"
     ]
    }
   ],
   "source": [
    "# Python program to write JSON\n",
    "# to a file\n",
    "\n",
    "\n",
    "import json\n",
    "\n",
    "# Data to be written\n",
    "dictionary = {\n",
    "\t\"name\": \"sathiyajith\",\n",
    "\t\"rollno\": 56,\n",
    "\t\"cgpa\": 8.6,\n",
    "\t\"phonenumber\": \"9976770500\"\n",
    "}\n",
    "print(type(dictionary))\n",
    "with open(\"sample.json\", \"w\") as outfile:\n",
    "\tjson.dump(dictionary, outfile)\n"
   ]
  },
  {
   "cell_type": "code",
   "execution_count": 53,
   "id": "650378c4",
   "metadata": {},
   "outputs": [],
   "source": [
    "data = '{\"0\":{\"attribute_name\":\"Buyer_Name\",\"value\":\"\\u0413\\u0438\\u0444\\u043e\\u043d\\u0438\\u043a\"},\"1\":{\"attribute_name\":\"GST\",\"value\":\"448.00\"},\"2\":{\"attribute_name\":\"Invoice_Amount_With_GST\",\"value\":\"6,848.00\"},\"3\":{\"attribute_name\":\"Invoice_Amount_Without_GST\",\"value\":\"6,400.00\"},\"4\":{\"attribute_name\":\"Invoice_Date\",\"value\":\"13\\/06\\/2020\"},\"5\":{\"attribute_name\":\"Invoice_Number\",\"value\":\"3026\"},\"6\":{\"attribute_name\":\"PO_Number\",\"value\":\"3XT0276-21\"},\"7\":{\"attribute_name\":\"Seller_Name\",\"value\":\"\\u041e\\u043b\\u043e\\u043d \\u043d\\u0438\\u0439\\u0442\\u0438\\u0439\\u043d \\u0442\\u0430\\u0439\\u0437 \\u0445\\u0443\\u0432\\u0438\\u0439\\u043d \\u0425\\u0425\\u041a\"},\"8\":{\"attribute_name\":\"Seller_Name\",\"value\":\"\\u0445\\u0443\\u0432\\u0438\\u0439\\u043d \\u0425\\u0425\\u041a\"}}'"
   ]
  },
  {
   "cell_type": "code",
   "execution_count": 54,
   "id": "09e79b27",
   "metadata": {},
   "outputs": [],
   "source": [
    "obj = json.loads(data)"
   ]
  },
  {
   "cell_type": "code",
   "execution_count": 55,
   "id": "a7b5bf41",
   "metadata": {},
   "outputs": [
    {
     "data": {
      "text/plain": [
       "{'0': {'attribute_name': 'Buyer_Name', 'value': 'Гифоник'},\n",
       " '1': {'attribute_name': 'GST', 'value': '448.00'},\n",
       " '2': {'attribute_name': 'Invoice_Amount_With_GST', 'value': '6,848.00'},\n",
       " '3': {'attribute_name': 'Invoice_Amount_Without_GST', 'value': '6,400.00'},\n",
       " '4': {'attribute_name': 'Invoice_Date', 'value': '13/06/2020'},\n",
       " '5': {'attribute_name': 'Invoice_Number', 'value': '3026'},\n",
       " '6': {'attribute_name': 'PO_Number', 'value': '3XT0276-21'},\n",
       " '7': {'attribute_name': 'Seller_Name',\n",
       "  'value': 'Олон нийтийн тайз хувийн ХХК'},\n",
       " '8': {'attribute_name': 'Seller_Name', 'value': 'хувийн ХХК'}}"
      ]
     },
     "execution_count": 55,
     "metadata": {},
     "output_type": "execute_result"
    }
   ],
   "source": [
    "obj"
   ]
  },
  {
   "cell_type": "code",
   "execution_count": null,
   "id": "cdb998d4",
   "metadata": {},
   "outputs": [],
   "source": []
  },
  {
   "cell_type": "code",
   "execution_count": null,
   "id": "01138ecc",
   "metadata": {},
   "outputs": [],
   "source": []
  },
  {
   "cell_type": "code",
   "execution_count": null,
   "id": "59e73b70",
   "metadata": {},
   "outputs": [],
   "source": []
  },
  {
   "cell_type": "code",
   "execution_count": null,
   "id": "f22e5718",
   "metadata": {},
   "outputs": [],
   "source": []
  },
  {
   "cell_type": "code",
   "execution_count": null,
   "id": "756a4948",
   "metadata": {},
   "outputs": [],
   "source": []
  },
  {
   "cell_type": "code",
   "execution_count": null,
   "id": "d33bbbf5",
   "metadata": {},
   "outputs": [],
   "source": []
  },
  {
   "cell_type": "code",
   "execution_count": null,
   "id": "87cb64ee",
   "metadata": {},
   "outputs": [],
   "source": []
  },
  {
   "cell_type": "code",
   "execution_count": null,
   "id": "5bf9e378",
   "metadata": {},
   "outputs": [],
   "source": []
  },
  {
   "cell_type": "code",
   "execution_count": null,
   "id": "0f75872c",
   "metadata": {},
   "outputs": [],
   "source": []
  },
  {
   "cell_type": "code",
   "execution_count": 19,
   "id": "c041ceb3",
   "metadata": {},
   "outputs": [
    {
     "ename": "AttributeError",
     "evalue": "'str' object has no attribute 'dump'",
     "output_type": "error",
     "traceback": [
      "\u001b[0;31m---------------------------------------------------------------------------\u001b[0m",
      "\u001b[0;31mAttributeError\u001b[0m                            Traceback (most recent call last)",
      "Input \u001b[0;32mIn [19]\u001b[0m, in \u001b[0;36m<module>\u001b[0;34m\u001b[0m\n\u001b[1;32m      1\u001b[0m \u001b[38;5;28;01mwith\u001b[39;00m \u001b[38;5;28mopen\u001b[39m(\u001b[38;5;124m'\u001b[39m\u001b[38;5;124mjson_file_name.json\u001b[39m\u001b[38;5;124m'\u001b[39m, \u001b[38;5;124m'\u001b[39m\u001b[38;5;124mw\u001b[39m\u001b[38;5;124m'\u001b[39m, encoding\u001b[38;5;241m=\u001b[39m\u001b[38;5;124m'\u001b[39m\u001b[38;5;124mutf16\u001b[39m\u001b[38;5;124m'\u001b[39m) \u001b[38;5;28;01mas\u001b[39;00m json_file:\n\u001b[0;32m----> 2\u001b[0m     \u001b[43mjson\u001b[49m\u001b[38;5;241;43m.\u001b[39;49m\u001b[43mdump\u001b[49m(data, json_file)\n",
      "\u001b[0;31mAttributeError\u001b[0m: 'str' object has no attribute 'dump'"
     ]
    }
   ],
   "source": [
    "with open('json_file_name.json', 'w', encoding='utf16') as json_file:\n",
    "    json.dump(data, json_file)"
   ]
  },
  {
   "cell_type": "code",
   "execution_count": null,
   "id": "34f88206",
   "metadata": {},
   "outputs": [],
   "source": []
  },
  {
   "cell_type": "code",
   "execution_count": null,
   "id": "b92c1e56",
   "metadata": {},
   "outputs": [],
   "source": []
  },
  {
   "cell_type": "code",
   "execution_count": null,
   "id": "30249559",
   "metadata": {},
   "outputs": [],
   "source": []
  },
  {
   "cell_type": "code",
   "execution_count": null,
   "id": "1af3ec7e",
   "metadata": {},
   "outputs": [],
   "source": []
  },
  {
   "cell_type": "code",
   "execution_count": null,
   "id": "a942cfae",
   "metadata": {},
   "outputs": [],
   "source": []
  },
  {
   "cell_type": "code",
   "execution_count": null,
   "id": "ec350c58",
   "metadata": {},
   "outputs": [],
   "source": []
  },
  {
   "cell_type": "code",
   "execution_count": null,
   "id": "f25ff874",
   "metadata": {},
   "outputs": [],
   "source": []
  },
  {
   "cell_type": "code",
   "execution_count": 20,
   "id": "fbf332b0",
   "metadata": {},
   "outputs": [],
   "source": [
    "data = [{\"attribute_name\":\"Buyer_Name\",\"value\":\"\\u0413\\u0438\\u0444\\u043e\\u043d\\u0438\\u043a\"},{\"attribute_name\":\"GST\",\"value\":\"448.00\"},{\"attribute_name\":\"Invoice_Amount_With_GST\",\"value\":\"6,848.00\"},{\"attribute_name\":\"Invoice_Amount_Without_GST\",\"value\":\"6,400.00\"},{\"attribute_name\":\"Invoice_Date\",\"value\":\"13\\/06\\/2020\"},{\"attribute_name\":\"Invoice_Number\",\"value\":\"3026\"},{\"attribute_name\":\"PO_Number\",\"value\":\"3XT0276-21\"},{\"attribute_name\":\"Seller_Name\",\"value\":\"\\u041e\\u043b\\u043e\\u043d \\u043d\\u0438\\u0439\\u0442\\u0438\\u0439\\u043d \\u0442\\u0430\\u0439\\u0437 \\u0445\\u0443\\u0432\\u0438\\u0439\\u043d \\u0425\\u0425\\u041a\"},{\"attribute_name\":\"Seller_Name\",\"value\":\"\\u0445\\u0443\\u0432\\u0438\\u0439\\u043d \\u0425\\u0425\\u041a\"}]"
   ]
  },
  {
   "cell_type": "code",
   "execution_count": null,
   "id": "ab016861",
   "metadata": {},
   "outputs": [],
   "source": []
  },
  {
   "cell_type": "code",
   "execution_count": 21,
   "id": "8200e739",
   "metadata": {},
   "outputs": [
    {
     "ename": "AttributeError",
     "evalue": "'list' object has no attribute 'replace'",
     "output_type": "error",
     "traceback": [
      "\u001b[0;31m---------------------------------------------------------------------------\u001b[0m",
      "\u001b[0;31mAttributeError\u001b[0m                            Traceback (most recent call last)",
      "Input \u001b[0;32mIn [21]\u001b[0m, in \u001b[0;36m<module>\u001b[0;34m\u001b[0m\n\u001b[0;32m----> 1\u001b[0m \u001b[43mdata\u001b[49m\u001b[38;5;241;43m.\u001b[39;49m\u001b[43mreplace\u001b[49m(\u001b[38;5;124m\"\u001b[39m\u001b[38;5;130;01m\\'\u001b[39;00m\u001b[38;5;124m\"\u001b[39m, \u001b[38;5;124m'\u001b[39m\u001b[38;5;124m\"\u001b[39m\u001b[38;5;124m'\u001b[39m)\n",
      "\u001b[0;31mAttributeError\u001b[0m: 'list' object has no attribute 'replace'"
     ]
    }
   ],
   "source": []
  },
  {
   "cell_type": "code",
   "execution_count": null,
   "id": "739fdc0e",
   "metadata": {},
   "outputs": [],
   "source": []
  },
  {
   "cell_type": "code",
   "execution_count": null,
   "id": "dd9e86bd",
   "metadata": {},
   "outputs": [],
   "source": []
  },
  {
   "cell_type": "code",
   "execution_count": null,
   "id": "5207215a",
   "metadata": {},
   "outputs": [],
   "source": []
  },
  {
   "cell_type": "code",
   "execution_count": null,
   "id": "3e6082cf",
   "metadata": {},
   "outputs": [],
   "source": []
  },
  {
   "cell_type": "code",
   "execution_count": null,
   "id": "173b602d",
   "metadata": {},
   "outputs": [],
   "source": []
  },
  {
   "cell_type": "code",
   "execution_count": null,
   "id": "b8cdb247",
   "metadata": {},
   "outputs": [],
   "source": []
  },
  {
   "cell_type": "code",
   "execution_count": null,
   "id": "4112ceac",
   "metadata": {},
   "outputs": [],
   "source": []
  },
  {
   "cell_type": "code",
   "execution_count": null,
   "id": "701a2dfd",
   "metadata": {},
   "outputs": [],
   "source": []
  },
  {
   "cell_type": "code",
   "execution_count": null,
   "id": "b8dbb2fb",
   "metadata": {},
   "outputs": [],
   "source": []
  },
  {
   "cell_type": "code",
   "execution_count": null,
   "id": "40786da1",
   "metadata": {},
   "outputs": [],
   "source": []
  },
  {
   "cell_type": "code",
   "execution_count": null,
   "id": "b334d0a7",
   "metadata": {},
   "outputs": [],
   "source": []
  },
  {
   "cell_type": "code",
   "execution_count": null,
   "id": "fb6b7e31",
   "metadata": {},
   "outputs": [],
   "source": []
  },
  {
   "cell_type": "code",
   "execution_count": null,
   "id": "69135293",
   "metadata": {},
   "outputs": [],
   "source": []
  },
  {
   "cell_type": "code",
   "execution_count": null,
   "id": "bb99a483",
   "metadata": {},
   "outputs": [],
   "source": []
  },
  {
   "cell_type": "code",
   "execution_count": null,
   "id": "2c0ff0fa",
   "metadata": {},
   "outputs": [],
   "source": []
  },
  {
   "cell_type": "code",
   "execution_count": null,
   "id": "ed7304ff",
   "metadata": {},
   "outputs": [],
   "source": []
  },
  {
   "cell_type": "code",
   "execution_count": null,
   "id": "3628d934",
   "metadata": {},
   "outputs": [],
   "source": []
  },
  {
   "cell_type": "code",
   "execution_count": null,
   "id": "33c1590d",
   "metadata": {},
   "outputs": [],
   "source": []
  },
  {
   "cell_type": "code",
   "execution_count": null,
   "id": "f017658a",
   "metadata": {},
   "outputs": [],
   "source": []
  },
  {
   "cell_type": "code",
   "execution_count": null,
   "id": "dc922292",
   "metadata": {},
   "outputs": [],
   "source": []
  },
  {
   "cell_type": "code",
   "execution_count": null,
   "id": "36665352",
   "metadata": {},
   "outputs": [],
   "source": []
  },
  {
   "cell_type": "code",
   "execution_count": null,
   "id": "afeb23e6",
   "metadata": {},
   "outputs": [],
   "source": []
  },
  {
   "cell_type": "code",
   "execution_count": null,
   "id": "bce4a864",
   "metadata": {},
   "outputs": [],
   "source": []
  },
  {
   "cell_type": "code",
   "execution_count": 62,
   "id": "0dcc7aab",
   "metadata": {},
   "outputs": [
    {
     "data": {
      "text/plain": [
       "dict_keys(['Rule_based_extraction'])"
      ]
     },
     "execution_count": 62,
     "metadata": {},
     "output_type": "execute_result"
    }
   ],
   "source": [
    "node"
   ]
  },
  {
   "cell_type": "code",
   "execution_count": 65,
   "id": "695d6007",
   "metadata": {},
   "outputs": [
    {
     "data": {
      "text/plain": [
       "True"
      ]
     },
     "execution_count": 65,
     "metadata": {},
     "output_type": "execute_result"
    }
   ],
   "source": [
    "list(node)[0] == 'Rule_based_extraction'"
   ]
  },
  {
   "cell_type": "code",
   "execution_count": null,
   "id": "af7aeba1",
   "metadata": {},
   "outputs": [],
   "source": []
  },
  {
   "cell_type": "code",
   "execution_count": 23,
   "id": "1ec5442f",
   "metadata": {},
   "outputs": [],
   "source": [
    "node = data.keys()"
   ]
  },
  {
   "cell_type": "code",
   "execution_count": 24,
   "id": "9d2f5d8b",
   "metadata": {},
   "outputs": [
    {
     "data": {
      "text/plain": [
       "dict_keys(['NER'])"
      ]
     },
     "execution_count": 24,
     "metadata": {},
     "output_type": "execute_result"
    }
   ],
   "source": [
    "node"
   ]
  },
  {
   "cell_type": "code",
   "execution_count": null,
   "id": "abc6fb70",
   "metadata": {},
   "outputs": [],
   "source": []
  },
  {
   "cell_type": "code",
   "execution_count": 2,
   "id": "fa12267b",
   "metadata": {},
   "outputs": [
    {
     "data": {
      "text/plain": [
       "{'NER': {'data': [{'annotation': {'annotation': 'Buyer_Name',\n",
       "     'end_position': [6],\n",
       "     'page_no': '1',\n",
       "     'score': ['0.37638536'],\n",
       "     'sentence_no': '9',\n",
       "     'starting_index': [0],\n",
       "     'unique_id': 'd0840592-90e2-49f6-9422-a86728347338',\n",
       "     'word': 'Гифоник',\n",
       "     'word_index': [0],\n",
       "     'word_list': ['Гифоник']},\n",
       "    'attribute_list': [],\n",
       "    'attribute_name': 'Buyer_Name',\n",
       "    'attribute_type': 'global',\n",
       "    'order': 1,\n",
       "    'value': 'Гифоник'},\n",
       "   {'annotation': {'annotation': 'GST',\n",
       "     'end_position': [14],\n",
       "     'page_no': '1',\n",
       "     'score': ['0.91135204'],\n",
       "     'sentence_no': '40',\n",
       "     'starting_index': [9],\n",
       "     'unique_id': '2d3bd17b-e6b6-4e5d-9664-6d020ca19168',\n",
       "     'word': '448.00',\n",
       "     'word_index': [4],\n",
       "     'word_list': ['448.00']},\n",
       "    'attribute_list': [],\n",
       "    'attribute_name': 'GST',\n",
       "    'attribute_type': 'global',\n",
       "    'order': 2,\n",
       "    'value': '448.00'},\n",
       "   {'annotation': {'annotation': 'Invoice_Amount_With_GST',\n",
       "     'end_position': [12],\n",
       "     'page_no': '1',\n",
       "     'score': ['0.53435355'],\n",
       "     'sentence_no': '41',\n",
       "     'starting_index': [5],\n",
       "     'unique_id': 'c1476dfe-556c-499d-917e-f4b719604e4f',\n",
       "     'word': '6,848.00',\n",
       "     'word_index': [2],\n",
       "     'word_list': ['6,848.00']},\n",
       "    'attribute_list': [],\n",
       "    'attribute_name': 'Invoice_Amount_With_GST',\n",
       "    'attribute_type': 'global',\n",
       "    'order': 3,\n",
       "    'value': '6,848.00'},\n",
       "   {'annotation': {'annotation': 'Invoice_Amount_Without_GST',\n",
       "     'end_position': [36],\n",
       "     'page_no': '1',\n",
       "     'score': ['0.9999982'],\n",
       "     'sentence_no': '39',\n",
       "     'starting_index': [29],\n",
       "     'unique_id': '3a7edcfa-661a-4c19-ab6a-ca0ea8d34fce',\n",
       "     'word': '6,400.00',\n",
       "     'word_index': [12],\n",
       "     'word_list': ['6,400.00']},\n",
       "    'attribute_list': [],\n",
       "    'attribute_name': 'Invoice_Amount_Without_GST',\n",
       "    'attribute_type': 'global',\n",
       "    'order': 4,\n",
       "    'value': '6,400.00'},\n",
       "   {'annotation': {'annotation': 'Invoice_Date',\n",
       "     'end_position': [23, 24, 26, 27, 31],\n",
       "     'page_no': '1',\n",
       "     'score': ['0.9999864',\n",
       "      '0.9971521',\n",
       "      '0.99538356',\n",
       "      '0.99380684',\n",
       "      '0.99988806'],\n",
       "     'sentence_no': '11',\n",
       "     'starting_index': [22, 24, 25, 27, 28],\n",
       "     'unique_id': 'cfab2667-6519-47a0-84d3-ed72974ccc92',\n",
       "     'word': '13/06/2020',\n",
       "     'word_index': [6, 7, 8, 9, 10],\n",
       "     'word_list': ['13', '/', '06', '/', '2020']},\n",
       "    'attribute_list': [],\n",
       "    'attribute_name': 'Invoice_Date',\n",
       "    'attribute_type': 'global',\n",
       "    'order': 5,\n",
       "    'value': '13/06/2020'},\n",
       "   {'annotation': {'annotation': 'Invoice_Number',\n",
       "     'end_position': [31],\n",
       "     'page_no': '1',\n",
       "     'score': ['0.99805754'],\n",
       "     'sentence_no': '8',\n",
       "     'starting_index': [28],\n",
       "     'unique_id': '2bd36f25-e052-4451-a301-0ee0494cad70',\n",
       "     'word': '3026',\n",
       "     'word_index': [8],\n",
       "     'word_list': ['3026']},\n",
       "    'attribute_list': [],\n",
       "    'attribute_name': 'Invoice_Number',\n",
       "    'attribute_type': 'global',\n",
       "    'order': 6,\n",
       "    'value': '3026'},\n",
       "   {'annotation': {'annotation': 'PO_Number',\n",
       "     'end_position': [6, 7, 9],\n",
       "     'page_no': '1',\n",
       "     'score': ['0.84468335', '0.92139363', '0'],\n",
       "     'sentence_no': '15',\n",
       "     'starting_index': [0, 7, 8],\n",
       "     'unique_id': 'b4e04bfc-326f-44c8-b862-a31c42d8f798',\n",
       "     'word': '3XT0276-21',\n",
       "     'word_index': [0, 1, 2],\n",
       "     'word_list': ['3XT0276', '-', '21']},\n",
       "    'attribute_list': [],\n",
       "    'attribute_name': 'PO_Number',\n",
       "    'attribute_type': 'global',\n",
       "    'order': 7,\n",
       "    'value': '3XT0276-21'},\n",
       "   {'annotation': {'annotation': 'Seller_Name',\n",
       "     'end_position': [3, 11, 16, 23, 27],\n",
       "     'page_no': '1',\n",
       "     'score': ['0.54601485', '0.9126061', '0.92311174', '0.85509235', '0'],\n",
       "     'sentence_no': '1',\n",
       "     'starting_index': [0, 5, 13, 18, 25],\n",
       "     'unique_id': 'b73b3351-3637-40a4-a591-526d3cad7884',\n",
       "     'word': 'Олон нийтийн тайз хувийн ХХК',\n",
       "     'word_index': [0, 2, 4, 6, 8],\n",
       "     'word_list': ['Олон', 'нийтийн', 'тайз', 'хувийн', 'ХХК']},\n",
       "    'attribute_list': [],\n",
       "    'attribute_name': 'Seller_Name',\n",
       "    'attribute_type': 'global',\n",
       "    'order': 8,\n",
       "    'value': 'Олон нийтийн тайз хувийн ХХК'},\n",
       "   {'annotation': {'annotation': 'Seller_Name',\n",
       "     'end_position': [13, 17],\n",
       "     'page_no': '1',\n",
       "     'score': ['0.48132882', '0'],\n",
       "     'sentence_no': '9',\n",
       "     'starting_index': [8, 15],\n",
       "     'unique_id': 'd0840592-90e2-49f6-9422-a86728347338',\n",
       "     'word': 'хувийн ХХК',\n",
       "     'word_index': [2, 4],\n",
       "     'word_list': ['хувийн', 'ХХК']},\n",
       "    'attribute_list': [],\n",
       "    'attribute_name': 'Seller_Name',\n",
       "    'attribute_type': 'global',\n",
       "    'order': 8,\n",
       "    'value': 'хувийн ХХК'}]}}"
      ]
     },
     "execution_count": 2,
     "metadata": {},
     "output_type": "execute_result"
    }
   ],
   "source": [
    "data"
   ]
  },
  {
   "cell_type": "code",
   "execution_count": 20,
   "id": "7dde337a",
   "metadata": {},
   "outputs": [],
   "source": [
    "files_output_data = [{'solution_id': '9234f64f-bb69-4db3-9817-05d862bed654', 'id': '1a15b9fa-882f-44e4-a6c0-f26246f7f6c1', 'name': 'invoice_7_1.png', 'data': {'NER': {'data': [{'annotation': {'annotation': 'Buyer_Name', 'end_position': [6], 'page_no': '1', 'score': ['0.37638536'], 'sentence_no': '9', 'starting_index': [0], 'unique_id': 'd0840592-90e2-49f6-9422-a86728347338', 'word': 'Гифоник', 'word_index': [0], 'word_list': ['Гифоник']}, 'attribute_list': [], 'attribute_name': 'Buyer_Name', 'attribute_type': 'global', 'order': 1, 'value': 'Гифоник'}, {'annotation': {'annotation': 'GST', 'end_position': [14], 'page_no': '1', 'score': ['0.91135204'], 'sentence_no': '40', 'starting_index': [9], 'unique_id': '2d3bd17b-e6b6-4e5d-9664-6d020ca19168', 'word': '448.00', 'word_index': [4], 'word_list': ['448.00']}, 'attribute_list': [], 'attribute_name': 'GST', 'attribute_type': 'global', 'order': 2, 'value': '448.00'}, {'annotation': {'annotation': 'Invoice_Amount_With_GST', 'end_position': [12], 'page_no': '1', 'score': ['0.53435355'], 'sentence_no': '41', 'starting_index': [5], 'unique_id': 'c1476dfe-556c-499d-917e-f4b719604e4f', 'word': '6,848.00', 'word_index': [2], 'word_list': ['6,848.00']}, 'attribute_list': [], 'attribute_name': 'Invoice_Amount_With_GST', 'attribute_type': 'global', 'order': 3, 'value': '6,848.00'}, {'annotation': {'annotation': 'Invoice_Amount_Without_GST', 'end_position': [36], 'page_no': '1', 'score': ['0.9999982'], 'sentence_no': '39', 'starting_index': [29], 'unique_id': '3a7edcfa-661a-4c19-ab6a-ca0ea8d34fce', 'word': '6,400.00', 'word_index': [12], 'word_list': ['6,400.00']}, 'attribute_list': [], 'attribute_name': 'Invoice_Amount_Without_GST', 'attribute_type': 'global', 'order': 4, 'value': '6,400.00'}, {'annotation': {'annotation': 'Invoice_Date', 'end_position': [23, 24, 26, 27, 31], 'page_no': '1', 'score': ['0.9999864', '0.9971521', '0.99538356', '0.99380684', '0.99988806'], 'sentence_no': '11', 'starting_index': [22, 24, 25, 27, 28], 'unique_id': 'cfab2667-6519-47a0-84d3-ed72974ccc92', 'word': '13/06/2020', 'word_index': [6, 7, 8, 9, 10], 'word_list': ['13', '/', '06', '/', '2020']}, 'attribute_list': [], 'attribute_name': 'Invoice_Date', 'attribute_type': 'global', 'order': 5, 'value': '13/06/2020'}, {'annotation': {'annotation': 'Invoice_Number', 'end_position': [31], 'page_no': '1', 'score': ['0.99805754'], 'sentence_no': '8', 'starting_index': [28], 'unique_id': '2bd36f25-e052-4451-a301-0ee0494cad70', 'word': '3026', 'word_index': [8], 'word_list': ['3026']}, 'attribute_list': [], 'attribute_name': 'Invoice_Number', 'attribute_type': 'global', 'order': 6, 'value': '3026'}, {'annotation': {'annotation': 'PO_Number', 'end_position': [6, 7, 9], 'page_no': '1', 'score': ['0.84468335', '0.92139363', '0'], 'sentence_no': '15', 'starting_index': [0, 7, 8], 'unique_id': 'b4e04bfc-326f-44c8-b862-a31c42d8f798', 'word': '3XT0276-21', 'word_index': [0, 1, 2], 'word_list': ['3XT0276', '-', '21']}, 'attribute_list': [], 'attribute_name': 'PO_Number', 'attribute_type': 'global', 'order': 7, 'value': '3XT0276-21'}, {'annotation': {'annotation': 'Seller_Name', 'end_position': [3, 11, 16, 23, 27], 'page_no': '1', 'score': ['0.54601485', '0.9126061', '0.92311174', '0.85509235', '0'], 'sentence_no': '1', 'starting_index': [0, 5, 13, 18, 25], 'unique_id': 'b73b3351-3637-40a4-a591-526d3cad7884', 'word': 'Олон нийтийн тайз хувийн ХХК', 'word_index': [0, 2, 4, 6, 8], 'word_list': ['Олон', 'нийтийн', 'тайз', 'хувийн', 'ХХК']}, 'attribute_list': [], 'attribute_name': 'Seller_Name', 'attribute_type': 'global', 'order': 8, 'value': 'Олон нийтийн тайз хувийн ХХК'}, {'annotation': {'annotation': 'Seller_Name', 'end_position': [13, 17], 'page_no': '1', 'score': ['0.48132882', '0'], 'sentence_no': '9', 'starting_index': [8, 15], 'unique_id': 'd0840592-90e2-49f6-9422-a86728347338', 'word': 'хувийн ХХК', 'word_index': [2, 4], 'word_list': ['хувийн', 'ХХК']}, 'attribute_list': [], 'attribute_name': 'Seller_Name', 'attribute_type': 'global', 'order': 8, 'value': 'хувийн ХХК'}]}}}]"
   ]
  },
  {
   "cell_type": "code",
   "execution_count": 21,
   "id": "1b55e3c6",
   "metadata": {},
   "outputs": [
    {
     "ename": "AttributeError",
     "evalue": "'list' object has no attribute 'keys'",
     "output_type": "error",
     "traceback": [
      "\u001b[0;31m---------------------------------------------------------------------------\u001b[0m",
      "\u001b[0;31mAttributeError\u001b[0m                            Traceback (most recent call last)",
      "Input \u001b[0;32mIn [21]\u001b[0m, in \u001b[0;36m<module>\u001b[0;34m\u001b[0m\n\u001b[0;32m----> 1\u001b[0m node \u001b[38;5;241m=\u001b[39m \u001b[43mfiles_output_data\u001b[49m\u001b[38;5;241;43m.\u001b[39;49m\u001b[43mkeys\u001b[49m()\n",
      "\u001b[0;31mAttributeError\u001b[0m: 'list' object has no attribute 'keys'"
     ]
    }
   ],
   "source": [
    "node = files_output_data.keys()"
   ]
  },
  {
   "cell_type": "code",
   "execution_count": null,
   "id": "163de471",
   "metadata": {},
   "outputs": [],
   "source": []
  },
  {
   "cell_type": "code",
   "execution_count": 88,
   "id": "b87564d7",
   "metadata": {},
   "outputs": [
    {
     "name": "stdout",
     "output_type": "stream",
     "text": [
      "{'Buyer_Name': 'Гифоник', 'GST': '448.00', 'Invoice_Amount_With_GST': '6,848.00', 'Invoice_Amount_Without_GST': '6,400.00', 'Invoice_Date': '13/06/2020', 'Invoice_Number': '3026', 'PO_Number': '3XT0276-21', 'Seller_Name': 'Олон нийтийн тайз хувийн ХХК', 'Seller_Nameхувийн ХХК': 'хувийн ХХК'}\n"
     ]
    }
   ],
   "source": [
    "final_dict = {}\n",
    "for each_file_data in files_output_data:\n",
    "    for data in each_file_data['data']['NER']['data']: \n",
    "        if data['attribute_name'] in final_dict.keys():\n",
    "            final_dict['attribute_name'] += f\" | {data['attribute_name']}\"\n",
    "#             print(data['attribute_name'],data['value'])\n",
    "        final_dict[data['attribute_name']] = data['value']\n",
    "        \n",
    "print(final_dict)"
   ]
  },
  {
   "cell_type": "code",
   "execution_count": null,
   "id": "a746a2b2",
   "metadata": {},
   "outputs": [],
   "source": []
  },
  {
   "cell_type": "code",
   "execution_count": null,
   "id": "d6d6646b",
   "metadata": {},
   "outputs": [],
   "source": []
  },
  {
   "cell_type": "code",
   "execution_count": null,
   "id": "5b8d9221",
   "metadata": {},
   "outputs": [],
   "source": []
  },
  {
   "cell_type": "code",
   "execution_count": null,
   "id": "fe06a057",
   "metadata": {},
   "outputs": [],
   "source": []
  },
  {
   "cell_type": "code",
   "execution_count": null,
   "id": "5ba6c113",
   "metadata": {},
   "outputs": [],
   "source": []
  },
  {
   "cell_type": "code",
   "execution_count": null,
   "id": "318e0a55",
   "metadata": {},
   "outputs": [],
   "source": []
  },
  {
   "cell_type": "code",
   "execution_count": null,
   "id": "ba0a3927",
   "metadata": {},
   "outputs": [],
   "source": []
  },
  {
   "cell_type": "code",
   "execution_count": null,
   "id": "5a58c471",
   "metadata": {},
   "outputs": [],
   "source": []
  },
  {
   "cell_type": "code",
   "execution_count": null,
   "id": "f8799119",
   "metadata": {},
   "outputs": [],
   "source": []
  },
  {
   "cell_type": "code",
   "execution_count": null,
   "id": "be495a16",
   "metadata": {},
   "outputs": [],
   "source": []
  },
  {
   "cell_type": "code",
   "execution_count": null,
   "id": "07c61048",
   "metadata": {},
   "outputs": [],
   "source": []
  },
  {
   "cell_type": "code",
   "execution_count": null,
   "id": "468437c9",
   "metadata": {},
   "outputs": [],
   "source": []
  },
  {
   "cell_type": "code",
   "execution_count": null,
   "id": "1265f0e8",
   "metadata": {},
   "outputs": [],
   "source": []
  },
  {
   "cell_type": "code",
   "execution_count": null,
   "id": "c8ddbd09",
   "metadata": {},
   "outputs": [],
   "source": []
  },
  {
   "cell_type": "code",
   "execution_count": null,
   "id": "f4db053c",
   "metadata": {},
   "outputs": [],
   "source": []
  },
  {
   "cell_type": "code",
   "execution_count": null,
   "id": "9f47702a",
   "metadata": {},
   "outputs": [],
   "source": []
  },
  {
   "cell_type": "code",
   "execution_count": null,
   "id": "5b9b5f6c",
   "metadata": {},
   "outputs": [],
   "source": []
  },
  {
   "cell_type": "code",
   "execution_count": null,
   "id": "eb6237ee",
   "metadata": {},
   "outputs": [],
   "source": []
  },
  {
   "cell_type": "code",
   "execution_count": null,
   "id": "b9001b66",
   "metadata": {},
   "outputs": [],
   "source": []
  },
  {
   "cell_type": "code",
   "execution_count": null,
   "id": "95c77986",
   "metadata": {},
   "outputs": [],
   "source": []
  },
  {
   "cell_type": "code",
   "execution_count": null,
   "id": "a8b3eb1b",
   "metadata": {},
   "outputs": [],
   "source": []
  },
  {
   "cell_type": "code",
   "execution_count": null,
   "id": "280a8807",
   "metadata": {},
   "outputs": [],
   "source": []
  },
  {
   "cell_type": "code",
   "execution_count": null,
   "id": "135c12c2",
   "metadata": {},
   "outputs": [],
   "source": []
  },
  {
   "cell_type": "code",
   "execution_count": null,
   "id": "fa051840",
   "metadata": {},
   "outputs": [],
   "source": []
  },
  {
   "cell_type": "code",
   "execution_count": null,
   "id": "95ca5b45",
   "metadata": {},
   "outputs": [],
   "source": []
  },
  {
   "cell_type": "code",
   "execution_count": null,
   "id": "8508c312",
   "metadata": {},
   "outputs": [],
   "source": []
  },
  {
   "cell_type": "code",
   "execution_count": null,
   "id": "48738d6f",
   "metadata": {},
   "outputs": [],
   "source": []
  },
  {
   "cell_type": "code",
   "execution_count": null,
   "id": "4e7ec1f0",
   "metadata": {},
   "outputs": [],
   "source": []
  },
  {
   "cell_type": "code",
   "execution_count": null,
   "id": "b00df52a",
   "metadata": {},
   "outputs": [],
   "source": []
  },
  {
   "cell_type": "code",
   "execution_count": null,
   "id": "4c0c0b9b",
   "metadata": {},
   "outputs": [],
   "source": []
  },
  {
   "cell_type": "code",
   "execution_count": null,
   "id": "94f30e28",
   "metadata": {},
   "outputs": [],
   "source": []
  },
  {
   "cell_type": "code",
   "execution_count": 4,
   "id": "72ce0778",
   "metadata": {},
   "outputs": [],
   "source": [
    "decontruction_data = [{'paragraph': {'page_number': '1', 'entity_value': '', 'entity': '', 'value': 'Үнэгүй  цай  эсвэл  кофе  дутмаг .', 'subsections': []}}, {'paragraph': {'page_number': '1', 'entity_value': '', 'entity': '', 'value': 'Маш  сайн  зочид  буудал - мөнгөний  үнэ  цэнэ .', 'subsections': []}}, {'paragraph': {'page_number': '1', 'entity_value': '', 'entity': '', 'value': 'Маш  тухтай  матрас .', 'subsections': []}}]"
   ]
  },
  {
   "cell_type": "code",
   "execution_count": 8,
   "id": "985b8f35",
   "metadata": {},
   "outputs": [
    {
     "name": "stdout",
     "output_type": "stream",
     "text": [
      "{'paragraph': {'page_number': '1', 'entity_value': '', 'entity': '', 'value': 'Үнэгүй  цай  эсвэл  кофе  дутмаг .', 'subsections': []}}\n",
      "{'paragraph': {'page_number': '1', 'entity_value': '', 'entity': '', 'value': 'Маш  сайн  зочид  буудал - мөнгөний  үнэ  цэнэ .', 'subsections': []}}\n",
      "{'paragraph': {'page_number': '1', 'entity_value': '', 'entity': '', 'value': 'Маш  тухтай  матрас .', 'subsections': []}}\n"
     ]
    }
   ],
   "source": [
    "for value in decontruction_data:\n",
    "    print(value)"
   ]
  },
  {
   "cell_type": "code",
   "execution_count": null,
   "id": "0a99aa14",
   "metadata": {},
   "outputs": [],
   "source": []
  },
  {
   "cell_type": "code",
   "execution_count": null,
   "id": "32df2084",
   "metadata": {},
   "outputs": [],
   "source": []
  },
  {
   "cell_type": "code",
   "execution_count": 6,
   "id": "3af9c065",
   "metadata": {},
   "outputs": [
    {
     "ename": "NameError",
     "evalue": "name 'self' is not defined",
     "output_type": "error",
     "traceback": [
      "\u001b[0;31m---------------------------------------------------------------------------\u001b[0m",
      "\u001b[0;31mNameError\u001b[0m                                 Traceback (most recent call last)",
      "Input \u001b[0;32mIn [6]\u001b[0m, in \u001b[0;36m<module>\u001b[0;34m\u001b[0m\n\u001b[1;32m      1\u001b[0m \u001b[38;5;66;03m# for page_number, values in decontruction_data.items():\u001b[39;00m\n\u001b[1;32m      2\u001b[0m \u001b[38;5;28;01mfor\u001b[39;00m value \u001b[38;5;129;01min\u001b[39;00m decontruction_data:\n\u001b[0;32m----> 3\u001b[0m     dfs_result \u001b[38;5;241m=\u001b[39m \u001b[38;5;28mlist\u001b[39m(\u001b[38;5;28;43mself\u001b[39;49m\u001b[38;5;241m.\u001b[39mget_dfs_path(value))\n\u001b[1;32m      4\u001b[0m     final_dict, row_number \u001b[38;5;241m=\u001b[39m \u001b[38;5;28mself\u001b[39m\u001b[38;5;241m.\u001b[39mget_df(dfs_result, final_dict, row_number)\n",
      "\u001b[0;31mNameError\u001b[0m: name 'self' is not defined"
     ]
    }
   ],
   "source": [
    "# for page_number, values in decontruction_data.items():\n",
    "for value in decontruction_data:\n",
    "    dfs_result = list(self.get_dfs_path(value))\n",
    "    final_dict, row_number = self.get_df(dfs_result, final_dict, row_number)"
   ]
  },
  {
   "cell_type": "code",
   "execution_count": null,
   "id": "57771e30",
   "metadata": {},
   "outputs": [],
   "source": []
  },
  {
   "cell_type": "code",
   "execution_count": null,
   "id": "d39e2462",
   "metadata": {},
   "outputs": [],
   "source": []
  },
  {
   "cell_type": "code",
   "execution_count": null,
   "id": "4476a43c",
   "metadata": {},
   "outputs": [],
   "source": []
  }
 ],
 "metadata": {
  "kernelspec": {
   "display_name": "Python 3 (ipykernel)",
   "language": "python",
   "name": "python3"
  },
  "language_info": {
   "codemirror_mode": {
    "name": "ipython",
    "version": 3
   },
   "file_extension": ".py",
   "mimetype": "text/x-python",
   "name": "python",
   "nbconvert_exporter": "python",
   "pygments_lexer": "ipython3",
   "version": "3.8.10"
  }
 },
 "nbformat": 4,
 "nbformat_minor": 5
}

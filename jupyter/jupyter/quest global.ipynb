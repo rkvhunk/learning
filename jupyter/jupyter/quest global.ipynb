{
 "cells": [
  {
   "cell_type": "code",
   "execution_count": 22,
   "id": "7df71fc8",
   "metadata": {},
   "outputs": [],
   "source": [
    "class example:\n",
    "    def __init__(self, a, b):\n",
    "        self.a = a\n",
    "        self.b = b\n",
    "\n",
    "    def function_overriding(self):\n",
    "        return self.a*self.b\n",
    "\n",
    "#     def function_overriding(self):\n",
    "#         return self.a+self.b"
   ]
  },
  {
   "cell_type": "code",
   "execution_count": 23,
   "id": "cd372e02",
   "metadata": {},
   "outputs": [
    {
     "data": {
      "text/plain": [
       "50"
      ]
     },
     "execution_count": 23,
     "metadata": {},
     "output_type": "execute_result"
    }
   ],
   "source": [
    "obj = example(5,10)\n",
    "obj.function_overriding()"
   ]
  },
  {
   "cell_type": "code",
   "execution_count": 24,
   "id": "f78cf8a9",
   "metadata": {},
   "outputs": [],
   "source": [
    "dict_1 = {'a':10}"
   ]
  },
  {
   "cell_type": "code",
   "execution_count": 25,
   "id": "fcf207a0",
   "metadata": {},
   "outputs": [
    {
     "name": "stdout",
     "output_type": "stream",
     "text": [
      "{'a': 10}\n"
     ]
    }
   ],
   "source": [
    "print(dict_1)"
   ]
  },
  {
   "cell_type": "code",
   "execution_count": 26,
   "id": "5f5b271a",
   "metadata": {},
   "outputs": [],
   "source": [
    "dict_1.update({'b':10})"
   ]
  },
  {
   "cell_type": "code",
   "execution_count": 27,
   "id": "5529ccee",
   "metadata": {},
   "outputs": [
    {
     "data": {
      "text/plain": [
       "{'a': 10, 'b': 10}"
      ]
     },
     "execution_count": 27,
     "metadata": {},
     "output_type": "execute_result"
    }
   ],
   "source": [
    "dict_1"
   ]
  },
  {
   "cell_type": "code",
   "execution_count": 38,
   "id": "516284d8",
   "metadata": {},
   "outputs": [],
   "source": [
    "li = [3,5,6,2,9,7]"
   ]
  },
  {
   "cell_type": "code",
   "execution_count": 47,
   "id": "34712c22",
   "metadata": {},
   "outputs": [
    {
     "name": "stdout",
     "output_type": "stream",
     "text": [
      "[3, 5, 6, 2, 9, 7]\n",
      "[3, 5, 6, 2, 9, 7]\n",
      "[3, 5, 6, 2, 9, 7]\n",
      "[3, 5, 2, 6, 9, 7]\n",
      "[3, 5, 2, 6, 9, 7]\n",
      "[3, 5, 2, 6, 7, 9]\n",
      "[3, 5, 2, 6, 7, 9]\n",
      "[3, 2, 5, 6, 7, 9]\n",
      "[3, 2, 5, 6, 7, 9]\n",
      "[3, 2, 5, 6, 7, 9]\n",
      "[2, 3, 5, 6, 7, 9]\n",
      "[2, 3, 5, 6, 7, 9]\n",
      "[2, 3, 5, 6, 7, 9]\n",
      "[2, 3, 5, 6, 7, 9]\n",
      "[2, 3, 5, 6, 7, 9]\n"
     ]
    }
   ],
   "source": [
    "li = [3,5,6,2,9,7]\n",
    "for i in range(len(li)):\n",
    "    for j in range(0, len(li)-1-i):\n",
    "        print(li)\n",
    "        if li[j] > li[j+1]:\n",
    "            temp = li[j]\n",
    "            li[j] = li[j+1]\n",
    "            li[j+1] = temp\n"
   ]
  },
  {
   "cell_type": "code",
   "execution_count": null,
   "id": "6bab4ee7",
   "metadata": {},
   "outputs": [],
   "source": []
  },
  {
   "cell_type": "code",
   "execution_count": null,
   "id": "bcb36483",
   "metadata": {},
   "outputs": [],
   "source": []
  },
  {
   "cell_type": "code",
   "execution_count": null,
   "id": "9c5a7da9",
   "metadata": {},
   "outputs": [],
   "source": []
  },
  {
   "cell_type": "code",
   "execution_count": null,
   "id": "705475c5",
   "metadata": {},
   "outputs": [],
   "source": []
  },
  {
   "cell_type": "code",
   "execution_count": null,
   "id": "3c83739a",
   "metadata": {},
   "outputs": [],
   "source": []
  },
  {
   "cell_type": "code",
   "execution_count": null,
   "id": "35911062",
   "metadata": {},
   "outputs": [],
   "source": []
  },
  {
   "cell_type": "code",
   "execution_count": null,
   "id": "a75c9051",
   "metadata": {},
   "outputs": [],
   "source": [
    "for i in range(10,30):\n",
    "    flag = true\n",
    "    if i%2==0"
   ]
  },
  {
   "cell_type": "code",
   "execution_count": 45,
   "id": "b114af4b",
   "metadata": {},
   "outputs": [
    {
     "ename": "SyntaxError",
     "evalue": "invalid syntax (3329057922.py, line 2)",
     "output_type": "error",
     "traceback": [
      "\u001b[0;36m  Input \u001b[0;32mIn [45]\u001b[0;36m\u001b[0m\n\u001b[0;31m    types of thread\u001b[0m\n\u001b[0m          ^\u001b[0m\n\u001b[0;31mSyntaxError\u001b[0m\u001b[0;31m:\u001b[0m invalid syntax\n"
     ]
    }
   ],
   "source": [
    "multithreading \n",
    "types of thread\n",
    "polymorphism (code)\n",
    "prime\n",
    "2nd largest element\n",
    "sorting\n",
    "design pattern"
   ]
  },
  {
   "cell_type": "code",
   "execution_count": null,
   "id": "cff64398",
   "metadata": {},
   "outputs": [],
   "source": []
  },
  {
   "cell_type": "code",
   "execution_count": null,
   "id": "fd7bcca4",
   "metadata": {},
   "outputs": [],
   "source": []
  },
  {
   "cell_type": "code",
   "execution_count": null,
   "id": "20618e07",
   "metadata": {},
   "outputs": [],
   "source": []
  },
  {
   "cell_type": "code",
   "execution_count": null,
   "id": "6c2df726",
   "metadata": {},
   "outputs": [],
   "source": []
  },
  {
   "cell_type": "code",
   "execution_count": null,
   "id": "b223fe45",
   "metadata": {},
   "outputs": [],
   "source": []
  },
  {
   "cell_type": "code",
   "execution_count": 31,
   "id": "267f7e72",
   "metadata": {},
   "outputs": [
    {
     "data": {
      "text/plain": [
       "[2, 9, 7, 6, 5, 3]"
      ]
     },
     "execution_count": 31,
     "metadata": {},
     "output_type": "execute_result"
    }
   ],
   "source": [
    "li"
   ]
  },
  {
   "cell_type": "code",
   "execution_count": null,
   "id": "f4e9defc",
   "metadata": {},
   "outputs": [],
   "source": []
  },
  {
   "cell_type": "code",
   "execution_count": null,
   "id": "b35b7524",
   "metadata": {},
   "outputs": [],
   "source": []
  },
  {
   "cell_type": "code",
   "execution_count": null,
   "id": "1745a5da",
   "metadata": {},
   "outputs": [],
   "source": []
  },
  {
   "cell_type": "code",
   "execution_count": null,
   "id": "9edf4cbb",
   "metadata": {},
   "outputs": [],
   "source": []
  },
  {
   "cell_type": "code",
   "execution_count": null,
   "id": "25afd48d",
   "metadata": {},
   "outputs": [],
   "source": []
  },
  {
   "cell_type": "code",
   "execution_count": null,
   "id": "8a29df73",
   "metadata": {},
   "outputs": [],
   "source": []
  },
  {
   "cell_type": "code",
   "execution_count": null,
   "id": "9840f794",
   "metadata": {},
   "outputs": [],
   "source": []
  },
  {
   "cell_type": "code",
   "execution_count": null,
   "id": "9e850b1d",
   "metadata": {},
   "outputs": [],
   "source": []
  },
  {
   "cell_type": "code",
   "execution_count": null,
   "id": "654fd019",
   "metadata": {},
   "outputs": [],
   "source": []
  },
  {
   "cell_type": "code",
   "execution_count": null,
   "id": "cbe70e9e",
   "metadata": {},
   "outputs": [],
   "source": []
  },
  {
   "cell_type": "code",
   "execution_count": 5,
   "id": "c6c07b7c",
   "metadata": {},
   "outputs": [
    {
     "data": {
      "text/plain": [
       "15"
      ]
     },
     "execution_count": 5,
     "metadata": {},
     "output_type": "execute_result"
    }
   ],
   "source": [
    "obj"
   ]
  },
  {
   "cell_type": "code",
   "execution_count": null,
   "id": "c6db03d4",
   "metadata": {},
   "outputs": [],
   "source": []
  },
  {
   "cell_type": "code",
   "execution_count": null,
   "id": "5c3bc021",
   "metadata": {},
   "outputs": [],
   "source": []
  }
 ],
 "metadata": {
  "kernelspec": {
   "display_name": "Python 3 (ipykernel)",
   "language": "python",
   "name": "python3"
  },
  "language_info": {
   "codemirror_mode": {
    "name": "ipython",
    "version": 3
   },
   "file_extension": ".py",
   "mimetype": "text/x-python",
   "name": "python",
   "nbconvert_exporter": "python",
   "pygments_lexer": "ipython3",
   "version": "3.8.10"
  }
 },
 "nbformat": 4,
 "nbformat_minor": 5
}

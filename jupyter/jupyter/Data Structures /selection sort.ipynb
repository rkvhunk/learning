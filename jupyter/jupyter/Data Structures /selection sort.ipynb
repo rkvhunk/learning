{
 "cells": [
  {
   "cell_type": "code",
   "execution_count": null,
   "id": "8bc2299f",
   "metadata": {},
   "outputs": [],
   "source": [
    "#selection sort"
   ]
  },
  {
   "cell_type": "code",
   "execution_count": 5,
   "id": "5a9763f2",
   "metadata": {},
   "outputs": [],
   "source": [
    "data = [6,4,7,8,3,1,9,5,2,0]"
   ]
  },
  {
   "cell_type": "code",
   "execution_count": 8,
   "id": "2b4a6931",
   "metadata": {},
   "outputs": [
    {
     "data": {
      "text/plain": [
       "[0, 1, 2, 3, 4, 5, 6, 7, 8, 9]"
      ]
     },
     "execution_count": 8,
     "metadata": {},
     "output_type": "execute_result"
    }
   ],
   "source": [
    "class selction_sort:\n",
    "    def __init__(self,data):\n",
    "        self.data = data\n",
    "\n",
    "    def selection(self):\n",
    "        for i in range(len(self.data)):\n",
    "            index = i\n",
    "            for j in range(i+1, len(self.data)):\n",
    "                if self.data[j] < self.data[index]:\n",
    "                    index = j\n",
    "            (self.data[i],self.data[index]) = (self.data[index],self.data[i])\n",
    "        return self.data\n",
    "s = selction_sort(data)\n",
    "s.selection()"
   ]
  }
 ],
 "metadata": {
  "kernelspec": {
   "display_name": "Python 3 (ipykernel)",
   "language": "python",
   "name": "python3"
  },
  "language_info": {
   "codemirror_mode": {
    "name": "ipython",
    "version": 3
   },
   "file_extension": ".py",
   "mimetype": "text/x-python",
   "name": "python",
   "nbconvert_exporter": "python",
   "pygments_lexer": "ipython3",
   "version": "3.8.10"
  }
 },
 "nbformat": 4,
 "nbformat_minor": 5
}

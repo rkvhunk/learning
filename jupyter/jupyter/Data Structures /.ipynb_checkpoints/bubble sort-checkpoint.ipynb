{
 "cells": [
  {
   "cell_type": "code",
   "execution_count": null,
   "id": "f480fa09",
   "metadata": {},
   "outputs": [],
   "source": [
    "#Bubble sort"
   ]
  },
  {
   "cell_type": "code",
   "execution_count": 46,
   "id": "f079c948",
   "metadata": {},
   "outputs": [],
   "source": [
    "input_data = [6,4,7,8,3,1,9,5,2,0]\n",
    "# input_data = [-2, 45, 0, 11, -9]"
   ]
  },
  {
   "cell_type": "code",
   "execution_count": 47,
   "id": "10c04986",
   "metadata": {},
   "outputs": [
    {
     "data": {
      "text/plain": [
       "[0, 1, 2, 3, 4, 5, 6, 7, 8, 9]"
      ]
     },
     "execution_count": 47,
     "metadata": {},
     "output_type": "execute_result"
    }
   ],
   "source": [
    "class bubble:\n",
    "    def __init__(self,input_data):\n",
    "        self.input_data = input_data\n",
    "        \n",
    "    def b_sort(self):\n",
    "        for i in range(len(self.input_data)):\n",
    "            swap = True\n",
    "            for j in range(0, len(self.input_data)-i-1):\n",
    "                if self.input_data[j] > self.input_data[j+1]:\n",
    "                    temp = self.input_data[j]\n",
    "                    self.input_data[j] = self.input_data[j+1]\n",
    "                    self.input_data[j+1] = temp\n",
    "                    swap = False\n",
    "            if swap:\n",
    "                break\n",
    "        return self.input_data\n",
    "            \n",
    "b = bubble(input_data)\n",
    "b.b_sort()"
   ]
  }
 ],
 "metadata": {
  "kernelspec": {
   "display_name": "Python 3 (ipykernel)",
   "language": "python",
   "name": "python3"
  },
  "language_info": {
   "codemirror_mode": {
    "name": "ipython",
    "version": 3
   },
   "file_extension": ".py",
   "mimetype": "text/x-python",
   "name": "python",
   "nbconvert_exporter": "python",
   "pygments_lexer": "ipython3",
   "version": "3.8.10"
  }
 },
 "nbformat": 4,
 "nbformat_minor": 5
}

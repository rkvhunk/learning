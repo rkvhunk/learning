{
 "cells": [
  {
   "cell_type": "code",
   "execution_count": 5,
   "id": "987ba6eb",
   "metadata": {},
   "outputs": [],
   "source": [
    "t = (1,2,3)"
   ]
  },
  {
   "cell_type": "code",
   "execution_count": 6,
   "id": "8add29cc",
   "metadata": {},
   "outputs": [
    {
     "data": {
      "text/plain": [
       "140673202385728"
      ]
     },
     "execution_count": 6,
     "metadata": {},
     "output_type": "execute_result"
    }
   ],
   "source": [
    "id(t)"
   ]
  },
  {
   "cell_type": "code",
   "execution_count": 7,
   "id": "9c947a26",
   "metadata": {},
   "outputs": [],
   "source": [
    "t = (1,2,3,4,5)"
   ]
  },
  {
   "cell_type": "code",
   "execution_count": 8,
   "id": "62643624",
   "metadata": {},
   "outputs": [
    {
     "data": {
      "text/plain": [
       "140673339967984"
      ]
     },
     "execution_count": 8,
     "metadata": {},
     "output_type": "execute_result"
    }
   ],
   "source": [
    "id(t)"
   ]
  },
  {
   "cell_type": "code",
   "execution_count": null,
   "id": "f8a5d215",
   "metadata": {},
   "outputs": [],
   "source": [
    "app = Flask()\n",
    "app.route('/check')\n",
    "app.run(debug=true, port=8080)\n"
   ]
  },
  {
   "cell_type": "code",
   "execution_count": null,
   "id": "7637c67b",
   "metadata": {},
   "outputs": [],
   "source": [
    "aws -> s3\n",
    "comprehend\n",
    "lambda\n",
    "ECR"
   ]
  },
  {
   "cell_type": "code",
   "execution_count": 3,
   "id": "13d20bec",
   "metadata": {},
   "outputs": [
    {
     "name": "stdout",
     "output_type": "stream",
     "text": [
      "(1, 2, 3, 4, 5)\n"
     ]
    }
   ],
   "source": [
    "print(t)"
   ]
  },
  {
   "cell_type": "code",
   "execution_count": 4,
   "id": "86f2dacd",
   "metadata": {},
   "outputs": [
    {
     "ename": "AttributeError",
     "evalue": "'tuple' object has no attribute 'append'",
     "output_type": "error",
     "traceback": [
      "\u001b[0;31m---------------------------------------------------------------------------\u001b[0m",
      "\u001b[0;31mAttributeError\u001b[0m                            Traceback (most recent call last)",
      "Input \u001b[0;32mIn [4]\u001b[0m, in \u001b[0;36m<module>\u001b[0;34m\u001b[0m\n\u001b[0;32m----> 1\u001b[0m \u001b[43mt\u001b[49m\u001b[38;5;241;43m.\u001b[39;49m\u001b[43mappend\u001b[49m(\u001b[38;5;241m2\u001b[39m)\n",
      "\u001b[0;31mAttributeError\u001b[0m: 'tuple' object has no attribute 'append'"
     ]
    }
   ],
   "source": [
    "t.append(2)"
   ]
  },
  {
   "cell_type": "code",
   "execution_count": null,
   "id": "e073f509",
   "metadata": {},
   "outputs": [],
   "source": [
    "append dn"
   ]
  },
  {
   "cell_type": "code",
   "execution_count": null,
   "id": "6526f31b",
   "metadata": {},
   "outputs": [],
   "source": [
    "dns/endpoint\n",
    "headers\n",
    "parameter"
   ]
  },
  {
   "cell_type": "code",
   "execution_count": null,
   "id": "8521be63",
   "metadata": {},
   "outputs": [],
   "source": [
    "dept\n",
    "salary"
   ]
  },
  {
   "cell_type": "code",
   "execution_count": null,
   "id": "05ee478f",
   "metadata": {},
   "outputs": [],
   "source": [
    "select max(salary) from dept where not in (select max(salary) from dept))"
   ]
  }
 ],
 "metadata": {
  "kernelspec": {
   "display_name": "Python 3 (ipykernel)",
   "language": "python",
   "name": "python3"
  },
  "language_info": {
   "codemirror_mode": {
    "name": "ipython",
    "version": 3
   },
   "file_extension": ".py",
   "mimetype": "text/x-python",
   "name": "python",
   "nbconvert_exporter": "python",
   "pygments_lexer": "ipython3",
   "version": "3.8.10"
  }
 },
 "nbformat": 4,
 "nbformat_minor": 5
}

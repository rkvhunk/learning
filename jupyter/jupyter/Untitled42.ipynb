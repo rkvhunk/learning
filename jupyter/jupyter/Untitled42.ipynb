{
 "cells": [
  {
   "cell_type": "code",
   "execution_count": null,
   "id": "e82e8434",
   "metadata": {},
   "outputs": [],
   "source": [
    "Problem statement : Design a Parking lot system with following features\n",
    "Initialize a parking lot with fixed capacity to parking 2 and 4 wheeler.Issue ticket to user once parkDisplay capacity of parking lot"
   ]
  },
  {
   "cell_type": "code",
   "execution_count": 14,
   "id": "1992d0e5",
   "metadata": {},
   "outputs": [
    {
     "name": "stdout",
     "output_type": "stream",
     "text": [
      "40\n",
      "20\n"
     ]
    }
   ],
   "source": [
    "class parking_system:\n",
    "    def __init__(self, capacity):\n",
    "        self.capacity = capacity\n",
    "\n",
    "    def check_capacity_details(self):\n",
    "        two_wheeler = self.capacity//2\n",
    "        four_wheeler = self.capacity - two_wheeler\n",
    "        if self.wheeler == '2':\n",
    "            print(\"!\")\n",
    "            two_wheeler(self.wheeler)\n",
    "        elif self.wheeler == '4':\n",
    "            pass\n",
    "        else:\n",
    "            return ({\"message\" : \"please use 2 or 4 wheeler for parking\"})\n",
    "    \n",
    "    def generate_id(self):\n",
    "        for i in range(10):\n",
    "            yield i\n",
    "\n",
    "    def two_wheeler(self):\n",
    "        id = self.generate_id()\n",
    "        key_name = self.wheeler+\"_\"+next(id)\n",
    "        print(key_name)\n",
    "        \n",
    "\n",
    "obj = parking_system(40)\n",
    "# print()\n",
    "obj.check_user_details()"
   ]
  },
  {
   "cell_type": "code",
   "execution_count": null,
   "id": "d3451225",
   "metadata": {},
   "outputs": [],
   "source": []
  },
  {
   "cell_type": "code",
   "execution_count": null,
   "id": "5a51ac3a",
   "metadata": {},
   "outputs": [],
   "source": []
  },
  {
   "cell_type": "code",
   "execution_count": null,
   "id": "49ac5751",
   "metadata": {},
   "outputs": [],
   "source": []
  },
  {
   "cell_type": "code",
   "execution_count": null,
   "id": "d8dc93b4",
   "metadata": {},
   "outputs": [],
   "source": []
  },
  {
   "cell_type": "code",
   "execution_count": null,
   "id": "a63efb06",
   "metadata": {},
   "outputs": [],
   "source": []
  },
  {
   "cell_type": "code",
   "execution_count": null,
   "id": "fdbad56b",
   "metadata": {},
   "outputs": [],
   "source": []
  },
  {
   "cell_type": "code",
   "execution_count": null,
   "id": "2b72a20e",
   "metadata": {},
   "outputs": [],
   "source": []
  },
  {
   "cell_type": "code",
   "execution_count": null,
   "id": "8335b39a",
   "metadata": {},
   "outputs": [],
   "source": []
  },
  {
   "cell_type": "code",
   "execution_count": null,
   "id": "13e7dc10",
   "metadata": {},
   "outputs": [],
   "source": []
  },
  {
   "cell_type": "code",
   "execution_count": null,
   "id": "ac3c5383",
   "metadata": {},
   "outputs": [],
   "source": []
  },
  {
   "cell_type": "code",
   "execution_count": null,
   "id": "cfba6bd1",
   "metadata": {},
   "outputs": [],
   "source": []
  },
  {
   "cell_type": "code",
   "execution_count": null,
   "id": "8c20e3d0",
   "metadata": {},
   "outputs": [],
   "source": []
  },
  {
   "cell_type": "code",
   "execution_count": null,
   "id": "924b3665",
   "metadata": {},
   "outputs": [],
   "source": []
  },
  {
   "cell_type": "code",
   "execution_count": null,
   "id": "2e843f1d",
   "metadata": {},
   "outputs": [],
   "source": []
  }
 ],
 "metadata": {
  "kernelspec": {
   "display_name": "Python 3 (ipykernel)",
   "language": "python",
   "name": "python3"
  },
  "language_info": {
   "codemirror_mode": {
    "name": "ipython",
    "version": 3
   },
   "file_extension": ".py",
   "mimetype": "text/x-python",
   "name": "python",
   "nbconvert_exporter": "python",
   "pygments_lexer": "ipython3",
   "version": "3.8.10"
  }
 },
 "nbformat": 4,
 "nbformat_minor": 5
}

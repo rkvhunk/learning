{
 "cells": [
  {
   "cell_type": "code",
   "execution_count": 1,
   "id": "94addc77",
   "metadata": {},
   "outputs": [
    {
     "name": "stdout",
     "output_type": "stream",
     "text": [
      "1 4 5\n",
      "2 3 5\n",
      "0 1 4 5\n",
      "0 2 3 5\n",
      "1 2 3 4\n",
      "0 1 2 3 4\n"
     ]
    }
   ],
   "source": [
    "import itertools\n",
    "\n",
    "nums = range(6)\n",
    "for n in range(1, len(nums) + 1):\n",
    "    for p in itertools.combinations(nums, n):\n",
    "        if sum(p) == 10:\n",
    "            print(*p)"
   ]
  },
  {
   "cell_type": "code",
   "execution_count": 2,
   "id": "5ac1ee85",
   "metadata": {},
   "outputs": [
    {
     "name": "stdout",
     "output_type": "stream",
     "text": [
      "[[1, 3, 5, 7]]\n"
     ]
    }
   ],
   "source": [
    "matrix = [[1, 2], [3,4], [5,6], [7,8]]\n",
    "transpose = [[row[i] for row in matrix] for i in range(1)]\n",
    "print (transpose)"
   ]
  },
  {
   "cell_type": "code",
   "execution_count": 20,
   "id": "6b42f782",
   "metadata": {},
   "outputs": [
    {
     "data": {
      "text/plain": [
       "[11, 22, 33, 44, 55, 66, 77, 88, 99, 100]"
      ]
     },
     "execution_count": 20,
     "metadata": {},
     "output_type": "execute_result"
    }
   ],
   "source": [
    "lis = [[11, 22, 33, 44], [55, 66, 77], [88, 99, 100]]\n",
    "\n",
    "\n",
    "flatList = [element for innerList in lis for element in innerList]\n",
    "flatList"
   ]
  },
  {
   "cell_type": "code",
   "execution_count": 25,
   "id": "c57813fa",
   "metadata": {},
   "outputs": [
    {
     "data": {
      "text/plain": [
       "[11, 22, 33, 44, 55, 66, 77, 88, 99]"
      ]
     },
     "execution_count": 25,
     "metadata": {},
     "output_type": "execute_result"
    }
   ],
   "source": [
    "import itertools\n",
    "lis = [[11, 22, 33, 44], [55, 66, 77], [88, 99]]\n",
    "\n",
    "list(itertools.chain(*lis))\n"
   ]
  },
  {
   "cell_type": "code",
   "execution_count": null,
   "id": "c2a8866e",
   "metadata": {},
   "outputs": [],
   "source": []
  },
  {
   "cell_type": "code",
   "execution_count": null,
   "id": "afc2cffe",
   "metadata": {},
   "outputs": [],
   "source": []
  },
  {
   "cell_type": "code",
   "execution_count": null,
   "id": "79281b71",
   "metadata": {},
   "outputs": [],
   "source": []
  },
  {
   "cell_type": "code",
   "execution_count": null,
   "id": "64fd35ce",
   "metadata": {},
   "outputs": [],
   "source": []
  },
  {
   "cell_type": "code",
   "execution_count": null,
   "id": "b5b2f6f2",
   "metadata": {},
   "outputs": [],
   "source": []
  },
  {
   "cell_type": "code",
   "execution_count": null,
   "id": "f9ac9fdd",
   "metadata": {},
   "outputs": [],
   "source": []
  },
  {
   "cell_type": "code",
   "execution_count": 18,
   "id": "317f9de5",
   "metadata": {},
   "outputs": [
    {
     "data": {
      "text/plain": [
       "[1, 2, 3, 4, 5, 6, 7, 8, 9, 10]"
      ]
     },
     "execution_count": 18,
     "metadata": {},
     "output_type": "execute_result"
    }
   ],
   "source": [
    "lis = [1, 2, [3, 4, [5, 6]], 7, 8, [9, [10]]]\n",
    "output=[]\n",
    "def reemovNestings(lis):\n",
    "    for i in lis:\n",
    "        if type(i) == list:\n",
    "            reemovNestings(i)\n",
    "        else:\n",
    "            output.append(i)\n",
    "reemovNestings(lis)\n",
    "output"
   ]
  },
  {
   "cell_type": "code",
   "execution_count": null,
   "id": "acf4f36c",
   "metadata": {},
   "outputs": [],
   "source": []
  },
  {
   "cell_type": "code",
   "execution_count": null,
   "id": "6e59a89c",
   "metadata": {},
   "outputs": [],
   "source": []
  },
  {
   "cell_type": "code",
   "execution_count": null,
   "id": "eab0e6df",
   "metadata": {},
   "outputs": [],
   "source": []
  },
  {
   "cell_type": "code",
   "execution_count": null,
   "id": "a8f91c36",
   "metadata": {},
   "outputs": [],
   "source": []
  },
  {
   "cell_type": "code",
   "execution_count": null,
   "id": "4b09471a",
   "metadata": {},
   "outputs": [],
   "source": []
  },
  {
   "cell_type": "code",
   "execution_count": null,
   "id": "b7d6f1e2",
   "metadata": {},
   "outputs": [],
   "source": []
  },
  {
   "cell_type": "code",
   "execution_count": null,
   "id": "556bbb22",
   "metadata": {},
   "outputs": [],
   "source": []
  },
  {
   "cell_type": "code",
   "execution_count": null,
   "id": "3326e329",
   "metadata": {},
   "outputs": [],
   "source": []
  },
  {
   "cell_type": "code",
   "execution_count": null,
   "id": "35476d96",
   "metadata": {},
   "outputs": [],
   "source": []
  },
  {
   "cell_type": "code",
   "execution_count": null,
   "id": "b9620c42",
   "metadata": {},
   "outputs": [],
   "source": []
  },
  {
   "cell_type": "code",
   "execution_count": null,
   "id": "735e7bea",
   "metadata": {},
   "outputs": [],
   "source": []
  },
  {
   "cell_type": "code",
   "execution_count": null,
   "id": "b9168c5b",
   "metadata": {},
   "outputs": [],
   "source": []
  },
  {
   "cell_type": "code",
   "execution_count": null,
   "id": "10ce69a4",
   "metadata": {},
   "outputs": [],
   "source": []
  },
  {
   "cell_type": "code",
   "execution_count": null,
   "id": "94ec7072",
   "metadata": {},
   "outputs": [],
   "source": []
  },
  {
   "cell_type": "code",
   "execution_count": null,
   "id": "26e24b94",
   "metadata": {},
   "outputs": [],
   "source": []
  },
  {
   "cell_type": "code",
   "execution_count": null,
   "id": "0d46cb35",
   "metadata": {},
   "outputs": [],
   "source": []
  },
  {
   "cell_type": "code",
   "execution_count": null,
   "id": "1088f5d7",
   "metadata": {},
   "outputs": [],
   "source": []
  },
  {
   "cell_type": "code",
   "execution_count": null,
   "id": "90a84f92",
   "metadata": {},
   "outputs": [],
   "source": []
  },
  {
   "cell_type": "code",
   "execution_count": null,
   "id": "e4f35e0a",
   "metadata": {},
   "outputs": [],
   "source": [
    "#decorator"
   ]
  },
  {
   "cell_type": "code",
   "execution_count": 12,
   "id": "cbe9f89f",
   "metadata": {},
   "outputs": [
    {
     "name": "stdout",
     "output_type": "stream",
     "text": [
      "hello\n",
      "inner called\n"
     ]
    }
   ],
   "source": [
    "def dec(func):\n",
    "    def inner():\n",
    "        func()\n",
    "        print(\"inner called\")\n",
    "    return inner\n",
    "\n",
    "@dec\n",
    "def name():\n",
    "    print(\"hello\")\n",
    "\n",
    "name()"
   ]
  },
  {
   "cell_type": "code",
   "execution_count": 1,
   "id": "28e13973",
   "metadata": {},
   "outputs": [],
   "source": [
    "#How would you confirm that 2 strings have the same identity\n",
    "animals = ['lion','tiger']"
   ]
  },
  {
   "cell_type": "code",
   "execution_count": 2,
   "id": "b5144414",
   "metadata": {},
   "outputs": [],
   "source": [
    "more_animals = animals"
   ]
  },
  {
   "cell_type": "code",
   "execution_count": 5,
   "id": "e44a0177",
   "metadata": {},
   "outputs": [
    {
     "name": "stdout",
     "output_type": "stream",
     "text": [
      "True\n",
      "True\n"
     ]
    }
   ],
   "source": [
    "print(animals == more_animals)\n",
    "print(animals is more_animals)"
   ]
  },
  {
   "cell_type": "code",
   "execution_count": 6,
   "id": "a53b8d83",
   "metadata": {},
   "outputs": [],
   "source": [
    "even_more_animals = ['lion','tiger']"
   ]
  },
  {
   "cell_type": "code",
   "execution_count": 8,
   "id": "8f0b9042",
   "metadata": {},
   "outputs": [
    {
     "name": "stdout",
     "output_type": "stream",
     "text": [
      "True\n",
      "False\n"
     ]
    }
   ],
   "source": [
    "print(animals == even_more_animals)\n",
    "print(animals is even_more_animals)"
   ]
  },
  {
   "cell_type": "code",
   "execution_count": 9,
   "id": "2c66044a",
   "metadata": {},
   "outputs": [
    {
     "data": {
      "text/plain": [
       "140395717478336"
      ]
     },
     "execution_count": 9,
     "metadata": {},
     "output_type": "execute_result"
    }
   ],
   "source": [
    "id(animals)"
   ]
  },
  {
   "cell_type": "code",
   "execution_count": 10,
   "id": "32c64135",
   "metadata": {},
   "outputs": [
    {
     "data": {
      "text/plain": [
       "140395692280896"
      ]
     },
     "execution_count": 10,
     "metadata": {},
     "output_type": "execute_result"
    }
   ],
   "source": [
    "id(even_more_animals)"
   ]
  },
  {
   "cell_type": "code",
   "execution_count": 11,
   "id": "59f19d09",
   "metadata": {},
   "outputs": [
    {
     "data": {
      "text/plain": [
       "140395717478336"
      ]
     },
     "execution_count": 11,
     "metadata": {},
     "output_type": "execute_result"
    }
   ],
   "source": [
    "id(more_animals)"
   ]
  },
  {
   "cell_type": "code",
   "execution_count": null,
   "id": "89b55eb1",
   "metadata": {},
   "outputs": [],
   "source": []
  },
  {
   "cell_type": "code",
   "execution_count": null,
   "id": "9cae3d03",
   "metadata": {},
   "outputs": [],
   "source": []
  },
  {
   "cell_type": "code",
   "execution_count": null,
   "id": "cc67c7ba",
   "metadata": {},
   "outputs": [],
   "source": [
    "#check if each word in a string begins with a capital letter"
   ]
  },
  {
   "cell_type": "code",
   "execution_count": 1,
   "id": "22db21c7",
   "metadata": {},
   "outputs": [
    {
     "name": "stdout",
     "output_type": "stream",
     "text": [
      "True\n"
     ]
    }
   ],
   "source": [
    "print('The Hilton'.istitle())"
   ]
  },
  {
   "cell_type": "code",
   "execution_count": 2,
   "id": "0123900e",
   "metadata": {},
   "outputs": [
    {
     "name": "stdout",
     "output_type": "stream",
     "text": [
      "False\n"
     ]
    }
   ],
   "source": [
    "print('Rahul verma'.istitle())"
   ]
  },
  {
   "cell_type": "code",
   "execution_count": 3,
   "id": "25392552",
   "metadata": {},
   "outputs": [
    {
     "name": "stdout",
     "output_type": "stream",
     "text": [
      "Rahul Verma\n"
     ]
    }
   ],
   "source": [
    "print('rahul vErma'.title())"
   ]
  },
  {
   "cell_type": "code",
   "execution_count": null,
   "id": "d0a04d66",
   "metadata": {},
   "outputs": [],
   "source": []
  },
  {
   "cell_type": "code",
   "execution_count": null,
   "id": "c8d061d4",
   "metadata": {},
   "outputs": [],
   "source": []
  },
  {
   "cell_type": "code",
   "execution_count": null,
   "id": "446b3b65",
   "metadata": {},
   "outputs": [],
   "source": [
    "#Check if a string contains a specific substring"
   ]
  },
  {
   "cell_type": "code",
   "execution_count": 5,
   "id": "459a2ec9",
   "metadata": {},
   "outputs": [
    {
     "name": "stdout",
     "output_type": "stream",
     "text": [
      "True\n"
     ]
    }
   ],
   "source": [
    "print('plane' in 'The worlds fastest plane')"
   ]
  },
  {
   "cell_type": "code",
   "execution_count": 6,
   "id": "f86e3de3",
   "metadata": {},
   "outputs": [
    {
     "name": "stdout",
     "output_type": "stream",
     "text": [
      "False\n"
     ]
    }
   ],
   "source": [
    "print('car' in 'The worlds fastest plane')"
   ]
  },
  {
   "cell_type": "code",
   "execution_count": null,
   "id": "e639f1f4",
   "metadata": {},
   "outputs": [],
   "source": []
  },
  {
   "cell_type": "code",
   "execution_count": null,
   "id": "a479459c",
   "metadata": {},
   "outputs": [],
   "source": []
  },
  {
   "cell_type": "code",
   "execution_count": null,
   "id": "100a3f98",
   "metadata": {},
   "outputs": [],
   "source": []
  },
  {
   "cell_type": "code",
   "execution_count": null,
   "id": "b877887e",
   "metadata": {},
   "outputs": [],
   "source": [
    "#the index of the first occurrence of a substring in a string"
   ]
  },
  {
   "cell_type": "code",
   "execution_count": 7,
   "id": "d346e552",
   "metadata": {},
   "outputs": [
    {
     "data": {
      "text/plain": [
       "19"
      ]
     },
     "execution_count": 7,
     "metadata": {},
     "output_type": "execute_result"
    }
   ],
   "source": [
    "'The worlds fastest plane'.find('plane')"
   ]
  },
  {
   "cell_type": "code",
   "execution_count": 8,
   "id": "386de199",
   "metadata": {},
   "outputs": [
    {
     "data": {
      "text/plain": [
       "-1"
      ]
     },
     "execution_count": 8,
     "metadata": {},
     "output_type": "execute_result"
    }
   ],
   "source": [
    "'The worlds fastest plane'.find('car')"
   ]
  },
  {
   "cell_type": "code",
   "execution_count": 9,
   "id": "98a3fb47",
   "metadata": {},
   "outputs": [
    {
     "data": {
      "text/plain": [
       "19"
      ]
     },
     "execution_count": 9,
     "metadata": {},
     "output_type": "execute_result"
    }
   ],
   "source": [
    "'The worlds fastest plane'.index('plane')"
   ]
  },
  {
   "cell_type": "code",
   "execution_count": 10,
   "id": "f152d4ed",
   "metadata": {},
   "outputs": [
    {
     "ename": "ValueError",
     "evalue": "substring not found",
     "output_type": "error",
     "traceback": [
      "\u001b[0;31m---------------------------------------------------------------------------\u001b[0m",
      "\u001b[0;31mValueError\u001b[0m                                Traceback (most recent call last)",
      "Input \u001b[0;32mIn [10]\u001b[0m, in \u001b[0;36m<module>\u001b[0;34m\u001b[0m\n\u001b[0;32m----> 1\u001b[0m \u001b[38;5;124;43m'\u001b[39;49m\u001b[38;5;124;43mThe worlds fastest plane\u001b[39;49m\u001b[38;5;124;43m'\u001b[39;49m\u001b[38;5;241;43m.\u001b[39;49m\u001b[43mindex\u001b[49m\u001b[43m(\u001b[49m\u001b[38;5;124;43m'\u001b[39;49m\u001b[38;5;124;43mcar\u001b[39;49m\u001b[38;5;124;43m'\u001b[39;49m\u001b[43m)\u001b[49m\n",
      "\u001b[0;31mValueError\u001b[0m: substring not found"
     ]
    }
   ],
   "source": [
    "'The worlds fastest plane'.index('car')"
   ]
  },
  {
   "cell_type": "code",
   "execution_count": null,
   "id": "f8934139",
   "metadata": {},
   "outputs": [],
   "source": []
  },
  {
   "cell_type": "code",
   "execution_count": null,
   "id": "563d8791",
   "metadata": {},
   "outputs": [],
   "source": []
  },
  {
   "cell_type": "code",
   "execution_count": null,
   "id": "1f722074",
   "metadata": {},
   "outputs": [],
   "source": []
  },
  {
   "cell_type": "code",
   "execution_count": null,
   "id": "0157f0af",
   "metadata": {},
   "outputs": [],
   "source": [
    "#Count the total number of characters in a string"
   ]
  },
  {
   "cell_type": "code",
   "execution_count": 11,
   "id": "aeb68efe",
   "metadata": {},
   "outputs": [
    {
     "data": {
      "text/plain": [
       "41"
      ]
     },
     "execution_count": 11,
     "metadata": {},
     "output_type": "execute_result"
    }
   ],
   "source": [
    "len('The first president of the organization..')"
   ]
  },
  {
   "cell_type": "code",
   "execution_count": null,
   "id": "7c0bcee5",
   "metadata": {},
   "outputs": [],
   "source": []
  },
  {
   "cell_type": "code",
   "execution_count": null,
   "id": "1a65c5a7",
   "metadata": {},
   "outputs": [],
   "source": []
  },
  {
   "cell_type": "code",
   "execution_count": null,
   "id": "f85c5fe3",
   "metadata": {},
   "outputs": [],
   "source": [
    "#Count the number of a specific character in a string"
   ]
  },
  {
   "cell_type": "code",
   "execution_count": 17,
   "id": "70c3c07d",
   "metadata": {},
   "outputs": [
    {
     "data": {
      "text/plain": [
       "1"
      ]
     },
     "execution_count": 17,
     "metadata": {},
     "output_type": "execute_result"
    }
   ],
   "source": [
    "'The first president of the organization..'.count('first')"
   ]
  },
  {
   "cell_type": "code",
   "execution_count": null,
   "id": "8ccdbb43",
   "metadata": {},
   "outputs": [],
   "source": []
  },
  {
   "cell_type": "code",
   "execution_count": null,
   "id": "ede4a0c0",
   "metadata": {},
   "outputs": [],
   "source": []
  },
  {
   "cell_type": "code",
   "execution_count": null,
   "id": "769233b5",
   "metadata": {},
   "outputs": [],
   "source": [
    "#Capitalize the first character of a string"
   ]
  },
  {
   "cell_type": "code",
   "execution_count": 18,
   "id": "3756451b",
   "metadata": {},
   "outputs": [
    {
     "data": {
      "text/plain": [
       "'Florida dolphins'"
      ]
     },
     "execution_count": 18,
     "metadata": {},
     "output_type": "execute_result"
    }
   ],
   "source": [
    "'florida dolphins'.capitalize()"
   ]
  },
  {
   "cell_type": "code",
   "execution_count": null,
   "id": "d987d2bb",
   "metadata": {},
   "outputs": [],
   "source": []
  },
  {
   "cell_type": "code",
   "execution_count": null,
   "id": "d4cae58f",
   "metadata": {},
   "outputs": [],
   "source": []
  },
  {
   "cell_type": "code",
   "execution_count": null,
   "id": "0bb32ab6",
   "metadata": {},
   "outputs": [],
   "source": [
    "#What is an f-string and how do you use it?\n",
    "f-strings make string interpolation really easy. Using f-strings is similar to using format()."
   ]
  },
  {
   "cell_type": "code",
   "execution_count": 20,
   "id": "c40385f8",
   "metadata": {},
   "outputs": [
    {
     "data": {
      "text/plain": [
       "'Hello. My name is rahul and I like chicken.'"
      ]
     },
     "execution_count": 20,
     "metadata": {},
     "output_type": "execute_result"
    }
   ],
   "source": [
    "name = 'rahul'\n",
    "food = 'chicken'\n",
    "f'Hello. My name is {name} and I like {food}.'"
   ]
  },
  {
   "cell_type": "code",
   "execution_count": null,
   "id": "a3da230e",
   "metadata": {},
   "outputs": [],
   "source": []
  },
  {
   "cell_type": "code",
   "execution_count": null,
   "id": "dd186c08",
   "metadata": {},
   "outputs": [],
   "source": []
  },
  {
   "cell_type": "code",
   "execution_count": null,
   "id": "30aab28a",
   "metadata": {},
   "outputs": [],
   "source": [
    "#Search a specific part of a string for a substring"
   ]
  },
  {
   "cell_type": "code",
   "execution_count": 29,
   "id": "d9251bef",
   "metadata": {},
   "outputs": [
    {
     "data": {
      "text/plain": [
       "3"
      ]
     },
     "execution_count": 29,
     "metadata": {},
     "output_type": "execute_result"
    }
   ],
   "source": [
    "'...the happiest person in the whole wide the world.'.index('the',0,48)"
   ]
  },
  {
   "cell_type": "code",
   "execution_count": null,
   "id": "186489b5",
   "metadata": {},
   "outputs": [],
   "source": []
  },
  {
   "cell_type": "code",
   "execution_count": null,
   "id": "f678de7a",
   "metadata": {},
   "outputs": [],
   "source": []
  },
  {
   "cell_type": "code",
   "execution_count": null,
   "id": "f6dc2fe4",
   "metadata": {},
   "outputs": [],
   "source": [
    "#Interpolate a variable into a string using format()\n",
    "format() is similar to using an f-string. Though in my opinion, it’s less user friendly because variables are all passed in at the end of the string."
   ]
  },
  {
   "cell_type": "code",
   "execution_count": 30,
   "id": "21b20757",
   "metadata": {},
   "outputs": [
    {
     "data": {
      "text/plain": [
       "'That exam was easy!'"
      ]
     },
     "execution_count": 30,
     "metadata": {},
     "output_type": "execute_result"
    }
   ],
   "source": [
    "difficulty = 'easy'\n",
    "thing = 'exam'\n",
    "'That {} was {}!'.format(thing, difficulty)"
   ]
  },
  {
   "cell_type": "code",
   "execution_count": null,
   "id": "b678bef6",
   "metadata": {},
   "outputs": [],
   "source": []
  },
  {
   "cell_type": "code",
   "execution_count": null,
   "id": "b961182a",
   "metadata": {},
   "outputs": [],
   "source": []
  },
  {
   "cell_type": "code",
   "execution_count": null,
   "id": "cb8c69e0",
   "metadata": {},
   "outputs": [],
   "source": [
    "#Check if a string contains only numbers"
   ]
  },
  {
   "cell_type": "code",
   "execution_count": 31,
   "id": "26aaf867",
   "metadata": {},
   "outputs": [
    {
     "data": {
      "text/plain": [
       "True"
      ]
     },
     "execution_count": 31,
     "metadata": {},
     "output_type": "execute_result"
    }
   ],
   "source": [
    "'1000'.isnumeric()"
   ]
  },
  {
   "cell_type": "code",
   "execution_count": null,
   "id": "3547292f",
   "metadata": {},
   "outputs": [],
   "source": []
  },
  {
   "cell_type": "code",
   "execution_count": null,
   "id": "f9d5fd2f",
   "metadata": {},
   "outputs": [],
   "source": []
  },
  {
   "cell_type": "code",
   "execution_count": null,
   "id": "13856e6a",
   "metadata": {},
   "outputs": [],
   "source": [
    "#Split a string on a specific character"
   ]
  },
  {
   "cell_type": "code",
   "execution_count": 32,
   "id": "3cb7d120",
   "metadata": {},
   "outputs": [
    {
     "data": {
      "text/plain": [
       "['the', 'world', 'is', 'here']"
      ]
     },
     "execution_count": 32,
     "metadata": {},
     "output_type": "execute_result"
    }
   ],
   "source": [
    "'the world is here'.split()"
   ]
  },
  {
   "cell_type": "code",
   "execution_count": 33,
   "id": "11a238fd",
   "metadata": {},
   "outputs": [
    {
     "data": {
      "text/plain": [
       "['the', 'world', 'is', 'here']"
      ]
     },
     "execution_count": 33,
     "metadata": {},
     "output_type": "execute_result"
    }
   ],
   "source": [
    "'the world is here'.split(' ')"
   ]
  },
  {
   "cell_type": "code",
   "execution_count": 34,
   "id": "4a697814",
   "metadata": {},
   "outputs": [
    {
     "data": {
      "text/plain": [
       "['the world is here']"
      ]
     },
     "execution_count": 34,
     "metadata": {},
     "output_type": "execute_result"
    }
   ],
   "source": [
    "'the world is here'.split('-')"
   ]
  },
  {
   "cell_type": "code",
   "execution_count": 36,
   "id": "51d541ca",
   "metadata": {},
   "outputs": [
    {
     "data": {
      "text/plain": [
       "['the world is here']"
      ]
     },
     "execution_count": 36,
     "metadata": {},
     "output_type": "execute_result"
    }
   ],
   "source": [
    "'the world is here'.split('--')"
   ]
  },
  {
   "cell_type": "code",
   "execution_count": 37,
   "id": "64460059",
   "metadata": {},
   "outputs": [
    {
     "data": {
      "text/plain": [
       "['the', 'world', 'is', 'here']"
      ]
     },
     "execution_count": 37,
     "metadata": {},
     "output_type": "execute_result"
    }
   ],
   "source": [
    "'the-world-is-here'.split('-')"
   ]
  },
  {
   "cell_type": "code",
   "execution_count": null,
   "id": "fe69bc27",
   "metadata": {},
   "outputs": [],
   "source": []
  },
  {
   "cell_type": "code",
   "execution_count": null,
   "id": "17ff7544",
   "metadata": {},
   "outputs": [],
   "source": []
  },
  {
   "cell_type": "code",
   "execution_count": null,
   "id": "8b960cc6",
   "metadata": {},
   "outputs": [],
   "source": [
    "#Check if a string is composed of all lower case characters"
   ]
  },
  {
   "cell_type": "code",
   "execution_count": 39,
   "id": "4fabb925",
   "metadata": {},
   "outputs": [
    {
     "data": {
      "text/plain": [
       "True"
      ]
     },
     "execution_count": 39,
     "metadata": {},
     "output_type": "execute_result"
    }
   ],
   "source": [
    "'all lower case'.islower()"
   ]
  },
  {
   "cell_type": "code",
   "execution_count": 40,
   "id": "6f39ad74",
   "metadata": {},
   "outputs": [
    {
     "data": {
      "text/plain": [
       "False"
      ]
     },
     "execution_count": 40,
     "metadata": {},
     "output_type": "execute_result"
    }
   ],
   "source": [
    "'not aLL lowercase'.islower()"
   ]
  },
  {
   "cell_type": "code",
   "execution_count": 43,
   "id": "76245fad",
   "metadata": {},
   "outputs": [
    {
     "data": {
      "text/plain": [
       "False"
      ]
     },
     "execution_count": 43,
     "metadata": {},
     "output_type": "execute_result"
    }
   ],
   "source": [
    "'not alL lowercase'.islower()"
   ]
  },
  {
   "cell_type": "code",
   "execution_count": null,
   "id": "37821e0a",
   "metadata": {},
   "outputs": [],
   "source": []
  },
  {
   "cell_type": "code",
   "execution_count": null,
   "id": "d6155981",
   "metadata": {},
   "outputs": [],
   "source": []
  },
  {
   "cell_type": "code",
   "execution_count": null,
   "id": "6792ff7f",
   "metadata": {},
   "outputs": [],
   "source": [
    "#Check if the first character in a string is lowercase"
   ]
  },
  {
   "cell_type": "code",
   "execution_count": 44,
   "id": "e9803297",
   "metadata": {},
   "outputs": [
    {
     "data": {
      "text/plain": [
       "True"
      ]
     },
     "execution_count": 44,
     "metadata": {},
     "output_type": "execute_result"
    }
   ],
   "source": [
    "'aPPle'[0].islower()"
   ]
  },
  {
   "cell_type": "code",
   "execution_count": 45,
   "id": "8c631796",
   "metadata": {},
   "outputs": [
    {
     "data": {
      "text/plain": [
       "False"
      ]
     },
     "execution_count": 45,
     "metadata": {},
     "output_type": "execute_result"
    }
   ],
   "source": [
    "'aPPle'[1].islower()"
   ]
  },
  {
   "cell_type": "code",
   "execution_count": null,
   "id": "d1e701d9",
   "metadata": {},
   "outputs": [],
   "source": []
  },
  {
   "cell_type": "code",
   "execution_count": null,
   "id": "2549bf90",
   "metadata": {},
   "outputs": [],
   "source": []
  },
  {
   "cell_type": "code",
   "execution_count": null,
   "id": "e25714ef",
   "metadata": {},
   "outputs": [],
   "source": [
    "#add two tuples"
   ]
  },
  {
   "cell_type": "code",
   "execution_count": 48,
   "id": "a026a83d",
   "metadata": {},
   "outputs": [],
   "source": [
    "a = (1,2)\n",
    "b = (3,4)\n",
    "c = a+b"
   ]
  },
  {
   "cell_type": "code",
   "execution_count": 49,
   "id": "34d29fb5",
   "metadata": {},
   "outputs": [
    {
     "data": {
      "text/plain": [
       "(1, 2, 3, 4)"
      ]
     },
     "execution_count": 49,
     "metadata": {},
     "output_type": "execute_result"
    }
   ],
   "source": [
    "c"
   ]
  },
  {
   "cell_type": "code",
   "execution_count": null,
   "id": "2058c06e",
   "metadata": {},
   "outputs": [],
   "source": []
  },
  {
   "cell_type": "code",
   "execution_count": null,
   "id": "e21660e0",
   "metadata": {},
   "outputs": [],
   "source": []
  },
  {
   "cell_type": "code",
   "execution_count": null,
   "id": "36734eee",
   "metadata": {},
   "outputs": [],
   "source": [
    "#Reverse the string"
   ]
  },
  {
   "cell_type": "code",
   "execution_count": 1,
   "id": "dfda0f17",
   "metadata": {},
   "outputs": [
    {
     "data": {
      "text/plain": [
       "'dlrow olleh'"
      ]
     },
     "execution_count": 1,
     "metadata": {},
     "output_type": "execute_result"
    }
   ],
   "source": [
    "''.join(reversed(\"hello world\"))"
   ]
  },
  {
   "cell_type": "code",
   "execution_count": 2,
   "id": "52fb99f3",
   "metadata": {},
   "outputs": [
    {
     "data": {
      "text/plain": [
       "'dlrow olleh'"
      ]
     },
     "execution_count": 2,
     "metadata": {},
     "output_type": "execute_result"
    }
   ],
   "source": [
    "s=\"hello world\"\n",
    "s[::-1]"
   ]
  },
  {
   "cell_type": "code",
   "execution_count": 16,
   "id": "eed65170",
   "metadata": {},
   "outputs": [
    {
     "name": "stdout",
     "output_type": "stream",
     "text": [
      "dlrow olleh\n"
     ]
    }
   ],
   "source": [
    "s1 = 'hello world'\n",
    "s2 = ''\n",
    "for i in s1:\n",
    "    s2 = i + s2\n",
    "print(s2)"
   ]
  },
  {
   "cell_type": "code",
   "execution_count": 18,
   "id": "a56260fa",
   "metadata": {},
   "outputs": [
    {
     "data": {
      "text/plain": [
       "'dlrow olleh'"
      ]
     },
     "execution_count": 18,
     "metadata": {},
     "output_type": "execute_result"
    }
   ],
   "source": [
    "s = 'hello world'\n",
    "def reverse_using_recursion(s):\n",
    "    if len(s) == 0:\n",
    "        return s\n",
    "    else:\n",
    "        return reverse_using_recursion(s[1:]) + s[0]\n",
    "reverse_using_recursion(s)"
   ]
  },
  {
   "cell_type": "code",
   "execution_count": 57,
   "id": "9ef36e66",
   "metadata": {},
   "outputs": [
    {
     "data": {
      "text/plain": [
       "'dlrow olleh'"
      ]
     },
     "execution_count": 57,
     "metadata": {},
     "output_type": "execute_result"
    }
   ],
   "source": [
    "s = 'hello world'\n",
    "s[::-1]"
   ]
  },
  {
   "cell_type": "code",
   "execution_count": 62,
   "id": "b111ae4c",
   "metadata": {},
   "outputs": [
    {
     "name": "stdout",
     "output_type": "stream",
     "text": [
      "['d', 'l', 'r', 'o', 'w', ' ', 'o', 'l', 'l', 'e', 'h']\n"
     ]
    },
    {
     "data": {
      "text/plain": [
       "'dlrow olleh'"
      ]
     },
     "execution_count": 62,
     "metadata": {},
     "output_type": "execute_result"
    }
   ],
   "source": [
    "string = 'hello world'\n",
    "string = [string[i] for i in range(len(string)-1, -1, -1)]\n",
    "print(string)\n",
    "\"\".join(string)"
   ]
  },
  {
   "cell_type": "code",
   "execution_count": 67,
   "id": "cccfe7e5",
   "metadata": {},
   "outputs": [
    {
     "data": {
      "text/plain": [
       "'dlrow olleh'"
      ]
     },
     "execution_count": 67,
     "metadata": {},
     "output_type": "execute_result"
    }
   ],
   "source": [
    "s = 'hello world'\n",
    "s = list(s)\n",
    "s.reverse()\n",
    "\"\".join(s)"
   ]
  },
  {
   "cell_type": "code",
   "execution_count": null,
   "id": "bf3c276d",
   "metadata": {},
   "outputs": [],
   "source": []
  },
  {
   "cell_type": "code",
   "execution_count": null,
   "id": "93430858",
   "metadata": {},
   "outputs": [],
   "source": []
  },
  {
   "cell_type": "code",
   "execution_count": null,
   "id": "332b0da1",
   "metadata": {},
   "outputs": [],
   "source": [
    "# Join a list of strings into a single string, delimited by hyphens\n",
    "Python’s join() function can join characters in a list with a given character inserted between every element."
   ]
  },
  {
   "cell_type": "code",
   "execution_count": 68,
   "id": "19b62b18",
   "metadata": {},
   "outputs": [
    {
     "data": {
      "text/plain": [
       "'a-b-c'"
      ]
     },
     "execution_count": 68,
     "metadata": {},
     "output_type": "execute_result"
    }
   ],
   "source": [
    "'-'.join(['a','b','c'])"
   ]
  },
  {
   "cell_type": "code",
   "execution_count": null,
   "id": "0ba53b58",
   "metadata": {},
   "outputs": [],
   "source": []
  },
  {
   "cell_type": "code",
   "execution_count": null,
   "id": "429c402e",
   "metadata": {},
   "outputs": [],
   "source": []
  },
  {
   "cell_type": "code",
   "execution_count": null,
   "id": "0ce36f0d",
   "metadata": {},
   "outputs": [],
   "source": [
    "#Check if all characters in a string conform to ASCII"
   ]
  },
  {
   "cell_type": "code",
   "execution_count": 74,
   "id": "43ffec2b",
   "metadata": {},
   "outputs": [
    {
     "name": "stdout",
     "output_type": "stream",
     "text": [
      "False\n"
     ]
    }
   ],
   "source": [
    "print('Â'.isascii())"
   ]
  },
  {
   "cell_type": "code",
   "execution_count": 75,
   "id": "f6ee2e2b",
   "metadata": {},
   "outputs": [
    {
     "name": "stdout",
     "output_type": "stream",
     "text": [
      "True\n"
     ]
    }
   ],
   "source": [
    "print('A'.isascii())"
   ]
  },
  {
   "cell_type": "code",
   "execution_count": null,
   "id": "b345be47",
   "metadata": {},
   "outputs": [],
   "source": []
  },
  {
   "cell_type": "code",
   "execution_count": null,
   "id": "34f21d75",
   "metadata": {},
   "outputs": [],
   "source": []
  },
  {
   "cell_type": "code",
   "execution_count": null,
   "id": "c8f31508",
   "metadata": {},
   "outputs": [],
   "source": [
    "#Uppercase or lowercase an entire string"
   ]
  },
  {
   "cell_type": "code",
   "execution_count": 78,
   "id": "7e97c254",
   "metadata": {},
   "outputs": [
    {
     "data": {
      "text/plain": [
       "'THE CAT IN THE HAT'"
      ]
     },
     "execution_count": 78,
     "metadata": {},
     "output_type": "execute_result"
    }
   ],
   "source": [
    "sentence = 'The Cat in the Hat'\n",
    "sentence.upper()"
   ]
  },
  {
   "cell_type": "code",
   "execution_count": 79,
   "id": "d9ad7109",
   "metadata": {},
   "outputs": [
    {
     "data": {
      "text/plain": [
       "'The Cat in the Hat'"
      ]
     },
     "execution_count": 79,
     "metadata": {},
     "output_type": "execute_result"
    }
   ],
   "source": [
    "sentence"
   ]
  },
  {
   "cell_type": "code",
   "execution_count": 77,
   "id": "d88110d9",
   "metadata": {},
   "outputs": [
    {
     "data": {
      "text/plain": [
       "'the cat in the hat'"
      ]
     },
     "execution_count": 77,
     "metadata": {},
     "output_type": "execute_result"
    }
   ],
   "source": [
    "sentence.lower()"
   ]
  },
  {
   "cell_type": "code",
   "execution_count": null,
   "id": "d0d0f17d",
   "metadata": {},
   "outputs": [],
   "source": []
  },
  {
   "cell_type": "code",
   "execution_count": null,
   "id": "2826c86e",
   "metadata": {},
   "outputs": [],
   "source": []
  },
  {
   "cell_type": "code",
   "execution_count": null,
   "id": "30559303",
   "metadata": {},
   "outputs": [],
   "source": [
    "#Uppercase first and last character of a string"
   ]
  },
  {
   "cell_type": "code",
   "execution_count": 88,
   "id": "6f931b91",
   "metadata": {},
   "outputs": [
    {
     "data": {
      "text/plain": [
       "'FisH'"
      ]
     },
     "execution_count": 88,
     "metadata": {},
     "output_type": "execute_result"
    }
   ],
   "source": [
    "animal = 'fish'\n",
    "animal[0].upper() + animal[1:-1] + animal[-1].upper()"
   ]
  },
  {
   "cell_type": "code",
   "execution_count": null,
   "id": "6676eb17",
   "metadata": {},
   "outputs": [],
   "source": []
  },
  {
   "cell_type": "code",
   "execution_count": null,
   "id": "0df798dc",
   "metadata": {},
   "outputs": [],
   "source": []
  },
  {
   "cell_type": "code",
   "execution_count": null,
   "id": "8e0ae53e",
   "metadata": {},
   "outputs": [],
   "source": [
    "#Check if a string is all uppercase"
   ]
  },
  {
   "cell_type": "code",
   "execution_count": 89,
   "id": "d7e87984",
   "metadata": {},
   "outputs": [
    {
     "data": {
      "text/plain": [
       "False"
      ]
     },
     "execution_count": 89,
     "metadata": {},
     "output_type": "execute_result"
    }
   ],
   "source": [
    "'Toronto'.isupper()"
   ]
  },
  {
   "cell_type": "code",
   "execution_count": 92,
   "id": "1318085d",
   "metadata": {},
   "outputs": [
    {
     "data": {
      "text/plain": [
       "True"
      ]
     },
     "execution_count": 92,
     "metadata": {},
     "output_type": "execute_result"
    }
   ],
   "source": [
    "'TORONTO'.isupper()"
   ]
  },
  {
   "cell_type": "code",
   "execution_count": null,
   "id": "8b1c9fc8",
   "metadata": {},
   "outputs": [],
   "source": []
  },
  {
   "cell_type": "code",
   "execution_count": null,
   "id": "3045e4f4",
   "metadata": {},
   "outputs": [],
   "source": []
  },
  {
   "cell_type": "code",
   "execution_count": null,
   "id": "cc38d3a0",
   "metadata": {},
   "outputs": [],
   "source": [
    "#When would you use splitlines()\n",
    "splitlines() splits a string on line breaks."
   ]
  },
  {
   "cell_type": "code",
   "execution_count": 93,
   "id": "d4ac59bc",
   "metadata": {},
   "outputs": [
    {
     "data": {
      "text/plain": [
       "['It was a stormy night', 'The house creeked', 'The wind blew.']"
      ]
     },
     "execution_count": 93,
     "metadata": {},
     "output_type": "execute_result"
    }
   ],
   "source": [
    "sentence = \"It was a stormy night\\nThe house creeked\\nThe wind blew.\"\n",
    "sentence.splitlines()"
   ]
  },
  {
   "cell_type": "code",
   "execution_count": null,
   "id": "b9cf58a0",
   "metadata": {},
   "outputs": [],
   "source": []
  },
  {
   "cell_type": "code",
   "execution_count": null,
   "id": "6ceee2ea",
   "metadata": {},
   "outputs": [],
   "source": []
  },
  {
   "cell_type": "code",
   "execution_count": null,
   "id": "6034249e",
   "metadata": {},
   "outputs": [],
   "source": [
    "#string slicing\n",
    "Slicing a string takes up to 3 arguments, string[start_index:end_index:step]"
   ]
  },
  {
   "cell_type": "code",
   "execution_count": 94,
   "id": "440e5483",
   "metadata": {},
   "outputs": [],
   "source": [
    "string = 'I like to eat apples'"
   ]
  },
  {
   "cell_type": "code",
   "execution_count": 96,
   "id": "7875ee04",
   "metadata": {},
   "outputs": [
    {
     "data": {
      "text/plain": [
       "'I like t'"
      ]
     },
     "execution_count": 96,
     "metadata": {},
     "output_type": "execute_result"
    }
   ],
   "source": [
    "string[:8]"
   ]
  },
  {
   "cell_type": "code",
   "execution_count": 97,
   "id": "cd3659b4",
   "metadata": {},
   "outputs": [
    {
     "data": {
      "text/plain": [
       "'ke to eat apples'"
      ]
     },
     "execution_count": 97,
     "metadata": {},
     "output_type": "execute_result"
    }
   ],
   "source": [
    "string[4:]"
   ]
  },
  {
   "cell_type": "code",
   "execution_count": null,
   "id": "ec73c55d",
   "metadata": {},
   "outputs": [],
   "source": []
  },
  {
   "cell_type": "code",
   "execution_count": null,
   "id": "6331721b",
   "metadata": {},
   "outputs": [],
   "source": []
  },
  {
   "cell_type": "code",
   "execution_count": 98,
   "id": "6478c69a",
   "metadata": {},
   "outputs": [
    {
     "data": {
      "text/plain": [
       "'5'"
      ]
     },
     "execution_count": 98,
     "metadata": {},
     "output_type": "execute_result"
    }
   ],
   "source": [
    "str(5)"
   ]
  },
  {
   "cell_type": "code",
   "execution_count": null,
   "id": "4771988a",
   "metadata": {},
   "outputs": [],
   "source": []
  },
  {
   "cell_type": "code",
   "execution_count": null,
   "id": "3b90cad1",
   "metadata": {},
   "outputs": [],
   "source": []
  },
  {
   "cell_type": "code",
   "execution_count": null,
   "id": "4aab83b3",
   "metadata": {},
   "outputs": [],
   "source": [
    "#Check if a string contains only characters of the alphabet"
   ]
  },
  {
   "cell_type": "code",
   "execution_count": 99,
   "id": "d0c2aa94",
   "metadata": {},
   "outputs": [
    {
     "data": {
      "text/plain": [
       "False"
      ]
     },
     "execution_count": 99,
     "metadata": {},
     "output_type": "execute_result"
    }
   ],
   "source": [
    "'One1'.isalpha()"
   ]
  },
  {
   "cell_type": "code",
   "execution_count": 100,
   "id": "84f2f0cd",
   "metadata": {},
   "outputs": [
    {
     "data": {
      "text/plain": [
       "True"
      ]
     },
     "execution_count": 100,
     "metadata": {},
     "output_type": "execute_result"
    }
   ],
   "source": [
    "'One'.isalpha()"
   ]
  },
  {
   "cell_type": "code",
   "execution_count": null,
   "id": "2f2581b3",
   "metadata": {},
   "outputs": [],
   "source": []
  },
  {
   "cell_type": "code",
   "execution_count": null,
   "id": "f71e66fe",
   "metadata": {},
   "outputs": [],
   "source": []
  },
  {
   "cell_type": "code",
   "execution_count": null,
   "id": "581db8d4",
   "metadata": {},
   "outputs": [],
   "source": [
    "#Replace all instances of a substring in a string"
   ]
  },
  {
   "cell_type": "code",
   "execution_count": 101,
   "id": "d9000e62",
   "metadata": {},
   "outputs": [
    {
     "data": {
      "text/plain": [
       "'fisd'"
      ]
     },
     "execution_count": 101,
     "metadata": {},
     "output_type": "execute_result"
    }
   ],
   "source": [
    "animal.replace('h','d')"
   ]
  },
  {
   "cell_type": "code",
   "execution_count": 102,
   "id": "0cec971b",
   "metadata": {},
   "outputs": [],
   "source": [
    "sentence = 'Sally sells sea shells by the sea shore'"
   ]
  },
  {
   "cell_type": "code",
   "execution_count": 103,
   "id": "e09e896b",
   "metadata": {},
   "outputs": [
    {
     "data": {
      "text/plain": [
       "'Sally sells mountain shells by the mountain shore'"
      ]
     },
     "execution_count": 103,
     "metadata": {},
     "output_type": "execute_result"
    }
   ],
   "source": [
    "sentence.replace('sea', 'mountain')"
   ]
  },
  {
   "cell_type": "code",
   "execution_count": null,
   "id": "5a37acfc",
   "metadata": {},
   "outputs": [],
   "source": []
  },
  {
   "cell_type": "code",
   "execution_count": null,
   "id": "14b23fe0",
   "metadata": {},
   "outputs": [],
   "source": []
  },
  {
   "cell_type": "code",
   "execution_count": null,
   "id": "bd2e8e85",
   "metadata": {},
   "outputs": [],
   "source": [
    "#Return the minimum character in a string\n",
    "Capitalized characters and characters earlier in the alphabet have lower indexes. min() will return the character with the lowest index."
   ]
  },
  {
   "cell_type": "code",
   "execution_count": 104,
   "id": "bf8d3fac",
   "metadata": {},
   "outputs": [
    {
     "data": {
      "text/plain": [
       "'a'"
      ]
     },
     "execution_count": 104,
     "metadata": {},
     "output_type": "execute_result"
    }
   ],
   "source": [
    "min('rahul')"
   ]
  },
  {
   "cell_type": "code",
   "execution_count": 105,
   "id": "49c948fa",
   "metadata": {},
   "outputs": [
    {
     "data": {
      "text/plain": [
       "'g'"
      ]
     },
     "execution_count": 105,
     "metadata": {},
     "output_type": "execute_result"
    }
   ],
   "source": [
    "min('string')"
   ]
  },
  {
   "cell_type": "code",
   "execution_count": null,
   "id": "63823e0d",
   "metadata": {},
   "outputs": [],
   "source": []
  },
  {
   "cell_type": "code",
   "execution_count": null,
   "id": "e51f334e",
   "metadata": {},
   "outputs": [],
   "source": []
  },
  {
   "cell_type": "code",
   "execution_count": null,
   "id": "bc6a0a35",
   "metadata": {},
   "outputs": [],
   "source": []
  },
  {
   "cell_type": "code",
   "execution_count": null,
   "id": "4baa0362",
   "metadata": {},
   "outputs": [],
   "source": [
    "#Check if all characters in a string are alphanumeric\n",
    "Alphanumeric values include letters and integers."
   ]
  },
  {
   "cell_type": "code",
   "execution_count": 106,
   "id": "0c77b344",
   "metadata": {},
   "outputs": [
    {
     "data": {
      "text/plain": [
       "True"
      ]
     },
     "execution_count": 106,
     "metadata": {},
     "output_type": "execute_result"
    }
   ],
   "source": [
    "'Ten10'.isalnum()"
   ]
  },
  {
   "cell_type": "code",
   "execution_count": 107,
   "id": "6ac351e8",
   "metadata": {},
   "outputs": [
    {
     "data": {
      "text/plain": [
       "False"
      ]
     },
     "execution_count": 107,
     "metadata": {},
     "output_type": "execute_result"
    }
   ],
   "source": [
    "'Ten10.'.isalnum()"
   ]
  },
  {
   "cell_type": "code",
   "execution_count": null,
   "id": "c3600d52",
   "metadata": {},
   "outputs": [],
   "source": []
  },
  {
   "cell_type": "code",
   "execution_count": null,
   "id": "7bd2795a",
   "metadata": {},
   "outputs": [],
   "source": []
  },
  {
   "cell_type": "code",
   "execution_count": null,
   "id": "0a9fdbe5",
   "metadata": {},
   "outputs": [],
   "source": [
    "#Remove whitespace from the left, right or both sides of a string\n",
    "lstrip(), rstrip() and strip() remove whitespace from the ends of a string."
   ]
  },
  {
   "cell_type": "code",
   "execution_count": 108,
   "id": "efe0cebf",
   "metadata": {},
   "outputs": [],
   "source": [
    "string = '  string of whitespace    '"
   ]
  },
  {
   "cell_type": "code",
   "execution_count": 109,
   "id": "37c4b14e",
   "metadata": {},
   "outputs": [
    {
     "data": {
      "text/plain": [
       "'string of whitespace    '"
      ]
     },
     "execution_count": 109,
     "metadata": {},
     "output_type": "execute_result"
    }
   ],
   "source": [
    "string.lstrip()"
   ]
  },
  {
   "cell_type": "code",
   "execution_count": 110,
   "id": "1c6b8527",
   "metadata": {},
   "outputs": [
    {
     "data": {
      "text/plain": [
       "'  string of whitespace'"
      ]
     },
     "execution_count": 110,
     "metadata": {},
     "output_type": "execute_result"
    }
   ],
   "source": [
    "string.rstrip()"
   ]
  },
  {
   "cell_type": "code",
   "execution_count": 111,
   "id": "76973c14",
   "metadata": {},
   "outputs": [
    {
     "data": {
      "text/plain": [
       "'string of whitespace'"
      ]
     },
     "execution_count": 111,
     "metadata": {},
     "output_type": "execute_result"
    }
   ],
   "source": [
    "string.strip()"
   ]
  },
  {
   "cell_type": "code",
   "execution_count": null,
   "id": "12faae98",
   "metadata": {},
   "outputs": [],
   "source": []
  },
  {
   "cell_type": "code",
   "execution_count": null,
   "id": "1559dab1",
   "metadata": {},
   "outputs": [],
   "source": []
  },
  {
   "cell_type": "code",
   "execution_count": null,
   "id": "acdc0b5b",
   "metadata": {},
   "outputs": [],
   "source": [
    "#Check if a string begins with or ends with a specific character"
   ]
  },
  {
   "cell_type": "code",
   "execution_count": 112,
   "id": "d6b47f93",
   "metadata": {},
   "outputs": [],
   "source": [
    "city = 'New Delhi'"
   ]
  },
  {
   "cell_type": "code",
   "execution_count": 115,
   "id": "5641d88c",
   "metadata": {},
   "outputs": [
    {
     "data": {
      "text/plain": [
       "True"
      ]
     },
     "execution_count": 115,
     "metadata": {},
     "output_type": "execute_result"
    }
   ],
   "source": [
    "city.startswith('N')"
   ]
  },
  {
   "cell_type": "code",
   "execution_count": 116,
   "id": "d2bdab54",
   "metadata": {},
   "outputs": [
    {
     "data": {
      "text/plain": [
       "False"
      ]
     },
     "execution_count": 116,
     "metadata": {},
     "output_type": "execute_result"
    }
   ],
   "source": [
    "city.startswith('S')"
   ]
  },
  {
   "cell_type": "code",
   "execution_count": 117,
   "id": "eb3c104c",
   "metadata": {},
   "outputs": [
    {
     "data": {
      "text/plain": [
       "False"
      ]
     },
     "execution_count": 117,
     "metadata": {},
     "output_type": "execute_result"
    }
   ],
   "source": [
    "city.endswith('N')"
   ]
  },
  {
   "cell_type": "code",
   "execution_count": 118,
   "id": "ad30471f",
   "metadata": {},
   "outputs": [
    {
     "data": {
      "text/plain": [
       "False"
      ]
     },
     "execution_count": 118,
     "metadata": {},
     "output_type": "execute_result"
    }
   ],
   "source": [
    "city.endswith('I')"
   ]
  },
  {
   "cell_type": "code",
   "execution_count": 119,
   "id": "65584b42",
   "metadata": {},
   "outputs": [
    {
     "data": {
      "text/plain": [
       "True"
      ]
     },
     "execution_count": 119,
     "metadata": {},
     "output_type": "execute_result"
    }
   ],
   "source": [
    "city.endswith('i')"
   ]
  },
  {
   "cell_type": "code",
   "execution_count": null,
   "id": "5fb3f0d7",
   "metadata": {},
   "outputs": [],
   "source": []
  },
  {
   "cell_type": "code",
   "execution_count": null,
   "id": "409fb2ea",
   "metadata": {},
   "outputs": [],
   "source": []
  },
  {
   "cell_type": "code",
   "execution_count": null,
   "id": "05ad07e4",
   "metadata": {},
   "outputs": [],
   "source": [
    "#Encode a given string as ASCII\n",
    "encode() encodes a string with a given encoding. The default is utf-8. If a character cannot be encoded then a UnicodeEncodeError is thrown."
   ]
  },
  {
   "cell_type": "code",
   "execution_count": 120,
   "id": "8d42ac2a",
   "metadata": {},
   "outputs": [
    {
     "data": {
      "text/plain": [
       "b'Fresh Tuna'"
      ]
     },
     "execution_count": 120,
     "metadata": {},
     "output_type": "execute_result"
    }
   ],
   "source": [
    "'Fresh Tuna'.encode('ascii')"
   ]
  },
  {
   "cell_type": "code",
   "execution_count": null,
   "id": "004e79c3",
   "metadata": {},
   "outputs": [],
   "source": []
  },
  {
   "cell_type": "code",
   "execution_count": null,
   "id": "adf5839c",
   "metadata": {},
   "outputs": [],
   "source": []
  },
  {
   "cell_type": "code",
   "execution_count": 121,
   "id": "df362f35",
   "metadata": {},
   "outputs": [],
   "source": [
    "#Check if all characters are whitespace characters"
   ]
  },
  {
   "cell_type": "code",
   "execution_count": 122,
   "id": "ecbb820e",
   "metadata": {},
   "outputs": [
    {
     "data": {
      "text/plain": [
       "False"
      ]
     },
     "execution_count": 122,
     "metadata": {},
     "output_type": "execute_result"
    }
   ],
   "source": [
    "''.isspace()"
   ]
  },
  {
   "cell_type": "code",
   "execution_count": 123,
   "id": "643987d6",
   "metadata": {},
   "outputs": [
    {
     "data": {
      "text/plain": [
       "True"
      ]
     },
     "execution_count": 123,
     "metadata": {},
     "output_type": "execute_result"
    }
   ],
   "source": [
    "' '.isspace()"
   ]
  },
  {
   "cell_type": "code",
   "execution_count": 124,
   "id": "d7cb307d",
   "metadata": {},
   "outputs": [
    {
     "data": {
      "text/plain": [
       "False"
      ]
     },
     "execution_count": 124,
     "metadata": {},
     "output_type": "execute_result"
    }
   ],
   "source": [
    "' rahul '.isspace()"
   ]
  },
  {
   "cell_type": "code",
   "execution_count": 125,
   "id": "c4053c28",
   "metadata": {},
   "outputs": [
    {
     "data": {
      "text/plain": [
       "True"
      ]
     },
     "execution_count": 125,
     "metadata": {},
     "output_type": "execute_result"
    }
   ],
   "source": [
    "'   '.isspace()"
   ]
  },
  {
   "cell_type": "code",
   "execution_count": null,
   "id": "5905b413",
   "metadata": {},
   "outputs": [],
   "source": []
  },
  {
   "cell_type": "code",
   "execution_count": null,
   "id": "8c982317",
   "metadata": {},
   "outputs": [],
   "source": []
  },
  {
   "cell_type": "code",
   "execution_count": null,
   "id": "973bffd5",
   "metadata": {},
   "outputs": [],
   "source": []
  },
  {
   "cell_type": "code",
   "execution_count": null,
   "id": "ed7fd78a",
   "metadata": {},
   "outputs": [],
   "source": [
    "#Capitalize the first character of each word in a string"
   ]
  },
  {
   "cell_type": "code",
   "execution_count": 126,
   "id": "91437020",
   "metadata": {},
   "outputs": [
    {
     "data": {
      "text/plain": [
       "'Tiger Is An Animal'"
      ]
     },
     "execution_count": 126,
     "metadata": {},
     "output_type": "execute_result"
    }
   ],
   "source": [
    "'tiger is an animal'.title()"
   ]
  },
  {
   "cell_type": "code",
   "execution_count": null,
   "id": "4b17c105",
   "metadata": {},
   "outputs": [],
   "source": []
  },
  {
   "cell_type": "code",
   "execution_count": null,
   "id": "1dd53028",
   "metadata": {},
   "outputs": [],
   "source": []
  },
  {
   "cell_type": "code",
   "execution_count": null,
   "id": "1c18256e",
   "metadata": {},
   "outputs": [],
   "source": [
    "#Concatenate two strings"
   ]
  },
  {
   "cell_type": "code",
   "execution_count": 130,
   "id": "d93477b2",
   "metadata": {},
   "outputs": [
    {
     "data": {
      "text/plain": [
       "'string one string two'"
      ]
     },
     "execution_count": 130,
     "metadata": {},
     "output_type": "execute_result"
    }
   ],
   "source": [
    "'string one' + ' ' + 'string two'"
   ]
  },
  {
   "cell_type": "code",
   "execution_count": null,
   "id": "a05b840c",
   "metadata": {},
   "outputs": [],
   "source": []
  },
  {
   "cell_type": "code",
   "execution_count": null,
   "id": "7560179a",
   "metadata": {},
   "outputs": [],
   "source": []
  },
  {
   "cell_type": "code",
   "execution_count": null,
   "id": "5d2de3c0",
   "metadata": {},
   "outputs": [],
   "source": [
    "#partition() function\n",
    "partition() splits a string on the first instance of a substring. A tuple of the split string is returned without the substring removed."
   ]
  },
  {
   "cell_type": "code",
   "execution_count": 131,
   "id": "2dc5e7b8",
   "metadata": {},
   "outputs": [],
   "source": [
    "sentence = \"If you want to be a ninja\""
   ]
  },
  {
   "cell_type": "code",
   "execution_count": 133,
   "id": "e428a73d",
   "metadata": {},
   "outputs": [
    {
     "name": "stdout",
     "output_type": "stream",
     "text": [
      "('If you ', 'want', ' to be a ninja')\n"
     ]
    }
   ],
   "source": [
    "print(sentence.partition('want'))"
   ]
  },
  {
   "cell_type": "code",
   "execution_count": 134,
   "id": "f40a0348",
   "metadata": {},
   "outputs": [
    {
     "data": {
      "text/plain": [
       "tuple"
      ]
     },
     "execution_count": 134,
     "metadata": {},
     "output_type": "execute_result"
    }
   ],
   "source": [
    "type(sentence.partition('want'))"
   ]
  },
  {
   "cell_type": "code",
   "execution_count": null,
   "id": "ba305bf2",
   "metadata": {},
   "outputs": [],
   "source": []
  },
  {
   "cell_type": "code",
   "execution_count": null,
   "id": "37ea50bc",
   "metadata": {},
   "outputs": [],
   "source": []
  },
  {
   "cell_type": "code",
   "execution_count": null,
   "id": "e11a505f",
   "metadata": {},
   "outputs": [],
   "source": [
    "#maketrans() and translate()\n",
    "maketrans() creates a mapping from characters to other characters. \n",
    "translate() then applies that mapping to translate a string."
   ]
  },
  {
   "cell_type": "code",
   "execution_count": 135,
   "id": "41437a96",
   "metadata": {},
   "outputs": [],
   "source": [
    "mapping = str.maketrans(\"abcs\", \"123S\")"
   ]
  },
  {
   "cell_type": "code",
   "execution_count": 136,
   "id": "e0b3f91e",
   "metadata": {},
   "outputs": [
    {
     "data": {
      "text/plain": [
       "'123 1re the firSt three letterS'"
      ]
     },
     "execution_count": 136,
     "metadata": {},
     "output_type": "execute_result"
    }
   ],
   "source": [
    "\"abc are the first three letters\".translate(mapping)"
   ]
  },
  {
   "cell_type": "code",
   "execution_count": null,
   "id": "47ccf505",
   "metadata": {},
   "outputs": [],
   "source": []
  },
  {
   "cell_type": "code",
   "execution_count": 137,
   "id": "10229343",
   "metadata": {},
   "outputs": [
    {
     "data": {
      "text/plain": [
       "'voib'"
      ]
     },
     "execution_count": 137,
     "metadata": {},
     "output_type": "execute_result"
    }
   ],
   "source": [
    "m = str.maketrans('d', 'b')\n",
    "'void'.translate(m)"
   ]
  },
  {
   "cell_type": "code",
   "execution_count": null,
   "id": "5088ef1e",
   "metadata": {},
   "outputs": [],
   "source": []
  },
  {
   "cell_type": "code",
   "execution_count": null,
   "id": "fb2b110c",
   "metadata": {},
   "outputs": [],
   "source": []
  },
  {
   "cell_type": "code",
   "execution_count": null,
   "id": "13f9b200",
   "metadata": {},
   "outputs": [],
   "source": [
    "#Remove vowels from a string\n",
    "One option is to iterate over the characters in a string via list comprehension. If they don’t match a vowel then join them back into a string."
   ]
  },
  {
   "cell_type": "code",
   "execution_count": 138,
   "id": "92e343be",
   "metadata": {},
   "outputs": [],
   "source": [
    "string = 'Hello 1 World 2'"
   ]
  },
  {
   "cell_type": "code",
   "execution_count": 141,
   "id": "65ceddd5",
   "metadata": {},
   "outputs": [],
   "source": [
    "vowels = ('a','e','i','o','u')"
   ]
  },
  {
   "cell_type": "code",
   "execution_count": 143,
   "id": "7385239c",
   "metadata": {},
   "outputs": [
    {
     "data": {
      "text/plain": [
       "['H', 'l', 'l', ' ', '1', ' ', 'W', 'r', 'l', 'd', ' ', '2']"
      ]
     },
     "execution_count": 143,
     "metadata": {},
     "output_type": "execute_result"
    }
   ],
   "source": [
    "[i for i in string if i not in vowels]"
   ]
  },
  {
   "cell_type": "code",
   "execution_count": 140,
   "id": "01fdd87c",
   "metadata": {},
   "outputs": [
    {
     "data": {
      "text/plain": [
       "'Hll 1 Wrld 2'"
      ]
     },
     "execution_count": 140,
     "metadata": {},
     "output_type": "execute_result"
    }
   ],
   "source": [
    "''.join([c for c in string if c not in vowels])"
   ]
  },
  {
   "cell_type": "code",
   "execution_count": null,
   "id": "48655ece",
   "metadata": {},
   "outputs": [],
   "source": []
  },
  {
   "cell_type": "code",
   "execution_count": null,
   "id": "7b7cd86a",
   "metadata": {},
   "outputs": [],
   "source": []
  },
  {
   "cell_type": "code",
   "execution_count": null,
   "id": "9d8f8e44",
   "metadata": {},
   "outputs": [],
   "source": [
    "#When would you use rfind()\n",
    "rfind() is like find() but it starts searching from the right of a string and return the first matching substring."
   ]
  },
  {
   "cell_type": "code",
   "execution_count": 144,
   "id": "057749db",
   "metadata": {},
   "outputs": [],
   "source": [
    "story = 'The price is right said Bob. The price is right.'"
   ]
  },
  {
   "cell_type": "code",
   "execution_count": 145,
   "id": "f0fd235b",
   "metadata": {},
   "outputs": [
    {
     "data": {
      "text/plain": [
       "39"
      ]
     },
     "execution_count": 145,
     "metadata": {},
     "output_type": "execute_result"
    }
   ],
   "source": [
    "story.rfind('is')"
   ]
  },
  {
   "cell_type": "code",
   "execution_count": null,
   "id": "e5724b8e",
   "metadata": {},
   "outputs": [],
   "source": []
  },
  {
   "cell_type": "code",
   "execution_count": null,
   "id": "df218955",
   "metadata": {},
   "outputs": [],
   "source": []
  },
  {
   "cell_type": "code",
   "execution_count": null,
   "id": "cfb9ba01",
   "metadata": {},
   "outputs": [],
   "source": []
  },
  {
   "cell_type": "code",
   "execution_count": null,
   "id": "c9cc3e54",
   "metadata": {},
   "outputs": [],
   "source": []
  },
  {
   "cell_type": "code",
   "execution_count": 84,
   "id": "ba0281cb",
   "metadata": {},
   "outputs": [
    {
     "data": {
      "text/plain": [
       "'fisd'"
      ]
     },
     "execution_count": 84,
     "metadata": {},
     "output_type": "execute_result"
    }
   ],
   "source": [
    "animal.replace('h','d')"
   ]
  },
  {
   "cell_type": "code",
   "execution_count": 86,
   "id": "f5488fbc",
   "metadata": {},
   "outputs": [
    {
     "data": {
      "text/plain": [
       "'three three was a race horse, two two was one too.'"
      ]
     },
     "execution_count": 86,
     "metadata": {},
     "output_type": "execute_result"
    }
   ],
   "source": [
    "txt = \"one one was a race horse, two two was one too.\"\n",
    "\n",
    "txt.replace(\"one\", \"three\", 2)"
   ]
  },
  {
   "cell_type": "code",
   "execution_count": null,
   "id": "6c0b417f",
   "metadata": {},
   "outputs": [],
   "source": []
  },
  {
   "cell_type": "code",
   "execution_count": null,
   "id": "e9ba7319",
   "metadata": {},
   "outputs": [],
   "source": []
  },
  {
   "cell_type": "code",
   "execution_count": null,
   "id": "b176ac10",
   "metadata": {},
   "outputs": [],
   "source": []
  },
  {
   "cell_type": "code",
   "execution_count": null,
   "id": "d199545f",
   "metadata": {},
   "outputs": [],
   "source": []
  },
  {
   "cell_type": "code",
   "execution_count": null,
   "id": "7878c259",
   "metadata": {},
   "outputs": [],
   "source": []
  },
  {
   "cell_type": "code",
   "execution_count": null,
   "id": "4370942f",
   "metadata": {},
   "outputs": [],
   "source": []
  },
  {
   "cell_type": "code",
   "execution_count": null,
   "id": "81e84958",
   "metadata": {},
   "outputs": [],
   "source": []
  },
  {
   "cell_type": "code",
   "execution_count": null,
   "id": "ff0a888b",
   "metadata": {},
   "outputs": [],
   "source": []
  },
  {
   "cell_type": "code",
   "execution_count": null,
   "id": "01cf15ff",
   "metadata": {},
   "outputs": [],
   "source": []
  },
  {
   "cell_type": "code",
   "execution_count": null,
   "id": "179f0e2d",
   "metadata": {},
   "outputs": [],
   "source": []
  },
  {
   "cell_type": "code",
   "execution_count": null,
   "id": "50f2ce8e",
   "metadata": {},
   "outputs": [],
   "source": []
  },
  {
   "cell_type": "code",
   "execution_count": null,
   "id": "22e398dc",
   "metadata": {},
   "outputs": [],
   "source": []
  },
  {
   "cell_type": "code",
   "execution_count": null,
   "id": "d51ec3ed",
   "metadata": {},
   "outputs": [],
   "source": []
  },
  {
   "cell_type": "code",
   "execution_count": null,
   "id": "f6a992a5",
   "metadata": {},
   "outputs": [],
   "source": []
  },
  {
   "cell_type": "code",
   "execution_count": null,
   "id": "d4b3d25c",
   "metadata": {},
   "outputs": [],
   "source": [
    "#decorator"
   ]
  },
  {
   "cell_type": "code",
   "execution_count": 11,
   "id": "b40a4110",
   "metadata": {},
   "outputs": [
    {
     "name": "stdout",
     "output_type": "stream",
     "text": [
      "hello\n",
      "inner called\n"
     ]
    }
   ],
   "source": [
    "def dec(func):\n",
    "    def inner():\n",
    "        func()\n",
    "        print(\"inner called\")\n",
    "    return inner\n",
    "\n",
    "@dec\n",
    "def name():\n",
    "    print(\"hello\")\n",
    "\n",
    "name()"
   ]
  },
  {
   "cell_type": "code",
   "execution_count": null,
   "id": "af720dce",
   "metadata": {},
   "outputs": [],
   "source": []
  },
  {
   "cell_type": "code",
   "execution_count": null,
   "id": "f95764bc",
   "metadata": {},
   "outputs": [],
   "source": []
  },
  {
   "cell_type": "code",
   "execution_count": null,
   "id": "0099ae9c",
   "metadata": {},
   "outputs": [],
   "source": []
  },
  {
   "cell_type": "code",
   "execution_count": null,
   "id": "b926cf68",
   "metadata": {},
   "outputs": [],
   "source": []
  },
  {
   "cell_type": "code",
   "execution_count": null,
   "id": "acc3a39d",
   "metadata": {},
   "outputs": [],
   "source": []
  },
  {
   "cell_type": "code",
   "execution_count": null,
   "id": "91ae0f59",
   "metadata": {},
   "outputs": [],
   "source": []
  },
  {
   "cell_type": "code",
   "execution_count": null,
   "id": "3aadccd9",
   "metadata": {},
   "outputs": [],
   "source": []
  },
  {
   "cell_type": "code",
   "execution_count": null,
   "id": "12065de3",
   "metadata": {},
   "outputs": [],
   "source": []
  }
 ],
 "metadata": {
  "kernelspec": {
   "display_name": "Python 3 (ipykernel)",
   "language": "python",
   "name": "python3"
  },
  "language_info": {
   "codemirror_mode": {
    "name": "ipython",
    "version": 3
   },
   "file_extension": ".py",
   "mimetype": "text/x-python",
   "name": "python",
   "nbconvert_exporter": "python",
   "pygments_lexer": "ipython3",
   "version": "3.8.10"
  }
 },
 "nbformat": 4,
 "nbformat_minor": 5
}

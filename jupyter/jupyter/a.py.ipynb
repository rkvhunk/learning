{
 "cells": [
  {
   "cell_type": "code",
   "execution_count": 3,
   "id": "757308cd",
   "metadata": {},
   "outputs": [
    {
     "name": "stdout",
     "output_type": "stream",
     "text": [
      "Something to print\n",
      "exiting\n"
     ]
    }
   ],
   "source": [
    "print(\"Something to print\")\n",
    "while True:\n",
    "    r = 'n'\n",
    "    if r == 'n':\n",
    "        print( \"exiting\")\n",
    "        break\n",
    "    else:\n",
    "        print(\"continuing\")"
   ]
  },
  {
   "cell_type": "code",
   "execution_count": 6,
   "id": "5cbe7278",
   "metadata": {},
   "outputs": [
    {
     "data": {
      "text/plain": [
       "['afdea', 'fewf', 'fewf', 3223, 'sdf']"
      ]
     },
     "execution_count": 6,
     "metadata": {},
     "output_type": "execute_result"
    }
   ],
   "source": [
    "a = [\"afdea\",\"fewf\",\"fewf\",3223,\"sdf\"]\n",
    "a"
   ]
  },
  {
   "cell_type": "code",
   "execution_count": 8,
   "id": "a63163c7",
   "metadata": {},
   "outputs": [
    {
     "data": {
      "text/plain": [
       "('123', 'awda', 23423, '12-42-202')"
      ]
     },
     "execution_count": 8,
     "metadata": {},
     "output_type": "execute_result"
    }
   ],
   "source": [
    "b = (\"123\",\"awda\",23423,\"12-42-202\")\n",
    "b"
   ]
  },
  {
   "cell_type": "code",
   "execution_count": 9,
   "id": "4b3e03dc",
   "metadata": {},
   "outputs": [
    {
     "data": {
      "text/plain": [
       "['afdea', 'fewf', 'fewf', 3223, 'sdf', '123', 'awda', 23423, '12-42-202']"
      ]
     },
     "execution_count": 9,
     "metadata": {},
     "output_type": "execute_result"
    }
   ],
   "source": [
    "[*a,*b]"
   ]
  },
  {
   "cell_type": "code",
   "execution_count": 11,
   "id": "8ce7ec64",
   "metadata": {},
   "outputs": [],
   "source": [
    "a=[1,2,4,5]\n",
    "b=[9,7,8]"
   ]
  },
  {
   "cell_type": "code",
   "execution_count": 12,
   "id": "2c840340",
   "metadata": {},
   "outputs": [
    {
     "data": {
      "text/plain": [
       "[1, 2, 4, 5, 9, 7, 8]"
      ]
     },
     "execution_count": 12,
     "metadata": {},
     "output_type": "execute_result"
    }
   ],
   "source": [
    "a+b"
   ]
  },
  {
   "cell_type": "code",
   "execution_count": 13,
   "id": "dc7774b8",
   "metadata": {},
   "outputs": [
    {
     "data": {
      "text/plain": [
       "[1, 2, 4, 5, 9, 7, 8]"
      ]
     },
     "execution_count": 13,
     "metadata": {},
     "output_type": "execute_result"
    }
   ],
   "source": [
    "[*a,*b]"
   ]
  },
  {
   "cell_type": "code",
   "execution_count": null,
   "id": "9f846cda",
   "metadata": {},
   "outputs": [],
   "source": []
  },
  {
   "cell_type": "code",
   "execution_count": null,
   "id": "8eddc613",
   "metadata": {},
   "outputs": [],
   "source": []
  },
  {
   "cell_type": "code",
   "execution_count": null,
   "id": "ed5ca9b9",
   "metadata": {},
   "outputs": [],
   "source": []
  },
  {
   "cell_type": "code",
   "execution_count": 5,
   "id": "75f9bffa",
   "metadata": {},
   "outputs": [
    {
     "data": {
      "text/plain": [
       "['afdea', 'fewf', 'fewf']"
      ]
     },
     "execution_count": 5,
     "metadata": {},
     "output_type": "execute_result"
    }
   ],
   "source": [
    "a"
   ]
  },
  {
   "cell_type": "code",
   "execution_count": null,
   "id": "f8fe37ed",
   "metadata": {},
   "outputs": [],
   "source": []
  },
  {
   "cell_type": "code",
   "execution_count": null,
   "id": "362c30c3",
   "metadata": {},
   "outputs": [],
   "source": []
  },
  {
   "cell_type": "code",
   "execution_count": null,
   "id": "35e860c2",
   "metadata": {},
   "outputs": [],
   "source": []
  },
  {
   "cell_type": "code",
   "execution_count": null,
   "id": "f6be1f22",
   "metadata": {},
   "outputs": [],
   "source": []
  },
  {
   "cell_type": "code",
   "execution_count": null,
   "id": "f3366860",
   "metadata": {},
   "outputs": [],
   "source": []
  },
  {
   "cell_type": "code",
   "execution_count": null,
   "id": "4fc155e4",
   "metadata": {},
   "outputs": [],
   "source": []
  }
 ],
 "metadata": {
  "kernelspec": {
   "display_name": "Python 3 (ipykernel)",
   "language": "python",
   "name": "python3"
  },
  "language_info": {
   "codemirror_mode": {
    "name": "ipython",
    "version": 3
   },
   "file_extension": ".py",
   "mimetype": "text/x-python",
   "name": "python",
   "nbconvert_exporter": "python",
   "pygments_lexer": "ipython3",
   "version": "3.8.10"
  }
 },
 "nbformat": 4,
 "nbformat_minor": 5
}

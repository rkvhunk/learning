{
 "cells": [
  {
   "cell_type": "code",
   "execution_count": 1,
   "id": "64a7a840",
   "metadata": {},
   "outputs": [],
   "source": [
    "sample_tuple = (2,3,4, [5,6,7], {'position':'Senior'})"
   ]
  },
  {
   "cell_type": "code",
   "execution_count": 6,
   "id": "e033b03b",
   "metadata": {},
   "outputs": [
    {
     "name": "stdout",
     "output_type": "stream",
     "text": [
      "['Senior']\n"
     ]
    }
   ],
   "source": [
    "print(list(sample_tuple[-1].values()))"
   ]
  },
  {
   "cell_type": "code",
   "execution_count": 11,
   "id": "9bcd163f",
   "metadata": {},
   "outputs": [
    {
     "data": {
      "text/plain": [
       "'og$najd/nohtyp'"
      ]
     },
     "execution_count": 11,
     "metadata": {},
     "output_type": "execute_result"
    }
   ],
   "source": [
    "Input = 'python/djan$go'\n",
    "# Output: 'ognajd/noht$yp'\n",
    "Input[::-1]"
   ]
  },
  {
   "cell_type": "code",
   "execution_count": null,
   "id": "960a0e2e",
   "metadata": {},
   "outputs": [],
   "source": []
  },
  {
   "cell_type": "code",
   "execution_count": 23,
   "id": "60618a6b",
   "metadata": {},
   "outputs": [
    {
     "data": {
      "text/plain": [
       "['djan', 'go']"
      ]
     },
     "execution_count": 23,
     "metadata": {},
     "output_type": "execute_result"
    }
   ],
   "source": [
    "a = Input.split(\"/\")\n",
    "b = a[1].split(\"$\")\n",
    "b"
   ]
  },
  {
   "cell_type": "code",
   "execution_count": 38,
   "id": "ec233856",
   "metadata": {},
   "outputs": [
    {
     "ename": "AttributeError",
     "evalue": "'str' object has no attribute 'insert'",
     "output_type": "error",
     "traceback": [
      "\u001b[0;31m---------------------------------------------------------------------------\u001b[0m",
      "\u001b[0;31mAttributeError\u001b[0m                            Traceback (most recent call last)",
      "Input \u001b[0;32mIn [38]\u001b[0m, in \u001b[0;36m<module>\u001b[0;34m\u001b[0m\n\u001b[1;32m      4\u001b[0m     s \u001b[38;5;241m=\u001b[39m v\u001b[38;5;241m+\u001b[39ms\n\u001b[1;32m      5\u001b[0m \u001b[38;5;28;01melse\u001b[39;00m:\n\u001b[0;32m----> 6\u001b[0m     \u001b[43ms\u001b[49m\u001b[38;5;241;43m.\u001b[39;49m\u001b[43minsert\u001b[49m(k,v)\n",
      "\u001b[0;31mAttributeError\u001b[0m: 'str' object has no attribute 'insert'"
     ]
    }
   ],
   "source": [
    "s = ''\n",
    "for k,v in enumerate(Input):\n",
    "    if v.isalpha():\n",
    "        s = v+s\n",
    "    else:\n",
    "        s.insert(k,v)"
   ]
  },
  {
   "cell_type": "code",
   "execution_count": null,
   "id": "6b1534df",
   "metadata": {},
   "outputs": [],
   "source": []
  },
  {
   "cell_type": "code",
   "execution_count": null,
   "id": "ba22639a",
   "metadata": {},
   "outputs": [],
   "source": []
  },
  {
   "cell_type": "code",
   "execution_count": null,
   "id": "41b2f91e",
   "metadata": {},
   "outputs": [],
   "source": []
  },
  {
   "cell_type": "code",
   "execution_count": null,
   "id": "4aea0074",
   "metadata": {},
   "outputs": [],
   "source": []
  },
  {
   "cell_type": "code",
   "execution_count": null,
   "id": "0e1b9ddd",
   "metadata": {},
   "outputs": [],
   "source": []
  },
  {
   "cell_type": "code",
   "execution_count": null,
   "id": "e03cba82",
   "metadata": {},
   "outputs": [],
   "source": []
  },
  {
   "cell_type": "code",
   "execution_count": null,
   "id": "e6f7892b",
   "metadata": {},
   "outputs": [],
   "source": []
  },
  {
   "cell_type": "code",
   "execution_count": null,
   "id": "2542464c",
   "metadata": {},
   "outputs": [],
   "source": []
  },
  {
   "cell_type": "code",
   "execution_count": 40,
   "id": "7f94e320",
   "metadata": {},
   "outputs": [
    {
     "name": "stdout",
     "output_type": "stream",
     "text": [
      "jih/gfedc$ba\n"
     ]
    }
   ],
   "source": [
    "strSample='abc/defgh$ij'\n",
    " \n",
    "#convert string into list\n",
    "listSample=list(strSample)\n",
    " \n",
    "i=0\n",
    "j=len(listSample)-1\n",
    " \n",
    "while i<j:\n",
    "    if not listSample[i].isalpha():\n",
    "        i+=1\n",
    "    elif not listSample[j].isalpha():\n",
    "        j-=1\n",
    "    else:\n",
    "        #swap the element in the list \n",
    "        #if both elements are alphabets\n",
    "        listSample[i], listSample[j]=listSample[j], listSample[i]\n",
    "        i+=1\n",
    "        j-=1\n",
    "strOut=''.join(listSample)\n",
    "print(strOut)"
   ]
  },
  {
   "cell_type": "code",
   "execution_count": 42,
   "id": "96dc3fdc",
   "metadata": {},
   "outputs": [
    {
     "name": "stdout",
     "output_type": "stream",
     "text": [
      "['A', 'b', 'c', 'd', 'e', '', '', '', '']\n",
      "reverse string is : e,d,cb!$\n"
     ]
    }
   ],
   "source": [
    "# Python3 program to reverse string without\n",
    "# affecting it's special character\n",
    "def rev(s, l, r) :\n",
    "\twhile l<r :\n",
    "\t\ttemp = s[l]\n",
    "\t\ts[l] = s[r]\n",
    "\t\ts[r] = temp\n",
    "\t\tl += 1\n",
    "\t\tr -= 1\n",
    "\t\n",
    "# creating character array of size\n",
    "# equal to length of string\n",
    "def reverse(s):\n",
    "\t\n",
    "\ttemp = ['']*len(s)\n",
    "\tx = 0\n",
    "\t\n",
    "\tfor i in range(len(s)) :\n",
    "\t\tif s[i] >= 'a' and s[i] <= 'z' or s[i] >= 'A' and s[i] <= 'Z' :\n",
    "\t\t\t# storing elements in array\n",
    "\t\t\ttemp[x] = s[i]\n",
    "\t\t\tx += 1\n",
    "\tprint(temp)\n",
    "\t# reversing the character array\t\n",
    "\trev(temp, 0, x)\n",
    "\t\n",
    "\tlst = list(s)\n",
    "\tx = 0\n",
    "\t\n",
    "\tfor i in range(len(s)) :\n",
    "\t\tif s[i] >= 'a' and s[i] <= 'z' or s[i] >= 'A' and s[i] <= 'Z' :\n",
    "\t\t\t# updating the origional string\n",
    "\t\t\tlst[i] = temp[x]\n",
    "\t\t\tx += 1\n",
    "\t\n",
    "\trevStr = \"\"\n",
    "\tfor i in range(len(s)) :\n",
    "\t\trevStr += lst[i]\n",
    "\t\t\n",
    "\tprint(\"reverse string is :\",revStr);\n",
    "\t\n",
    "# Driver Code\n",
    "if __name__ == \"__main__\" :\n",
    "\t\n",
    "\ts=\"Ab,c,de!$\"\n",
    "\t\n",
    "\treverse(s)\n",
    "\t\n",
    "# This code is contributed by aditya942003patil\n"
   ]
  },
  {
   "cell_type": "code",
   "execution_count": null,
   "id": "4511cd54",
   "metadata": {},
   "outputs": [],
   "source": []
  },
  {
   "cell_type": "code",
   "execution_count": null,
   "id": "fd7971d5",
   "metadata": {},
   "outputs": [],
   "source": []
  },
  {
   "cell_type": "code",
   "execution_count": null,
   "id": "a2ebe1dc",
   "metadata": {},
   "outputs": [],
   "source": []
  },
  {
   "cell_type": "code",
   "execution_count": null,
   "id": "2dd09a17",
   "metadata": {},
   "outputs": [],
   "source": []
  },
  {
   "cell_type": "code",
   "execution_count": null,
   "id": "27618a6f",
   "metadata": {},
   "outputs": [],
   "source": []
  },
  {
   "cell_type": "code",
   "execution_count": null,
   "id": "9c235932",
   "metadata": {},
   "outputs": [],
   "source": []
  },
  {
   "cell_type": "code",
   "execution_count": null,
   "id": "ffcc9318",
   "metadata": {},
   "outputs": [],
   "source": []
  },
  {
   "cell_type": "code",
   "execution_count": null,
   "id": "916e5bdb",
   "metadata": {},
   "outputs": [],
   "source": []
  },
  {
   "cell_type": "code",
   "execution_count": null,
   "id": "c99ac7e6",
   "metadata": {},
   "outputs": [],
   "source": []
  },
  {
   "cell_type": "code",
   "execution_count": null,
   "id": "8dd7f4f2",
   "metadata": {},
   "outputs": [],
   "source": []
  },
  {
   "cell_type": "code",
   "execution_count": null,
   "id": "0d2dfdae",
   "metadata": {},
   "outputs": [],
   "source": []
  },
  {
   "cell_type": "code",
   "execution_count": null,
   "id": "0381a401",
   "metadata": {},
   "outputs": [],
   "source": []
  },
  {
   "cell_type": "code",
   "execution_count": null,
   "id": "5b8dcdbf",
   "metadata": {},
   "outputs": [],
   "source": []
  },
  {
   "cell_type": "code",
   "execution_count": null,
   "id": "33422bca",
   "metadata": {},
   "outputs": [],
   "source": []
  },
  {
   "cell_type": "code",
   "execution_count": null,
   "id": "0c9ab374",
   "metadata": {},
   "outputs": [],
   "source": []
  },
  {
   "cell_type": "code",
   "execution_count": null,
   "id": "576e2cbe",
   "metadata": {},
   "outputs": [],
   "source": []
  },
  {
   "cell_type": "code",
   "execution_count": null,
   "id": "2240fd24",
   "metadata": {},
   "outputs": [],
   "source": []
  },
  {
   "cell_type": "code",
   "execution_count": null,
   "id": "71acda6f",
   "metadata": {},
   "outputs": [],
   "source": []
  },
  {
   "cell_type": "code",
   "execution_count": null,
   "id": "cf2a0963",
   "metadata": {},
   "outputs": [],
   "source": []
  }
 ],
 "metadata": {
  "kernelspec": {
   "display_name": "Python 3 (ipykernel)",
   "language": "python",
   "name": "python3"
  },
  "language_info": {
   "codemirror_mode": {
    "name": "ipython",
    "version": 3
   },
   "file_extension": ".py",
   "mimetype": "text/x-python",
   "name": "python",
   "nbconvert_exporter": "python",
   "pygments_lexer": "ipython3",
   "version": "3.8.10"
  }
 },
 "nbformat": 4,
 "nbformat_minor": 5
}

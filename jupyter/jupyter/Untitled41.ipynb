{
 "cells": [
  {
   "cell_type": "code",
   "execution_count": 2,
   "id": "1301d88f",
   "metadata": {},
   "outputs": [],
   "source": [
    "l = [25,12,2,8,4]"
   ]
  },
  {
   "cell_type": "code",
   "execution_count": 13,
   "id": "ad1c1e94",
   "metadata": {},
   "outputs": [
    {
     "name": "stdout",
     "output_type": "stream",
     "text": [
      "[2, 4, 8, 12, 25]\n",
      "[25, 12, 8, 4, 2]\n"
     ]
    }
   ],
   "source": [
    "def bubble_sort(data,order=None):\n",
    "    for i in range(len(l)):\n",
    "        for j in range(0,len(l)-1):\n",
    "            if order == 'a':\n",
    "                if data[j] > data[j+1]:\n",
    "                    temp = data[j]\n",
    "                    data[j] = data[j+1]\n",
    "                    data[j+1] = temp\n",
    "            else:\n",
    "                if data[j] < data[j+1]:\n",
    "                    temp = data[j]\n",
    "                    data[j] = data[j+1]\n",
    "                    data[j+1] = temp\n",
    "    return data\n",
    "# order = 'd'\n",
    "print(bubble_sort(l,order='a'))\n",
    "print(bubble_sort(l,order='d'))"
   ]
  },
  {
   "cell_type": "code",
   "execution_count": null,
   "id": "e84f64c8",
   "metadata": {},
   "outputs": [],
   "source": []
  },
  {
   "cell_type": "code",
   "execution_count": null,
   "id": "148219ac",
   "metadata": {},
   "outputs": [],
   "source": []
  },
  {
   "cell_type": "code",
   "execution_count": null,
   "id": "ce7f75b3",
   "metadata": {},
   "outputs": [],
   "source": []
  },
  {
   "cell_type": "code",
   "execution_count": null,
   "id": "563c3106",
   "metadata": {},
   "outputs": [],
   "source": []
  },
  {
   "cell_type": "code",
   "execution_count": null,
   "id": "147822ac",
   "metadata": {},
   "outputs": [],
   "source": []
  },
  {
   "cell_type": "code",
   "execution_count": null,
   "id": "ad0c7dc5",
   "metadata": {},
   "outputs": [],
   "source": []
  },
  {
   "cell_type": "code",
   "execution_count": null,
   "id": "85eb7d32",
   "metadata": {},
   "outputs": [],
   "source": []
  },
  {
   "cell_type": "code",
   "execution_count": null,
   "id": "99a409fc",
   "metadata": {},
   "outputs": [],
   "source": []
  },
  {
   "cell_type": "code",
   "execution_count": null,
   "id": "7152ba57",
   "metadata": {},
   "outputs": [],
   "source": []
  },
  {
   "cell_type": "code",
   "execution_count": null,
   "id": "4178c532",
   "metadata": {},
   "outputs": [],
   "source": []
  },
  {
   "cell_type": "code",
   "execution_count": null,
   "id": "e52cf645",
   "metadata": {},
   "outputs": [],
   "source": []
  },
  {
   "cell_type": "code",
   "execution_count": null,
   "id": "1da4860c",
   "metadata": {},
   "outputs": [],
   "source": []
  }
 ],
 "metadata": {
  "kernelspec": {
   "display_name": "Python 3 (ipykernel)",
   "language": "python",
   "name": "python3"
  },
  "language_info": {
   "codemirror_mode": {
    "name": "ipython",
    "version": 3
   },
   "file_extension": ".py",
   "mimetype": "text/x-python",
   "name": "python",
   "nbconvert_exporter": "python",
   "pygments_lexer": "ipython3",
   "version": "3.8.10"
  }
 },
 "nbformat": 4,
 "nbformat_minor": 5
}

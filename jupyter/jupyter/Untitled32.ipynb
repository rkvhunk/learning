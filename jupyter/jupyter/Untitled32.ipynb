{
 "cells": [
  {
   "cell_type": "code",
   "execution_count": 1,
   "id": "fc4f40c2",
   "metadata": {},
   "outputs": [],
   "source": [
    "li = [10,50,60,20,40,40]"
   ]
  },
  {
   "cell_type": "code",
   "execution_count": 2,
   "id": "ff428057",
   "metadata": {},
   "outputs": [
    {
     "name": "stdout",
     "output_type": "stream",
     "text": [
      "[10, 20, 40, 50, 60]\n"
     ]
    }
   ],
   "source": [
    "print(sorted(li))"
   ]
  },
  {
   "cell_type": "code",
   "execution_count": 3,
   "id": "c43e70e2",
   "metadata": {},
   "outputs": [
    {
     "data": {
      "text/plain": [
       "140668970671232"
      ]
     },
     "execution_count": 3,
     "metadata": {},
     "output_type": "execute_result"
    }
   ],
   "source": [
    "id(li)"
   ]
  },
  {
   "cell_type": "code",
   "execution_count": 5,
   "id": "380d6f6c",
   "metadata": {},
   "outputs": [
    {
     "name": "stdout",
     "output_type": "stream",
     "text": [
      "9793376 10\n",
      "9794656 50\n",
      "9794976 60\n",
      "9793696 20\n",
      "9794336 40\n"
     ]
    }
   ],
   "source": [
    "for i in li:\n",
    "    print(id(i), i)"
   ]
  },
  {
   "cell_type": "code",
   "execution_count": null,
   "id": "b7503534",
   "metadata": {},
   "outputs": [],
   "source": [
    "author -> name, desc\n",
    "book -> title, author, desc"
   ]
  },
  {
   "cell_type": "code",
   "execution_count": null,
   "id": "7b31581e",
   "metadata": {},
   "outputs": [],
   "source": [
    "dir()"
   ]
  }
 ],
 "metadata": {
  "kernelspec": {
   "display_name": "Python 3 (ipykernel)",
   "language": "python",
   "name": "python3"
  },
  "language_info": {
   "codemirror_mode": {
    "name": "ipython",
    "version": 3
   },
   "file_extension": ".py",
   "mimetype": "text/x-python",
   "name": "python",
   "nbconvert_exporter": "python",
   "pygments_lexer": "ipython3",
   "version": "3.8.10"
  }
 },
 "nbformat": 4,
 "nbformat_minor": 5
}

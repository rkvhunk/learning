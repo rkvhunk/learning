{
 "cells": [
  {
   "cell_type": "code",
   "execution_count": null,
   "id": "f8b03b49",
   "metadata": {},
   "outputs": [],
   "source": [
    "import os\n",
    "import sys\n",
    "import shutil\n",
    "sys.path.insert(0,'/notebooks/notebooks/EEF_NER_LSTM_Training')"
   ]
  },
  {
   "cell_type": "code",
   "execution_count": null,
   "id": "1653699c",
   "metadata": {},
   "outputs": [],
   "source": [
    "#!git --version"
   ]
  },
  {
   "cell_type": "code",
   "execution_count": null,
   "id": "91e8f498",
   "metadata": {},
   "outputs": [],
   "source": [
    "# download setup file for large file downloads from below URL\n",
    "#https://github.com/git-lfs/git-lfs/releases/download/v2.9.0/git-lfs-linux-amd64-v2.9.0.tar.gz"
   ]
  },
  {
   "cell_type": "code",
   "execution_count": null,
   "id": "82182f12",
   "metadata": {},
   "outputs": [],
   "source": [
    "#!tar -xf git-lfs-linux-amd64-v2.9.0.tar.gz"
   ]
  },
  {
   "cell_type": "code",
   "execution_count": null,
   "id": "9dd9470e",
   "metadata": {},
   "outputs": [],
   "source": [
    "#!chmod 755 install.sh"
   ]
  },
  {
   "cell_type": "code",
   "execution_count": null,
   "id": "c4faab1f",
   "metadata": {},
   "outputs": [],
   "source": [
    "#!sudo ./install.sh"
   ]
  },
  {
   "cell_type": "code",
   "execution_count": null,
   "id": "12f8d99a",
   "metadata": {},
   "outputs": [],
   "source": [
    "print(\"script started\")"
   ]
  },
  {
   "cell_type": "code",
   "execution_count": null,
   "id": "afd01c56",
   "metadata": {},
   "outputs": [],
   "source": [
    "if not os.path.exists('/data/NER/Embeddings/russian/'):\n",
    "    os.makedirs('/data/NER/Embeddings/russian/')"
   ]
  },
  {
   "cell_type": "code",
   "execution_count": null,
   "id": "1d4ba289",
   "metadata": {},
   "outputs": [],
   "source": [
    "print(\"russian folder path created\")"
   ]
  },
  {
   "cell_type": "code",
   "execution_count": null,
   "id": "51dc65b9",
   "metadata": {},
   "outputs": [],
   "source": [
    "os.chdir('/notebooks')"
   ]
  },
  {
   "cell_type": "code",
   "execution_count": null,
   "id": "592bda7c",
   "metadata": {},
   "outputs": [],
   "source": [
    "#!git clone https://github.com/facebookresearch/fastText.git"
   ]
  },
  {
   "cell_type": "code",
   "execution_count": null,
   "id": "aa6eb305",
   "metadata": {},
   "outputs": [],
   "source": [
    "#os.chdir('/notebooks/fastText')"
   ]
  },
  {
   "cell_type": "code",
   "execution_count": null,
   "id": "6260afe3",
   "metadata": {},
   "outputs": [],
   "source": [
    "#pip install ."
   ]
  },
  {
   "cell_type": "code",
   "execution_count": null,
   "id": "607699b9",
   "metadata": {},
   "outputs": [],
   "source": [
    "#please restart kernal and follow below code\n",
    "#import os\n",
    "#os.chdir('/data/NER/Embeddings/russian/')"
   ]
  },
  {
   "cell_type": "code",
   "execution_count": null,
   "id": "a76d6482",
   "metadata": {},
   "outputs": [],
   "source": [
    "#import fasttext.util"
   ]
  },
  {
   "cell_type": "code",
   "execution_count": null,
   "id": "6f0be7a0",
   "metadata": {},
   "outputs": [],
   "source": [
    "#fasttext.util.download_model('ru', if_exists='ignore')  # russian 'ru'"
   ]
  },
  {
   "cell_type": "code",
   "execution_count": null,
   "id": "e05fadd2",
   "metadata": {},
   "outputs": [],
   "source": [
    "#import gensim\n",
    "#ft = gensim.models.FastText.load_fasttext_format(\"/data/NER/Embeddings/russian/cc.ru.300.bin\")"
   ]
  },
  {
   "cell_type": "code",
   "execution_count": null,
   "id": "7c5c9fd1",
   "metadata": {},
   "outputs": [],
   "source": [
    "#ft.wv.save('/data/NER/Embeddings/russian/fasttext_gensim.model') "
   ]
  }
 ],
 "metadata": {
  "kernelspec": {
   "display_name": "Python 3 (ipykernel)",
   "language": "python",
   "name": "python3"
  },
  "language_info": {
   "codemirror_mode": {
    "name": "ipython",
    "version": 3
   },
   "file_extension": ".py",
   "mimetype": "text/x-python",
   "name": "python",
   "nbconvert_exporter": "python",
   "pygments_lexer": "ipython3",
   "version": "3.8.10"
  }
 },
 "nbformat": 4,
 "nbformat_minor": 5
}

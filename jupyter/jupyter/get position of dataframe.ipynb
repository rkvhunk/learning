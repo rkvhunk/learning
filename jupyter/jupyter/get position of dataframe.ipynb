{
 "cells": [
  {
   "cell_type": "code",
   "execution_count": 1,
   "id": "dfcf7ce5",
   "metadata": {},
   "outputs": [
    {
     "name": "stdout",
     "output_type": "stream",
     "text": [
      "      Name  Age      City Section\n",
      "0    Ankit   23     Delhi       A\n",
      "1  Swapnil   22     Delhi       B\n",
      "2     Aman   22  Dehradun       A\n",
      "3    Jiten   22     Delhi       A\n",
      "4     Jeet   21    Mumbai       B\n",
      "Position of given elements in Dataframe are : \n",
      "22  :  [(1, 'Age'), (2, 'Age'), (3, 'Age')]\n",
      "Delhi  :  [(0, 'City'), (1, 'City'), (3, 'City')]\n"
     ]
    }
   ],
   "source": [
    "# Import pandas library\n",
    "import pandas as pd\n",
    "\n",
    "# List of tuples\n",
    "students = [('Ankit', 23, 'Delhi', 'A'),\n",
    "\t\t\t('Swapnil', 22, 'Delhi', 'B'),\n",
    "\t\t\t('Aman', 22, 'Dehradun', 'A'),\n",
    "\t\t\t('Jiten', 22, 'Delhi', 'A'),\n",
    "\t\t\t('Jeet', 21, 'Mumbai', 'B')\n",
    "\t\t\t]\n",
    "\n",
    "# Creating Dataframe object\n",
    "df = pd.DataFrame(students, columns =['Name', 'Age', 'City', 'Section'])\n",
    "print(df)\n",
    "# This function will return a\n",
    "# list of positions where\n",
    "# element exists in dataframe\n",
    "def getIndexes(dfObj, value):\n",
    "\t\n",
    "\t# Empty list\n",
    "\tlistOfPos = []\n",
    "\t\n",
    "\n",
    "\t# isin() method will return a dataframe with\n",
    "\t# boolean values, True at the positions\n",
    "\t# where element exists\n",
    "\tresult = dfObj.isin([value])\n",
    "\t\n",
    "\t# any() method will return\n",
    "\t# a boolean series\n",
    "\tseriesObj = result.any()\n",
    "\n",
    "\t# Get list of columns where element exists\n",
    "\tcolumnNames = list(seriesObj[seriesObj == True].index)\n",
    "\t\n",
    "\t# Iterate over the list of columns and\n",
    "\t# extract the row index where element exists\n",
    "\tfor col in columnNames:\n",
    "\t\trows = list(result[col][result[col] == True].index)\n",
    "\n",
    "\t\tfor row in rows:\n",
    "\t\t\tlistOfPos.append((row, col))\n",
    "\t\t\t\n",
    "\t# This list contains a list tuples with\n",
    "\t# the index of element in the dataframe\n",
    "\treturn listOfPos\n",
    "\n",
    "# Create a list which contains all the elements\n",
    "# whose index position you need to find\n",
    "listOfElems = [22, 'Delhi']\n",
    "\n",
    "# Using dictionary comprehension to find\n",
    "# index positions of multiple elements\n",
    "# in dataframe\n",
    "dictOfPos = {elem: getIndexes(df, elem) for elem in listOfElems}\n",
    "\n",
    "print('Position of given elements in Dataframe are : ')\n",
    "\n",
    "# Looping through key, value pairs\n",
    "# in the dictionary\n",
    "for key, value in dictOfPos.items():\n",
    "\tprint(key, ' : ', value)\n"
   ]
  },
  {
   "cell_type": "code",
   "execution_count": 3,
   "id": "b5acb76c",
   "metadata": {},
   "outputs": [
    {
     "data": {
      "text/plain": [
       "0    23\n",
       "1    22\n",
       "2    22\n",
       "3    22\n",
       "4    21\n",
       "Name: Age, dtype: int64"
      ]
     },
     "execution_count": 3,
     "metadata": {},
     "output_type": "execute_result"
    }
   ],
   "source": [
    "df[\"Age\"]"
   ]
  },
  {
   "cell_type": "code",
   "execution_count": null,
   "id": "3c43f6ab",
   "metadata": {},
   "outputs": [],
   "source": []
  },
  {
   "cell_type": "code",
   "execution_count": null,
   "id": "1012ec95",
   "metadata": {},
   "outputs": [],
   "source": []
  },
  {
   "cell_type": "code",
   "execution_count": 54,
   "id": "86d37134",
   "metadata": {},
   "outputs": [],
   "source": []
  },
  {
   "cell_type": "code",
   "execution_count": null,
   "id": "dbe70232",
   "metadata": {},
   "outputs": [],
   "source": []
  },
  {
   "cell_type": "code",
   "execution_count": 8,
   "id": "980d34fd",
   "metadata": {},
   "outputs": [
    {
     "data": {
      "text/plain": [
       "{'File Type': 'order form', 'File Number': 1}"
      ]
     },
     "execution_count": 8,
     "metadata": {},
     "output_type": "execute_result"
    }
   ],
   "source": [
    "json"
   ]
  },
  {
   "cell_type": "code",
   "execution_count": 11,
   "id": "e849e71c",
   "metadata": {},
   "outputs": [
    {
     "name": "stdout",
     "output_type": "stream",
     "text": [
      "order form\n"
     ]
    }
   ],
   "source": [
    "print(json.get('File Type'))"
   ]
  },
  {
   "cell_type": "code",
   "execution_count": 14,
   "id": "49e7400e",
   "metadata": {},
   "outputs": [
    {
     "name": "stdout",
     "output_type": "stream",
     "text": [
      "order form\n",
      "1\n"
     ]
    }
   ],
   "source": [
    "for i in json:\n",
    "    print(json.get(i))"
   ]
  },
  {
   "cell_type": "code",
   "execution_count": 15,
   "id": "123ae111",
   "metadata": {},
   "outputs": [],
   "source": [
    "users = {'Section 1: File Info': ['File Type', 'File Number', 'File Name', '', 'Section 2: Client and Billing Info', 'Client Name', 'Primary Contact', 'Address', 'Phone', 'Email', 'Billing Contact Name', 'Billing Contact Phone', 'Billing Contact Address', 'Billing Contact Email', 'Additional Remarks about Clients', '', 'Section 3: Invoices and Fees - Flat Info', 'Payment Terms', 'Purchased Services (one line summary)', 'Fees (one line summary)', 'Invoices (one line summary)', 'Initial Purchase Period', 'Contract Purchase Period', 'Price Protection', 'Price Protection End Date', 'Other flat info', '', 'Section 4: Invoices and Fees - Tabular Info', 'Fee - Items', 'Data Access', 'Data Access', 'Data Access', 'Trend Data Fee']}"
   ]
  },
  {
   "cell_type": "code",
   "execution_count": 19,
   "id": "602ec3a9",
   "metadata": {},
   "outputs": [],
   "source": [
    "frame = pd.DataFrame(users, columns=['Section 1: File Info', 'result'])"
   ]
  },
  {
   "cell_type": "code",
   "execution_count": 20,
   "id": "f1f4d69e",
   "metadata": {
    "scrolled": true
   },
   "outputs": [
    {
     "data": {
      "text/html": [
       "<div>\n",
       "<style scoped>\n",
       "    .dataframe tbody tr th:only-of-type {\n",
       "        vertical-align: middle;\n",
       "    }\n",
       "\n",
       "    .dataframe tbody tr th {\n",
       "        vertical-align: top;\n",
       "    }\n",
       "\n",
       "    .dataframe thead th {\n",
       "        text-align: right;\n",
       "    }\n",
       "</style>\n",
       "<table border=\"1\" class=\"dataframe\">\n",
       "  <thead>\n",
       "    <tr style=\"text-align: right;\">\n",
       "      <th></th>\n",
       "      <th>Section 1: File Info</th>\n",
       "      <th>result</th>\n",
       "    </tr>\n",
       "  </thead>\n",
       "  <tbody>\n",
       "    <tr>\n",
       "      <th>0</th>\n",
       "      <td>File Type</td>\n",
       "      <td>NaN</td>\n",
       "    </tr>\n",
       "    <tr>\n",
       "      <th>1</th>\n",
       "      <td>File Number</td>\n",
       "      <td>NaN</td>\n",
       "    </tr>\n",
       "    <tr>\n",
       "      <th>2</th>\n",
       "      <td>File Name</td>\n",
       "      <td>NaN</td>\n",
       "    </tr>\n",
       "    <tr>\n",
       "      <th>3</th>\n",
       "      <td></td>\n",
       "      <td>NaN</td>\n",
       "    </tr>\n",
       "    <tr>\n",
       "      <th>4</th>\n",
       "      <td>Section 2: Client and Billing Info</td>\n",
       "      <td>NaN</td>\n",
       "    </tr>\n",
       "    <tr>\n",
       "      <th>5</th>\n",
       "      <td>Client Name</td>\n",
       "      <td>NaN</td>\n",
       "    </tr>\n",
       "    <tr>\n",
       "      <th>6</th>\n",
       "      <td>Primary Contact</td>\n",
       "      <td>NaN</td>\n",
       "    </tr>\n",
       "    <tr>\n",
       "      <th>7</th>\n",
       "      <td>Address</td>\n",
       "      <td>NaN</td>\n",
       "    </tr>\n",
       "    <tr>\n",
       "      <th>8</th>\n",
       "      <td>Phone</td>\n",
       "      <td>NaN</td>\n",
       "    </tr>\n",
       "    <tr>\n",
       "      <th>9</th>\n",
       "      <td>Email</td>\n",
       "      <td>NaN</td>\n",
       "    </tr>\n",
       "    <tr>\n",
       "      <th>10</th>\n",
       "      <td>Billing Contact Name</td>\n",
       "      <td>NaN</td>\n",
       "    </tr>\n",
       "    <tr>\n",
       "      <th>11</th>\n",
       "      <td>Billing Contact Phone</td>\n",
       "      <td>NaN</td>\n",
       "    </tr>\n",
       "    <tr>\n",
       "      <th>12</th>\n",
       "      <td>Billing Contact Address</td>\n",
       "      <td>NaN</td>\n",
       "    </tr>\n",
       "    <tr>\n",
       "      <th>13</th>\n",
       "      <td>Billing Contact Email</td>\n",
       "      <td>NaN</td>\n",
       "    </tr>\n",
       "    <tr>\n",
       "      <th>14</th>\n",
       "      <td>Additional Remarks about Clients</td>\n",
       "      <td>NaN</td>\n",
       "    </tr>\n",
       "    <tr>\n",
       "      <th>15</th>\n",
       "      <td></td>\n",
       "      <td>NaN</td>\n",
       "    </tr>\n",
       "    <tr>\n",
       "      <th>16</th>\n",
       "      <td>Section 3: Invoices and Fees - Flat Info</td>\n",
       "      <td>NaN</td>\n",
       "    </tr>\n",
       "    <tr>\n",
       "      <th>17</th>\n",
       "      <td>Payment Terms</td>\n",
       "      <td>NaN</td>\n",
       "    </tr>\n",
       "    <tr>\n",
       "      <th>18</th>\n",
       "      <td>Purchased Services (one line summary)</td>\n",
       "      <td>NaN</td>\n",
       "    </tr>\n",
       "    <tr>\n",
       "      <th>19</th>\n",
       "      <td>Fees (one line summary)</td>\n",
       "      <td>NaN</td>\n",
       "    </tr>\n",
       "    <tr>\n",
       "      <th>20</th>\n",
       "      <td>Invoices (one line summary)</td>\n",
       "      <td>NaN</td>\n",
       "    </tr>\n",
       "    <tr>\n",
       "      <th>21</th>\n",
       "      <td>Initial Purchase Period</td>\n",
       "      <td>NaN</td>\n",
       "    </tr>\n",
       "    <tr>\n",
       "      <th>22</th>\n",
       "      <td>Contract Purchase Period</td>\n",
       "      <td>NaN</td>\n",
       "    </tr>\n",
       "    <tr>\n",
       "      <th>23</th>\n",
       "      <td>Price Protection</td>\n",
       "      <td>NaN</td>\n",
       "    </tr>\n",
       "    <tr>\n",
       "      <th>24</th>\n",
       "      <td>Price Protection End Date</td>\n",
       "      <td>NaN</td>\n",
       "    </tr>\n",
       "    <tr>\n",
       "      <th>25</th>\n",
       "      <td>Other flat info</td>\n",
       "      <td>NaN</td>\n",
       "    </tr>\n",
       "    <tr>\n",
       "      <th>26</th>\n",
       "      <td></td>\n",
       "      <td>NaN</td>\n",
       "    </tr>\n",
       "    <tr>\n",
       "      <th>27</th>\n",
       "      <td>Section 4: Invoices and Fees - Tabular Info</td>\n",
       "      <td>NaN</td>\n",
       "    </tr>\n",
       "    <tr>\n",
       "      <th>28</th>\n",
       "      <td>Fee - Items</td>\n",
       "      <td>NaN</td>\n",
       "    </tr>\n",
       "    <tr>\n",
       "      <th>29</th>\n",
       "      <td>Data Access</td>\n",
       "      <td>NaN</td>\n",
       "    </tr>\n",
       "    <tr>\n",
       "      <th>30</th>\n",
       "      <td>Data Access</td>\n",
       "      <td>NaN</td>\n",
       "    </tr>\n",
       "    <tr>\n",
       "      <th>31</th>\n",
       "      <td>Data Access</td>\n",
       "      <td>NaN</td>\n",
       "    </tr>\n",
       "    <tr>\n",
       "      <th>32</th>\n",
       "      <td>Trend Data Fee</td>\n",
       "      <td>NaN</td>\n",
       "    </tr>\n",
       "  </tbody>\n",
       "</table>\n",
       "</div>"
      ],
      "text/plain": [
       "                           Section 1: File Info result\n",
       "0                                     File Type    NaN\n",
       "1                                   File Number    NaN\n",
       "2                                     File Name    NaN\n",
       "3                                                  NaN\n",
       "4            Section 2: Client and Billing Info    NaN\n",
       "5                                   Client Name    NaN\n",
       "6                               Primary Contact    NaN\n",
       "7                                       Address    NaN\n",
       "8                                         Phone    NaN\n",
       "9                                         Email    NaN\n",
       "10                         Billing Contact Name    NaN\n",
       "11                        Billing Contact Phone    NaN\n",
       "12                      Billing Contact Address    NaN\n",
       "13                        Billing Contact Email    NaN\n",
       "14             Additional Remarks about Clients    NaN\n",
       "15                                                 NaN\n",
       "16     Section 3: Invoices and Fees - Flat Info    NaN\n",
       "17                                Payment Terms    NaN\n",
       "18        Purchased Services (one line summary)    NaN\n",
       "19                      Fees (one line summary)    NaN\n",
       "20                  Invoices (one line summary)    NaN\n",
       "21                      Initial Purchase Period    NaN\n",
       "22                     Contract Purchase Period    NaN\n",
       "23                             Price Protection    NaN\n",
       "24                    Price Protection End Date    NaN\n",
       "25                              Other flat info    NaN\n",
       "26                                                 NaN\n",
       "27  Section 4: Invoices and Fees - Tabular Info    NaN\n",
       "28                                  Fee - Items    NaN\n",
       "29                                  Data Access    NaN\n",
       "30                                  Data Access    NaN\n",
       "31                                  Data Access    NaN\n",
       "32                               Trend Data Fee    NaN"
      ]
     },
     "execution_count": 20,
     "metadata": {},
     "output_type": "execute_result"
    }
   ],
   "source": [
    "frame"
   ]
  },
  {
   "cell_type": "code",
   "execution_count": 28,
   "id": "44cce602",
   "metadata": {},
   "outputs": [
    {
     "data": {
      "text/plain": [
       "['File Type', 'File Number']"
      ]
     },
     "execution_count": 28,
     "metadata": {},
     "output_type": "execute_result"
    }
   ],
   "source": [
    "list(json.keys())"
   ]
  },
  {
   "cell_type": "code",
   "execution_count": null,
   "id": "5688c273",
   "metadata": {},
   "outputs": [],
   "source": []
  },
  {
   "cell_type": "code",
   "execution_count": null,
   "id": "6268c36d",
   "metadata": {},
   "outputs": [],
   "source": []
  },
  {
   "cell_type": "code",
   "execution_count": 33,
   "id": "1fe72dd6",
   "metadata": {},
   "outputs": [
    {
     "data": {
      "text/html": [
       "<div>\n",
       "<style scoped>\n",
       "    .dataframe tbody tr th:only-of-type {\n",
       "        vertical-align: middle;\n",
       "    }\n",
       "\n",
       "    .dataframe tbody tr th {\n",
       "        vertical-align: top;\n",
       "    }\n",
       "\n",
       "    .dataframe thead th {\n",
       "        text-align: right;\n",
       "    }\n",
       "</style>\n",
       "<table border=\"1\" class=\"dataframe\">\n",
       "  <thead>\n",
       "    <tr style=\"text-align: right;\">\n",
       "      <th></th>\n",
       "      <th>Name</th>\n",
       "      <th>Age</th>\n",
       "      <th>City</th>\n",
       "      <th>Section</th>\n",
       "    </tr>\n",
       "  </thead>\n",
       "  <tbody>\n",
       "    <tr>\n",
       "      <th>0</th>\n",
       "      <td>Ankit</td>\n",
       "      <td>23</td>\n",
       "      <td>Delhi</td>\n",
       "      <td>A</td>\n",
       "    </tr>\n",
       "    <tr>\n",
       "      <th>1</th>\n",
       "      <td>Swapnil</td>\n",
       "      <td>order form</td>\n",
       "      <td>Delhi</td>\n",
       "      <td>B</td>\n",
       "    </tr>\n",
       "    <tr>\n",
       "      <th>2</th>\n",
       "      <td>Aman</td>\n",
       "      <td>22</td>\n",
       "      <td>Dehradun</td>\n",
       "      <td>A</td>\n",
       "    </tr>\n",
       "    <tr>\n",
       "      <th>3</th>\n",
       "      <td>Jiten</td>\n",
       "      <td>22</td>\n",
       "      <td>Delhi</td>\n",
       "      <td>A</td>\n",
       "    </tr>\n",
       "    <tr>\n",
       "      <th>4</th>\n",
       "      <td>Jeet</td>\n",
       "      <td>21</td>\n",
       "      <td>Mumbai</td>\n",
       "      <td>B</td>\n",
       "    </tr>\n",
       "  </tbody>\n",
       "</table>\n",
       "</div>"
      ],
      "text/plain": [
       "      Name         Age      City Section\n",
       "0    Ankit          23     Delhi       A\n",
       "1  Swapnil  order form     Delhi       B\n",
       "2     Aman          22  Dehradun       A\n",
       "3    Jiten          22     Delhi       A\n",
       "4     Jeet          21    Mumbai       B"
      ]
     },
     "execution_count": 33,
     "metadata": {},
     "output_type": "execute_result"
    }
   ],
   "source": [
    "df"
   ]
  },
  {
   "cell_type": "code",
   "execution_count": 42,
   "id": "5a8fe465",
   "metadata": {},
   "outputs": [
    {
     "data": {
      "text/plain": [
       "[1]"
      ]
     },
     "execution_count": 42,
     "metadata": {},
     "output_type": "execute_result"
    }
   ],
   "source": [
    "list(df[df['Age']=='order form'].index.values)"
   ]
  },
  {
   "cell_type": "code",
   "execution_count": 56,
   "id": "105c9444",
   "metadata": {},
   "outputs": [],
   "source": [
    "json = {'File Type': 'order form sow', 'File Number': 1, 'File Name':'172.pdf', 'Phone':123456789, 'Email':'abc@xyz.com'}"
   ]
  },
  {
   "cell_type": "code",
   "execution_count": 65,
   "id": "92f1a299",
   "metadata": {},
   "outputs": [
    {
     "data": {
      "text/plain": [
       "2"
      ]
     },
     "execution_count": 65,
     "metadata": {},
     "output_type": "execute_result"
    }
   ],
   "source": [
    "df.columns.get_loc('City')"
   ]
  },
  {
   "cell_type": "code",
   "execution_count": null,
   "id": "dfe9fdda",
   "metadata": {},
   "outputs": [],
   "source": []
  },
  {
   "cell_type": "code",
   "execution_count": null,
   "id": "7df71dba",
   "metadata": {},
   "outputs": [],
   "source": []
  },
  {
   "cell_type": "code",
   "execution_count": null,
   "id": "c37a790f",
   "metadata": {},
   "outputs": [],
   "source": []
  },
  {
   "cell_type": "code",
   "execution_count": null,
   "id": "592823b3",
   "metadata": {},
   "outputs": [],
   "source": []
  },
  {
   "cell_type": "code",
   "execution_count": null,
   "id": "fa703a6c",
   "metadata": {},
   "outputs": [],
   "source": []
  },
  {
   "cell_type": "code",
   "execution_count": null,
   "id": "ac80d2f9",
   "metadata": {},
   "outputs": [],
   "source": []
  },
  {
   "cell_type": "code",
   "execution_count": 59,
   "id": "7bf167b2",
   "metadata": {
    "scrolled": true
   },
   "outputs": [
    {
     "name": "stdout",
     "output_type": "stream",
     "text": [
      "                           Section 1: File Info          result\n",
      "0                                     File Type  order form sow\n",
      "1                                   File Number               1\n",
      "2                                     File Name         172.pdf\n",
      "3                                                              \n",
      "4            Section 2: Client and Billing Info                \n",
      "5                                   Client Name                \n",
      "6                               Primary Contact                \n",
      "7                                       Address                \n",
      "8                                         Phone       123456789\n",
      "9                                         Email     abc@xyz.com\n",
      "10                         Billing Contact Name                \n",
      "11                        Billing Contact Phone                \n",
      "12                      Billing Contact Address                \n",
      "13                        Billing Contact Email                \n",
      "14             Additional Remarks about Clients                \n",
      "15                                                             \n",
      "16     Section 3: Invoices and Fees - Flat Info                \n",
      "17                                Payment Terms                \n",
      "18        Purchased Services (one line summary)                \n",
      "19                      Fees (one line summary)                \n",
      "20                  Invoices (one line summary)                \n",
      "21                      Initial Purchase Period                \n",
      "22                     Contract Purchase Period                \n",
      "23                             Price Protection                \n",
      "24                    Price Protection End Date                \n",
      "25                              Other flat info                \n",
      "26                                                             \n",
      "27  Section 4: Invoices and Fees - Tabular Info                \n",
      "28                                  Fee - Items                \n",
      "29                                  Data Access                \n",
      "30                                  Data Access                \n",
      "31                                  Data Access                \n",
      "32                               Trend Data Fee                \n"
     ]
    }
   ],
   "source": [
    "for i in frame['Section 1: File Info']:\n",
    "    for key in list(json.keys()):\n",
    "        if key in i:\n",
    "            index = list(frame[frame['Section 1: File Info'] == key].index.values)\n",
    "            frame.at[index[0], 'result'] = json.get(key)\n",
    "            \n",
    "import numpy as np\n",
    "print(frame.replace(np.NaN, ''))"
   ]
  },
  {
   "cell_type": "code",
   "execution_count": null,
   "id": "b47c7b73",
   "metadata": {},
   "outputs": [],
   "source": []
  },
  {
   "cell_type": "code",
   "execution_count": null,
   "id": "bc551823",
   "metadata": {},
   "outputs": [],
   "source": []
  },
  {
   "cell_type": "code",
   "execution_count": null,
   "id": "29f019c2",
   "metadata": {},
   "outputs": [],
   "source": []
  },
  {
   "cell_type": "code",
   "execution_count": null,
   "id": "a8d05371",
   "metadata": {},
   "outputs": [],
   "source": []
  },
  {
   "cell_type": "code",
   "execution_count": null,
   "id": "96c45fce",
   "metadata": {},
   "outputs": [],
   "source": []
  },
  {
   "cell_type": "code",
   "execution_count": null,
   "id": "6a669c2c",
   "metadata": {},
   "outputs": [],
   "source": []
  },
  {
   "cell_type": "code",
   "execution_count": null,
   "id": "e5bfe9d3",
   "metadata": {},
   "outputs": [],
   "source": []
  },
  {
   "cell_type": "code",
   "execution_count": null,
   "id": "f8e0f375",
   "metadata": {},
   "outputs": [],
   "source": []
  },
  {
   "cell_type": "code",
   "execution_count": null,
   "id": "13d6744c",
   "metadata": {},
   "outputs": [],
   "source": []
  },
  {
   "cell_type": "code",
   "execution_count": null,
   "id": "3be1d4fe",
   "metadata": {},
   "outputs": [],
   "source": []
  },
  {
   "cell_type": "code",
   "execution_count": null,
   "id": "b21ce50b",
   "metadata": {},
   "outputs": [],
   "source": []
  },
  {
   "cell_type": "code",
   "execution_count": null,
   "id": "203bc38e",
   "metadata": {},
   "outputs": [],
   "source": []
  },
  {
   "cell_type": "code",
   "execution_count": null,
   "id": "0c8190f3",
   "metadata": {},
   "outputs": [],
   "source": []
  },
  {
   "cell_type": "code",
   "execution_count": null,
   "id": "218330c7",
   "metadata": {},
   "outputs": [],
   "source": []
  },
  {
   "cell_type": "code",
   "execution_count": null,
   "id": "ddd864f7",
   "metadata": {},
   "outputs": [],
   "source": []
  },
  {
   "cell_type": "code",
   "execution_count": null,
   "id": "89dbb7cc",
   "metadata": {},
   "outputs": [],
   "source": []
  },
  {
   "cell_type": "code",
   "execution_count": null,
   "id": "7a3e6e15",
   "metadata": {},
   "outputs": [],
   "source": []
  },
  {
   "cell_type": "code",
   "execution_count": null,
   "id": "fb49de47",
   "metadata": {},
   "outputs": [],
   "source": []
  },
  {
   "cell_type": "code",
   "execution_count": null,
   "id": "b842dce0",
   "metadata": {},
   "outputs": [],
   "source": []
  },
  {
   "cell_type": "code",
   "execution_count": null,
   "id": "29db08ca",
   "metadata": {},
   "outputs": [],
   "source": []
  },
  {
   "cell_type": "code",
   "execution_count": null,
   "id": "c888e64c",
   "metadata": {},
   "outputs": [],
   "source": []
  },
  {
   "cell_type": "code",
   "execution_count": null,
   "id": "53d5f1d8",
   "metadata": {},
   "outputs": [],
   "source": []
  },
  {
   "cell_type": "code",
   "execution_count": null,
   "id": "50b7877d",
   "metadata": {},
   "outputs": [],
   "source": []
  },
  {
   "cell_type": "code",
   "execution_count": null,
   "id": "bf066a9a",
   "metadata": {},
   "outputs": [],
   "source": []
  },
  {
   "cell_type": "code",
   "execution_count": null,
   "id": "af9a324d",
   "metadata": {},
   "outputs": [],
   "source": []
  },
  {
   "cell_type": "code",
   "execution_count": 5,
   "id": "cf682607",
   "metadata": {},
   "outputs": [
    {
     "data": {
      "text/html": [
       "<div>\n",
       "<style scoped>\n",
       "    .dataframe tbody tr th:only-of-type {\n",
       "        vertical-align: middle;\n",
       "    }\n",
       "\n",
       "    .dataframe tbody tr th {\n",
       "        vertical-align: top;\n",
       "    }\n",
       "\n",
       "    .dataframe thead th {\n",
       "        text-align: right;\n",
       "    }\n",
       "</style>\n",
       "<table border=\"1\" class=\"dataframe\">\n",
       "  <thead>\n",
       "    <tr style=\"text-align: right;\">\n",
       "      <th></th>\n",
       "      <th>Name</th>\n",
       "      <th>Age</th>\n",
       "      <th>City</th>\n",
       "      <th>Section</th>\n",
       "    </tr>\n",
       "  </thead>\n",
       "  <tbody>\n",
       "    <tr>\n",
       "      <th>0</th>\n",
       "      <td>Ankit</td>\n",
       "      <td>23</td>\n",
       "      <td>Delhi</td>\n",
       "      <td>A</td>\n",
       "    </tr>\n",
       "    <tr>\n",
       "      <th>1</th>\n",
       "      <td>Swapnil</td>\n",
       "      <td>22</td>\n",
       "      <td>Delhi</td>\n",
       "      <td>B</td>\n",
       "    </tr>\n",
       "    <tr>\n",
       "      <th>2</th>\n",
       "      <td>Aman</td>\n",
       "      <td>22</td>\n",
       "      <td>Dehradun</td>\n",
       "      <td>A</td>\n",
       "    </tr>\n",
       "    <tr>\n",
       "      <th>3</th>\n",
       "      <td>Jiten</td>\n",
       "      <td>22</td>\n",
       "      <td>Delhi</td>\n",
       "      <td>A</td>\n",
       "    </tr>\n",
       "    <tr>\n",
       "      <th>4</th>\n",
       "      <td>Jeet</td>\n",
       "      <td>21</td>\n",
       "      <td>Mumbai</td>\n",
       "      <td>B</td>\n",
       "    </tr>\n",
       "  </tbody>\n",
       "</table>\n",
       "</div>"
      ],
      "text/plain": [
       "      Name  Age      City Section\n",
       "0    Ankit   23     Delhi       A\n",
       "1  Swapnil   22     Delhi       B\n",
       "2     Aman   22  Dehradun       A\n",
       "3    Jiten   22     Delhi       A\n",
       "4     Jeet   21    Mumbai       B"
      ]
     },
     "execution_count": 5,
     "metadata": {},
     "output_type": "execute_result"
    }
   ],
   "source": [
    "df"
   ]
  },
  {
   "cell_type": "code",
   "execution_count": 12,
   "id": "9598ef7e",
   "metadata": {},
   "outputs": [],
   "source": [
    "df.at[1, 'Age'] = json.get(\"File Type\")"
   ]
  },
  {
   "cell_type": "code",
   "execution_count": 13,
   "id": "ebac91a5",
   "metadata": {},
   "outputs": [
    {
     "data": {
      "text/html": [
       "<div>\n",
       "<style scoped>\n",
       "    .dataframe tbody tr th:only-of-type {\n",
       "        vertical-align: middle;\n",
       "    }\n",
       "\n",
       "    .dataframe tbody tr th {\n",
       "        vertical-align: top;\n",
       "    }\n",
       "\n",
       "    .dataframe thead th {\n",
       "        text-align: right;\n",
       "    }\n",
       "</style>\n",
       "<table border=\"1\" class=\"dataframe\">\n",
       "  <thead>\n",
       "    <tr style=\"text-align: right;\">\n",
       "      <th></th>\n",
       "      <th>Name</th>\n",
       "      <th>Age</th>\n",
       "      <th>City</th>\n",
       "      <th>Section</th>\n",
       "    </tr>\n",
       "  </thead>\n",
       "  <tbody>\n",
       "    <tr>\n",
       "      <th>0</th>\n",
       "      <td>Ankit</td>\n",
       "      <td>23</td>\n",
       "      <td>Delhi</td>\n",
       "      <td>A</td>\n",
       "    </tr>\n",
       "    <tr>\n",
       "      <th>1</th>\n",
       "      <td>Swapnil</td>\n",
       "      <td>order form</td>\n",
       "      <td>Delhi</td>\n",
       "      <td>B</td>\n",
       "    </tr>\n",
       "    <tr>\n",
       "      <th>2</th>\n",
       "      <td>Aman</td>\n",
       "      <td>22</td>\n",
       "      <td>Dehradun</td>\n",
       "      <td>A</td>\n",
       "    </tr>\n",
       "    <tr>\n",
       "      <th>3</th>\n",
       "      <td>Jiten</td>\n",
       "      <td>22</td>\n",
       "      <td>Delhi</td>\n",
       "      <td>A</td>\n",
       "    </tr>\n",
       "    <tr>\n",
       "      <th>4</th>\n",
       "      <td>Jeet</td>\n",
       "      <td>21</td>\n",
       "      <td>Mumbai</td>\n",
       "      <td>B</td>\n",
       "    </tr>\n",
       "  </tbody>\n",
       "</table>\n",
       "</div>"
      ],
      "text/plain": [
       "      Name         Age      City Section\n",
       "0    Ankit          23     Delhi       A\n",
       "1  Swapnil  order form     Delhi       B\n",
       "2     Aman          22  Dehradun       A\n",
       "3    Jiten          22     Delhi       A\n",
       "4     Jeet          21    Mumbai       B"
      ]
     },
     "execution_count": 13,
     "metadata": {},
     "output_type": "execute_result"
    }
   ],
   "source": [
    "df"
   ]
  },
  {
   "cell_type": "code",
   "execution_count": null,
   "id": "623ff715",
   "metadata": {},
   "outputs": [],
   "source": []
  },
  {
   "cell_type": "code",
   "execution_count": null,
   "id": "54a52eaa",
   "metadata": {},
   "outputs": [],
   "source": []
  },
  {
   "cell_type": "code",
   "execution_count": null,
   "id": "31676a23",
   "metadata": {},
   "outputs": [],
   "source": []
  },
  {
   "cell_type": "code",
   "execution_count": null,
   "id": "6d664e07",
   "metadata": {},
   "outputs": [],
   "source": []
  }
 ],
 "metadata": {
  "kernelspec": {
   "display_name": "Python 3 (ipykernel)",
   "language": "python",
   "name": "python3"
  },
  "language_info": {
   "codemirror_mode": {
    "name": "ipython",
    "version": 3
   },
   "file_extension": ".py",
   "mimetype": "text/x-python",
   "name": "python",
   "nbconvert_exporter": "python",
   "pygments_lexer": "ipython3",
   "version": "3.8.10"
  }
 },
 "nbformat": 4,
 "nbformat_minor": 5
}

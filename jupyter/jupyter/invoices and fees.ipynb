{
 "cells": [
  {
   "cell_type": "code",
   "execution_count": 1,
   "id": "9a254cd0",
   "metadata": {},
   "outputs": [],
   "source": [
    "data = [{\"Amount: \":{\"$ 193,500 \":\"$ 287,500 \"},\"Data Periods: \":{\"Trend Data \":\"02/20 - 04/20 \"},\"Invoice Schedule: \":{\"Upon execution \":\"Feb 2020 \"},\"Billing Contact: \":{\"Rebecca Basloe \":\"nan\"},\"Unnamed: 4\":\"nan\"},{\"Amount: \":{\"$ 193,500 \":\"$ 325,000 \"},\"Data Periods: \":{\"Trend Data \":\"05/20 - 07/20 \"},\"Invoice Schedule: \":{\"Upon execution \":\"May 2020 \"},\"Billing Contact: \":{\"Rebecca Basloe \":\"nan\"},\"Unnamed: 4\":\"nan\"},{\"Amount: \":{\"$ 193,500 \":\"$ 325,000 \"},\"Data Periods: \":{\"Trend Data \":\"08/20 - 10/20 \"},\"Invoice Schedule: \":{\"Upon execution \":\"Aug 2020 \"},\"Billing Contact: \":{\"Rebecca Basloe \":\"nan\"},\"Unnamed: 4\":\"nan\"},{\"Amount: \":{\"$ 193,500 \":\"$ 325,000 \"},\"Data Periods: \":{\"Trend Data \":\"11/20 - 01/21 \"},\"Invoice Schedule: \":{\"Upon execution \":\"Nov 2020 \"},\"Billing Contact: \":{\"Rebecca Basloe \":\"nan\"},\"Unnamed: 4\":\"nan\"},{\"Amount: \":{\"$ 193,500 \":\"$ 325,000 \"},\"Data Periods: \":{\"Trend Data \":\"02/21 - 04/21 \"},\"Invoice Schedule: \":{\"Upon execution \":\"Feb 2021 \"},\"Billing Contact: \":{\"Rebecca Basloe \":\"nan\"},\"Unnamed: 4\":\"nan\"}]"
   ]
  },
  {
   "cell_type": "code",
   "execution_count": 2,
   "id": "92adfe0c",
   "metadata": {
    "scrolled": true
   },
   "outputs": [
    {
     "data": {
      "text/plain": [
       "[{'Amount: ': {'$ 193,500 ': '$ 287,500 '},\n",
       "  'Data Periods: ': {'Trend Data ': '02/20 - 04/20 '},\n",
       "  'Invoice Schedule: ': {'Upon execution ': 'Feb 2020 '},\n",
       "  'Billing Contact: ': {'Rebecca Basloe ': 'nan'},\n",
       "  'Unnamed: 4': 'nan'},\n",
       " {'Amount: ': {'$ 193,500 ': '$ 325,000 '},\n",
       "  'Data Periods: ': {'Trend Data ': '05/20 - 07/20 '},\n",
       "  'Invoice Schedule: ': {'Upon execution ': 'May 2020 '},\n",
       "  'Billing Contact: ': {'Rebecca Basloe ': 'nan'},\n",
       "  'Unnamed: 4': 'nan'},\n",
       " {'Amount: ': {'$ 193,500 ': '$ 325,000 '},\n",
       "  'Data Periods: ': {'Trend Data ': '08/20 - 10/20 '},\n",
       "  'Invoice Schedule: ': {'Upon execution ': 'Aug 2020 '},\n",
       "  'Billing Contact: ': {'Rebecca Basloe ': 'nan'},\n",
       "  'Unnamed: 4': 'nan'},\n",
       " {'Amount: ': {'$ 193,500 ': '$ 325,000 '},\n",
       "  'Data Periods: ': {'Trend Data ': '11/20 - 01/21 '},\n",
       "  'Invoice Schedule: ': {'Upon execution ': 'Nov 2020 '},\n",
       "  'Billing Contact: ': {'Rebecca Basloe ': 'nan'},\n",
       "  'Unnamed: 4': 'nan'},\n",
       " {'Amount: ': {'$ 193,500 ': '$ 325,000 '},\n",
       "  'Data Periods: ': {'Trend Data ': '02/21 - 04/21 '},\n",
       "  'Invoice Schedule: ': {'Upon execution ': 'Feb 2021 '},\n",
       "  'Billing Contact: ': {'Rebecca Basloe ': 'nan'},\n",
       "  'Unnamed: 4': 'nan'}]"
      ]
     },
     "execution_count": 2,
     "metadata": {},
     "output_type": "execute_result"
    }
   ],
   "source": [
    "data"
   ]
  },
  {
   "cell_type": "code",
   "execution_count": 3,
   "id": "a7d216a9",
   "metadata": {},
   "outputs": [
    {
     "data": {
      "text/plain": [
       "{'Amount: ': '$ 193,500 ',\n",
       " 'Data Periods: ': 'Trend Data ',\n",
       " 'Invoice Schedule: ': 'Upon execution ',\n",
       " 'Billing Contact: ': 'Rebecca Basloe '}"
      ]
     },
     "execution_count": 3,
     "metadata": {},
     "output_type": "execute_result"
    }
   ],
   "source": [
    "{k: list(v.keys())[0] for k, v in data[0].items() if isinstance(v, dict)}"
   ]
  },
  {
   "cell_type": "code",
   "execution_count": 7,
   "id": "e6834235",
   "metadata": {},
   "outputs": [
    {
     "data": {
      "text/plain": [
       "dict"
      ]
     },
     "execution_count": 7,
     "metadata": {},
     "output_type": "execute_result"
    }
   ],
   "source": [
    "type(data[0])"
   ]
  },
  {
   "cell_type": "code",
   "execution_count": 31,
   "id": "fa9b34f9",
   "metadata": {},
   "outputs": [
    {
     "data": {
      "text/plain": [
       "{'Amount: ': '$ 193,500 ',\n",
       " 'Data Periods: ': 'Trend Data ',\n",
       " 'Invoice Schedule: ': 'Upon execution ',\n",
       " 'Billing Contact: ': 'Rebecca Basloe '}"
      ]
     },
     "execution_count": 31,
     "metadata": {},
     "output_type": "execute_result"
    }
   ],
   "source": [
    "{k: list(v.keys())[0] for k, v in data[0].items() if isinstance(v, dict)}"
   ]
  },
  {
   "cell_type": "code",
   "execution_count": 32,
   "id": "01678870",
   "metadata": {},
   "outputs": [],
   "source": [
    "data = [\n",
    "  {\n",
    "    \"Data Access: \": \"Other: \",\n",
    "    \"$1,150,000 \": \"nan\",\n",
    "    \"Unnamed: 2\": \"nan\"\n",
    "  },\n",
    "  {\n",
    "    \"Data Access: \": \"Total (for year 1): \",\n",
    "    \"$1,150,000 \": \"$1,343,500 \",\n",
    "    \"Unnamed: 2\": \"nan\"\n",
    "  }\n",
    "]"
   ]
  },
  {
   "cell_type": "code",
   "execution_count": 49,
   "id": "e255c23d",
   "metadata": {},
   "outputs": [
    {
     "data": {
      "text/plain": [
       "{'Data Access: ': 'Other: ', '$1,150,000 ': 'nan', 'Unnamed: 2': 'nan'}"
      ]
     },
     "execution_count": 49,
     "metadata": {},
     "output_type": "execute_result"
    }
   ],
   "source": [
    "data[0]"
   ]
  },
  {
   "cell_type": "code",
   "execution_count": null,
   "id": "f00d99c5",
   "metadata": {},
   "outputs": [],
   "source": [
    "json = {}"
   ]
  },
  {
   "cell_type": "code",
   "execution_count": 68,
   "id": "9123405b",
   "metadata": {},
   "outputs": [
    {
     "name": "stdout",
     "output_type": "stream",
     "text": [
      "Data Access: \n"
     ]
    }
   ],
   "source": [
    "for k,v in data[0].items():\n",
    "    print()\n",
    "    break"
   ]
  },
  {
   "cell_type": "code",
   "execution_count": null,
   "id": "21883bb3",
   "metadata": {},
   "outputs": [],
   "source": []
  },
  {
   "cell_type": "code",
   "execution_count": null,
   "id": "4801cc4c",
   "metadata": {},
   "outputs": [],
   "source": []
  },
  {
   "cell_type": "code",
   "execution_count": null,
   "id": "4028a8c9",
   "metadata": {},
   "outputs": [],
   "source": []
  },
  {
   "cell_type": "code",
   "execution_count": null,
   "id": "22089965",
   "metadata": {},
   "outputs": [],
   "source": []
  },
  {
   "cell_type": "code",
   "execution_count": null,
   "id": "99c7258a",
   "metadata": {},
   "outputs": [],
   "source": []
  },
  {
   "cell_type": "code",
   "execution_count": null,
   "id": "39819039",
   "metadata": {},
   "outputs": [],
   "source": [
    "json.append([{k:}])"
   ]
  },
  {
   "cell_type": "code",
   "execution_count": null,
   "id": "a43ebd8c",
   "metadata": {},
   "outputs": [],
   "source": []
  },
  {
   "cell_type": "code",
   "execution_count": null,
   "id": "fa5c1746",
   "metadata": {},
   "outputs": [],
   "source": []
  },
  {
   "cell_type": "code",
   "execution_count": null,
   "id": "ff7be75f",
   "metadata": {},
   "outputs": [],
   "source": []
  },
  {
   "cell_type": "code",
   "execution_count": null,
   "id": "5a6cd1c9",
   "metadata": {},
   "outputs": [],
   "source": []
  },
  {
   "cell_type": "code",
   "execution_count": null,
   "id": "b51c9f71",
   "metadata": {},
   "outputs": [],
   "source": []
  },
  {
   "cell_type": "code",
   "execution_count": null,
   "id": "66eb1228",
   "metadata": {},
   "outputs": [],
   "source": []
  },
  {
   "cell_type": "code",
   "execution_count": null,
   "id": "460ece40",
   "metadata": {},
   "outputs": [],
   "source": []
  },
  {
   "cell_type": "code",
   "execution_count": null,
   "id": "48b5b475",
   "metadata": {},
   "outputs": [],
   "source": []
  },
  {
   "cell_type": "code",
   "execution_count": null,
   "id": "6c81dd09",
   "metadata": {},
   "outputs": [],
   "source": []
  },
  {
   "cell_type": "code",
   "execution_count": null,
   "id": "14fb0ab7",
   "metadata": {},
   "outputs": [],
   "source": []
  },
  {
   "cell_type": "code",
   "execution_count": null,
   "id": "ec95bc01",
   "metadata": {},
   "outputs": [],
   "source": []
  },
  {
   "cell_type": "code",
   "execution_count": 40,
   "id": "b84a0bc0",
   "metadata": {},
   "outputs": [],
   "source": [
    "fee = [\n",
    "  {\n",
    "    \"Data Access: \": \"Other: \",\n",
    "    \"$1,150,000 \": \"nan\",\n",
    "    \"Unnamed: 2\": \"nan\"\n",
    "  },\n",
    "  {\n",
    "    \"Data Access: \": \"Total (for year 1): \",\n",
    "    \"$1,150,000 \": \"$1,343,500 \",\n",
    "    \"Unnamed: 2\": \"nan\"\n",
    "  }\n",
    "]"
   ]
  },
  {
   "cell_type": "code",
   "execution_count": 44,
   "id": "f16375ac",
   "metadata": {},
   "outputs": [
    {
     "data": {
      "text/html": [
       "<div>\n",
       "<style scoped>\n",
       "    .dataframe tbody tr th:only-of-type {\n",
       "        vertical-align: middle;\n",
       "    }\n",
       "\n",
       "    .dataframe tbody tr th {\n",
       "        vertical-align: top;\n",
       "    }\n",
       "\n",
       "    .dataframe thead th {\n",
       "        text-align: right;\n",
       "    }\n",
       "</style>\n",
       "<table border=\"1\" class=\"dataframe\">\n",
       "  <thead>\n",
       "    <tr style=\"text-align: right;\">\n",
       "      <th></th>\n",
       "      <th>Data Access:</th>\n",
       "      <th>$1,150,000</th>\n",
       "      <th>Unnamed: 2</th>\n",
       "    </tr>\n",
       "  </thead>\n",
       "  <tbody>\n",
       "    <tr>\n",
       "      <th>0</th>\n",
       "      <td>Other:</td>\n",
       "      <td>nan</td>\n",
       "      <td>nan</td>\n",
       "    </tr>\n",
       "    <tr>\n",
       "      <th>1</th>\n",
       "      <td>Total (for year 1):</td>\n",
       "      <td>$1,343,500</td>\n",
       "      <td>nan</td>\n",
       "    </tr>\n",
       "  </tbody>\n",
       "</table>\n",
       "</div>"
      ],
      "text/plain": [
       "          Data Access:   $1,150,000  Unnamed: 2\n",
       "0               Other:           nan        nan\n",
       "1  Total (for year 1):   $1,343,500         nan"
      ]
     },
     "execution_count": 44,
     "metadata": {},
     "output_type": "execute_result"
    }
   ],
   "source": [
    "import pandas as pd\n",
    "df = pd.DataFrame(fee)\n",
    "df"
   ]
  },
  {
   "cell_type": "code",
   "execution_count": 98,
   "id": "54f6b5ab",
   "metadata": {},
   "outputs": [
    {
     "data": {
      "text/plain": [
       "['Other: ', 'nan', 'nan']"
      ]
     },
     "execution_count": 98,
     "metadata": {},
     "output_type": "execute_result"
    }
   ],
   "source": [
    "list(df.loc[0])"
   ]
  },
  {
   "cell_type": "code",
   "execution_count": 99,
   "id": "72016ca6",
   "metadata": {},
   "outputs": [],
   "source": [
    "a = list(df.loc[0])"
   ]
  },
  {
   "cell_type": "code",
   "execution_count": 100,
   "id": "b04b6f2c",
   "metadata": {},
   "outputs": [
    {
     "data": {
      "text/plain": [
       "'Other: '"
      ]
     },
     "execution_count": 100,
     "metadata": {},
     "output_type": "execute_result"
    }
   ],
   "source": [
    "a[0]"
   ]
  },
  {
   "cell_type": "code",
   "execution_count": null,
   "id": "3fbcb1ec",
   "metadata": {},
   "outputs": [],
   "source": []
  },
  {
   "cell_type": "code",
   "execution_count": 82,
   "id": "7b3677a9",
   "metadata": {},
   "outputs": [
    {
     "data": {
      "text/plain": [
       "2"
      ]
     },
     "execution_count": 82,
     "metadata": {},
     "output_type": "execute_result"
    }
   ],
   "source": [
    "len(df.index)"
   ]
  },
  {
   "cell_type": "code",
   "execution_count": 87,
   "id": "b8601ba0",
   "metadata": {},
   "outputs": [
    {
     "data": {
      "text/plain": [
       "'$1,150,000 '"
      ]
     },
     "execution_count": 87,
     "metadata": {},
     "output_type": "execute_result"
    }
   ],
   "source": [
    "df.columns[1]"
   ]
  },
  {
   "cell_type": "code",
   "execution_count": 73,
   "id": "32e111fb",
   "metadata": {},
   "outputs": [
    {
     "data": {
      "text/plain": [
       "['Data Access: ', '$1,150,000 ', 'Unnamed: 2']"
      ]
     },
     "execution_count": 73,
     "metadata": {},
     "output_type": "execute_result"
    }
   ],
   "source": [
    "li = list(df.head(0))\n",
    "li"
   ]
  },
  {
   "cell_type": "code",
   "execution_count": 74,
   "id": "b5194af4",
   "metadata": {},
   "outputs": [
    {
     "data": {
      "text/plain": [
       "['Data Access: ', '$1,150,000 ', 'Unnamed: 2']"
      ]
     },
     "execution_count": 74,
     "metadata": {},
     "output_type": "execute_result"
    }
   ],
   "source": [
    "li"
   ]
  },
  {
   "cell_type": "code",
   "execution_count": 75,
   "id": "58edc722",
   "metadata": {},
   "outputs": [
    {
     "data": {
      "text/plain": [
       "'Data Access: '"
      ]
     },
     "execution_count": 75,
     "metadata": {},
     "output_type": "execute_result"
    }
   ],
   "source": [
    "li[0]"
   ]
  },
  {
   "cell_type": "code",
   "execution_count": null,
   "id": "4189713b",
   "metadata": {},
   "outputs": [],
   "source": []
  },
  {
   "cell_type": "code",
   "execution_count": 127,
   "id": "0c0a9827",
   "metadata": {},
   "outputs": [
    {
     "data": {
      "text/plain": [
       "{'Data Access: ': '$1,150,000 '}"
      ]
     },
     "execution_count": 127,
     "metadata": {},
     "output_type": "execute_result"
    }
   ],
   "source": [
    "first_pair = {li[0]:li[1]}\n",
    "first_pair"
   ]
  },
  {
   "cell_type": "code",
   "execution_count": 134,
   "id": "ba2dd21f",
   "metadata": {},
   "outputs": [],
   "source": [
    "new_dict = {}\n",
    "new_dict.update(first_pair)"
   ]
  },
  {
   "cell_type": "code",
   "execution_count": null,
   "id": "359ae705",
   "metadata": {},
   "outputs": [],
   "source": []
  },
  {
   "cell_type": "code",
   "execution_count": 135,
   "id": "ac066aa7",
   "metadata": {},
   "outputs": [
    {
     "data": {
      "text/plain": [
       "{'Data Access: ': '$1,150,000 '}"
      ]
     },
     "execution_count": 135,
     "metadata": {},
     "output_type": "execute_result"
    }
   ],
   "source": [
    "new_dict"
   ]
  },
  {
   "cell_type": "code",
   "execution_count": 141,
   "id": "01ec9c8d",
   "metadata": {},
   "outputs": [],
   "source": [
    "data = list(df.loc[0])"
   ]
  },
  {
   "cell_type": "code",
   "execution_count": 142,
   "id": "0960a495",
   "metadata": {},
   "outputs": [
    {
     "data": {
      "text/plain": [
       "['Other: ', 'nan', 'nan']"
      ]
     },
     "execution_count": 142,
     "metadata": {},
     "output_type": "execute_result"
    }
   ],
   "source": [
    "data"
   ]
  },
  {
   "cell_type": "code",
   "execution_count": 144,
   "id": "8300832a",
   "metadata": {},
   "outputs": [],
   "source": [
    "new_dict.update({f\"{data[0]}\" : f\"{data[1]}\"})"
   ]
  },
  {
   "cell_type": "code",
   "execution_count": 152,
   "id": "f43ce723",
   "metadata": {},
   "outputs": [
    {
     "data": {
      "text/plain": [
       "{'Data Access: ': '$1,150,000 ', 'Other: ': 'nan'}"
      ]
     },
     "execution_count": 152,
     "metadata": {},
     "output_type": "execute_result"
    }
   ],
   "source": [
    "new_dict"
   ]
  },
  {
   "cell_type": "code",
   "execution_count": 154,
   "id": "22b46d31",
   "metadata": {},
   "outputs": [],
   "source": [
    "new_dict.update({f\"{list(df.loc[1])[0]}\" : f\"{list(df.loc[1])[1]}\"})"
   ]
  },
  {
   "cell_type": "code",
   "execution_count": 155,
   "id": "b9d638c8",
   "metadata": {},
   "outputs": [
    {
     "data": {
      "text/plain": [
       "{'Data Access: ': '$1,150,000 ',\n",
       " 'Other: ': 'nan',\n",
       " 'Total (for year 1): ': '$1,343,500 '}"
      ]
     },
     "execution_count": 155,
     "metadata": {},
     "output_type": "execute_result"
    }
   ],
   "source": [
    "new_dict"
   ]
  },
  {
   "cell_type": "code",
   "execution_count": null,
   "id": "a745ecd5",
   "metadata": {},
   "outputs": [],
   "source": []
  },
  {
   "cell_type": "code",
   "execution_count": 183,
   "id": "98c9caab",
   "metadata": {},
   "outputs": [
    {
     "data": {
      "text/plain": [
       "[{'Data Access: ': 'Other: ', '$1,150,000 ': 'nan', 'Unnamed: 2': 'nan'},\n",
       " {'Data Access: ': 'Total (for year 1): ',\n",
       "  '$1,150,000 ': '$1,343,500 ',\n",
       "  'Unnamed: 2': 'nan'}]"
      ]
     },
     "execution_count": 183,
     "metadata": {},
     "output_type": "execute_result"
    }
   ],
   "source": [
    "fee"
   ]
  },
  {
   "cell_type": "code",
   "execution_count": null,
   "id": "cf262c9a",
   "metadata": {},
   "outputs": [],
   "source": []
  },
  {
   "cell_type": "code",
   "execution_count": null,
   "id": "35a82236",
   "metadata": {},
   "outputs": [],
   "source": []
  },
  {
   "cell_type": "code",
   "execution_count": 212,
   "id": "c74cad29",
   "metadata": {},
   "outputs": [
    {
     "name": "stdout",
     "output_type": "stream",
     "text": [
      "0\n",
      "1\n"
     ]
    }
   ],
   "source": [
    "df = pd.DataFrame(fee)\n",
    "df = df.replace('nan','')\n",
    "# print(df)\n",
    "final_dict = {}\n",
    "first_dict = {list(df.head(0))[0] : list(df.head(0))[1]}\n",
    "final_dict.update(first_dict)\n",
    "for index, value in enumerate(fee):\n",
    "    print(index)    \n",
    "    final_dict.update({f\"{list(df.loc[index])[0]}\" : f\"{list(df.loc[index])[1]}\"})"
   ]
  },
  {
   "cell_type": "code",
   "execution_count": 213,
   "id": "69a393a3",
   "metadata": {},
   "outputs": [
    {
     "data": {
      "text/plain": [
       "{'Data Access: ': '$1,150,000 ',\n",
       " 'Other: ': '',\n",
       " 'Total (for year 1): ': '$1,343,500 '}"
      ]
     },
     "execution_count": 213,
     "metadata": {},
     "output_type": "execute_result"
    }
   ],
   "source": [
    "final_dict"
   ]
  },
  {
   "cell_type": "code",
   "execution_count": null,
   "id": "f245bf94",
   "metadata": {},
   "outputs": [],
   "source": []
  },
  {
   "cell_type": "code",
   "execution_count": null,
   "id": "61335969",
   "metadata": {},
   "outputs": [],
   "source": []
  },
  {
   "cell_type": "code",
   "execution_count": 210,
   "id": "afefaf8a",
   "metadata": {},
   "outputs": [
    {
     "data": {
      "text/html": [
       "<div>\n",
       "<style scoped>\n",
       "    .dataframe tbody tr th:only-of-type {\n",
       "        vertical-align: middle;\n",
       "    }\n",
       "\n",
       "    .dataframe tbody tr th {\n",
       "        vertical-align: top;\n",
       "    }\n",
       "\n",
       "    .dataframe thead th {\n",
       "        text-align: right;\n",
       "    }\n",
       "</style>\n",
       "<table border=\"1\" class=\"dataframe\">\n",
       "  <thead>\n",
       "    <tr style=\"text-align: right;\">\n",
       "      <th></th>\n",
       "      <th>Data Access:</th>\n",
       "      <th>$1,150,000</th>\n",
       "      <th>Unnamed: 2</th>\n",
       "    </tr>\n",
       "  </thead>\n",
       "  <tbody>\n",
       "    <tr>\n",
       "      <th>0</th>\n",
       "      <td>Other:</td>\n",
       "      <td></td>\n",
       "      <td></td>\n",
       "    </tr>\n",
       "    <tr>\n",
       "      <th>1</th>\n",
       "      <td>Total (for year 1):</td>\n",
       "      <td>$1,343,500</td>\n",
       "      <td></td>\n",
       "    </tr>\n",
       "  </tbody>\n",
       "</table>\n",
       "</div>"
      ],
      "text/plain": [
       "          Data Access:   $1,150,000  Unnamed: 2\n",
       "0               Other:                         \n",
       "1  Total (for year 1):   $1,343,500            "
      ]
     },
     "execution_count": 210,
     "metadata": {},
     "output_type": "execute_result"
    }
   ],
   "source": []
  },
  {
   "cell_type": "code",
   "execution_count": null,
   "id": "3de8c8fd",
   "metadata": {},
   "outputs": [],
   "source": []
  },
  {
   "cell_type": "code",
   "execution_count": null,
   "id": "df42fb46",
   "metadata": {},
   "outputs": [],
   "source": []
  },
  {
   "cell_type": "code",
   "execution_count": null,
   "id": "37899c66",
   "metadata": {},
   "outputs": [],
   "source": []
  },
  {
   "cell_type": "code",
   "execution_count": null,
   "id": "21b032d9",
   "metadata": {},
   "outputs": [],
   "source": []
  },
  {
   "cell_type": "code",
   "execution_count": 180,
   "id": "b1b2b169",
   "metadata": {},
   "outputs": [
    {
     "data": {
      "text/plain": [
       "{'Data Access: ': '$1,150,000 ',\n",
       " 'Other: ': 'nan',\n",
       " 'Total (for year 1): ': '$1,343,500 '}"
      ]
     },
     "execution_count": 180,
     "metadata": {},
     "output_type": "execute_result"
    }
   ],
   "source": [
    "final_dict"
   ]
  },
  {
   "cell_type": "code",
   "execution_count": null,
   "id": "3cb32f8d",
   "metadata": {},
   "outputs": [],
   "source": []
  },
  {
   "cell_type": "code",
   "execution_count": null,
   "id": "d9cb631d",
   "metadata": {},
   "outputs": [],
   "source": []
  },
  {
   "cell_type": "code",
   "execution_count": null,
   "id": "32fb1401",
   "metadata": {},
   "outputs": [],
   "source": []
  },
  {
   "cell_type": "code",
   "execution_count": null,
   "id": "33e12d49",
   "metadata": {},
   "outputs": [],
   "source": []
  },
  {
   "cell_type": "code",
   "execution_count": 172,
   "id": "5010fdf5",
   "metadata": {},
   "outputs": [
    {
     "data": {
      "text/html": [
       "<div>\n",
       "<style scoped>\n",
       "    .dataframe tbody tr th:only-of-type {\n",
       "        vertical-align: middle;\n",
       "    }\n",
       "\n",
       "    .dataframe tbody tr th {\n",
       "        vertical-align: top;\n",
       "    }\n",
       "\n",
       "    .dataframe thead th {\n",
       "        text-align: right;\n",
       "    }\n",
       "</style>\n",
       "<table border=\"1\" class=\"dataframe\">\n",
       "  <thead>\n",
       "    <tr style=\"text-align: right;\">\n",
       "      <th></th>\n",
       "      <th>Data Access:</th>\n",
       "      <th>$1,150,000</th>\n",
       "      <th>Unnamed: 2</th>\n",
       "    </tr>\n",
       "  </thead>\n",
       "  <tbody>\n",
       "    <tr>\n",
       "      <th>0</th>\n",
       "      <td>Other:</td>\n",
       "      <td>nan</td>\n",
       "      <td>nan</td>\n",
       "    </tr>\n",
       "    <tr>\n",
       "      <th>1</th>\n",
       "      <td>Total (for year 1):</td>\n",
       "      <td>$1,343,500</td>\n",
       "      <td>nan</td>\n",
       "    </tr>\n",
       "  </tbody>\n",
       "</table>\n",
       "</div>"
      ],
      "text/plain": [
       "          Data Access:   $1,150,000  Unnamed: 2\n",
       "0               Other:           nan        nan\n",
       "1  Total (for year 1):   $1,343,500         nan"
      ]
     },
     "execution_count": 172,
     "metadata": {},
     "output_type": "execute_result"
    }
   ],
   "source": [
    "df"
   ]
  },
  {
   "cell_type": "code",
   "execution_count": null,
   "id": "c092f8bb",
   "metadata": {},
   "outputs": [],
   "source": []
  },
  {
   "cell_type": "code",
   "execution_count": null,
   "id": "3fe27949",
   "metadata": {},
   "outputs": [],
   "source": []
  },
  {
   "cell_type": "code",
   "execution_count": null,
   "id": "e34fe876",
   "metadata": {},
   "outputs": [],
   "source": []
  },
  {
   "cell_type": "code",
   "execution_count": null,
   "id": "ca8f8161",
   "metadata": {},
   "outputs": [],
   "source": []
  },
  {
   "cell_type": "code",
   "execution_count": null,
   "id": "6cc35f28",
   "metadata": {},
   "outputs": [],
   "source": []
  },
  {
   "cell_type": "code",
   "execution_count": null,
   "id": "2408a7fd",
   "metadata": {},
   "outputs": [],
   "source": []
  },
  {
   "cell_type": "code",
   "execution_count": 164,
   "id": "1341600f",
   "metadata": {},
   "outputs": [
    {
     "data": {
      "text/plain": [
       "{'Data Access: ': '$1,150,000 '}"
      ]
     },
     "execution_count": 164,
     "metadata": {},
     "output_type": "execute_result"
    }
   ],
   "source": [
    "final_dict"
   ]
  },
  {
   "cell_type": "code",
   "execution_count": null,
   "id": "20941b7f",
   "metadata": {},
   "outputs": [],
   "source": []
  },
  {
   "cell_type": "code",
   "execution_count": null,
   "id": "8684ae15",
   "metadata": {},
   "outputs": [],
   "source": []
  },
  {
   "cell_type": "code",
   "execution_count": null,
   "id": "e8f0b042",
   "metadata": {},
   "outputs": [],
   "source": []
  },
  {
   "cell_type": "code",
   "execution_count": 159,
   "id": "3879daf0",
   "metadata": {},
   "outputs": [
    {
     "data": {
      "text/plain": [
       "{'Data Access: ': '$1,150,000 '}"
      ]
     },
     "execution_count": 159,
     "metadata": {},
     "output_type": "execute_result"
    }
   ],
   "source": [
    "first_dict"
   ]
  },
  {
   "cell_type": "code",
   "execution_count": null,
   "id": "d4ed3f62",
   "metadata": {},
   "outputs": [],
   "source": []
  },
  {
   "cell_type": "code",
   "execution_count": null,
   "id": "a7e34cba",
   "metadata": {},
   "outputs": [],
   "source": []
  },
  {
   "cell_type": "code",
   "execution_count": null,
   "id": "bea0f702",
   "metadata": {},
   "outputs": [],
   "source": []
  },
  {
   "cell_type": "code",
   "execution_count": null,
   "id": "29e64f3e",
   "metadata": {},
   "outputs": [],
   "source": []
  },
  {
   "cell_type": "code",
   "execution_count": null,
   "id": "05445f7f",
   "metadata": {},
   "outputs": [],
   "source": []
  },
  {
   "cell_type": "code",
   "execution_count": null,
   "id": "1ac64dee",
   "metadata": {},
   "outputs": [],
   "source": []
  },
  {
   "cell_type": "code",
   "execution_count": null,
   "id": "3c77bed1",
   "metadata": {},
   "outputs": [],
   "source": []
  },
  {
   "cell_type": "code",
   "execution_count": null,
   "id": "c33578ce",
   "metadata": {},
   "outputs": [],
   "source": []
  },
  {
   "cell_type": "code",
   "execution_count": null,
   "id": "a16676cf",
   "metadata": {},
   "outputs": [],
   "source": []
  },
  {
   "cell_type": "code",
   "execution_count": null,
   "id": "8e9bc09a",
   "metadata": {},
   "outputs": [],
   "source": []
  },
  {
   "cell_type": "code",
   "execution_count": null,
   "id": "0c0f9a22",
   "metadata": {},
   "outputs": [],
   "source": []
  },
  {
   "cell_type": "code",
   "execution_count": null,
   "id": "635db5db",
   "metadata": {},
   "outputs": [],
   "source": []
  },
  {
   "cell_type": "code",
   "execution_count": null,
   "id": "dbd634b5",
   "metadata": {},
   "outputs": [],
   "source": []
  },
  {
   "cell_type": "code",
   "execution_count": 109,
   "id": "fa088a6b",
   "metadata": {},
   "outputs": [
    {
     "data": {
      "text/plain": [
       "{'Data Access: ': '$1,150,000 ', 'key': '$1,150,000 '}"
      ]
     },
     "execution_count": 109,
     "metadata": {},
     "output_type": "execute_result"
    }
   ],
   "source": [
    "new_dict"
   ]
  },
  {
   "cell_type": "code",
   "execution_count": null,
   "id": "749640a8",
   "metadata": {},
   "outputs": [],
   "source": []
  },
  {
   "cell_type": "code",
   "execution_count": null,
   "id": "90f14f13",
   "metadata": {},
   "outputs": [],
   "source": []
  },
  {
   "cell_type": "code",
   "execution_count": null,
   "id": "c57811b0",
   "metadata": {},
   "outputs": [],
   "source": []
  },
  {
   "cell_type": "code",
   "execution_count": null,
   "id": "1a3b06b0",
   "metadata": {},
   "outputs": [],
   "source": []
  },
  {
   "cell_type": "code",
   "execution_count": 92,
   "id": "b7e0f556",
   "metadata": {},
   "outputs": [
    {
     "data": {
      "text/plain": [
       "{'Data Access: ': '$1,150,000 ', 'a': 'b'}"
      ]
     },
     "execution_count": 92,
     "metadata": {},
     "output_type": "execute_result"
    }
   ],
   "source": [
    "new_dict"
   ]
  },
  {
   "cell_type": "code",
   "execution_count": null,
   "id": "6ae43f12",
   "metadata": {},
   "outputs": [],
   "source": []
  },
  {
   "cell_type": "code",
   "execution_count": null,
   "id": "147bc39e",
   "metadata": {},
   "outputs": [],
   "source": []
  },
  {
   "cell_type": "code",
   "execution_count": null,
   "id": "908bb34d",
   "metadata": {},
   "outputs": [],
   "source": []
  },
  {
   "cell_type": "code",
   "execution_count": null,
   "id": "932a5a73",
   "metadata": {},
   "outputs": [],
   "source": []
  },
  {
   "cell_type": "code",
   "execution_count": null,
   "id": "7311fd67",
   "metadata": {},
   "outputs": [],
   "source": []
  },
  {
   "cell_type": "code",
   "execution_count": null,
   "id": "7b0a76ba",
   "metadata": {},
   "outputs": [],
   "source": []
  },
  {
   "cell_type": "code",
   "execution_count": null,
   "id": "17b41020",
   "metadata": {},
   "outputs": [],
   "source": []
  },
  {
   "cell_type": "code",
   "execution_count": null,
   "id": "2ba36966",
   "metadata": {},
   "outputs": [],
   "source": []
  },
  {
   "cell_type": "code",
   "execution_count": 35,
   "id": "3be747c8",
   "metadata": {
    "scrolled": true
   },
   "outputs": [
    {
     "data": {
      "text/html": [
       "<div>\n",
       "<style scoped>\n",
       "    .dataframe tbody tr th:only-of-type {\n",
       "        vertical-align: middle;\n",
       "    }\n",
       "\n",
       "    .dataframe tbody tr th {\n",
       "        vertical-align: top;\n",
       "    }\n",
       "\n",
       "    .dataframe thead th {\n",
       "        text-align: right;\n",
       "    }\n",
       "</style>\n",
       "<table border=\"1\" class=\"dataframe\">\n",
       "  <thead>\n",
       "    <tr style=\"text-align: right;\">\n",
       "      <th></th>\n",
       "      <th>key</th>\n",
       "      <th>value</th>\n",
       "    </tr>\n",
       "  </thead>\n",
       "  <tbody>\n",
       "  </tbody>\n",
       "</table>\n",
       "</div>"
      ],
      "text/plain": [
       "Empty DataFrame\n",
       "Columns: [key, value]\n",
       "Index: []"
      ]
     },
     "execution_count": 35,
     "metadata": {},
     "output_type": "execute_result"
    }
   ],
   "source": [
    "pd.DataFrame(columns=['key','value'])"
   ]
  },
  {
   "cell_type": "code",
   "execution_count": 52,
   "id": "fdb26a4f",
   "metadata": {},
   "outputs": [
    {
     "ename": "TypeError",
     "evalue": "insert() missing 1 required positional argument: 'value'",
     "output_type": "error",
     "traceback": [
      "\u001b[0;31m---------------------------------------------------------------------------\u001b[0m",
      "\u001b[0;31mTypeError\u001b[0m                                 Traceback (most recent call last)",
      "Input \u001b[0;32mIn [52]\u001b[0m, in \u001b[0;36m<module>\u001b[0;34m\u001b[0m\n\u001b[1;32m      3\u001b[0m key \u001b[38;5;241m=\u001b[39m df\u001b[38;5;241m.\u001b[39mcolumns[i]\n\u001b[1;32m      4\u001b[0m value \u001b[38;5;241m=\u001b[39m df\u001b[38;5;241m.\u001b[39mcolumns[i\u001b[38;5;241m+\u001b[39m\u001b[38;5;241m1\u001b[39m]\n\u001b[0;32m----> 5\u001b[0m \u001b[43mfinal\u001b[49m\u001b[38;5;241;43m.\u001b[39;49m\u001b[43minsert\u001b[49m\u001b[43m(\u001b[49m\u001b[43mkey\u001b[49m\u001b[43m,\u001b[49m\u001b[43mvalue\u001b[49m\u001b[43m)\u001b[49m\n",
      "\u001b[0;31mTypeError\u001b[0m: insert() missing 1 required positional argument: 'value'"
     ]
    }
   ],
   "source": [
    "final = pd.DataFrame(columns=['key','value'])\n",
    "for i in range(len(fee)):\n",
    "    key = df.columns[i]\n",
    "    value = df.columns[i+1]\n",
    "    final.insert(key,value)"
   ]
  },
  {
   "cell_type": "code",
   "execution_count": null,
   "id": "01598f57",
   "metadata": {},
   "outputs": [],
   "source": []
  },
  {
   "cell_type": "code",
   "execution_count": null,
   "id": "9f97756d",
   "metadata": {},
   "outputs": [],
   "source": []
  },
  {
   "cell_type": "code",
   "execution_count": null,
   "id": "84707cc7",
   "metadata": {},
   "outputs": [],
   "source": []
  },
  {
   "cell_type": "code",
   "execution_count": null,
   "id": "42def9cd",
   "metadata": {},
   "outputs": [],
   "source": []
  },
  {
   "cell_type": "code",
   "execution_count": null,
   "id": "06c31fd0",
   "metadata": {},
   "outputs": [],
   "source": []
  },
  {
   "cell_type": "code",
   "execution_count": null,
   "id": "66801cfb",
   "metadata": {},
   "outputs": [],
   "source": []
  },
  {
   "cell_type": "code",
   "execution_count": null,
   "id": "2bb0c3e7",
   "metadata": {},
   "outputs": [],
   "source": []
  },
  {
   "cell_type": "code",
   "execution_count": null,
   "id": "c36a843e",
   "metadata": {},
   "outputs": [],
   "source": []
  },
  {
   "cell_type": "code",
   "execution_count": null,
   "id": "abef71a8",
   "metadata": {},
   "outputs": [],
   "source": []
  },
  {
   "cell_type": "code",
   "execution_count": null,
   "id": "8b6a3175",
   "metadata": {},
   "outputs": [],
   "source": []
  },
  {
   "cell_type": "code",
   "execution_count": null,
   "id": "2c2e3640",
   "metadata": {},
   "outputs": [],
   "source": []
  },
  {
   "cell_type": "code",
   "execution_count": null,
   "id": "107b5220",
   "metadata": {},
   "outputs": [],
   "source": []
  },
  {
   "cell_type": "code",
   "execution_count": null,
   "id": "466de435",
   "metadata": {},
   "outputs": [],
   "source": []
  },
  {
   "cell_type": "code",
   "execution_count": 23,
   "id": "d83e1def",
   "metadata": {},
   "outputs": [
    {
     "ename": "SyntaxError",
     "evalue": "invalid syntax (211145841.py, line 1)",
     "output_type": "error",
     "traceback": [
      "\u001b[0;36m  Input \u001b[0;32mIn [23]\u001b[0;36m\u001b[0m\n\u001b[0;31m    df[Data Access: ]\u001b[0m\n\u001b[0m            ^\u001b[0m\n\u001b[0;31mSyntaxError\u001b[0m\u001b[0;31m:\u001b[0m invalid syntax\n"
     ]
    }
   ],
   "source": [
    "df[Data Access: ]"
   ]
  },
  {
   "cell_type": "code",
   "execution_count": null,
   "id": "07774200",
   "metadata": {},
   "outputs": [],
   "source": []
  },
  {
   "cell_type": "code",
   "execution_count": null,
   "id": "3b110dbd",
   "metadata": {},
   "outputs": [],
   "source": []
  },
  {
   "cell_type": "code",
   "execution_count": null,
   "id": "2f8f176b",
   "metadata": {},
   "outputs": [],
   "source": []
  },
  {
   "cell_type": "code",
   "execution_count": null,
   "id": "4fe7d414",
   "metadata": {},
   "outputs": [],
   "source": [
    "[\n",
    "    {\n",
    "        \"Data Access: \": \"$1,150,000 \",\n",
    "        \"Other: \": \"nan\",\n",
    "        \"Total (for year 1): \": \"$1,343,500\" \n",
    "    }\n",
    "]"
   ]
  },
  {
   "cell_type": "code",
   "execution_count": 3,
   "id": "cf00565f",
   "metadata": {},
   "outputs": [
    {
     "data": {
      "text/plain": [
       "{'Data Access: ': 'Other: ', '$1,150,000 ': 'nan', 'Unnamed: 2': 'nan'}"
      ]
     },
     "execution_count": 3,
     "metadata": {},
     "output_type": "execute_result"
    }
   ],
   "source": [
    "fee[0]"
   ]
  },
  {
   "cell_type": "code",
   "execution_count": 18,
   "id": "75d1f5c3",
   "metadata": {},
   "outputs": [
    {
     "name": "stdout",
     "output_type": "stream",
     "text": [
      "Data Access: \n",
      "$1,150,000 \n",
      "Unnamed: 2\n",
      "Data Access: \n",
      "$1,150,000 \n",
      "Unnamed: 2\n"
     ]
    }
   ],
   "source": [
    "new = {}\n",
    "for i in fee:    \n",
    "    for k,v in i.items():\n",
    "#         dict.__setitem__\n",
    "        print(k)"
   ]
  },
  {
   "cell_type": "code",
   "execution_count": null,
   "id": "259963e3",
   "metadata": {},
   "outputs": [],
   "source": []
  },
  {
   "cell_type": "code",
   "execution_count": null,
   "id": "3e67a7e9",
   "metadata": {},
   "outputs": [],
   "source": []
  },
  {
   "cell_type": "code",
   "execution_count": null,
   "id": "fcbbd24b",
   "metadata": {},
   "outputs": [],
   "source": []
  },
  {
   "cell_type": "code",
   "execution_count": null,
   "id": "82a08ba7",
   "metadata": {},
   "outputs": [],
   "source": []
  },
  {
   "cell_type": "code",
   "execution_count": null,
   "id": "257ffe79",
   "metadata": {},
   "outputs": [],
   "source": []
  },
  {
   "cell_type": "code",
   "execution_count": null,
   "id": "f1a18b14",
   "metadata": {},
   "outputs": [],
   "source": []
  },
  {
   "cell_type": "code",
   "execution_count": null,
   "id": "ece65bbf",
   "metadata": {},
   "outputs": [],
   "source": []
  },
  {
   "cell_type": "code",
   "execution_count": null,
   "id": "99c59bde",
   "metadata": {},
   "outputs": [],
   "source": []
  },
  {
   "cell_type": "code",
   "execution_count": null,
   "id": "708f0363",
   "metadata": {},
   "outputs": [],
   "source": []
  },
  {
   "cell_type": "code",
   "execution_count": null,
   "id": "b35c830a",
   "metadata": {},
   "outputs": [],
   "source": []
  },
  {
   "cell_type": "code",
   "execution_count": null,
   "id": "6efaf24e",
   "metadata": {},
   "outputs": [],
   "source": []
  },
  {
   "cell_type": "code",
   "execution_count": null,
   "id": "5f66fa87",
   "metadata": {},
   "outputs": [],
   "source": []
  },
  {
   "cell_type": "code",
   "execution_count": null,
   "id": "008bc7e0",
   "metadata": {},
   "outputs": [],
   "source": []
  },
  {
   "cell_type": "code",
   "execution_count": null,
   "id": "e832a43a",
   "metadata": {},
   "outputs": [],
   "source": []
  },
  {
   "cell_type": "code",
   "execution_count": 66,
   "id": "d14c2327",
   "metadata": {},
   "outputs": [
    {
     "data": {
      "text/plain": [
       "list"
      ]
     },
     "execution_count": 66,
     "metadata": {},
     "output_type": "execute_result"
    }
   ],
   "source": [
    "type(fee)"
   ]
  },
  {
   "cell_type": "code",
   "execution_count": 71,
   "id": "26bd4f58",
   "metadata": {},
   "outputs": [
    {
     "data": {
      "text/plain": [
       "'Other: '"
      ]
     },
     "execution_count": 71,
     "metadata": {},
     "output_type": "execute_result"
    }
   ],
   "source": [
    "fee[0]['Data Access: ']"
   ]
  },
  {
   "cell_type": "code",
   "execution_count": 72,
   "id": "6760de12",
   "metadata": {},
   "outputs": [
    {
     "data": {
      "text/plain": [
       "dict_keys(['Data Access: ', '$1,150,000 ', 'Unnamed: 2'])"
      ]
     },
     "execution_count": 72,
     "metadata": {},
     "output_type": "execute_result"
    }
   ],
   "source": [
    "fee[0].keys()"
   ]
  },
  {
   "cell_type": "code",
   "execution_count": null,
   "id": "bd08dfb5",
   "metadata": {},
   "outputs": [],
   "source": []
  },
  {
   "cell_type": "code",
   "execution_count": null,
   "id": "e4dfa8fb",
   "metadata": {},
   "outputs": [],
   "source": []
  },
  {
   "cell_type": "code",
   "execution_count": null,
   "id": "e1880c36",
   "metadata": {},
   "outputs": [],
   "source": []
  },
  {
   "cell_type": "code",
   "execution_count": null,
   "id": "f074827b",
   "metadata": {},
   "outputs": [],
   "source": []
  },
  {
   "cell_type": "code",
   "execution_count": null,
   "id": "b13b7589",
   "metadata": {},
   "outputs": [],
   "source": []
  },
  {
   "cell_type": "code",
   "execution_count": null,
   "id": "f723e22c",
   "metadata": {},
   "outputs": [],
   "source": []
  },
  {
   "cell_type": "code",
   "execution_count": 62,
   "id": "4f2bcd62",
   "metadata": {},
   "outputs": [],
   "source": [
    "it = [{'Data Period Granularity ': 'Weekly ', 'Delivery Frequency ': 'Monthly ', 'Categories ': 'Apparel POS Monthly ASSG Channel Only ', 'Unnamed: 3': 'nan'}, {'Data Period Granularity ': 'Weekly ', 'Delivery Frequency ': 'Monthly ', 'Categories ': 'Apparel Total Channel POS Monthly ', 'Unnamed: 3': 'nan'}, {'Data Period Granularity ': 'Weekly ', 'Delivery Frequency ': 'Monthly ', 'Categories ': 'Beauty POS Monthly ', 'Unnamed: 3': 'nan'}, {'Data Period Granularity ': 'Monthly ', 'Delivery Frequency ': 'Monthly ', 'Categories ': 'Cycling POS Monthly ', 'Unnamed: 3': 'nan'}, {'Data Period Granularity ': 'Weekly ', 'Delivery Frequency ': 'Monthly ', 'Categories ': 'Footwear POS Monthly ASSG Channel Only ', 'Unnamed: 3': 'nan'}, {'Data Period Granularity ': 'Weekly ', 'Delivery Frequency ': 'Monthly ', 'Categories ': 'Footwear POS Monthly Shoe Chain Channel Only ', 'Unnamed: 3': 'nan'}, {'Data Period Granularity ': 'Weekly ', 'Delivery Frequency ': 'Monthly ', 'Categories ': 'Footwear Total Channel POS Monthly ', 'Unnamed: 3': 'nan'}, {'Data Period Granularity ': 'Weekly ', 'Delivery Frequency ': 'Weekly ', 'Categories ': 'Footwear POS Weekly ', 'Unnamed: 3': 'nan'}, {'Data Period Granularity ': 'Weekly ', 'Delivery Frequency ': 'Monthly ', 'Categories ': 'Housewares POS Monthly ', 'Unnamed: 3': 'nan'}, {'Data Period Granularity ': 'Weekly ', 'Delivery Frequency ': 'Monthly ', 'Categories ': 'Juvenile Products POS Monthly ', 'Unnamed: 3': 'nan'}, {'Data Period Granularity ': 'Monthly ', 'Delivery Frequency ': 'Monthly ', 'Categories ': 'Office Supplies Commercial POS Monthly ', 'Unnamed: 3': 'nan'}, {'Data Period Granularity ': 'Weekly ', 'Delivery Frequency ': 'Monthly ', 'Categories ': 'Office Supplies Retail POS Monthly ', 'Unnamed: 3': 'nan'}, {'Data Period Granularity ': 'Weekly ', 'Delivery Frequency ': 'Weekly ', 'Categories ': 'Office Supplies Retail POS Weekly ', 'Unnamed: 3': 'nan'}, {'Data Period Granularity ': 'Weekly ', 'Delivery Frequency ': 'Monthly ', 'Categories ': 'Outdoor SportsEquipment Retail POS Monthly ', 'Unnamed: 3': 'nan'}, {'Data Period Granularity ': 'Monthly ', 'Delivery Frequency ': 'Monthly ', 'Categories ': 'Outdoor Sports Equipment Specialty POS Monthly ', 'Unnamed: 3': 'nan'}, {'Data Period Granularity ': 'Weekly ', 'Delivery Frequency ': 'Monthly ', 'Categories ': 'Small Appliances POS Monthly ', 'Unnamed: 3': 'nan'}, {'Data Period Granularity ': 'Weekly ', 'Delivery Frequency ': 'Weekly ', 'Categories ': 'Small Appliances POS Weekly ', 'Unnamed: 3': 'nan'}, {'Data Period Granularity ': 'Weekly ', 'Delivery Frequency ': 'Monthly ', 'Categories ': 'Team Sports Equipment POS Monthly ', 'Unnamed: 3': 'nan'}, {'Data Period Granularity ': 'Monthly ', 'Delivery Frequency ': 'Monthly ', 'Categories ': 'Technology Commercial Reseller POS Monthly ', 'Unnamed: 3': 'nan'}, {'Data Period Granularity ': 'Weekly ', 'Delivery Frequency ': 'Weekly ', 'Categories ': 'Technology Commercial Reseller POS Weekly ', 'Unnamed: 3': 'nan'}, {'Data Period Granularity ': 'Monthly ', 'Delivery Frequency ': 'Monthly ', 'Categories ': 'Technology Distributor POS Monthly ', 'Unnamed: 3': 'nan'}, {'Data Period Granularity ': 'Weekly ', 'Delivery Frequency ': 'Weekly ', 'Categories ': 'Technology Distributor POS Weekly ', 'Unnamed: 3': 'nan'}, {'Data Period Granularity ': 'Monthly ', 'Delivery Frequency ': 'Monthly ', 'Categories ': 'Technology Retail POS Monthly ', 'Unnamed: 3': 'nan'}, {'Data Period Granularity ': 'Weekly ', 'Delivery Frequency ': 'Weekly ', 'Categories ': 'Technology Retail POS Weekly ', 'Unnamed: 3': 'nan'}, {'Data Period Granularity ': 'Monthly ', 'Delivery Frequency ': 'Monthly ', 'Categories ': 'Technology Total Channel POS Monthly ', 'Unnamed: 3': 'nan'}, {'Data Period Granularity ': 'Weekly ', 'Delivery Frequency ': 'Monthly ', 'Categories ': 'Toys POS Monthly ', 'Unnamed: 3': 'nan'}]"
   ]
  },
  {
   "cell_type": "code",
   "execution_count": 63,
   "id": "11d419bb",
   "metadata": {},
   "outputs": [
    {
     "data": {
      "text/plain": [
       "list"
      ]
     },
     "execution_count": 63,
     "metadata": {},
     "output_type": "execute_result"
    }
   ],
   "source": [
    "type(it)"
   ]
  },
  {
   "cell_type": "code",
   "execution_count": null,
   "id": "7ed55b2c",
   "metadata": {},
   "outputs": [],
   "source": []
  },
  {
   "cell_type": "code",
   "execution_count": 48,
   "id": "094e0cab",
   "metadata": {},
   "outputs": [],
   "source": [
    "json = {'NER': [{'annotation': {'annotation': 'Invoices_and_Fees', 'end_position': [405, 406, 408, 414, 415, 422, 432, 438, 439, 442, 446, 447], 'page_no': '1', 'score': ['0.9936207', '0.9977107', '0.99915874', '0.99945873', '0.9995036', '0.99928695', '0.9997497', '0.9996474', '0.9999596', '0.99996805', '0.9999778', '0.99993455'], 'starting_index': [402, 406, 408, 409, 415, 417, 424, 434, 439, 441, 444, 447], 'unique_id': '2941eeda-500f-4395-9fe7-024eace2d940', 'word': 'Fees: (annual, unless otherwise noted) in USD)', 'word_index': [142, 143, 145, 146, 147, 149, 151, 153, 154, 156, 158, 159], 'word_list': ['Fees', ':', '(', 'annual', ',', 'unless', 'otherwise', 'noted', ')', 'in', 'USD', ')'], 'sentence_id': '1', 'label': 'Invoices_and_Fees'}, 'attribute_list': [], 'attribute_name': 'Invoices_and_Fees', 'attribute_type': 'global', 'order': 1, 'value': 'Fees: (annual, unless otherwise noted) in USD)', 'mandatory': False, 'no_multiple_values': False, 'is_derived_attribute': False, 'most_accurate': False, 'is_intermediate_entity': False, 'accuracy': False, 'omr_res': [], 'is_tabular': True, 'dropdown_type': '', 'dropdown_values': [], 'omr_config': {'entity_extraction': '', 'omr_options': [], 'single_or_multiple_omr': ''}, 'multiple_value': False, 'validation': ''}, {'annotation': {'annotation': 'Fee_Items', 'end_position': [], 'page_no': '0', 'score': '0.00', 'starting_index': [], 'word': '', 'word_index': [], 'word_list': [], 'sentence_id': '0', 'label': 'Fee_Items'}, 'attribute_name': 'Fee_Items', 'attribute_type': 'global', 'order': 2, 'value': '', 'mandatory': False, 'no_multiple_values': False, 'is_derived_attribute': False, 'most_accurate': False, 'is_intermediate_entity': False, 'accuracy': True, 'omr_res': [], 'is_tabular': False, 'dropdown_type': '', 'dropdown_values': [], 'omr_config': {'entity_extraction': '', 'omr_options': [], 'single_or_multiple_omr': ''}, 'multiple_value': False, 'validation': ''}, {'annotation': {'annotation': 'Fee_Amount', 'end_position': [], 'page_no': '0', 'score': '0.00', 'starting_index': [], 'word': '', 'word_index': [], 'word_list': [], 'sentence_id': '0', 'label': 'Fee_Amount'}, 'attribute_name': 'Fee_Amount', 'attribute_type': 'global', 'order': 3, 'value': '', 'mandatory': False, 'no_multiple_values': False, 'is_derived_attribute': False, 'most_accurate': False, 'is_intermediate_entity': False, 'accuracy': True, 'omr_res': [], 'is_tabular': False, 'dropdown_type': '', 'dropdown_values': [], 'omr_config': {'entity_extraction': '', 'omr_options': [], 'single_or_multiple_omr': ''}, 'multiple_value': False, 'validation': ''}, {'annotation': {'annotation': 'Fee_Period_Annual_Fee_for_Multi_Year_IPP_', 'end_position': [], 'page_no': '0', 'score': '0.00', 'starting_index': [], 'word': '', 'word_index': [], 'word_list': [], 'sentence_id': '0', 'label': 'Fee_Period_Annual_Fee_for_Multi_Year_IPP_'}, 'attribute_name': 'Fee_Period_Annual_Fee_for_Multi_Year_IPP_', 'attribute_type': 'global', 'order': 4, 'value': '', 'mandatory': False, 'no_multiple_values': False, 'is_derived_attribute': False, 'most_accurate': False, 'is_intermediate_entity': False, 'accuracy': True, 'omr_res': [], 'is_tabular': False, 'dropdown_type': '', 'dropdown_values': [], 'omr_config': {'entity_extraction': '', 'omr_options': [], 'single_or_multiple_omr': ''}, 'multiple_value': False, 'validation': ''}, {'annotation': {'annotation': 'Invoicing', 'end_position': [527, 529, 531, 535, 536], 'page_no': '1', 'score': ['0.99956113', '0.9957111', '0.9963601', '0.99890006', '0.9971163'], 'starting_index': [519, 529, 530, 533, 536], 'unique_id': '2941eeda-500f-4395-9fe7-024eace2d940', 'word': 'Invoicing (in USD)', 'word_index': [192, 194, 195, 197, 198], 'word_list': ['Invoicing', '(', 'in', 'USD', ')'], 'sentence_id': '1', 'label': 'Invoicing'}, 'attribute_list': [], 'attribute_name': 'Invoicing', 'attribute_type': 'global', 'order': 5, 'value': 'Invoicing (in USD)', 'mandatory': False, 'no_multiple_values': False, 'is_derived_attribute': False, 'most_accurate': False, 'is_intermediate_entity': False, 'accuracy': False, 'omr_res': [], 'is_tabular': True, 'dropdown_type': '', 'dropdown_values': [], 'omr_config': {'entity_extraction': '', 'omr_options': [], 'single_or_multiple_omr': ''}, 'multiple_value': False, 'validation': ''}, {'annotation': {'annotation': 'Invoices_Amount', 'end_position': [], 'page_no': '0', 'score': '0.00', 'starting_index': [], 'word': '', 'word_index': [], 'word_list': [], 'sentence_id': '0', 'label': 'Invoices_Amount'}, 'attribute_name': 'Invoices_Amount', 'attribute_type': 'global', 'order': 6, 'value': '', 'mandatory': False, 'no_multiple_values': False, 'is_derived_attribute': False, 'most_accurate': False, 'is_intermediate_entity': False, 'accuracy': True, 'omr_res': [], 'is_tabular': False, 'dropdown_type': '', 'dropdown_values': [], 'omr_config': {'entity_extraction': '', 'omr_options': [], 'single_or_multiple_omr': ''}, 'multiple_value': False, 'validation': ''}, {'annotation': {'annotation': 'Invoices_Date_Periods', 'end_position': [], 'page_no': '0', 'score': '0.00', 'starting_index': [], 'word': '', 'word_index': [], 'word_list': [], 'sentence_id': '0', 'label': 'Invoices_Date_Periods'}, 'attribute_name': 'Invoices_Date_Periods', 'attribute_type': 'global', 'order': 7, 'value': '', 'mandatory': False, 'no_multiple_values': False, 'is_derived_attribute': False, 'most_accurate': False, 'is_intermediate_entity': False, 'accuracy': True, 'omr_res': [], 'is_tabular': False, 'dropdown_type': '', 'dropdown_values': [], 'omr_config': {'entity_extraction': '', 'omr_options': [], 'single_or_multiple_omr': ''}, 'multiple_value': False, 'validation': ''}, {'annotation': {'annotation': 'Invoicing_Schedule', 'end_position': [], 'page_no': '0', 'score': '0.00', 'starting_index': [], 'word': '', 'word_index': [], 'word_list': [], 'sentence_id': '0', 'label': 'Invoicing_Schedule'}, 'attribute_name': 'Invoicing_Schedule', 'attribute_type': 'global', 'order': 8, 'value': '', 'mandatory': False, 'no_multiple_values': False, 'is_derived_attribute': False, 'most_accurate': False, 'is_intermediate_entity': False, 'accuracy': True, 'omr_res': [], 'is_tabular': False, 'dropdown_type': '', 'dropdown_values': [], 'omr_config': {'entity_extraction': '', 'omr_options': [], 'single_or_multiple_omr': ''}, 'multiple_value': False, 'validation': ''}, {'annotation': {'annotation': 'Purchased_Services', 'end_position': [86, 95], 'page_no': '2', 'score': ['0.9920259', '0.97539175'], 'starting_index': [78, 88], 'unique_id': 'b3c10807-ee01-4c99-a21a-b3830a2a7a1c', 'word': 'Purchased Services', 'word_index': [19, 21], 'word_list': ['Purchased', 'Services'], 'sentence_id': '10', 'label': 'Purchased_Services'}, 'attribute_list': [], 'attribute_name': 'Purchased_Services', 'attribute_type': 'global', 'order': 9, 'value': 'Purchased Services', 'mandatory': False, 'no_multiple_values': False, 'is_derived_attribute': False, 'most_accurate': False, 'is_intermediate_entity': False, 'accuracy': False, 'omr_res': [], 'is_tabular': False, 'dropdown_type': '', 'dropdown_values': [], 'omr_config': {'entity_extraction': '', 'omr_options': [], 'single_or_multiple_omr': ''}, 'multiple_value': False, 'validation': ''}, {'annotation': {'annotation': 'Category', 'end_position': [], 'page_no': '0', 'score': '0.00', 'starting_index': [], 'word': '', 'word_index': [], 'word_list': [], 'sentence_id': '0', 'label': 'Category'}, 'attribute_name': 'Category', 'attribute_type': 'global', 'order': 10, 'value': '', 'mandatory': False, 'no_multiple_values': False, 'is_derived_attribute': False, 'most_accurate': False, 'is_intermediate_entity': False, 'accuracy': True, 'omr_res': [], 'is_tabular': False, 'dropdown_type': '', 'dropdown_values': [], 'omr_config': {'entity_extraction': '', 'omr_options': [], 'single_or_multiple_omr': ''}, 'multiple_value': False, 'validation': ''}, {'annotation': {'annotation': 'Description', 'end_position': [], 'page_no': '0', 'score': '0.00', 'starting_index': [], 'word': '', 'word_index': [], 'word_list': [], 'sentence_id': '0', 'label': 'Description'}, 'attribute_name': 'Description', 'attribute_type': 'global', 'order': 11, 'value': '', 'mandatory': False, 'no_multiple_values': False, 'is_derived_attribute': False, 'most_accurate': False, 'is_intermediate_entity': False, 'accuracy': True, 'omr_res': [], 'is_tabular': False, 'dropdown_type': '', 'dropdown_values': [], 'omr_config': {'entity_extraction': '', 'omr_options': [], 'single_or_multiple_omr': ''}, 'multiple_value': False, 'validation': ''}, {'annotation': {'annotation': 'Channel', 'end_position': [], 'page_no': '0', 'score': '0.00', 'starting_index': [], 'word': '', 'word_index': [], 'word_list': [], 'sentence_id': '0', 'label': 'Channel'}, 'attribute_name': 'Channel', 'attribute_type': 'global', 'order': 12, 'value': '', 'mandatory': False, 'no_multiple_values': False, 'is_derived_attribute': False, 'most_accurate': False, 'is_intermediate_entity': False, 'accuracy': True, 'omr_res': [], 'is_tabular': False, 'dropdown_type': '', 'dropdown_values': [], 'omr_config': {'entity_extraction': '', 'omr_options': [], 'single_or_multiple_omr': ''}, 'multiple_value': False, 'validation': ''}, {'annotation': {'annotation': 'Service_Name', 'end_position': [], 'page_no': '0', 'score': '0.00', 'starting_index': [], 'word': '', 'word_index': [], 'word_list': [], 'sentence_id': '0', 'label': 'Service_Name'}, 'attribute_name': 'Service_Name', 'attribute_type': 'global', 'order': 13, 'value': '', 'mandatory': False, 'no_multiple_values': False, 'is_derived_attribute': False, 'most_accurate': False, 'is_intermediate_entity': False, 'accuracy': True, 'omr_res': [], 'is_tabular': False, 'dropdown_type': '', 'dropdown_values': [], 'omr_config': {'entity_extraction': '', 'omr_options': [], 'single_or_multiple_omr': ''}, 'multiple_value': False, 'validation': ''}, {'annotation': {'annotation': 'Access_Level', 'end_position': [], 'page_no': '0', 'score': '0.00', 'starting_index': [], 'word': '', 'word_index': [], 'word_list': [], 'sentence_id': '0', 'label': 'Access_Level'}, 'attribute_name': 'Access_Level', 'attribute_type': 'global', 'order': 14, 'value': '', 'mandatory': False, 'no_multiple_values': False, 'is_derived_attribute': False, 'most_accurate': False, 'is_intermediate_entity': False, 'accuracy': True, 'omr_res': [], 'is_tabular': False, 'dropdown_type': '', 'dropdown_values': [], 'omr_config': {'entity_extraction': '', 'omr_options': [], 'single_or_multiple_omr': ''}, 'multiple_value': False, 'validation': ''}, {'annotation': {'annotation': 'Delivery_Method_1', 'end_position': [], 'page_no': '0', 'score': '0.00', 'starting_index': [], 'word': '', 'word_index': [], 'word_list': [], 'sentence_id': '0', 'label': 'Delivery_Method_1'}, 'attribute_name': 'Delivery_Method_1', 'attribute_type': 'global', 'order': 15, 'value': '', 'mandatory': False, 'no_multiple_values': False, 'is_derived_attribute': False, 'most_accurate': False, 'is_intermediate_entity': False, 'accuracy': True, 'omr_res': [], 'is_tabular': False, 'dropdown_type': '', 'dropdown_values': [], 'omr_config': {'entity_extraction': '', 'omr_options': [], 'single_or_multiple_omr': ''}, 'multiple_value': False, 'validation': ''}, {'annotation': {'annotation': 'Delivery_Method_2', 'end_position': [], 'page_no': '0', 'score': '0.00', 'starting_index': [], 'word': '', 'word_index': [], 'word_list': [], 'sentence_id': '0', 'label': 'Delivery_Method_2'}, 'attribute_name': 'Delivery_Method_2', 'attribute_type': 'global', 'order': 16, 'value': '', 'mandatory': False, 'no_multiple_values': False, 'is_derived_attribute': False, 'most_accurate': False, 'is_intermediate_entity': False, 'accuracy': True, 'omr_res': [], 'is_tabular': False, 'dropdown_type': '', 'dropdown_values': [], 'omr_config': {'entity_extraction': '', 'omr_options': [], 'single_or_multiple_omr': ''}, 'multiple_value': False, 'validation': ''}, {'annotation': {'annotation': 'Delivery_Frequency', 'end_position': [], 'page_no': '0', 'score': '0.00', 'starting_index': [], 'word': '', 'word_index': [], 'word_list': [], 'sentence_id': '0', 'label': 'Delivery_Frequency'}, 'attribute_name': 'Delivery_Frequency', 'attribute_type': 'global', 'order': 17, 'value': '', 'mandatory': False, 'no_multiple_values': False, 'is_derived_attribute': False, 'most_accurate': False, 'is_intermediate_entity': False, 'accuracy': True, 'omr_res': [], 'is_tabular': False, 'dropdown_type': '', 'dropdown_values': [], 'omr_config': {'entity_extraction': '', 'omr_options': [], 'single_or_multiple_omr': ''}, 'multiple_value': False, 'validation': ''}, {'annotation': {'annotation': 'Product_Type', 'end_position': [], 'page_no': '0', 'score': '0.00', 'starting_index': [], 'word': '', 'word_index': [], 'word_list': [], 'sentence_id': '0', 'label': 'Product_Type'}, 'attribute_name': 'Product_Type', 'attribute_type': 'global', 'order': 18, 'value': '', 'mandatory': False, 'no_multiple_values': False, 'is_derived_attribute': False, 'most_accurate': False, 'is_intermediate_entity': False, 'accuracy': True, 'omr_res': [], 'is_tabular': False, 'dropdown_type': '', 'dropdown_values': [], 'omr_config': {'entity_extraction': '', 'omr_options': [], 'single_or_multiple_omr': ''}, 'multiple_value': False, 'validation': ''}, {'annotation': {'annotation': 'Product_Offering', 'end_position': [], 'page_no': '0', 'score': '0.00', 'starting_index': [], 'word': '', 'word_index': [], 'word_list': [], 'sentence_id': '0', 'label': 'Product_Offering'}, 'attribute_name': 'Product_Offering', 'attribute_type': 'global', 'order': 19, 'value': '', 'mandatory': False, 'no_multiple_values': False, 'is_derived_attribute': False, 'most_accurate': False, 'is_intermediate_entity': False, 'accuracy': True, 'omr_res': [], 'is_tabular': False, 'dropdown_type': '', 'dropdown_values': [], 'omr_config': {'entity_extraction': '', 'omr_options': [], 'single_or_multiple_omr': ''}, 'multiple_value': False, 'validation': ''}, {'annotation': {'annotation': 'Rubiks_Level_1', 'end_position': [], 'page_no': '0', 'score': '0.00', 'starting_index': [], 'word': '', 'word_index': [], 'word_list': [], 'sentence_id': '0', 'label': 'Rubiks_Level_1'}, 'attribute_name': 'Rubiks_Level_1', 'attribute_type': 'global', 'order': 20, 'value': '', 'mandatory': False, 'no_multiple_values': False, 'is_derived_attribute': False, 'most_accurate': False, 'is_intermediate_entity': False, 'accuracy': True, 'omr_res': [], 'is_tabular': False, 'dropdown_type': '', 'dropdown_values': [], 'omr_config': {'entity_extraction': '', 'omr_options': [], 'single_or_multiple_omr': ''}, 'multiple_value': False, 'validation': ''}, {'annotation': {'annotation': 'Rubiks_Level_2', 'end_position': [], 'page_no': '0', 'score': '0.00', 'starting_index': [], 'word': '', 'word_index': [], 'word_list': [], 'sentence_id': '0', 'label': 'Rubiks_Level_2'}, 'attribute_name': 'Rubiks_Level_2', 'attribute_type': 'global', 'order': 21, 'value': '', 'mandatory': False, 'no_multiple_values': False, 'is_derived_attribute': False, 'most_accurate': False, 'is_intermediate_entity': False, 'accuracy': True, 'omr_res': [], 'is_tabular': False, 'dropdown_type': '', 'dropdown_values': [], 'omr_config': {'entity_extraction': '', 'omr_options': [], 'single_or_multiple_omr': ''}, 'multiple_value': False, 'validation': ''}, {'annotation': {'annotation': 'Rubiks_Level_3', 'end_position': [], 'page_no': '0', 'score': '0.00', 'starting_index': [], 'word': '', 'word_index': [], 'word_list': [], 'sentence_id': '0', 'label': 'Rubiks_Level_3'}, 'attribute_name': 'Rubiks_Level_3', 'attribute_type': 'global', 'order': 22, 'value': '', 'mandatory': False, 'no_multiple_values': False, 'is_derived_attribute': False, 'most_accurate': False, 'is_intermediate_entity': False, 'accuracy': True, 'omr_res': [], 'is_tabular': False, 'dropdown_type': '', 'dropdown_values': [], 'omr_config': {'entity_extraction': '', 'omr_options': [], 'single_or_multiple_omr': ''}, 'multiple_value': False, 'validation': ''}, {'annotation': {'annotation': 'Rubiks_Level_4', 'end_position': [], 'page_no': '0', 'score': '0.00', 'starting_index': [], 'word': '', 'word_index': [], 'word_list': [], 'sentence_id': '0', 'label': 'Rubiks_Level_4'}, 'attribute_name': 'Rubiks_Level_4', 'attribute_type': 'global', 'order': 23, 'value': '', 'mandatory': False, 'no_multiple_values': False, 'is_derived_attribute': False, 'most_accurate': False, 'is_intermediate_entity': False, 'accuracy': True, 'omr_res': [], 'is_tabular': False, 'dropdown_type': '', 'dropdown_values': [], 'omr_config': {'entity_extraction': '', 'omr_options': [], 'single_or_multiple_omr': ''}, 'multiple_value': False, 'validation': ''}, {'annotation': {'annotation': 'Rubiks_Leve_5', 'end_position': [], 'page_no': '0', 'score': '0.00', 'starting_index': [], 'word': '', 'word_index': [], 'word_list': [], 'sentence_id': '0', 'label': 'Rubiks_Leve_5'}, 'attribute_name': 'Rubiks_Leve_5', 'attribute_type': 'global', 'order': 24, 'value': '', 'mandatory': False, 'no_multiple_values': False, 'is_derived_attribute': False, 'most_accurate': False, 'is_intermediate_entity': False, 'accuracy': True, 'omr_res': [], 'is_tabular': False, 'dropdown_type': '', 'dropdown_values': [], 'omr_config': {'entity_extraction': '', 'omr_options': [], 'single_or_multiple_omr': ''}, 'multiple_value': False, 'validation': ''}, {'annotation': {'annotation': 'Seats', 'end_position': [159], 'page_no': '2', 'score': ['0.99639755'], 'starting_index': [158], 'unique_id': 'c6661fda-3817-4a1b-9d59-84497553f645', 'word': '20', 'word_index': [57], 'word_list': ['20'], 'sentence_id': '2', 'label': 'Seats'}, 'attribute_list': [], 'attribute_name': 'Seats', 'attribute_type': 'global', 'order': 25, 'value': '20', 'mandatory': False, 'no_multiple_values': False, 'is_derived_attribute': False, 'most_accurate': False, 'is_intermediate_entity': False, 'accuracy': False, 'omr_res': [], 'is_tabular': False, 'dropdown_type': '', 'dropdown_values': [], 'omr_config': {'entity_extraction': '', 'omr_options': [], 'single_or_multiple_omr': ''}, 'multiple_value': False, 'validation': ''}, {'annotation': {'annotation': 'Service_Hours', 'end_position': [], 'page_no': '0', 'score': '0.00', 'starting_index': [], 'word': '', 'word_index': [], 'word_list': [], 'sentence_id': '0', 'label': 'Service_Hours'}, 'attribute_name': 'Service_Hours', 'attribute_type': 'global', 'order': 26, 'value': '', 'mandatory': False, 'no_multiple_values': False, 'is_derived_attribute': False, 'most_accurate': False, 'is_intermediate_entity': False, 'accuracy': True, 'omr_res': [], 'is_tabular': False, 'dropdown_type': '', 'dropdown_values': [], 'omr_config': {'entity_extraction': '', 'omr_options': [], 'single_or_multiple_omr': ''}, 'multiple_value': False, 'validation': ''}, {'annotation': {'annotation': 'Foreign_Exchange_Rate', 'end_position': [], 'page_no': '0', 'score': '0.00', 'starting_index': [], 'word': '', 'word_index': [], 'word_list': [], 'sentence_id': '0', 'label': 'Foreign_Exchange_Rate'}, 'attribute_name': 'Foreign_Exchange_Rate', 'attribute_type': 'global', 'order': 27, 'value': '', 'mandatory': False, 'no_multiple_values': False, 'is_derived_attribute': False, 'most_accurate': False, 'is_intermediate_entity': False, 'accuracy': True, 'omr_res': [], 'is_tabular': False, 'dropdown_type': '', 'dropdown_values': [], 'omr_config': {'entity_extraction': '', 'omr_options': [], 'single_or_multiple_omr': ''}, 'multiple_value': False, 'validation': ''}, {'annotation': {'annotation': 'Service_Duration', 'end_position': [], 'page_no': '0', 'score': '0.00', 'starting_index': [], 'word': '', 'word_index': [], 'word_list': [], 'sentence_id': '0', 'label': 'Service_Duration'}, 'attribute_name': 'Service_Duration', 'attribute_type': 'global', 'order': 28, 'value': '', 'mandatory': False, 'no_multiple_values': False, 'is_derived_attribute': False, 'most_accurate': False, 'is_intermediate_entity': False, 'accuracy': True, 'omr_res': [], 'is_tabular': False, 'dropdown_type': '', 'dropdown_values': [], 'omr_config': {'entity_extraction': '', 'omr_options': [], 'single_or_multiple_omr': ''}, 'multiple_value': False, 'validation': ''}]}"
   ]
  },
  {
   "cell_type": "code",
   "execution_count": 61,
   "id": "63815c3b",
   "metadata": {},
   "outputs": [
    {
     "data": {
      "text/plain": [
       "['annotation',\n",
       " 'attribute_list',\n",
       " 'attribute_name',\n",
       " 'attribute_type',\n",
       " 'order',\n",
       " 'value',\n",
       " 'mandatory',\n",
       " 'no_multiple_values',\n",
       " 'is_derived_attribute',\n",
       " 'most_accurate',\n",
       " 'is_intermediate_entity',\n",
       " 'accuracy',\n",
       " 'omr_res',\n",
       " 'is_tabular',\n",
       " 'dropdown_type',\n",
       " 'dropdown_values',\n",
       " 'omr_config',\n",
       " 'multiple_value',\n",
       " 'validation']"
      ]
     },
     "execution_count": 61,
     "metadata": {},
     "output_type": "execute_result"
    }
   ],
   "source": [
    "list(json['NER'][0].keys())"
   ]
  },
  {
   "cell_type": "code",
   "execution_count": null,
   "id": "26d25019",
   "metadata": {},
   "outputs": [],
   "source": []
  },
  {
   "cell_type": "code",
   "execution_count": null,
   "id": "cef16297",
   "metadata": {},
   "outputs": [],
   "source": []
  },
  {
   "cell_type": "code",
   "execution_count": null,
   "id": "51dd8492",
   "metadata": {},
   "outputs": [],
   "source": []
  },
  {
   "cell_type": "code",
   "execution_count": null,
   "id": "3ffd6661",
   "metadata": {},
   "outputs": [],
   "source": []
  },
  {
   "cell_type": "code",
   "execution_count": null,
   "id": "93e9b49c",
   "metadata": {},
   "outputs": [],
   "source": []
  },
  {
   "cell_type": "code",
   "execution_count": null,
   "id": "24c2bf73",
   "metadata": {},
   "outputs": [],
   "source": []
  },
  {
   "cell_type": "code",
   "execution_count": 52,
   "id": "bc98d553",
   "metadata": {},
   "outputs": [
    {
     "ename": "SyntaxError",
     "evalue": "invalid syntax (13594216.py, line 1)",
     "output_type": "error",
     "traceback": [
      "\u001b[0;36m  Input \u001b[0;32mIn [52]\u001b[0;36m\u001b[0m\n\u001b[0;31m    isinstance(json, dict):\u001b[0m\n\u001b[0m                           ^\u001b[0m\n\u001b[0;31mSyntaxError\u001b[0m\u001b[0;31m:\u001b[0m invalid syntax\n"
     ]
    }
   ],
   "source": [
    "isinstance(json, dict):\n",
    "    print(True)"
   ]
  },
  {
   "cell_type": "code",
   "execution_count": 54,
   "id": "77ba2a6b",
   "metadata": {},
   "outputs": [],
   "source": [
    "file_reader = [{'Data Period Granularity ': 'Weekly ', 'Delivery Frequency ': 'Monthly ', 'Categories ': 'Apparel POS Monthly ASSG Channel Only ', 'Unnamed: 3': 'nan'}, {'Data Period Granularity ': 'Weekly ', 'Delivery Frequency ': 'Monthly ', 'Categories ': 'Apparel Total Channel POS Monthly ', 'Unnamed: 3': 'nan'}, {'Data Period Granularity ': 'Weekly ', 'Delivery Frequency ': 'Monthly ', 'Categories ': 'Beauty POS Monthly ', 'Unnamed: 3': 'nan'}, {'Data Period Granularity ': 'Monthly ', 'Delivery Frequency ': 'Monthly ', 'Categories ': 'Cycling POS Monthly ', 'Unnamed: 3': 'nan'}, {'Data Period Granularity ': 'Weekly ', 'Delivery Frequency ': 'Monthly ', 'Categories ': 'Footwear POS Monthly ASSG Channel Only ', 'Unnamed: 3': 'nan'}, {'Data Period Granularity ': 'Weekly ', 'Delivery Frequency ': 'Monthly ', 'Categories ': 'Footwear POS Monthly Shoe Chain Channel Only ', 'Unnamed: 3': 'nan'}, {'Data Period Granularity ': 'Weekly ', 'Delivery Frequency ': 'Monthly ', 'Categories ': 'Footwear Total Channel POS Monthly ', 'Unnamed: 3': 'nan'}, {'Data Period Granularity ': 'Weekly ', 'Delivery Frequency ': 'Weekly ', 'Categories ': 'Footwear POS Weekly ', 'Unnamed: 3': 'nan'}, {'Data Period Granularity ': 'Weekly ', 'Delivery Frequency ': 'Monthly ', 'Categories ': 'Housewares POS Monthly ', 'Unnamed: 3': 'nan'}, {'Data Period Granularity ': 'Weekly ', 'Delivery Frequency ': 'Monthly ', 'Categories ': 'Juvenile Products POS Monthly ', 'Unnamed: 3': 'nan'}, {'Data Period Granularity ': 'Monthly ', 'Delivery Frequency ': 'Monthly ', 'Categories ': 'Office Supplies Commercial POS Monthly ', 'Unnamed: 3': 'nan'}, {'Data Period Granularity ': 'Weekly ', 'Delivery Frequency ': 'Monthly ', 'Categories ': 'Office Supplies Retail POS Monthly ', 'Unnamed: 3': 'nan'}, {'Data Period Granularity ': 'Weekly ', 'Delivery Frequency ': 'Weekly ', 'Categories ': 'Office Supplies Retail POS Weekly ', 'Unnamed: 3': 'nan'}, {'Data Period Granularity ': 'Weekly ', 'Delivery Frequency ': 'Monthly ', 'Categories ': 'Outdoor SportsEquipment Retail POS Monthly ', 'Unnamed: 3': 'nan'}, {'Data Period Granularity ': 'Monthly ', 'Delivery Frequency ': 'Monthly ', 'Categories ': 'Outdoor Sports Equipment Specialty POS Monthly ', 'Unnamed: 3': 'nan'}, {'Data Period Granularity ': 'Weekly ', 'Delivery Frequency ': 'Monthly ', 'Categories ': 'Small Appliances POS Monthly ', 'Unnamed: 3': 'nan'}, {'Data Period Granularity ': 'Weekly ', 'Delivery Frequency ': 'Weekly ', 'Categories ': 'Small Appliances POS Weekly ', 'Unnamed: 3': 'nan'}, {'Data Period Granularity ': 'Weekly ', 'Delivery Frequency ': 'Monthly ', 'Categories ': 'Team Sports Equipment POS Monthly ', 'Unnamed: 3': 'nan'}, {'Data Period Granularity ': 'Monthly ', 'Delivery Frequency ': 'Monthly ', 'Categories ': 'Technology Commercial Reseller POS Monthly ', 'Unnamed: 3': 'nan'}, {'Data Period Granularity ': 'Weekly ', 'Delivery Frequency ': 'Weekly ', 'Categories ': 'Technology Commercial Reseller POS Weekly ', 'Unnamed: 3': 'nan'}, {'Data Period Granularity ': 'Monthly ', 'Delivery Frequency ': 'Monthly ', 'Categories ': 'Technology Distributor POS Monthly ', 'Unnamed: 3': 'nan'}, {'Data Period Granularity ': 'Weekly ', 'Delivery Frequency ': 'Weekly ', 'Categories ': 'Technology Distributor POS Weekly ', 'Unnamed: 3': 'nan'}, {'Data Period Granularity ': 'Monthly ', 'Delivery Frequency ': 'Monthly ', 'Categories ': 'Technology Retail POS Monthly ', 'Unnamed: 3': 'nan'}, {'Data Period Granularity ': 'Weekly ', 'Delivery Frequency ': 'Weekly ', 'Categories ': 'Technology Retail POS Weekly ', 'Unnamed: 3': 'nan'}, {'Data Period Granularity ': 'Monthly ', 'Delivery Frequency ': 'Monthly ', 'Categories ': 'Technology Total Channel POS Monthly ', 'Unnamed: 3': 'nan'}, {'Data Period Granularity ': 'Weekly ', 'Delivery Frequency ': 'Monthly ', 'Categories ': 'Toys POS Monthly ', 'Unnamed: 3': 'nan'}]"
   ]
  },
  {
   "cell_type": "code",
   "execution_count": null,
   "id": "1388f3ef",
   "metadata": {},
   "outputs": [],
   "source": []
  },
  {
   "cell_type": "code",
   "execution_count": 55,
   "id": "42dc60a8",
   "metadata": {},
   "outputs": [
    {
     "ename": "NameError",
     "evalue": "name 'step_4_data' is not defined",
     "output_type": "error",
     "traceback": [
      "\u001b[0;31m---------------------------------------------------------------------------\u001b[0m",
      "\u001b[0;31mNameError\u001b[0m                                 Traceback (most recent call last)",
      "Input \u001b[0;32mIn [55]\u001b[0m, in \u001b[0;36m<module>\u001b[0;34m\u001b[0m\n\u001b[1;32m      1\u001b[0m step_3_list \u001b[38;5;241m=\u001b[39m [\u001b[38;5;124m'\u001b[39m\u001b[38;5;124mData Period Granularity \u001b[39m\u001b[38;5;124m'\u001b[39m, \u001b[38;5;124m'\u001b[39m\u001b[38;5;124mDelivery Frequency \u001b[39m\u001b[38;5;124m'\u001b[39m, \u001b[38;5;124m'\u001b[39m\u001b[38;5;124mCategories \u001b[39m\u001b[38;5;124m'\u001b[39m]\n\u001b[0;32m----> 2\u001b[0m \u001b[38;5;28;43many\u001b[39;49m\u001b[43m(\u001b[49m\u001b[43mitem\u001b[49m\u001b[43m \u001b[49m\u001b[38;5;129;43;01min\u001b[39;49;00m\u001b[43m \u001b[49m\u001b[43mstep_4_data\u001b[49m\u001b[43m \u001b[49m\u001b[38;5;28;43;01mfor\u001b[39;49;00m\u001b[43m \u001b[49m\u001b[43mitem\u001b[49m\u001b[43m \u001b[49m\u001b[38;5;129;43;01min\u001b[39;49;00m\u001b[43m \u001b[49m\u001b[38;5;28;43mlist\u001b[39;49m\u001b[43m(\u001b[49m\u001b[43mfile_reader\u001b[49m\u001b[43m[\u001b[49m\u001b[38;5;241;43m0\u001b[39;49m\u001b[43m]\u001b[49m\u001b[38;5;241;43m.\u001b[39;49m\u001b[43mkeys\u001b[49m\u001b[43m(\u001b[49m\u001b[43m)\u001b[49m\u001b[43m)\u001b[49m\u001b[43m)\u001b[49m\n",
      "Input \u001b[0;32mIn [55]\u001b[0m, in \u001b[0;36m<genexpr>\u001b[0;34m(.0)\u001b[0m\n\u001b[1;32m      1\u001b[0m step_3_list \u001b[38;5;241m=\u001b[39m [\u001b[38;5;124m'\u001b[39m\u001b[38;5;124mData Period Granularity \u001b[39m\u001b[38;5;124m'\u001b[39m, \u001b[38;5;124m'\u001b[39m\u001b[38;5;124mDelivery Frequency \u001b[39m\u001b[38;5;124m'\u001b[39m, \u001b[38;5;124m'\u001b[39m\u001b[38;5;124mCategories \u001b[39m\u001b[38;5;124m'\u001b[39m]\n\u001b[0;32m----> 2\u001b[0m \u001b[38;5;28many\u001b[39m(item \u001b[38;5;129;01min\u001b[39;00m \u001b[43mstep_4_data\u001b[49m \u001b[38;5;28;01mfor\u001b[39;00m item \u001b[38;5;129;01min\u001b[39;00m \u001b[38;5;28mlist\u001b[39m(file_reader[\u001b[38;5;241m0\u001b[39m]\u001b[38;5;241m.\u001b[39mkeys()))\n",
      "\u001b[0;31mNameError\u001b[0m: name 'step_4_data' is not defined"
     ]
    }
   ],
   "source": [
    "step_3_list = ['Data Period Granularity ', 'Delivery Frequency ', 'Categories ']\n",
    "any(item in step_4_data for item in list(file_reader[0].keys()))"
   ]
  },
  {
   "cell_type": "code",
   "execution_count": null,
   "id": "4f563be0",
   "metadata": {},
   "outputs": [],
   "source": []
  },
  {
   "cell_type": "code",
   "execution_count": null,
   "id": "9bbb95b3",
   "metadata": {},
   "outputs": [],
   "source": []
  },
  {
   "cell_type": "code",
   "execution_count": null,
   "id": "57f02852",
   "metadata": {},
   "outputs": [],
   "source": []
  },
  {
   "cell_type": "code",
   "execution_count": null,
   "id": "08c7734d",
   "metadata": {},
   "outputs": [],
   "source": []
  },
  {
   "cell_type": "code",
   "execution_count": null,
   "id": "60a75771",
   "metadata": {},
   "outputs": [],
   "source": []
  },
  {
   "cell_type": "code",
   "execution_count": null,
   "id": "e3d8cc61",
   "metadata": {},
   "outputs": [],
   "source": []
  },
  {
   "cell_type": "code",
   "execution_count": 1,
   "id": "03c3b22f",
   "metadata": {},
   "outputs": [],
   "source": [
    "data =[{\"Amount: \": {\"$ 193,500 \": \"$ 287,500 \"}, \"Data Periods: \": {\"Trend Data \": \"02/20 - 04/20 \"}, \"Invoice Schedule: \": {\"Upon execution \": \"Feb 2020 \"}, \"Billing Contact: \": {\"Rebecca Basloe \": \"nan\"}, \"Unnamed: 4\": \"nan\"}, {\"Amount: \": {\"$ 193,500 \": \"$ 325,000 \"}, \"Data Periods: \": {\"Trend Data \": \"05/20 - 07/20 \"}, \"Invoice Schedule: \": {\"Upon execution \": \"May 2020 \"}, \"Billing Contact: \": {\"Rebecca Basloe \": \"nan\"}, \"Unnamed: 4\": \"nan\"}, {\"Amount: \": {\"$ 193,500 \": \"$ 325,000 \"}, \"Data Periods: \": {\"Trend Data \": \"08/20 - 10/20 \"}, \"Invoice Schedule: \": {\"Upon execution \": \"Aug 2020 \"}, \"Billing Contact: \": {\"Rebecca Basloe \": \"nan\"}, \"Unnamed: 4\": \"nan\"}, {\"Amount: \": {\"$ 193,500 \": \"$ 325,000 \"}, \"Data Periods: \": {\"Trend Data \": \"11/20 - 01/21 \"}, \"Invoice Schedule: \": {\"Upon execution \": \"Nov 2020 \"}, \"Billing Contact: \": {\"Rebecca Basloe \": \"nan\"}, \"Unnamed: 4\": \"nan\"}, {\"Amount: \": {\"$ 193,500 \": \"$ 325,000 \"}, \"Data Periods: \": {\"Trend Data \": \"02/21 - 04/21 \"}, \"Invoice Schedule: \": {\"Upon execution \": \"Feb 2021 \"}, \"Billing Contact: \": {\"Rebecca Basloe \": \"nan\"}, \"Unnamed: 4\": \"nan\"}]"
   ]
  },
  {
   "cell_type": "code",
   "execution_count": 20,
   "id": "6ed8cd28",
   "metadata": {},
   "outputs": [
    {
     "data": {
      "text/plain": [
       "False"
      ]
     },
     "execution_count": 20,
     "metadata": {},
     "output_type": "execute_result"
    }
   ],
   "source": [
    "\"Amount:\" in list(data[0].keys())"
   ]
  },
  {
   "cell_type": "code",
   "execution_count": 27,
   "id": "6a537887",
   "metadata": {},
   "outputs": [
    {
     "data": {
      "text/plain": [
       "'Amount: '"
      ]
     },
     "execution_count": 27,
     "metadata": {},
     "output_type": "execute_result"
    }
   ],
   "source": [
    "list(data[0].keys())[0]"
   ]
  },
  {
   "cell_type": "code",
   "execution_count": 51,
   "id": "52e18eb5",
   "metadata": {},
   "outputs": [
    {
     "data": {
      "text/plain": [
       "list"
      ]
     },
     "execution_count": 51,
     "metadata": {},
     "output_type": "execute_result"
    }
   ],
   "source": [
    "type(data)"
   ]
  },
  {
   "cell_type": "code",
   "execution_count": null,
   "id": "f1d42c46",
   "metadata": {},
   "outputs": [],
   "source": []
  },
  {
   "cell_type": "code",
   "execution_count": 32,
   "id": "733f0e0f",
   "metadata": {},
   "outputs": [
    {
     "data": {
      "text/plain": [
       "True"
      ]
     },
     "execution_count": 32,
     "metadata": {},
     "output_type": "execute_result"
    }
   ],
   "source": [
    "'Amount: ' in list(data[0].keys())[0]"
   ]
  },
  {
   "cell_type": "code",
   "execution_count": 46,
   "id": "c4ab81c0",
   "metadata": {},
   "outputs": [
    {
     "data": {
      "text/plain": [
       "['Amount: ',\n",
       " 'Data Periods: ',\n",
       " 'Invoice Schedule: ',\n",
       " 'Billing Contact: ',\n",
       " 'Unnamed: 4']"
      ]
     },
     "execution_count": 46,
     "metadata": {},
     "output_type": "execute_result"
    }
   ],
   "source": [
    "list(data[0].keys())"
   ]
  },
  {
   "cell_type": "code",
   "execution_count": null,
   "id": "7fc50b8c",
   "metadata": {},
   "outputs": [],
   "source": []
  },
  {
   "cell_type": "code",
   "execution_count": 45,
   "id": "f1db7c0b",
   "metadata": {},
   "outputs": [
    {
     "data": {
      "text/plain": [
       "True"
      ]
     },
     "execution_count": 45,
     "metadata": {},
     "output_type": "execute_result"
    }
   ],
   "source": [
    "test_list = [1, 6, 3, 5, 3, 4]\n",
    " \n",
    "any(item in test_list for item in test_list)"
   ]
  },
  {
   "cell_type": "code",
   "execution_count": 47,
   "id": "eccddfef",
   "metadata": {},
   "outputs": [
    {
     "data": {
      "text/plain": [
       "True"
      ]
     },
     "execution_count": 47,
     "metadata": {},
     "output_type": "execute_result"
    }
   ],
   "source": [
    "li = ['Amount:', 'Data periods:', 'Invoice Schedule: ', 'Billing Contact: ']\n",
    "any(item in li for item in list(data[0].keys()))"
   ]
  },
  {
   "cell_type": "code",
   "execution_count": null,
   "id": "131037a9",
   "metadata": {},
   "outputs": [],
   "source": []
  },
  {
   "cell_type": "code",
   "execution_count": null,
   "id": "2d4f8921",
   "metadata": {},
   "outputs": [],
   "source": []
  },
  {
   "cell_type": "code",
   "execution_count": null,
   "id": "95b579e5",
   "metadata": {},
   "outputs": [],
   "source": []
  },
  {
   "cell_type": "code",
   "execution_count": null,
   "id": "3ad1786d",
   "metadata": {},
   "outputs": [],
   "source": []
  },
  {
   "cell_type": "code",
   "execution_count": null,
   "id": "c74f4854",
   "metadata": {},
   "outputs": [],
   "source": []
  },
  {
   "cell_type": "code",
   "execution_count": null,
   "id": "4008bbb3",
   "metadata": {},
   "outputs": [],
   "source": []
  },
  {
   "cell_type": "code",
   "execution_count": null,
   "id": "d54c124a",
   "metadata": {},
   "outputs": [],
   "source": []
  },
  {
   "cell_type": "code",
   "execution_count": 33,
   "id": "cb55dd83",
   "metadata": {},
   "outputs": [
    {
     "data": {
      "text/plain": [
       "True"
      ]
     },
     "execution_count": 33,
     "metadata": {},
     "output_type": "execute_result"
    }
   ],
   "source": [
    "'Amount: ' in ['Amount: ',\n",
    " 'Data Periods: ',\n",
    " 'Invoice Schedule: ',\n",
    " 'Billing Contact: ',\n",
    " 'Unnamed: 4']"
   ]
  },
  {
   "cell_type": "code",
   "execution_count": null,
   "id": "901fc449",
   "metadata": {},
   "outputs": [],
   "source": []
  },
  {
   "cell_type": "code",
   "execution_count": null,
   "id": "4671b78d",
   "metadata": {},
   "outputs": [],
   "source": []
  },
  {
   "cell_type": "code",
   "execution_count": null,
   "id": "8c909ec9",
   "metadata": {},
   "outputs": [],
   "source": []
  },
  {
   "cell_type": "code",
   "execution_count": null,
   "id": "21e6efbc",
   "metadata": {},
   "outputs": [],
   "source": []
  },
  {
   "cell_type": "code",
   "execution_count": null,
   "id": "780be4fa",
   "metadata": {},
   "outputs": [],
   "source": []
  },
  {
   "cell_type": "code",
   "execution_count": null,
   "id": "858db4a5",
   "metadata": {},
   "outputs": [],
   "source": []
  },
  {
   "cell_type": "code",
   "execution_count": 21,
   "id": "e6f767f8",
   "metadata": {},
   "outputs": [
    {
     "data": {
      "text/plain": [
       "['Amount:', 'Data periods:']"
      ]
     },
     "execution_count": 21,
     "metadata": {},
     "output_type": "execute_result"
    }
   ],
   "source": [
    "li"
   ]
  },
  {
   "cell_type": "code",
   "execution_count": null,
   "id": "1aaeadc7",
   "metadata": {},
   "outputs": [],
   "source": []
  },
  {
   "cell_type": "code",
   "execution_count": 40,
   "id": "ff0d1949",
   "metadata": {},
   "outputs": [
    {
     "name": "stdout",
     "output_type": "stream",
     "text": [
      "False\n"
     ]
    }
   ],
   "source": [
    "li = 'Amount: ', 'Data Periods: '\n",
    "if li in list(data[0].keys()):\n",
    "    print(True)\n",
    "else:\n",
    "    print(False)"
   ]
  },
  {
   "cell_type": "code",
   "execution_count": null,
   "id": "78ba36cc",
   "metadata": {},
   "outputs": [],
   "source": []
  },
  {
   "cell_type": "code",
   "execution_count": null,
   "id": "77447d37",
   "metadata": {},
   "outputs": [],
   "source": []
  },
  {
   "cell_type": "code",
   "execution_count": null,
   "id": "8f1eb08e",
   "metadata": {},
   "outputs": [],
   "source": []
  },
  {
   "cell_type": "code",
   "execution_count": null,
   "id": "8ec2cb29",
   "metadata": {},
   "outputs": [],
   "source": []
  },
  {
   "cell_type": "code",
   "execution_count": null,
   "id": "5e24801e",
   "metadata": {},
   "outputs": [],
   "source": []
  },
  {
   "cell_type": "code",
   "execution_count": null,
   "id": "1e932127",
   "metadata": {},
   "outputs": [],
   "source": []
  },
  {
   "cell_type": "code",
   "execution_count": null,
   "id": "067c5d63",
   "metadata": {},
   "outputs": [],
   "source": []
  },
  {
   "cell_type": "code",
   "execution_count": null,
   "id": "29a83253",
   "metadata": {},
   "outputs": [],
   "source": []
  },
  {
   "cell_type": "code",
   "execution_count": null,
   "id": "eadc8807",
   "metadata": {},
   "outputs": [],
   "source": []
  },
  {
   "cell_type": "code",
   "execution_count": null,
   "id": "050dc5eb",
   "metadata": {},
   "outputs": [],
   "source": []
  },
  {
   "cell_type": "code",
   "execution_count": null,
   "id": "0895365e",
   "metadata": {},
   "outputs": [],
   "source": []
  },
  {
   "cell_type": "code",
   "execution_count": null,
   "id": "a6a57366",
   "metadata": {},
   "outputs": [],
   "source": []
  },
  {
   "cell_type": "code",
   "execution_count": null,
   "id": "233c2f08",
   "metadata": {},
   "outputs": [],
   "source": []
  },
  {
   "cell_type": "code",
   "execution_count": null,
   "id": "794b42df",
   "metadata": {},
   "outputs": [],
   "source": []
  },
  {
   "cell_type": "code",
   "execution_count": null,
   "id": "7fddd347",
   "metadata": {},
   "outputs": [],
   "source": []
  },
  {
   "cell_type": "code",
   "execution_count": null,
   "id": "2c6b8e6c",
   "metadata": {},
   "outputs": [],
   "source": []
  },
  {
   "cell_type": "code",
   "execution_count": null,
   "id": "2859833d",
   "metadata": {},
   "outputs": [],
   "source": []
  },
  {
   "cell_type": "code",
   "execution_count": null,
   "id": "973245ce",
   "metadata": {},
   "outputs": [],
   "source": []
  },
  {
   "cell_type": "code",
   "execution_count": null,
   "id": "9664b198",
   "metadata": {},
   "outputs": [],
   "source": []
  },
  {
   "cell_type": "code",
   "execution_count": null,
   "id": "fe859c0d",
   "metadata": {},
   "outputs": [],
   "source": []
  },
  {
   "cell_type": "code",
   "execution_count": null,
   "id": "e1cb82d5",
   "metadata": {},
   "outputs": [],
   "source": []
  },
  {
   "cell_type": "code",
   "execution_count": null,
   "id": "7ca9f223",
   "metadata": {},
   "outputs": [],
   "source": []
  },
  {
   "cell_type": "code",
   "execution_count": null,
   "id": "2177eacf",
   "metadata": {},
   "outputs": [],
   "source": []
  },
  {
   "cell_type": "code",
   "execution_count": null,
   "id": "3a87e4fb",
   "metadata": {},
   "outputs": [],
   "source": []
  },
  {
   "cell_type": "code",
   "execution_count": null,
   "id": "616928af",
   "metadata": {},
   "outputs": [],
   "source": []
  },
  {
   "cell_type": "code",
   "execution_count": null,
   "id": "b9f71083",
   "metadata": {},
   "outputs": [],
   "source": []
  },
  {
   "cell_type": "code",
   "execution_count": null,
   "id": "8e34deac",
   "metadata": {},
   "outputs": [],
   "source": []
  },
  {
   "cell_type": "code",
   "execution_count": null,
   "id": "a175dc91",
   "metadata": {},
   "outputs": [],
   "source": []
  },
  {
   "cell_type": "code",
   "execution_count": null,
   "id": "985eda0c",
   "metadata": {},
   "outputs": [],
   "source": []
  },
  {
   "cell_type": "code",
   "execution_count": null,
   "id": "5b64156b",
   "metadata": {},
   "outputs": [],
   "source": []
  },
  {
   "cell_type": "code",
   "execution_count": null,
   "id": "3bbe650e",
   "metadata": {},
   "outputs": [],
   "source": []
  },
  {
   "cell_type": "code",
   "execution_count": null,
   "id": "af65adbc",
   "metadata": {},
   "outputs": [],
   "source": []
  },
  {
   "cell_type": "code",
   "execution_count": null,
   "id": "cd58dc7b",
   "metadata": {},
   "outputs": [],
   "source": []
  },
  {
   "cell_type": "code",
   "execution_count": null,
   "id": "5faf2f7f",
   "metadata": {},
   "outputs": [],
   "source": []
  },
  {
   "cell_type": "code",
   "execution_count": null,
   "id": "9fcd5fff",
   "metadata": {},
   "outputs": [],
   "source": []
  },
  {
   "cell_type": "code",
   "execution_count": null,
   "id": "8c74b823",
   "metadata": {},
   "outputs": [],
   "source": []
  },
  {
   "cell_type": "code",
   "execution_count": null,
   "id": "0f1c364f",
   "metadata": {},
   "outputs": [],
   "source": []
  },
  {
   "cell_type": "code",
   "execution_count": null,
   "id": "6f8cfda8",
   "metadata": {},
   "outputs": [],
   "source": []
  },
  {
   "cell_type": "code",
   "execution_count": null,
   "id": "7ea5115d",
   "metadata": {},
   "outputs": [],
   "source": []
  },
  {
   "cell_type": "code",
   "execution_count": null,
   "id": "c5e8b724",
   "metadata": {},
   "outputs": [],
   "source": []
  },
  {
   "cell_type": "code",
   "execution_count": null,
   "id": "fdcaba9e",
   "metadata": {},
   "outputs": [],
   "source": []
  }
 ],
 "metadata": {
  "kernelspec": {
   "display_name": "Python 3 (ipykernel)",
   "language": "python",
   "name": "python3"
  },
  "language_info": {
   "codemirror_mode": {
    "name": "ipython",
    "version": 3
   },
   "file_extension": ".py",
   "mimetype": "text/x-python",
   "name": "python",
   "nbconvert_exporter": "python",
   "pygments_lexer": "ipython3",
   "version": "3.8.10"
  }
 },
 "nbformat": 4,
 "nbformat_minor": 5
}

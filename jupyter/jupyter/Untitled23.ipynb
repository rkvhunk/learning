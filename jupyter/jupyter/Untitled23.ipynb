{
 "cells": [
  {
   "cell_type": "code",
   "execution_count": null,
   "id": "ea8fc1c0",
   "metadata": {},
   "outputs": [],
   "source": [
    "1. Create a custom middleware to log each request with id of user and request id.\n",
    "\n",
    "2. Write a program to take roman string as an input and convert it into it’s integer equivalent.\n",
    "For eg: Input: “XII”\n",
    "Output: 12\n",
    "Symbol       Value\n",
    "I             1\n",
    "V             5\n",
    "X             10\n",
    "L             50\n",
    "C             100\n",
    "D             500\n",
    "M             1000\n",
    "\n",
    "3. Use “boto3” package in python to create an ec2 instance on default VPC. Use of official documentation of boto3 is permitted."
   ]
  },
  {
   "cell_type": "code",
   "execution_count": 20,
   "id": "7e87ceb0",
   "metadata": {},
   "outputs": [
    {
     "name": "stdout",
     "output_type": "stream",
     "text": [
      "L 50\n"
     ]
    }
   ],
   "source": [
    "def conversion(num):\n",
    "    I,V,X,L,C,D,M=1,5,10,50,100,500,1000\n",
    "    dic = {'I':1,'V':5,'X':10,'L':50,'C':100,'D':500,'M':1000}\n",
    "    if num>0:\n",
    "        for k,v in dic.items():\n",
    "            if num<v:\n",
    "                last_key, last_val = k,v\n",
    "                break\n",
    "        print(last_key, last_val)\n",
    "        for k,v in dic.items():\n",
    "            if k == last_key:\n",
    "                return\n",
    "            elif dic[k] > num and dic[:\n",
    "                \n",
    "conversion(35)"
   ]
  },
  {
   "cell_type": "code",
   "execution_count": null,
   "id": "a49f3f18",
   "metadata": {},
   "outputs": [],
   "source": []
  },
  {
   "cell_type": "code",
   "execution_count": 17,
   "id": "d94bc1db",
   "metadata": {},
   "outputs": [
    {
     "name": "stdout",
     "output_type": "stream",
     "text": [
      "1\n",
      "2\n",
      "3\n",
      "{1: {'a': {'A'}}, 2: {'b': {'B'}, 'c': {'C'}}, 3: {'d': {'D'}}}\n"
     ]
    }
   ],
   "source": [
    "dict1 = {1:{\"a\":{'A'}}, 2:{\"b\":{'B'}}}\n",
    "dict2 = {2:{\"c\":{'C'}}, 3:{\"d\":{'D'}}}\n",
    "dict3 = {}\n",
    "#    >>>>>>>>>>a = set(list(dict1.keys()) + list(dict2.keys())) \n",
    "for item in set(list(dict1.keys()) + list(dict2.keys())):\n",
    "    print(item)\n",
    "    value = {}\n",
    "    if item in dict1.keys():\n",
    "        value = dict1[item]\n",
    "    if item in dict2.keys():\n",
    "        value.update(dict2[item])\n",
    "    dict3.update({item: value})\n",
    "print(dict3)"
   ]
  },
  {
   "cell_type": "code",
   "execution_count": null,
   "id": "c0431480",
   "metadata": {},
   "outputs": [],
   "source": []
  },
  {
   "cell_type": "code",
   "execution_count": 16,
   "id": "3ea0fb84",
   "metadata": {},
   "outputs": [
    {
     "name": "stdout",
     "output_type": "stream",
     "text": [
      "{1: {'a': {'A'}}, 2: {'c': {'C'}, 'b': {'B'}}, 3: {'d': {'D'}}}\n"
     ]
    }
   ],
   "source": [
    "dict1 = {2:{\"c\":{'C'}}, 3:{\"d\":{'D'}}}\n",
    "dict2 = {1:{\"a\":{'A'}}, 2:{\"b\":{'B'}}}\n",
    "def get_result(dict1, dict2):\n",
    "    dict3 = {}\n",
    "    for item in set(list(dict1.keys()) + list(dict2.keys())):\n",
    "        value = {}\n",
    "        if item in dict1.keys():\n",
    "            value = dict1[item]\n",
    "        if item in dict2.keys():\n",
    "            value.update(dict2[item])\n",
    "        dict3.update({item: value})\n",
    "    return dict3\n",
    "print(get_result(dict1, dict2))"
   ]
  },
  {
   "cell_type": "code",
   "execution_count": null,
   "id": "2c8d9650",
   "metadata": {},
   "outputs": [],
   "source": []
  },
  {
   "cell_type": "code",
   "execution_count": null,
   "id": "a687e272",
   "metadata": {},
   "outputs": [],
   "source": []
  },
  {
   "cell_type": "code",
   "execution_count": null,
   "id": "af932135",
   "metadata": {},
   "outputs": [],
   "source": []
  },
  {
   "cell_type": "code",
   "execution_count": null,
   "id": "1fdfd385",
   "metadata": {},
   "outputs": [],
   "source": []
  },
  {
   "cell_type": "code",
   "execution_count": null,
   "id": "bb8880b4",
   "metadata": {},
   "outputs": [],
   "source": []
  },
  {
   "cell_type": "code",
   "execution_count": null,
   "id": "964ed4e2",
   "metadata": {},
   "outputs": [],
   "source": []
  },
  {
   "cell_type": "code",
   "execution_count": null,
   "id": "b08f03cf",
   "metadata": {},
   "outputs": [],
   "source": []
  },
  {
   "cell_type": "code",
   "execution_count": null,
   "id": "bf1a613b",
   "metadata": {},
   "outputs": [],
   "source": []
  },
  {
   "cell_type": "code",
   "execution_count": null,
   "id": "f5d648b4",
   "metadata": {},
   "outputs": [],
   "source": []
  },
  {
   "cell_type": "code",
   "execution_count": null,
   "id": "c382b770",
   "metadata": {},
   "outputs": [],
   "source": []
  },
  {
   "cell_type": "code",
   "execution_count": null,
   "id": "53499da9",
   "metadata": {},
   "outputs": [],
   "source": []
  },
  {
   "cell_type": "code",
   "execution_count": null,
   "id": "d0a9c69a",
   "metadata": {},
   "outputs": [],
   "source": []
  },
  {
   "cell_type": "code",
   "execution_count": null,
   "id": "a103c1cf",
   "metadata": {},
   "outputs": [],
   "source": []
  },
  {
   "cell_type": "code",
   "execution_count": null,
   "id": "afeb94ae",
   "metadata": {},
   "outputs": [],
   "source": []
  },
  {
   "cell_type": "code",
   "execution_count": null,
   "id": "6eb56797",
   "metadata": {},
   "outputs": [],
   "source": []
  },
  {
   "cell_type": "code",
   "execution_count": null,
   "id": "83879ffb",
   "metadata": {},
   "outputs": [],
   "source": []
  },
  {
   "cell_type": "code",
   "execution_count": null,
   "id": "fde6ab2d",
   "metadata": {},
   "outputs": [],
   "source": []
  },
  {
   "cell_type": "code",
   "execution_count": null,
   "id": "9b533c34",
   "metadata": {},
   "outputs": [],
   "source": []
  },
  {
   "cell_type": "code",
   "execution_count": null,
   "id": "aea6ae4a",
   "metadata": {},
   "outputs": [],
   "source": []
  },
  {
   "cell_type": "code",
   "execution_count": null,
   "id": "fef20258",
   "metadata": {},
   "outputs": [],
   "source": []
  },
  {
   "cell_type": "code",
   "execution_count": null,
   "id": "19aa4f62",
   "metadata": {},
   "outputs": [],
   "source": []
  },
  {
   "cell_type": "code",
   "execution_count": null,
   "id": "daf7564a",
   "metadata": {},
   "outputs": [],
   "source": []
  },
  {
   "cell_type": "code",
   "execution_count": null,
   "id": "fb664e65",
   "metadata": {},
   "outputs": [],
   "source": []
  },
  {
   "cell_type": "code",
   "execution_count": null,
   "id": "4f6dd059",
   "metadata": {},
   "outputs": [],
   "source": []
  },
  {
   "cell_type": "code",
   "execution_count": null,
   "id": "eae15fee",
   "metadata": {},
   "outputs": [],
   "source": []
  },
  {
   "cell_type": "code",
   "execution_count": null,
   "id": "855bd4cb",
   "metadata": {},
   "outputs": [],
   "source": []
  },
  {
   "cell_type": "code",
   "execution_count": null,
   "id": "c2111148",
   "metadata": {},
   "outputs": [],
   "source": []
  },
  {
   "cell_type": "code",
   "execution_count": null,
   "id": "2c7a6a47",
   "metadata": {},
   "outputs": [],
   "source": []
  },
  {
   "cell_type": "code",
   "execution_count": null,
   "id": "2d1d926e",
   "metadata": {},
   "outputs": [],
   "source": []
  },
  {
   "cell_type": "code",
   "execution_count": null,
   "id": "63cd80b0",
   "metadata": {},
   "outputs": [],
   "source": []
  },
  {
   "cell_type": "code",
   "execution_count": null,
   "id": "7f2f3c37",
   "metadata": {},
   "outputs": [],
   "source": []
  },
  {
   "cell_type": "code",
   "execution_count": null,
   "id": "5ae38836",
   "metadata": {},
   "outputs": [],
   "source": []
  }
 ],
 "metadata": {
  "kernelspec": {
   "display_name": "Python 3 (ipykernel)",
   "language": "python",
   "name": "python3"
  },
  "language_info": {
   "codemirror_mode": {
    "name": "ipython",
    "version": 3
   },
   "file_extension": ".py",
   "mimetype": "text/x-python",
   "name": "python",
   "nbconvert_exporter": "python",
   "pygments_lexer": "ipython3",
   "version": "3.8.10"
  }
 },
 "nbformat": 4,
 "nbformat_minor": 5
}

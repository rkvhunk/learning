{
 "cells": [
  {
   "cell_type": "code",
   "execution_count": null,
   "id": "6baaae35",
   "metadata": {},
   "outputs": [],
   "source": [
    "# Python Program to Print Hello world!"
   ]
  },
  {
   "cell_type": "code",
   "execution_count": 1,
   "id": "8fb903ae",
   "metadata": {},
   "outputs": [
    {
     "name": "stdout",
     "output_type": "stream",
     "text": [
      "HELLO WORLD !!!\n"
     ]
    }
   ],
   "source": [
    "print(\"HELLO WORLD !!!\")"
   ]
  },
  {
   "cell_type": "code",
   "execution_count": null,
   "id": "baf7a494",
   "metadata": {},
   "outputs": [],
   "source": [
    "#-----------------------------------------------------------------------------------------------------------------"
   ]
  },
  {
   "cell_type": "code",
   "execution_count": null,
   "id": "1e0031db",
   "metadata": {},
   "outputs": [],
   "source": []
  }
 ],
 "metadata": {
  "kernelspec": {
   "display_name": "Python 3 (ipykernel)",
   "language": "python",
   "name": "python3"
  },
  "language_info": {
   "codemirror_mode": {
    "name": "ipython",
    "version": 3
   },
   "file_extension": ".py",
   "mimetype": "text/x-python",
   "name": "python",
   "nbconvert_exporter": "python",
   "pygments_lexer": "ipython3",
   "version": "3.8.10"
  }
 },
 "nbformat": 4,
 "nbformat_minor": 5
}

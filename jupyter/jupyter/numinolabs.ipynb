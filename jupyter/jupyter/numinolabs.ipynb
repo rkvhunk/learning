{
 "cells": [
  {
   "cell_type": "code",
   "execution_count": 15,
   "id": "3bd957f8",
   "metadata": {},
   "outputs": [
    {
     "name": "stdout",
     "output_type": "stream",
     "text": [
      "list1 = [10]\n",
      "list2 = [1, 5, 123]\n",
      "list3 = ['a']\n"
     ]
    }
   ],
   "source": [
    "# @dec\n",
    "def extendList(val, list=[]):\n",
    "    if not list:\n",
    "        list = []\n",
    "    list.append(val)\n",
    "    return list\n",
    "\n",
    "\n",
    "list1 = extendList(10)\n",
    "list2 = extendList(123,[1,5])\n",
    "list3 = extendList('a')\n",
    "\n",
    "\n",
    "print (\"list1 = %s\" % list1)\n",
    "print (\"list2 = %s\" % list2)\n",
    "print (\"list3 = %s\" % list3)"
   ]
  },
  {
   "cell_type": "code",
   "execution_count": null,
   "id": "5b1a853a",
   "metadata": {},
   "outputs": [],
   "source": []
  },
  {
   "cell_type": "code",
   "execution_count": null,
   "id": "4e7f05ec",
   "metadata": {},
   "outputs": [],
   "source": []
  },
  {
   "cell_type": "code",
   "execution_count": 13,
   "id": "c36e8572",
   "metadata": {},
   "outputs": [],
   "source": [
    "def dec(fun):\n",
    "    def inner():\n",
    "        print(\"inside ---------\")\n",
    "        fun()\n",
    "    return inner"
   ]
  },
  {
   "cell_type": "code",
   "execution_count": null,
   "id": "28203273",
   "metadata": {},
   "outputs": [],
   "source": []
  },
  {
   "cell_type": "code",
   "execution_count": 16,
   "id": "2f4d410f",
   "metadata": {},
   "outputs": [
    {
     "ename": "NameError",
     "evalue": "name 'descriptor' is not defined",
     "output_type": "error",
     "traceback": [
      "\u001b[0;31m---------------------------------------------------------------------------\u001b[0m",
      "\u001b[0;31mNameError\u001b[0m                                 Traceback (most recent call last)",
      "Input \u001b[0;32mIn [16]\u001b[0m, in \u001b[0;36m<module>\u001b[0;34m\u001b[0m\n\u001b[0;32m----> 1\u001b[0m \u001b[43mdescriptor\u001b[49m\n",
      "\u001b[0;31mNameError\u001b[0m: name 'descriptor' is not defined"
     ]
    }
   ],
   "source": [
    "descriptor"
   ]
  },
  {
   "cell_type": "code",
   "execution_count": 17,
   "id": "52245aab",
   "metadata": {},
   "outputs": [
    {
     "data": {
      "text/plain": [
       "7"
      ]
     },
     "execution_count": 17,
     "metadata": {},
     "output_type": "execute_result"
    }
   ],
   "source": [
    "(lambda x:x+2)(5)"
   ]
  },
  {
   "cell_type": "code",
   "execution_count": 18,
   "id": "3b60e208",
   "metadata": {},
   "outputs": [
    {
     "name": "stdout",
     "output_type": "stream",
     "text": [
      "[6, 6, 6, 6]\n"
     ]
    }
   ],
   "source": [
    "def multipliers():\n",
    "  return [lambda x : i * x for i in range(4)]\n",
    "    \n",
    "print ([m(2) for m in multipliers()])"
   ]
  },
  {
   "cell_type": "code",
   "execution_count": null,
   "id": "a95d9340",
   "metadata": {},
   "outputs": [],
   "source": []
  },
  {
   "cell_type": "code",
   "execution_count": null,
   "id": "4ddd8410",
   "metadata": {},
   "outputs": [],
   "source": []
  },
  {
   "cell_type": "code",
   "execution_count": null,
   "id": "948a5278",
   "metadata": {},
   "outputs": [],
   "source": []
  },
  {
   "cell_type": "code",
   "execution_count": null,
   "id": "b64d839a",
   "metadata": {},
   "outputs": [],
   "source": []
  },
  {
   "cell_type": "code",
   "execution_count": null,
   "id": "49ce37c8",
   "metadata": {},
   "outputs": [],
   "source": []
  },
  {
   "cell_type": "code",
   "execution_count": null,
   "id": "dac5c4c0",
   "metadata": {},
   "outputs": [],
   "source": []
  },
  {
   "cell_type": "code",
   "execution_count": null,
   "id": "0d7f03c9",
   "metadata": {},
   "outputs": [],
   "source": []
  },
  {
   "cell_type": "code",
   "execution_count": null,
   "id": "3ae7c6a6",
   "metadata": {},
   "outputs": [],
   "source": []
  },
  {
   "cell_type": "code",
   "execution_count": null,
   "id": "706bcf8f",
   "metadata": {},
   "outputs": [],
   "source": []
  },
  {
   "cell_type": "code",
   "execution_count": null,
   "id": "0b5ec96b",
   "metadata": {},
   "outputs": [],
   "source": []
  },
  {
   "cell_type": "code",
   "execution_count": null,
   "id": "e455f2fc",
   "metadata": {},
   "outputs": [],
   "source": []
  }
 ],
 "metadata": {
  "kernelspec": {
   "display_name": "Python 3 (ipykernel)",
   "language": "python",
   "name": "python3"
  },
  "language_info": {
   "codemirror_mode": {
    "name": "ipython",
    "version": 3
   },
   "file_extension": ".py",
   "mimetype": "text/x-python",
   "name": "python",
   "nbconvert_exporter": "python",
   "pygments_lexer": "ipython3",
   "version": "3.8.10"
  }
 },
 "nbformat": 4,
 "nbformat_minor": 5
}

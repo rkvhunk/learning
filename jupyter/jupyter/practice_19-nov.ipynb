{
 "cells": [
  {
   "cell_type": "code",
   "execution_count": null,
   "id": "174c6e69",
   "metadata": {},
   "outputs": [],
   "source": [
    "#append vs extend"
   ]
  },
  {
   "cell_type": "code",
   "execution_count": null,
   "id": "7495a362",
   "metadata": {},
   "outputs": [],
   "source": [
    "#----------------------------append-------------------------"
   ]
  },
  {
   "cell_type": "code",
   "execution_count": 2,
   "id": "f8e0c427",
   "metadata": {},
   "outputs": [
    {
     "data": {
      "text/plain": [
       "[1, 2, 3, 4, 5]"
      ]
     },
     "execution_count": 2,
     "metadata": {},
     "output_type": "execute_result"
    }
   ],
   "source": [
    "a = [1,2,3,4]\n",
    "a.append(5)\n",
    "a"
   ]
  },
  {
   "cell_type": "code",
   "execution_count": 3,
   "id": "76457c90",
   "metadata": {},
   "outputs": [
    {
     "ename": "TypeError",
     "evalue": "append() takes exactly one argument (2 given)",
     "output_type": "error",
     "traceback": [
      "\u001b[0;31m---------------------------------------------------------------------------\u001b[0m",
      "\u001b[0;31mTypeError\u001b[0m                                 Traceback (most recent call last)",
      "Input \u001b[0;32mIn [3]\u001b[0m, in \u001b[0;36m<module>\u001b[0;34m\u001b[0m\n\u001b[1;32m      1\u001b[0m a \u001b[38;5;241m=\u001b[39m [\u001b[38;5;241m1\u001b[39m,\u001b[38;5;241m2\u001b[39m,\u001b[38;5;241m3\u001b[39m,\u001b[38;5;241m4\u001b[39m]\n\u001b[0;32m----> 2\u001b[0m \u001b[43ma\u001b[49m\u001b[38;5;241;43m.\u001b[39;49m\u001b[43mappend\u001b[49m\u001b[43m(\u001b[49m\u001b[38;5;241;43m5\u001b[39;49m\u001b[43m,\u001b[49m\u001b[38;5;241;43m6\u001b[39;49m\u001b[43m)\u001b[49m\n\u001b[1;32m      3\u001b[0m a\n",
      "\u001b[0;31mTypeError\u001b[0m: append() takes exactly one argument (2 given)"
     ]
    }
   ],
   "source": [
    "a = [1,2,3,4]\n",
    "a.append(5,6)\n",
    "a"
   ]
  },
  {
   "cell_type": "code",
   "execution_count": 41,
   "id": "335eecb7",
   "metadata": {},
   "outputs": [
    {
     "data": {
      "text/plain": [
       "[1, 2, 3, 4, [5, 6]]"
      ]
     },
     "execution_count": 41,
     "metadata": {},
     "output_type": "execute_result"
    }
   ],
   "source": [
    "a = [1,2,3,4]\n",
    "a.append([5,6])\n",
    "a"
   ]
  },
  {
   "cell_type": "code",
   "execution_count": 5,
   "id": "9e67a8d3",
   "metadata": {},
   "outputs": [
    {
     "data": {
      "text/plain": [
       "[1, 2, 3, 4, [5, 6]]"
      ]
     },
     "execution_count": 5,
     "metadata": {},
     "output_type": "execute_result"
    }
   ],
   "source": [
    "a = [1,2,3,4]\n",
    "b = [5,6]\n",
    "a.append(b)\n",
    "a"
   ]
  },
  {
   "cell_type": "code",
   "execution_count": 9,
   "id": "4321f5da",
   "metadata": {},
   "outputs": [
    {
     "data": {
      "text/plain": [
       "[1, 2, 3, 4, 'abc']"
      ]
     },
     "execution_count": 9,
     "metadata": {},
     "output_type": "execute_result"
    }
   ],
   "source": [
    "a = [1,2,3,4]\n",
    "a.append(\"abc\")\n",
    "a"
   ]
  },
  {
   "cell_type": "code",
   "execution_count": 12,
   "id": "c88ab96b",
   "metadata": {},
   "outputs": [
    {
     "data": {
      "text/plain": [
       "[1, 2, 3, 4, ['rahul', 'verma']]"
      ]
     },
     "execution_count": 12,
     "metadata": {},
     "output_type": "execute_result"
    }
   ],
   "source": [
    "a = [1,2,3,4]\n",
    "b = ['rahul', 'verma']\n",
    "a.append(b)\n",
    "a"
   ]
  },
  {
   "cell_type": "code",
   "execution_count": null,
   "id": "f8be2105",
   "metadata": {},
   "outputs": [],
   "source": [
    "#-----------------------------extend---------------------------------"
   ]
  },
  {
   "cell_type": "code",
   "execution_count": 37,
   "id": "758d0ab8",
   "metadata": {},
   "outputs": [
    {
     "ename": "TypeError",
     "evalue": "'int' object is not iterable",
     "output_type": "error",
     "traceback": [
      "\u001b[0;31m---------------------------------------------------------------------------\u001b[0m",
      "\u001b[0;31mTypeError\u001b[0m                                 Traceback (most recent call last)",
      "Input \u001b[0;32mIn [37]\u001b[0m, in \u001b[0;36m<module>\u001b[0;34m\u001b[0m\n\u001b[1;32m      1\u001b[0m a \u001b[38;5;241m=\u001b[39m [\u001b[38;5;241m1\u001b[39m,\u001b[38;5;241m2\u001b[39m,\u001b[38;5;241m3\u001b[39m,\u001b[38;5;241m4\u001b[39m,\u001b[38;5;241m5\u001b[39m]\n\u001b[0;32m----> 2\u001b[0m \u001b[43ma\u001b[49m\u001b[38;5;241;43m.\u001b[39;49m\u001b[43mextend\u001b[49m\u001b[43m(\u001b[49m\u001b[38;5;241;43m6\u001b[39;49m\u001b[43m)\u001b[49m\n\u001b[1;32m      3\u001b[0m a\n",
      "\u001b[0;31mTypeError\u001b[0m: 'int' object is not iterable"
     ]
    }
   ],
   "source": [
    "a = [1,2,3,4,5]\n",
    "a.extend(6)\n",
    "a"
   ]
  },
  {
   "cell_type": "code",
   "execution_count": 38,
   "id": "77b369ff",
   "metadata": {},
   "outputs": [
    {
     "data": {
      "text/plain": [
       "[1, 2, 3, 4, 5, 6]"
      ]
     },
     "execution_count": 38,
     "metadata": {},
     "output_type": "execute_result"
    }
   ],
   "source": [
    "a = [1,2,3,4,5]\n",
    "a.extend([6])\n",
    "a"
   ]
  },
  {
   "cell_type": "code",
   "execution_count": 39,
   "id": "fa50bdb5",
   "metadata": {},
   "outputs": [
    {
     "data": {
      "text/plain": [
       "[1, 2, 3, 4, 5, '6']"
      ]
     },
     "execution_count": 39,
     "metadata": {},
     "output_type": "execute_result"
    }
   ],
   "source": [
    "a = [1,2,3,4,5]\n",
    "a.extend('6')\n",
    "a"
   ]
  },
  {
   "cell_type": "code",
   "execution_count": 42,
   "id": "77aa10b4",
   "metadata": {},
   "outputs": [
    {
     "data": {
      "text/plain": [
       "[1, 2, 3, 4, 5, 6, 7, 8]"
      ]
     },
     "execution_count": 42,
     "metadata": {},
     "output_type": "execute_result"
    }
   ],
   "source": [
    "a = [1,2,3,4,5]\n",
    "a.extend([6,7,8])\n",
    "a"
   ]
  },
  {
   "cell_type": "code",
   "execution_count": 44,
   "id": "be78766c",
   "metadata": {},
   "outputs": [
    {
     "data": {
      "text/plain": [
       "[1, 2, 3, 4, 5, 'a']"
      ]
     },
     "execution_count": 44,
     "metadata": {},
     "output_type": "execute_result"
    }
   ],
   "source": [
    "a = [1,2,3,4,5]\n",
    "a.extend(\"a\")\n",
    "a"
   ]
  },
  {
   "cell_type": "code",
   "execution_count": 50,
   "id": "700e9c16",
   "metadata": {},
   "outputs": [
    {
     "data": {
      "text/plain": [
       "[1, 2, 3, 4, 5, 'r', 'a', 'h', 'u', 'l']"
      ]
     },
     "execution_count": 50,
     "metadata": {},
     "output_type": "execute_result"
    }
   ],
   "source": [
    "a = [1,2,3,4,5]\n",
    "a.extend(\"rahul\")\n",
    "a"
   ]
  },
  {
   "cell_type": "code",
   "execution_count": 51,
   "id": "fa0c1d2a",
   "metadata": {},
   "outputs": [
    {
     "data": {
      "text/plain": [
       "[1, 2, 3, 4, 5, 'rahul', 'verma']"
      ]
     },
     "execution_count": 51,
     "metadata": {},
     "output_type": "execute_result"
    }
   ],
   "source": [
    "a = [1,2,3,4,5]\n",
    "a.extend([\"rahul\",\"verma\"])\n",
    "a"
   ]
  },
  {
   "cell_type": "code",
   "execution_count": null,
   "id": "dc5a82ba",
   "metadata": {},
   "outputs": [],
   "source": [
    "#================================================================================================================"
   ]
  },
  {
   "cell_type": "code",
   "execution_count": null,
   "id": "471007ed",
   "metadata": {},
   "outputs": [],
   "source": [
    "#-----------------------------------lambda----------------------------------------------"
   ]
  },
  {
   "cell_type": "code",
   "execution_count": 6,
   "id": "e30e03e4",
   "metadata": {},
   "outputs": [
    {
     "data": {
      "text/plain": [
       "5"
      ]
     },
     "execution_count": 6,
     "metadata": {},
     "output_type": "execute_result"
    }
   ],
   "source": [
    "# x = [1,2,3,4]\n",
    "a = lambda x:x+1\n",
    "a(4)"
   ]
  },
  {
   "cell_type": "code",
   "execution_count": 7,
   "id": "48c09b8a",
   "metadata": {},
   "outputs": [
    {
     "data": {
      "text/plain": [
       "<function __main__.<lambda>(x)>"
      ]
     },
     "execution_count": 7,
     "metadata": {},
     "output_type": "execute_result"
    }
   ],
   "source": [
    "a"
   ]
  },
  {
   "cell_type": "code",
   "execution_count": 57,
   "id": "4365adf8",
   "metadata": {},
   "outputs": [
    {
     "data": {
      "text/plain": [
       "16"
      ]
     },
     "execution_count": 57,
     "metadata": {},
     "output_type": "execute_result"
    }
   ],
   "source": [
    "a = lambda x:x*x\n",
    "a(4)"
   ]
  },
  {
   "cell_type": "code",
   "execution_count": 8,
   "id": "062fc06c",
   "metadata": {},
   "outputs": [
    {
     "data": {
      "text/plain": [
       "9"
      ]
     },
     "execution_count": 8,
     "metadata": {},
     "output_type": "execute_result"
    }
   ],
   "source": [
    "(lambda x:x*x)(3)"
   ]
  },
  {
   "cell_type": "code",
   "execution_count": 64,
   "id": "d1a1a071",
   "metadata": {},
   "outputs": [
    {
     "name": "stdout",
     "output_type": "stream",
     "text": [
      "10\n",
      "20\n",
      "30\n",
      "40\n"
     ]
    }
   ],
   "source": [
    "a = [lambda arg=x: arg * 10 for x in range(1, 5)]\n",
    "for i in a:\n",
    "    print(i())"
   ]
  },
  {
   "cell_type": "code",
   "execution_count": 78,
   "id": "3e0d8585",
   "metadata": {},
   "outputs": [
    {
     "data": {
      "text/plain": [
       "2"
      ]
     },
     "execution_count": 78,
     "metadata": {},
     "output_type": "execute_result"
    }
   ],
   "source": [
    "a = lambda arg=x : arg-1 \n",
    "a(3)"
   ]
  },
  {
   "cell_type": "code",
   "execution_count": 80,
   "id": "07930636",
   "metadata": {},
   "outputs": [
    {
     "data": {
      "text/plain": [
       "24"
      ]
     },
     "execution_count": 80,
     "metadata": {},
     "output_type": "execute_result"
    }
   ],
   "source": [
    "(lambda x:x*4)(6)"
   ]
  },
  {
   "cell_type": "code",
   "execution_count": 92,
   "id": "95b4aec4",
   "metadata": {},
   "outputs": [
    {
     "data": {
      "text/plain": [
       "5"
      ]
     },
     "execution_count": 92,
     "metadata": {},
     "output_type": "execute_result"
    }
   ],
   "source": [
    "a = lambda x,y : y if(x>y) else x\n",
    "a(5,6)"
   ]
  },
  {
   "cell_type": "code",
   "execution_count": 95,
   "id": "c89f405c",
   "metadata": {},
   "outputs": [
    {
     "data": {
      "text/plain": [
       "True"
      ]
     },
     "execution_count": 95,
     "metadata": {},
     "output_type": "execute_result"
    }
   ],
   "source": [
    "a = lambda x: (x % 2 == 0)\n",
    "a(4)"
   ]
  },
  {
   "cell_type": "code",
   "execution_count": 91,
   "id": "7cd40d38",
   "metadata": {},
   "outputs": [
    {
     "ename": "TypeError",
     "evalue": "'tuple' object is not callable",
     "output_type": "error",
     "traceback": [
      "\u001b[0;31m---------------------------------------------------------------------------\u001b[0m",
      "\u001b[0;31mTypeError\u001b[0m                                 Traceback (most recent call last)",
      "Input \u001b[0;32mIn [91]\u001b[0m, in \u001b[0;36m<module>\u001b[0;34m\u001b[0m\n\u001b[1;32m      1\u001b[0m a \u001b[38;5;241m=\u001b[39m \u001b[38;5;28;01mlambda\u001b[39;00m x,y : y,x\n\u001b[0;32m----> 2\u001b[0m \u001b[43ma\u001b[49m\u001b[43m(\u001b[49m\u001b[38;5;241;43m5\u001b[39;49m\u001b[43m,\u001b[49m\u001b[38;5;241;43m6\u001b[39;49m\u001b[43m)\u001b[49m\n",
      "\u001b[0;31mTypeError\u001b[0m: 'tuple' object is not callable"
     ]
    }
   ],
   "source": [
    "a = lambda x,y : y,x\n",
    "a(5,6)"
   ]
  },
  {
   "cell_type": "code",
   "execution_count": null,
   "id": "1c1d366d",
   "metadata": {},
   "outputs": [],
   "source": [
    "#================================================================================================================"
   ]
  },
  {
   "cell_type": "code",
   "execution_count": null,
   "id": "bba27be1",
   "metadata": {},
   "outputs": [],
   "source": [
    "#--------------------------------------------map----------------------------------------------------------"
   ]
  },
  {
   "cell_type": "code",
   "execution_count": null,
   "id": "48db39c3",
   "metadata": {},
   "outputs": [],
   "source": [
    "# map(function, iterable)\n",
    "definition : map() function returns a map object(which is an iterator) of the results after applying the given function to each item of a given iterable (list, tuple etc.)"
   ]
  },
  {
   "cell_type": "code",
   "execution_count": 4,
   "id": "b759805f",
   "metadata": {},
   "outputs": [
    {
     "data": {
      "text/plain": [
       "[5, 10, 15, 20, 25]"
      ]
     },
     "execution_count": 4,
     "metadata": {},
     "output_type": "execute_result"
    }
   ],
   "source": [
    "list(map(lambda x:x*5 , [1,2,3,4,5]))"
   ]
  },
  {
   "cell_type": "code",
   "execution_count": 5,
   "id": "d6299c21",
   "metadata": {},
   "outputs": [
    {
     "data": {
      "text/plain": [
       "(8, 13, 18)"
      ]
     },
     "execution_count": 5,
     "metadata": {},
     "output_type": "execute_result"
    }
   ],
   "source": [
    "tuple(map(lambda x:x+3, (5,10,15)))"
   ]
  },
  {
   "cell_type": "code",
   "execution_count": 6,
   "id": "bdb11c74",
   "metadata": {},
   "outputs": [
    {
     "data": {
      "text/plain": [
       "[6, 12, 18]"
      ]
     },
     "execution_count": 6,
     "metadata": {},
     "output_type": "execute_result"
    }
   ],
   "source": [
    "list(map(lambda x,y:x+y, [1,2,3], [5,10,15]))"
   ]
  },
  {
   "cell_type": "code",
   "execution_count": null,
   "id": "b3f4eb97",
   "metadata": {},
   "outputs": [],
   "source": [
    "#================================================================================================================"
   ]
  },
  {
   "cell_type": "code",
   "execution_count": null,
   "id": "a76670bc",
   "metadata": {},
   "outputs": [],
   "source": [
    "#------------------------------------------filter---------------------------------------------------------------"
   ]
  },
  {
   "cell_type": "code",
   "execution_count": null,
   "id": "df063098",
   "metadata": {},
   "outputs": [],
   "source": [
    "# filter(function, sequence)\n",
    "definition : The filter() method filters the given sequence with the help of a function that tests each element in the sequence to be true or not"
   ]
  },
  {
   "cell_type": "code",
   "execution_count": 1,
   "id": "b06de898",
   "metadata": {},
   "outputs": [
    {
     "data": {
      "text/plain": [
       "[1, 2, 3, 4, 5]"
      ]
     },
     "execution_count": 1,
     "metadata": {},
     "output_type": "execute_result"
    }
   ],
   "source": [
    "def fun(num):\n",
    "    return num-10\n",
    "li = [1,2,3,4,5]\n",
    "\n",
    "list(filter(fun, li))"
   ]
  },
  {
   "cell_type": "code",
   "execution_count": 10,
   "id": "5cfd8c7e",
   "metadata": {},
   "outputs": [
    {
     "data": {
      "text/plain": [
       "[0, 2, 8]"
      ]
     },
     "execution_count": 10,
     "metadata": {},
     "output_type": "execute_result"
    }
   ],
   "source": [
    "seq = [0, 1, 2, 3, 5, 8, 13]\n",
    "result = filter(lambda x: x % 2 == 0, seq)\n",
    "list(result)"
   ]
  },
  {
   "cell_type": "code",
   "execution_count": null,
   "id": "88af6ba1",
   "metadata": {},
   "outputs": [],
   "source": [
    "#================================================================================================================"
   ]
  },
  {
   "cell_type": "code",
   "execution_count": null,
   "id": "31129b73",
   "metadata": {},
   "outputs": [],
   "source": [
    "#---------------------------------------------SET------------------------------------------------"
   ]
  },
  {
   "cell_type": "code",
   "execution_count": 4,
   "id": "0b5ac073",
   "metadata": {},
   "outputs": [
    {
     "data": {
      "text/plain": [
       "set"
      ]
     },
     "execution_count": 4,
     "metadata": {},
     "output_type": "execute_result"
    }
   ],
   "source": [
    "s = {\"rahul\",\"verma\",'RAHUL'}\n",
    "type(s)"
   ]
  },
  {
   "cell_type": "code",
   "execution_count": 5,
   "id": "2d484ee3",
   "metadata": {},
   "outputs": [
    {
     "data": {
      "text/plain": [
       "{'RAHUL', 'rahul', 'verma'}"
      ]
     },
     "execution_count": 5,
     "metadata": {},
     "output_type": "execute_result"
    }
   ],
   "source": [
    "s"
   ]
  },
  {
   "cell_type": "code",
   "execution_count": 6,
   "id": "a7251024",
   "metadata": {},
   "outputs": [],
   "source": [
    "s.add('kumar')"
   ]
  },
  {
   "cell_type": "code",
   "execution_count": 7,
   "id": "246698b9",
   "metadata": {},
   "outputs": [
    {
     "data": {
      "text/plain": [
       "{'RAHUL', 'kumar', 'rahul', 'verma'}"
      ]
     },
     "execution_count": 7,
     "metadata": {},
     "output_type": "execute_result"
    }
   ],
   "source": [
    "s"
   ]
  },
  {
   "cell_type": "code",
   "execution_count": 8,
   "id": "4035d560",
   "metadata": {},
   "outputs": [],
   "source": [
    "s.add('aaaaaaaa')"
   ]
  },
  {
   "cell_type": "code",
   "execution_count": 9,
   "id": "34045c25",
   "metadata": {},
   "outputs": [
    {
     "data": {
      "text/plain": [
       "{'RAHUL', 'aaaaaaaa', 'kumar', 'rahul', 'verma'}"
      ]
     },
     "execution_count": 9,
     "metadata": {},
     "output_type": "execute_result"
    }
   ],
   "source": [
    "s"
   ]
  },
  {
   "cell_type": "code",
   "execution_count": 12,
   "id": "f08af8f3",
   "metadata": {},
   "outputs": [],
   "source": [
    "s.add('zzzzzzz')"
   ]
  },
  {
   "cell_type": "code",
   "execution_count": 13,
   "id": "4a10d649",
   "metadata": {},
   "outputs": [
    {
     "data": {
      "text/plain": [
       "{'RAHUL', 'aaaaaaaa', 'kumar', 'rahul', 'verma', 'zebra', 'zzzzzzz'}"
      ]
     },
     "execution_count": 13,
     "metadata": {},
     "output_type": "execute_result"
    }
   ],
   "source": [
    "s"
   ]
  },
  {
   "cell_type": "code",
   "execution_count": 15,
   "id": "92b65352",
   "metadata": {},
   "outputs": [],
   "source": [
    "s.remove('zebra')"
   ]
  },
  {
   "cell_type": "code",
   "execution_count": 16,
   "id": "df2223c3",
   "metadata": {},
   "outputs": [
    {
     "data": {
      "text/plain": [
       "{'RAHUL', 'aaaaaaaa', 'kumar', 'rahul', 'verma', 'zzzzzzz'}"
      ]
     },
     "execution_count": 16,
     "metadata": {},
     "output_type": "execute_result"
    }
   ],
   "source": [
    "s"
   ]
  },
  {
   "cell_type": "code",
   "execution_count": 30,
   "id": "a654b3bf",
   "metadata": {},
   "outputs": [],
   "source": [
    "frozen_set = frozenset([\"e\", \"f\", \"g\"])"
   ]
  },
  {
   "cell_type": "code",
   "execution_count": 28,
   "id": "3b827f88",
   "metadata": {},
   "outputs": [
    {
     "data": {
      "text/plain": [
       "frozenset({'e', 'f', 'g'})"
      ]
     },
     "execution_count": 28,
     "metadata": {},
     "output_type": "execute_result"
    }
   ],
   "source": [
    "frozenset([\"e\", \"f\", \"g\"])"
   ]
  },
  {
   "cell_type": "code",
   "execution_count": 31,
   "id": "64c272b9",
   "metadata": {},
   "outputs": [
    {
     "name": "stdout",
     "output_type": "stream",
     "text": [
      "frozenset({'g', 'e', 'f'})\n"
     ]
    }
   ],
   "source": [
    "print(frozen_set)"
   ]
  },
  {
   "cell_type": "code",
   "execution_count": 32,
   "id": "0b8174d0",
   "metadata": {},
   "outputs": [
    {
     "name": "stdout",
     "output_type": "stream",
     "text": [
      "\n",
      "Frozen Set\n",
      "frozenset({'g', 'e', 'f'})\n"
     ]
    }
   ],
   "source": [
    "frozen_set = frozenset([\"e\", \"f\", \"g\"])\n",
    " \n",
    "print(\"\\nFrozen Set\")\n",
    "print(frozen_set)"
   ]
  },
  {
   "cell_type": "code",
   "execution_count": null,
   "id": "5c18027b",
   "metadata": {},
   "outputs": [],
   "source": [
    "#==============================================================================================================="
   ]
  },
  {
   "cell_type": "code",
   "execution_count": 57,
   "id": "be654ec8",
   "metadata": {},
   "outputs": [
    {
     "data": {
      "text/plain": [
       "1"
      ]
     },
     "execution_count": 57,
     "metadata": {},
     "output_type": "execute_result"
    }
   ],
   "source": [
    "d = \"AABKSJKKUU\"\n",
    "d.count(\"S\")"
   ]
  },
  {
   "cell_type": "code",
   "execution_count": 83,
   "id": "7494cfa8",
   "metadata": {},
   "outputs": [
    {
     "data": {
      "text/plain": [
       "{'A': 2, 'B': 1, 'K': 3, 'S': 1, 'J': 1, 'U': 2}"
      ]
     },
     "execution_count": 83,
     "metadata": {},
     "output_type": "execute_result"
    }
   ],
   "source": [
    "dic = {}\n",
    "d = \"AABKSJKKUU\"\n",
    "for i in d:\n",
    "#     print(d)\n",
    "    if i in dic:\n",
    "        dic[i] += 1 \n",
    "    else:\n",
    "        dic[i] = 1\n",
    "#     print(dic)\n",
    "dic"
   ]
  },
  {
   "cell_type": "code",
   "execution_count": 59,
   "id": "937d135f",
   "metadata": {},
   "outputs": [
    {
     "data": {
      "text/plain": [
       "[('A', 2), ('B', 1), ('K', 3), ('S', 1), ('J', 1), ('U', 2)]"
      ]
     },
     "execution_count": 59,
     "metadata": {},
     "output_type": "execute_result"
    }
   ],
   "source": [
    "d = {'A': 2, 'B': 1, 'K': 3, 'S': 1, 'J': 1, 'U': 2}\n",
    "list(d.items())"
   ]
  },
  {
   "cell_type": "code",
   "execution_count": 60,
   "id": "37882865",
   "metadata": {},
   "outputs": [
    {
     "data": {
      "text/plain": [
       "{'A': 2, 'B': 1, 'K': 3, 'S': 1, 'J': 1, 'U': 2}"
      ]
     },
     "execution_count": 60,
     "metadata": {},
     "output_type": "execute_result"
    }
   ],
   "source": [
    "d"
   ]
  },
  {
   "cell_type": "code",
   "execution_count": 61,
   "id": "8399a54b",
   "metadata": {},
   "outputs": [
    {
     "data": {
      "text/plain": [
       "dict_items([('A', 2), ('B', 1), ('K', 3), ('S', 1), ('J', 1), ('U', 2)])"
      ]
     },
     "execution_count": 61,
     "metadata": {},
     "output_type": "execute_result"
    }
   ],
   "source": [
    "d.items()"
   ]
  },
  {
   "cell_type": "code",
   "execution_count": 62,
   "id": "5f5e5571",
   "metadata": {},
   "outputs": [
    {
     "data": {
      "text/plain": [
       "dict_keys(['A', 'B', 'K', 'S', 'J', 'U'])"
      ]
     },
     "execution_count": 62,
     "metadata": {},
     "output_type": "execute_result"
    }
   ],
   "source": [
    "d.keys()"
   ]
  },
  {
   "cell_type": "code",
   "execution_count": 63,
   "id": "715ed2a8",
   "metadata": {},
   "outputs": [
    {
     "data": {
      "text/plain": [
       "dict_values([2, 1, 3, 1, 1, 2])"
      ]
     },
     "execution_count": 63,
     "metadata": {},
     "output_type": "execute_result"
    }
   ],
   "source": [
    "d.values()"
   ]
  },
  {
   "cell_type": "code",
   "execution_count": 65,
   "id": "cbe56b09",
   "metadata": {},
   "outputs": [
    {
     "name": "stdout",
     "output_type": "stream",
     "text": [
      "A 2\n",
      "B 1\n",
      "K 3\n",
      "S 1\n",
      "J 1\n",
      "U 2\n"
     ]
    }
   ],
   "source": [
    "for k,v in d.items():\n",
    "    print(k,v)"
   ]
  },
  {
   "cell_type": "code",
   "execution_count": 66,
   "id": "8ec995da",
   "metadata": {},
   "outputs": [
    {
     "data": {
      "text/plain": [
       "{'A': 2, 'B': 1, 'K': 3, 'S': 1, 'J': 1, 'U': 2}"
      ]
     },
     "execution_count": 66,
     "metadata": {},
     "output_type": "execute_result"
    }
   ],
   "source": [
    "d"
   ]
  },
  {
   "cell_type": "code",
   "execution_count": 67,
   "id": "c88c32b0",
   "metadata": {
    "scrolled": true
   },
   "outputs": [
    {
     "data": {
      "text/plain": [
       "['__class__',\n",
       " '__contains__',\n",
       " '__delattr__',\n",
       " '__delitem__',\n",
       " '__dir__',\n",
       " '__doc__',\n",
       " '__eq__',\n",
       " '__format__',\n",
       " '__ge__',\n",
       " '__getattribute__',\n",
       " '__getitem__',\n",
       " '__gt__',\n",
       " '__hash__',\n",
       " '__init__',\n",
       " '__init_subclass__',\n",
       " '__iter__',\n",
       " '__le__',\n",
       " '__len__',\n",
       " '__lt__',\n",
       " '__ne__',\n",
       " '__new__',\n",
       " '__reduce__',\n",
       " '__reduce_ex__',\n",
       " '__repr__',\n",
       " '__reversed__',\n",
       " '__setattr__',\n",
       " '__setitem__',\n",
       " '__sizeof__',\n",
       " '__str__',\n",
       " '__subclasshook__',\n",
       " 'clear',\n",
       " 'copy',\n",
       " 'fromkeys',\n",
       " 'get',\n",
       " 'items',\n",
       " 'keys',\n",
       " 'pop',\n",
       " 'popitem',\n",
       " 'setdefault',\n",
       " 'update',\n",
       " 'values']"
      ]
     },
     "execution_count": 67,
     "metadata": {},
     "output_type": "execute_result"
    }
   ],
   "source": [
    "dir(d)"
   ]
  },
  {
   "cell_type": "code",
   "execution_count": 69,
   "id": "260c7776",
   "metadata": {},
   "outputs": [],
   "source": [
    "d.__setitem__('E',2)"
   ]
  },
  {
   "cell_type": "code",
   "execution_count": 70,
   "id": "d07544df",
   "metadata": {},
   "outputs": [
    {
     "data": {
      "text/plain": [
       "{'A': 2, 'B': 1, 'K': 3, 'S': 1, 'J': 1, 'U': 2, 'E': 2}"
      ]
     },
     "execution_count": 70,
     "metadata": {},
     "output_type": "execute_result"
    }
   ],
   "source": [
    "d"
   ]
  },
  {
   "cell_type": "code",
   "execution_count": 76,
   "id": "6fd996c9",
   "metadata": {},
   "outputs": [
    {
     "ename": "TypeError",
     "evalue": " expected 2 arguments, got 1",
     "output_type": "error",
     "traceback": [
      "\u001b[0;31m---------------------------------------------------------------------------\u001b[0m",
      "\u001b[0;31mTypeError\u001b[0m                                 Traceback (most recent call last)",
      "Input \u001b[0;32mIn [76]\u001b[0m, in \u001b[0;36m<module>\u001b[0;34m\u001b[0m\n\u001b[0;32m----> 1\u001b[0m \u001b[43md\u001b[49m\u001b[38;5;241;43m.\u001b[39;49m\u001b[38;5;21;43m__setattr__\u001b[39;49m\u001b[43m(\u001b[49m\u001b[38;5;124;43m'\u001b[39;49m\u001b[38;5;124;43mO\u001b[39;49m\u001b[38;5;124;43m'\u001b[39;49m\u001b[43m)\u001b[49m\n",
      "\u001b[0;31mTypeError\u001b[0m:  expected 2 arguments, got 1"
     ]
    }
   ],
   "source": [
    "d.__setattr__('O')"
   ]
  },
  {
   "cell_type": "code",
   "execution_count": 77,
   "id": "c5817ba5",
   "metadata": {},
   "outputs": [],
   "source": [
    "d[\"L\"]=8"
   ]
  },
  {
   "cell_type": "code",
   "execution_count": 93,
   "id": "feeb39be",
   "metadata": {},
   "outputs": [
    {
     "data": {
      "text/plain": [
       "1"
      ]
     },
     "execution_count": 93,
     "metadata": {},
     "output_type": "execute_result"
    }
   ],
   "source": [
    "g = {'A': 2, 'B': 1, 'K': 3, 'S': 1, 'J': 1, 'U': 2, 'E': 2}\n",
    "g.get('B')"
   ]
  },
  {
   "cell_type": "code",
   "execution_count": null,
   "id": "6a510689",
   "metadata": {},
   "outputs": [],
   "source": [
    "#=============================================================================================================="
   ]
  },
  {
   "cell_type": "code",
   "execution_count": null,
   "id": "824ed1e6",
   "metadata": {},
   "outputs": [],
   "source": [
    "# ------------------------------frequency of character in string------------------------"
   ]
  },
  {
   "cell_type": "code",
   "execution_count": 101,
   "id": "6308cb79",
   "metadata": {},
   "outputs": [
    {
     "data": {
      "text/plain": [
       "{'A': 2, 'B': 1, 'K': 3, 'S': 1, 'J': 1, 'U': 2}"
      ]
     },
     "execution_count": 101,
     "metadata": {},
     "output_type": "execute_result"
    }
   ],
   "source": [
    "# method 1\n",
    "dic = {}\n",
    "d = \"AABKSJKKUU\"\n",
    "for i in d:\n",
    "    if i in dic:\n",
    "        dic[i] += 1 \n",
    "    else:\n",
    "        dic[i] = 1\n",
    "dic"
   ]
  },
  {
   "cell_type": "code",
   "execution_count": 12,
   "id": "c2328d47",
   "metadata": {},
   "outputs": [
    {
     "data": {
      "text/plain": [
       "{'A': 2, 'B': 1, 'K': 3, 'S': 1, 'J': 1, 'U': 2}"
      ]
     },
     "execution_count": 12,
     "metadata": {},
     "output_type": "execute_result"
    }
   ],
   "source": [
    "# method 2\n",
    "string = \"AABKSJKKUU\"\n",
    "dic = {}\n",
    "for key in string:\n",
    "#     print(dic.get(key, 0))\n",
    "    dic[key] = dic.get(key, 0) + 1\n",
    "dic"
   ]
  },
  {
   "cell_type": "code",
   "execution_count": 15,
   "id": "f8878aab",
   "metadata": {},
   "outputs": [
    {
     "data": {
      "text/plain": [
       "{'A': 2, 'B': 1, 'S': 1, 'J': 1, 'K': 3, 'U': 2}"
      ]
     },
     "execution_count": 15,
     "metadata": {},
     "output_type": "execute_result"
    }
   ],
   "source": [
    "# method 3\n",
    "\n",
    "string = \"AABKSJKKUU\"\n",
    "{i:string.count(i) for i in set(string)}"
   ]
  },
  {
   "cell_type": "code",
   "execution_count": 131,
   "id": "371aa079",
   "metadata": {},
   "outputs": [
    {
     "data": {
      "text/plain": [
       "Counter({'A': 2, 'B': 1, 'K': 3, 'S': 1, 'J': 1, 'U': 2})"
      ]
     },
     "execution_count": 131,
     "metadata": {},
     "output_type": "execute_result"
    }
   ],
   "source": [
    "# method 4\n",
    "from collections import Counter\n",
    "string = \"AABKSJKKUU\"\n",
    "Counter(string)"
   ]
  },
  {
   "cell_type": "code",
   "execution_count": null,
   "id": "a9e70206",
   "metadata": {},
   "outputs": [],
   "source": [
    "#==============================================================================================================="
   ]
  },
  {
   "cell_type": "code",
   "execution_count": 133,
   "id": "e4d3d947",
   "metadata": {},
   "outputs": [
    {
     "data": {
      "text/plain": [
       "Counter({'Learn': 1, 'and': 2, 'practice': 2, 'learn': 1, 'to': 1})"
      ]
     },
     "execution_count": 133,
     "metadata": {},
     "output_type": "execute_result"
    }
   ],
   "source": [
    "string = \"Learn and practice and learn to practice\"\n",
    "Counter(string.split())"
   ]
  },
  {
   "cell_type": "code",
   "execution_count": 136,
   "id": "ab248def",
   "metadata": {},
   "outputs": [
    {
     "data": {
      "text/plain": [
       "{'Learn': 1, 'and': 2, 'practice': 2, 'learn': 1, 'to': 1}"
      ]
     },
     "execution_count": 136,
     "metadata": {},
     "output_type": "execute_result"
    }
   ],
   "source": [
    "dic = {}\n",
    "for i in string.split():\n",
    "    dic[i] = dic.get(i, 0) + 1\n",
    "dic"
   ]
  },
  {
   "cell_type": "code",
   "execution_count": 2,
   "id": "a3ada675",
   "metadata": {},
   "outputs": [
    {
     "data": {
      "text/plain": [
       "{'Learn': 1, 'and': 2, 'practice': 2, 'learn': 1, 'to': 1}"
      ]
     },
     "execution_count": 2,
     "metadata": {},
     "output_type": "execute_result"
    }
   ],
   "source": [
    "string = \"Learn and practice and learn to practice\"\n",
    "dic = {}\n",
    "for i in string.split():\n",
    "    if i in dic:\n",
    "        dic[i] += 1\n",
    "    else:\n",
    "        dic[i] = 1\n",
    "dic"
   ]
  },
  {
   "cell_type": "code",
   "execution_count": null,
   "id": "7b301495",
   "metadata": {},
   "outputs": [],
   "source": []
  },
  {
   "cell_type": "code",
   "execution_count": null,
   "id": "3e4e8e36",
   "metadata": {},
   "outputs": [],
   "source": []
  },
  {
   "cell_type": "code",
   "execution_count": 22,
   "id": "f8d082e1",
   "metadata": {},
   "outputs": [
    {
     "name": "stdout",
     "output_type": "stream",
     "text": [
      "code practice quiz geeks\n"
     ]
    }
   ],
   "source": [
    "# Python code\n",
    "# To reverse words in a given string\n",
    "\n",
    "# input string\n",
    "string = \"geeks quiz practice code\"\n",
    "# reversing words in a given string\n",
    "s = string.split()[::-1]\n",
    "l = []\n",
    "for i in s:\n",
    "    # apending reversed words to l\n",
    "    l.append(i)\n",
    "# printing reverse words\n",
    "print(\" \".join(l))\n"
   ]
  },
  {
   "cell_type": "code",
   "execution_count": 2,
   "id": "4ebb0b86",
   "metadata": {},
   "outputs": [],
   "source": [
    "string = \"geeks quiz practice code\"\n",
    "# reversing words in a given string\n",
    "s = string.split()[::-1]"
   ]
  },
  {
   "cell_type": "code",
   "execution_count": 3,
   "id": "865f7d71",
   "metadata": {},
   "outputs": [
    {
     "data": {
      "text/plain": [
       "['code', 'practice', 'quiz', 'geeks']"
      ]
     },
     "execution_count": 3,
     "metadata": {},
     "output_type": "execute_result"
    }
   ],
   "source": [
    "s"
   ]
  },
  {
   "cell_type": "code",
   "execution_count": 25,
   "id": "3412e941",
   "metadata": {},
   "outputs": [
    {
     "data": {
      "text/plain": [
       "['skeeGrofskeeG', 'si', 'doog', 'ot', 'nrael']"
      ]
     },
     "execution_count": 25,
     "metadata": {},
     "output_type": "execute_result"
    }
   ],
   "source": [
    "Sentence = \"GeeksforGeeks is good to learn\"\n",
    "words = Sentence.split(\" \")\n",
    "\n",
    "# Reversing each word and creating\n",
    "# a new list of words\n",
    "# List Comprehension Technique\n",
    "[word[::-1] for word in words]"
   ]
  },
  {
   "cell_type": "code",
   "execution_count": 5,
   "id": "37d1eef8",
   "metadata": {},
   "outputs": [
    {
     "data": {
      "text/plain": [
       "['skeeGrofskeeG', 'si', 'doog', 'ot', 'nrael']"
      ]
     },
     "execution_count": 5,
     "metadata": {},
     "output_type": "execute_result"
    }
   ],
   "source": [
    "newWords"
   ]
  },
  {
   "cell_type": "code",
   "execution_count": null,
   "id": "77c28963",
   "metadata": {},
   "outputs": [],
   "source": []
  }
 ],
 "metadata": {
  "kernelspec": {
   "display_name": "Python 3 (ipykernel)",
   "language": "python",
   "name": "python3"
  },
  "language_info": {
   "codemirror_mode": {
    "name": "ipython",
    "version": 3
   },
   "file_extension": ".py",
   "mimetype": "text/x-python",
   "name": "python",
   "nbconvert_exporter": "python",
   "pygments_lexer": "ipython3",
   "version": "3.8.10"
  }
 },
 "nbformat": 4,
 "nbformat_minor": 5
}

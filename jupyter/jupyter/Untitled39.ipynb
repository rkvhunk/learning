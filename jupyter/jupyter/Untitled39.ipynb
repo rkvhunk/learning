{
 "cells": [
  {
   "cell_type": "code",
   "execution_count": null,
   "id": "ea5b956c",
   "metadata": {},
   "outputs": [],
   "source": [
    "Given two strings s1 and s2, check if both the strings are anagrams of each other.\n",
    "Examples: \n",
    "\n",
    "Input : s1 = \"listen\"\n",
    "        s2 = \"silent\"\n",
    "Output : The strings are anagrams.\n",
    "\n",
    "\n",
    "Input : s1 = \"dad\"\n",
    "        s2 = \"bad\"\n",
    "Output : The strings aren't anagrams."
   ]
  },
  {
   "cell_type": "code",
   "execution_count": null,
   "id": "37f83a95",
   "metadata": {},
   "outputs": [],
   "source": [
    "d = {'a':1}"
   ]
  },
  {
   "cell_type": "code",
   "execution_count": null,
   "id": "3ffc4f2a",
   "metadata": {},
   "outputs": [],
   "source": [
    "MRO"
   ]
  },
  {
   "cell_type": "code",
   "execution_count": null,
   "id": "612b7881",
   "metadata": {},
   "outputs": [],
   "source": [
    "class A\n",
    "class B\n",
    "class C(A,B)"
   ]
  },
  {
   "cell_type": "code",
   "execution_count": null,
   "id": "0cae3fd8",
   "metadata": {},
   "outputs": [],
   "source": [
    "class A\n",
    "class B(A)\n",
    "class C(B)"
   ]
  },
  {
   "cell_type": "code",
   "execution_count": null,
   "id": "f79586e9",
   "metadata": {},
   "outputs": [],
   "source": [
    "cors"
   ]
  }
 ],
 "metadata": {
  "kernelspec": {
   "display_name": "Python 3 (ipykernel)",
   "language": "python",
   "name": "python3"
  },
  "language_info": {
   "codemirror_mode": {
    "name": "ipython",
    "version": 3
   },
   "file_extension": ".py",
   "mimetype": "text/x-python",
   "name": "python",
   "nbconvert_exporter": "python",
   "pygments_lexer": "ipython3",
   "version": "3.8.10"
  }
 },
 "nbformat": 4,
 "nbformat_minor": 5
}

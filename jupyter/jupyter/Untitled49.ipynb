{
 "cells": [
  {
   "cell_type": "code",
   "execution_count": 9,
   "id": "251dafa1",
   "metadata": {},
   "outputs": [],
   "source": [
    "coupons = [{\"category\":\"kitchen utensils\",\"coupon\":\"50 % Off\"},{\"category\":\"Bathroom\",\"coupon\":\"No discounts\"},{\"category\":\"gardentools\",\"coupon\":\"10%off\"},{\"category\":\"gardenpots\",\"coupon\":\"20%off\"}]"
   ]
  },
  {
   "cell_type": "code",
   "execution_count": 4,
   "id": "d87e5ef1",
   "metadata": {},
   "outputs": [],
   "source": [
    "categories = [{\"category\":\"kitchen utensils\",\"parent\":\"kitchen\",},{\"category\":\"towels\",\"parent\":\"Bathroom\"},{\"category\":\"gardentools\",\"parent\":\"garden\"},{\"category\":\"gardenpots\",\"parent\":\"garden\"},{\"category\":\"books\",\"parent\":None},{\"category\":\"kitchen\",\"parent\":None},{\"category\":\"shoes\",\"parent\":None}]"
   ]
  },
  {
   "cell_type": "code",
   "execution_count": 15,
   "id": "fc6df62c",
   "metadata": {},
   "outputs": [],
   "source": [
    "dic = {}\n",
    "for k in range(len(coupons)):\n",
    "#     print(coupons[k])\n",
    "    dic[coupons[k]['category']] = coupons[k]['coupon']"
   ]
  },
  {
   "cell_type": "code",
   "execution_count": 16,
   "id": "9d35a31b",
   "metadata": {},
   "outputs": [
    {
     "data": {
      "text/plain": [
       "{'kitchen utensils': '50 % Off',\n",
       " 'Bathroom': 'No discounts',\n",
       " 'gardentools': '10%off',\n",
       " 'gardenpots': '20%off'}"
      ]
     },
     "execution_count": 16,
     "metadata": {},
     "output_type": "execute_result"
    }
   ],
   "source": [
    "dic"
   ]
  },
  {
   "cell_type": "code",
   "execution_count": 18,
   "id": "6054feca",
   "metadata": {},
   "outputs": [
    {
     "name": "stdout",
     "output_type": "stream",
     "text": [
      "{'category': 'kitchen utensils', 'parent': 'kitchen'}\n",
      "{'category': 'towels', 'parent': 'Bathroom'}\n",
      "{'category': 'gardentools', 'parent': 'garden'}\n",
      "{'category': 'gardenpots', 'parent': 'garden'}\n",
      "{'category': 'books', 'parent': None}\n",
      "{'category': 'kitchen', 'parent': None}\n",
      "{'category': 'shoes', 'parent': None}\n"
     ]
    }
   ],
   "source": [
    "def check(value):\n",
    "    for i in range(len(categories)):\n",
    "        if categories[i]['category'] == value:\n",
    "            "
   ]
  },
  {
   "cell_type": "code",
   "execution_count": null,
   "id": "8efe289a",
   "metadata": {},
   "outputs": [],
   "source": []
  },
  {
   "cell_type": "code",
   "execution_count": null,
   "id": "3233d4c4",
   "metadata": {},
   "outputs": [],
   "source": []
  },
  {
   "cell_type": "code",
   "execution_count": null,
   "id": "93d84c80",
   "metadata": {},
   "outputs": [],
   "source": []
  },
  {
   "cell_type": "code",
   "execution_count": null,
   "id": "5e949fec",
   "metadata": {},
   "outputs": [],
   "source": []
  },
  {
   "cell_type": "code",
   "execution_count": null,
   "id": "b06ac853",
   "metadata": {},
   "outputs": [],
   "source": []
  },
  {
   "cell_type": "code",
   "execution_count": null,
   "id": "d2236fca",
   "metadata": {},
   "outputs": [],
   "source": []
  },
  {
   "cell_type": "code",
   "execution_count": null,
   "id": "40553776",
   "metadata": {},
   "outputs": [],
   "source": []
  },
  {
   "cell_type": "code",
   "execution_count": null,
   "id": "0f72658e",
   "metadata": {},
   "outputs": [],
   "source": []
  },
  {
   "cell_type": "code",
   "execution_count": null,
   "id": "08a3fdda",
   "metadata": {},
   "outputs": [],
   "source": []
  },
  {
   "cell_type": "code",
   "execution_count": null,
   "id": "93be9556",
   "metadata": {},
   "outputs": [],
   "source": []
  },
  {
   "cell_type": "code",
   "execution_count": null,
   "id": "681726e2",
   "metadata": {},
   "outputs": [],
   "source": []
  },
  {
   "cell_type": "code",
   "execution_count": null,
   "id": "7921ceae",
   "metadata": {},
   "outputs": [],
   "source": []
  }
 ],
 "metadata": {
  "kernelspec": {
   "display_name": "Python 3 (ipykernel)",
   "language": "python",
   "name": "python3"
  },
  "language_info": {
   "codemirror_mode": {
    "name": "ipython",
    "version": 3
   },
   "file_extension": ".py",
   "mimetype": "text/x-python",
   "name": "python",
   "nbconvert_exporter": "python",
   "pygments_lexer": "ipython3",
   "version": "3.8.10"
  }
 },
 "nbformat": 4,
 "nbformat_minor": 5
}

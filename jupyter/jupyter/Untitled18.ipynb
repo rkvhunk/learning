{
 "cells": [
  {
   "cell_type": "code",
   "execution_count": 1,
   "id": "1f53046e",
   "metadata": {},
   "outputs": [],
   "source": [
    "lst = [10, 20, 30, 40]"
   ]
  },
  {
   "cell_type": "code",
   "execution_count": 18,
   "id": "5296e194",
   "metadata": {},
   "outputs": [
    {
     "data": {
      "text/plain": [
       "[100, 8000, 900, 64000]"
      ]
     },
     "execution_count": 18,
     "metadata": {},
     "output_type": "execute_result"
    }
   ],
   "source": [
    "[v**2  if k%2==0 else v**3 for k,v in enumerate(lst)]"
   ]
  },
  {
   "cell_type": "code",
   "execution_count": 19,
   "id": "90ffe187",
   "metadata": {},
   "outputs": [],
   "source": [
    "nums = [10, 3, 7, 8, 22, 16, 5, 14]"
   ]
  },
  {
   "cell_type": "code",
   "execution_count": 20,
   "id": "3ff82e1b",
   "metadata": {},
   "outputs": [],
   "source": [
    "for i in nums:\n",
    "    if i%2==0:\n",
    "        "
   ]
  },
  {
   "cell_type": "code",
   "execution_count": 28,
   "id": "b761206a",
   "metadata": {},
   "outputs": [],
   "source": [
    "a = list(filter(lambda x:x%2==0, nums)) "
   ]
  },
  {
   "cell_type": "code",
   "execution_count": 30,
   "id": "428b28c1",
   "metadata": {},
   "outputs": [],
   "source": [
    "a.sort()"
   ]
  },
  {
   "cell_type": "code",
   "execution_count": 31,
   "id": "face6f80",
   "metadata": {},
   "outputs": [
    {
     "data": {
      "text/plain": [
       "[8, 10, 14, 16, 22]"
      ]
     },
     "execution_count": 31,
     "metadata": {},
     "output_type": "execute_result"
    }
   ],
   "source": [
    "a"
   ]
  },
  {
   "cell_type": "code",
   "execution_count": 32,
   "id": "c07ea292",
   "metadata": {},
   "outputs": [
    {
     "data": {
      "text/plain": [
       "[22, 16, 14, 10, 8]"
      ]
     },
     "execution_count": 32,
     "metadata": {},
     "output_type": "execute_result"
    }
   ],
   "source": [
    "a[::-1]"
   ]
  },
  {
   "cell_type": "code",
   "execution_count": null,
   "id": "eef790b8",
   "metadata": {},
   "outputs": [],
   "source": []
  },
  {
   "cell_type": "code",
   "execution_count": null,
   "id": "0ecd9871",
   "metadata": {},
   "outputs": [],
   "source": []
  },
  {
   "cell_type": "code",
   "execution_count": null,
   "id": "fff6610f",
   "metadata": {},
   "outputs": [],
   "source": []
  },
  {
   "cell_type": "code",
   "execution_count": 54,
   "id": "b9f097ad",
   "metadata": {},
   "outputs": [],
   "source": [
    "input_string = \"the quick brown fox jumps over the lazy dog\""
   ]
  },
  {
   "cell_type": "code",
   "execution_count": 55,
   "id": "8f8d19ec",
   "metadata": {},
   "outputs": [],
   "source": [
    "def splitter(input_string):\n",
    "    data = input_string.split(\" \")\n",
    "    dic = {}\n",
    "    for i in data:\n",
    "        if i in dic:\n",
    "            dic[i] += 1\n",
    "        else:\n",
    "            dic[i] = 1\n",
    "    return dic"
   ]
  },
  {
   "cell_type": "code",
   "execution_count": 56,
   "id": "b068a90d",
   "metadata": {},
   "outputs": [
    {
     "data": {
      "text/plain": [
       "{'the': 2,\n",
       " 'quick': 1,\n",
       " 'brown': 1,\n",
       " 'fox': 1,\n",
       " 'jumps': 1,\n",
       " 'over': 1,\n",
       " 'lazy': 1,\n",
       " 'dog': 1}"
      ]
     },
     "execution_count": 56,
     "metadata": {},
     "output_type": "execute_result"
    }
   ],
   "source": [
    "splitter(input_string)"
   ]
  },
  {
   "cell_type": "code",
   "execution_count": null,
   "id": "1631b9ff",
   "metadata": {},
   "outputs": [],
   "source": []
  },
  {
   "cell_type": "code",
   "execution_count": null,
   "id": "abd28ed5",
   "metadata": {},
   "outputs": [],
   "source": []
  },
  {
   "cell_type": "code",
   "execution_count": 61,
   "id": "1729f9b0",
   "metadata": {},
   "outputs": [],
   "source": [
    "people = [ {\"name\": \"Alice\", \"age\": 25, \"gender\": \"F\", \"city\": \"New York\", \"country\": \"USA\"}, {\"name\": \"Bob\", \"age\": 30, \"gender\": \"M\", \"city\": \"San Francisco\", \"country\": \"USA\"}, {\"name\": \"Charlie\", \"age\": 35, \"gender\": \"M\", \"city\": \"New York\", \"country\": \"USA\"}, {\"name\": \"Dave\", \"age\": 40, \"gender\": \"M\", \"city\": \"Los Angeles\", \"country\": \"USA\"}, {\"name\": \"Eve\", \"age\": 45, \"gender\": \"F\", \"city\": \"San Francisco\", \"country\": \"USA\"}, {\"name\": \"Frank\", \"age\": 50, \"gender\": \"M\", \"city\": \"New York\", \"country\": \"USA\"} ]"
   ]
  },
  {
   "cell_type": "code",
   "execution_count": 80,
   "id": "a52ffc5f",
   "metadata": {},
   "outputs": [
    {
     "data": {
      "text/plain": [
       "{'name': 'Alice',\n",
       " 'age': 25,\n",
       " 'gender': 'F',\n",
       " 'city': 'New York',\n",
       " 'country': 'USA'}"
      ]
     },
     "execution_count": 80,
     "metadata": {},
     "output_type": "execute_result"
    }
   ],
   "source": [
    "people[0]"
   ]
  },
  {
   "cell_type": "code",
   "execution_count": 81,
   "id": "56599a8d",
   "metadata": {},
   "outputs": [
    {
     "name": "stdout",
     "output_type": "stream",
     "text": [
      "{'name': 'Alice', 'age': 25, 'gender': 'F', 'city': 'New York', 'country': 'USA'}\n",
      "{'name': 'Bob', 'age': 30, 'gender': 'M', 'city': 'San Francisco', 'country': 'USA'}\n",
      "{'name': 'Charlie', 'age': 35, 'gender': 'M', 'city': 'New York', 'country': 'USA'}\n",
      "{'name': 'Dave', 'age': 40, 'gender': 'M', 'city': 'Los Angeles', 'country': 'USA'}\n",
      "{'name': 'Eve', 'age': 45, 'gender': 'F', 'city': 'San Francisco', 'country': 'USA'}\n",
      "{'name': 'Frank', 'age': 50, 'gender': 'M', 'city': 'New York', 'country': 'USA'}\n"
     ]
    }
   ],
   "source": [
    "for i in people:\n",
    "    print(i)"
   ]
  },
  {
   "cell_type": "code",
   "execution_count": 104,
   "id": "c7bc6895",
   "metadata": {},
   "outputs": [
    {
     "name": "stdout",
     "output_type": "stream",
     "text": [
      "{'New York': None, 'San Francisco': None, 'Los Angeles': None}\n"
     ]
    }
   ],
   "source": [
    "dict_key = []\n",
    "dic = {}\n",
    "for i in people:\n",
    "    dict_key.append(i.get('city'))\n",
    "final_dict_key = set(dict_key)\n",
    "final_list_key = list(final_dict_key)\n",
    "for i in final_list_key:\n",
    "    dic[i] = None\n",
    "print(dic)\n",
    "for i in people:\n",
    "    for k,v in dic.items():\n",
    "        if k == i.get('city'):\n",
    "            dic[k] = i"
   ]
  },
  {
   "cell_type": "code",
   "execution_count": null,
   "id": "8b69fa35",
   "metadata": {},
   "outputs": [],
   "source": [
    "db\n",
    "system architecture\n",
    "dbms\n",
    "system design \n",
    "advanced python\n",
    "global inter\n",
    "dsa\n",
    "cp"
   ]
  },
  {
   "cell_type": "code",
   "execution_count": null,
   "id": "e4718d5f",
   "metadata": {},
   "outputs": [],
   "source": [
    "select max(salary) from emp where salary not in (select max(salary) from emp);"
   ]
  },
  {
   "cell_type": "code",
   "execution_count": 102,
   "id": "4433b9ad",
   "metadata": {},
   "outputs": [
    {
     "data": {
      "text/plain": [
       "{'New York': {'name': 'Frank',\n",
       "  'age': 50,\n",
       "  'gender': 'M',\n",
       "  'city': 'New York',\n",
       "  'country': 'USA'},\n",
       " 'San Francisco': {'name': 'Eve',\n",
       "  'age': 45,\n",
       "  'gender': 'F',\n",
       "  'city': 'San Francisco',\n",
       "  'country': 'USA'},\n",
       " 'Los Angeles': {'name': 'Dave',\n",
       "  'age': 40,\n",
       "  'gender': 'M',\n",
       "  'city': 'Los Angeles',\n",
       "  'country': 'USA'}}"
      ]
     },
     "execution_count": 102,
     "metadata": {},
     "output_type": "execute_result"
    }
   ],
   "source": [
    "dic"
   ]
  },
  {
   "cell_type": "code",
   "execution_count": null,
   "id": "e29979cb",
   "metadata": {},
   "outputs": [],
   "source": []
  },
  {
   "cell_type": "code",
   "execution_count": null,
   "id": "97b7c741",
   "metadata": {},
   "outputs": [],
   "source": []
  },
  {
   "cell_type": "code",
   "execution_count": null,
   "id": "9665db79",
   "metadata": {},
   "outputs": [],
   "source": []
  },
  {
   "cell_type": "code",
   "execution_count": 98,
   "id": "3baa8f4f",
   "metadata": {},
   "outputs": [
    {
     "data": {
      "text/plain": [
       "{'New York': {'name': 'Frank',\n",
       "  'age': 50,\n",
       "  'gender': 'M',\n",
       "  'city': 'New York',\n",
       "  'country': 'USA'},\n",
       " 'San Francisco': {'name': 'Eve',\n",
       "  'age': 45,\n",
       "  'gender': 'F',\n",
       "  'city': 'San Francisco',\n",
       "  'country': 'USA'},\n",
       " 'Los Angeles': {'name': 'Dave',\n",
       "  'age': 40,\n",
       "  'gender': 'M',\n",
       "  'city': 'Los Angeles',\n",
       "  'country': 'USA'}}"
      ]
     },
     "execution_count": 98,
     "metadata": {},
     "output_type": "execute_result"
    }
   ],
   "source": [
    "dic"
   ]
  },
  {
   "cell_type": "code",
   "execution_count": null,
   "id": "1fa06dc3",
   "metadata": {},
   "outputs": [],
   "source": []
  },
  {
   "cell_type": "code",
   "execution_count": 96,
   "id": "5f7f4597",
   "metadata": {},
   "outputs": [
    {
     "data": {
      "text/plain": [
       "{'New York': {'name': 'Frank',\n",
       "  'age': 50,\n",
       "  'gender': 'M',\n",
       "  'city': 'New York',\n",
       "  'country': 'USA'},\n",
       " 'San Francisco': {'name': 'Eve',\n",
       "  'age': 45,\n",
       "  'gender': 'F',\n",
       "  'city': 'San Francisco',\n",
       "  'country': 'USA'},\n",
       " 'Los Angeles': {'name': 'Dave',\n",
       "  'age': 40,\n",
       "  'gender': 'M',\n",
       "  'city': 'Los Angeles',\n",
       "  'country': 'USA'}}"
      ]
     },
     "execution_count": 96,
     "metadata": {},
     "output_type": "execute_result"
    }
   ],
   "source": [
    "dic"
   ]
  },
  {
   "cell_type": "code",
   "execution_count": null,
   "id": "30c599ec",
   "metadata": {},
   "outputs": [],
   "source": []
  },
  {
   "cell_type": "code",
   "execution_count": null,
   "id": "1882af23",
   "metadata": {},
   "outputs": [],
   "source": []
  },
  {
   "cell_type": "code",
   "execution_count": null,
   "id": "95dee85d",
   "metadata": {},
   "outputs": [],
   "source": []
  },
  {
   "cell_type": "code",
   "execution_count": 92,
   "id": "b146a464",
   "metadata": {},
   "outputs": [
    {
     "data": {
      "text/plain": [
       "{'New York': {'name': 'Frank',\n",
       "  'age': 50,\n",
       "  'gender': 'M',\n",
       "  'city': 'New York',\n",
       "  'country': 'USA'},\n",
       " 'San Francisco': {'name': 'Eve',\n",
       "  'age': 45,\n",
       "  'gender': 'F',\n",
       "  'city': 'San Francisco',\n",
       "  'country': 'USA'},\n",
       " 'Los Angeles': {'name': 'Dave',\n",
       "  'age': 40,\n",
       "  'gender': 'M',\n",
       "  'city': 'Los Angeles',\n",
       "  'country': 'USA'}}"
      ]
     },
     "execution_count": 92,
     "metadata": {},
     "output_type": "execute_result"
    }
   ],
   "source": [
    "dic"
   ]
  },
  {
   "cell_type": "code",
   "execution_count": null,
   "id": "f77475d1",
   "metadata": {},
   "outputs": [],
   "source": []
  },
  {
   "cell_type": "code",
   "execution_count": null,
   "id": "f63b746e",
   "metadata": {},
   "outputs": [],
   "source": []
  },
  {
   "cell_type": "code",
   "execution_count": null,
   "id": "4040d028",
   "metadata": {},
   "outputs": [],
   "source": []
  },
  {
   "cell_type": "code",
   "execution_count": 88,
   "id": "7a153ac2",
   "metadata": {},
   "outputs": [
    {
     "name": "stdout",
     "output_type": "stream",
     "text": [
      "New York None\n",
      "San Francisco None\n",
      "Los Angeles None\n"
     ]
    }
   ],
   "source": [
    "for k,v in dic.items():\n",
    "    print(k,v)"
   ]
  },
  {
   "cell_type": "code",
   "execution_count": null,
   "id": "674cb762",
   "metadata": {},
   "outputs": [],
   "source": []
  },
  {
   "cell_type": "code",
   "execution_count": null,
   "id": "e8b97d72",
   "metadata": {},
   "outputs": [],
   "source": []
  },
  {
   "cell_type": "code",
   "execution_count": null,
   "id": "2a6b6a85",
   "metadata": {},
   "outputs": [],
   "source": []
  },
  {
   "cell_type": "code",
   "execution_count": 84,
   "id": "8abfa9aa",
   "metadata": {},
   "outputs": [],
   "source": []
  },
  {
   "cell_type": "code",
   "execution_count": null,
   "id": "22489250",
   "metadata": {},
   "outputs": [],
   "source": []
  },
  {
   "cell_type": "code",
   "execution_count": null,
   "id": "8fe8a15e",
   "metadata": {},
   "outputs": [],
   "source": []
  },
  {
   "cell_type": "code",
   "execution_count": null,
   "id": "2b58bb9d",
   "metadata": {},
   "outputs": [],
   "source": []
  },
  {
   "cell_type": "code",
   "execution_count": null,
   "id": "b2a8ffe3",
   "metadata": {},
   "outputs": [],
   "source": []
  },
  {
   "cell_type": "code",
   "execution_count": null,
   "id": "41ea8195",
   "metadata": {},
   "outputs": [],
   "source": []
  },
  {
   "cell_type": "code",
   "execution_count": null,
   "id": "7585ef0c",
   "metadata": {},
   "outputs": [],
   "source": []
  },
  {
   "cell_type": "code",
   "execution_count": null,
   "id": "6a8b556b",
   "metadata": {},
   "outputs": [],
   "source": []
  },
  {
   "cell_type": "code",
   "execution_count": null,
   "id": "9f6b405b",
   "metadata": {},
   "outputs": [],
   "source": []
  },
  {
   "cell_type": "code",
   "execution_count": null,
   "id": "68dfc9fc",
   "metadata": {},
   "outputs": [],
   "source": []
  },
  {
   "cell_type": "code",
   "execution_count": null,
   "id": "e7183ee7",
   "metadata": {},
   "outputs": [],
   "source": []
  },
  {
   "cell_type": "code",
   "execution_count": null,
   "id": "66c49c6c",
   "metadata": {},
   "outputs": [],
   "source": []
  },
  {
   "cell_type": "code",
   "execution_count": null,
   "id": "926da3b2",
   "metadata": {},
   "outputs": [],
   "source": []
  },
  {
   "cell_type": "code",
   "execution_count": 69,
   "id": "3bf0f973",
   "metadata": {},
   "outputs": [],
   "source": []
  },
  {
   "cell_type": "code",
   "execution_count": null,
   "id": "ca57077f",
   "metadata": {},
   "outputs": [],
   "source": []
  },
  {
   "cell_type": "code",
   "execution_count": null,
   "id": "ee5a6b27",
   "metadata": {},
   "outputs": [],
   "source": []
  },
  {
   "cell_type": "code",
   "execution_count": null,
   "id": "021ea138",
   "metadata": {},
   "outputs": [],
   "source": []
  },
  {
   "cell_type": "code",
   "execution_count": null,
   "id": "d6b4eef3",
   "metadata": {},
   "outputs": [],
   "source": []
  },
  {
   "cell_type": "code",
   "execution_count": null,
   "id": "80814ec0",
   "metadata": {},
   "outputs": [],
   "source": []
  },
  {
   "cell_type": "code",
   "execution_count": null,
   "id": "2f665f82",
   "metadata": {},
   "outputs": [],
   "source": []
  },
  {
   "cell_type": "code",
   "execution_count": 59,
   "id": "5604a394",
   "metadata": {},
   "outputs": [],
   "source": [
    "op = { \"New York\": [ {\"name\": \"Alice\", \"age\": 25, \"gender\": \"F\", \"city\": \"New York\", \"country\": \"USA\"}, {\"name\": \"Charlie\", \"age\": 35, \"gender\": \"M\", \"city\": \"New York\", \"country\": \"USA\"}, {\"name\": \"Frank\", \"age\": 50, \"gender\": \"M\", \"city\": \"New York\", \"country\": \"USA\"} ], \"San Francisco\": [ {\"name\": \"Bob\", \"age\": 30, \"gender\": \"M\", \"city\": \"San Francisco\", \"country\": \"USA\"}, {\"name\": \"Eve\", \"age\": 45, \"gender\": \"F\", \"city\": \"San Francisco\", \"country\": \"USA\"} ], \"Los Angeles\": [ {\"name\": \"Dave\", \"age\": 40, \"gender\": \"M\", \"city\": \"Los Angeles\", \"country\": \"USA\"} ] }"
   ]
  },
  {
   "cell_type": "code",
   "execution_count": 60,
   "id": "97fb503c",
   "metadata": {},
   "outputs": [
    {
     "data": {
      "text/plain": [
       "{'New York': [{'name': 'Alice',\n",
       "   'age': 25,\n",
       "   'gender': 'F',\n",
       "   'city': 'New York',\n",
       "   'country': 'USA'},\n",
       "  {'name': 'Charlie',\n",
       "   'age': 35,\n",
       "   'gender': 'M',\n",
       "   'city': 'New York',\n",
       "   'country': 'USA'},\n",
       "  {'name': 'Frank',\n",
       "   'age': 50,\n",
       "   'gender': 'M',\n",
       "   'city': 'New York',\n",
       "   'country': 'USA'}],\n",
       " 'San Francisco': [{'name': 'Bob',\n",
       "   'age': 30,\n",
       "   'gender': 'M',\n",
       "   'city': 'San Francisco',\n",
       "   'country': 'USA'},\n",
       "  {'name': 'Eve',\n",
       "   'age': 45,\n",
       "   'gender': 'F',\n",
       "   'city': 'San Francisco',\n",
       "   'country': 'USA'}],\n",
       " 'Los Angeles': [{'name': 'Dave',\n",
       "   'age': 40,\n",
       "   'gender': 'M',\n",
       "   'city': 'Los Angeles',\n",
       "   'country': 'USA'}]}"
      ]
     },
     "execution_count": 60,
     "metadata": {},
     "output_type": "execute_result"
    }
   ],
   "source": [
    "op"
   ]
  },
  {
   "cell_type": "code",
   "execution_count": null,
   "id": "e2b80465",
   "metadata": {},
   "outputs": [],
   "source": []
  },
  {
   "cell_type": "code",
   "execution_count": null,
   "id": "c190a1ca",
   "metadata": {},
   "outputs": [],
   "source": []
  },
  {
   "cell_type": "code",
   "execution_count": null,
   "id": "fda31977",
   "metadata": {},
   "outputs": [],
   "source": []
  },
  {
   "cell_type": "code",
   "execution_count": null,
   "id": "ade75822",
   "metadata": {},
   "outputs": [],
   "source": []
  },
  {
   "cell_type": "code",
   "execution_count": null,
   "id": "6d62df8f",
   "metadata": {},
   "outputs": [],
   "source": []
  },
  {
   "cell_type": "code",
   "execution_count": null,
   "id": "ef414762",
   "metadata": {},
   "outputs": [],
   "source": []
  },
  {
   "cell_type": "code",
   "execution_count": null,
   "id": "71b41f49",
   "metadata": {},
   "outputs": [],
   "source": []
  },
  {
   "cell_type": "code",
   "execution_count": null,
   "id": "7ce85418",
   "metadata": {},
   "outputs": [],
   "source": []
  },
  {
   "cell_type": "code",
   "execution_count": null,
   "id": "29bd9fa4",
   "metadata": {},
   "outputs": [],
   "source": []
  },
  {
   "cell_type": "code",
   "execution_count": null,
   "id": "88f916d1",
   "metadata": {},
   "outputs": [],
   "source": []
  },
  {
   "cell_type": "code",
   "execution_count": null,
   "id": "6848aaf4",
   "metadata": {},
   "outputs": [],
   "source": []
  },
  {
   "cell_type": "code",
   "execution_count": null,
   "id": "57dfd51c",
   "metadata": {},
   "outputs": [],
   "source": []
  },
  {
   "cell_type": "code",
   "execution_count": 41,
   "id": "d33e8cec",
   "metadata": {},
   "outputs": [],
   "source": [
    "from collections import Counter\n",
    "result = Counter(data)"
   ]
  },
  {
   "cell_type": "code",
   "execution_count": 42,
   "id": "5706a199",
   "metadata": {},
   "outputs": [
    {
     "data": {
      "text/plain": [
       "Counter({'the': 2,\n",
       "         'quick': 1,\n",
       "         'brown': 1,\n",
       "         'fox': 1,\n",
       "         'jumps': 1,\n",
       "         'over': 1,\n",
       "         'lazy': 1,\n",
       "         'dog': 1})"
      ]
     },
     "execution_count": 42,
     "metadata": {},
     "output_type": "execute_result"
    }
   ],
   "source": [
    "result"
   ]
  },
  {
   "cell_type": "code",
   "execution_count": null,
   "id": "bcb44a43",
   "metadata": {},
   "outputs": [],
   "source": []
  },
  {
   "cell_type": "code",
   "execution_count": null,
   "id": "538ab3fb",
   "metadata": {},
   "outputs": [],
   "source": []
  },
  {
   "cell_type": "code",
   "execution_count": null,
   "id": "5d20cd85",
   "metadata": {},
   "outputs": [],
   "source": []
  },
  {
   "cell_type": "code",
   "execution_count": null,
   "id": "41b4b948",
   "metadata": {},
   "outputs": [],
   "source": []
  },
  {
   "cell_type": "code",
   "execution_count": null,
   "id": "a93a215b",
   "metadata": {},
   "outputs": [],
   "source": []
  },
  {
   "cell_type": "code",
   "execution_count": null,
   "id": "e2d0a3c2",
   "metadata": {},
   "outputs": [],
   "source": []
  },
  {
   "cell_type": "code",
   "execution_count": null,
   "id": "b90ec53e",
   "metadata": {},
   "outputs": [],
   "source": []
  },
  {
   "cell_type": "code",
   "execution_count": null,
   "id": "8aa4f5cd",
   "metadata": {},
   "outputs": [],
   "source": []
  },
  {
   "cell_type": "code",
   "execution_count": null,
   "id": "ffab0407",
   "metadata": {},
   "outputs": [],
   "source": []
  },
  {
   "cell_type": "code",
   "execution_count": null,
   "id": "e6be9d0d",
   "metadata": {},
   "outputs": [],
   "source": []
  },
  {
   "cell_type": "code",
   "execution_count": null,
   "id": "c1cdf582",
   "metadata": {},
   "outputs": [],
   "source": []
  },
  {
   "cell_type": "code",
   "execution_count": null,
   "id": "3086b44b",
   "metadata": {},
   "outputs": [],
   "source": []
  },
  {
   "cell_type": "code",
   "execution_count": null,
   "id": "c7e27ae6",
   "metadata": {},
   "outputs": [],
   "source": []
  },
  {
   "cell_type": "code",
   "execution_count": null,
   "id": "1c5ac397",
   "metadata": {},
   "outputs": [],
   "source": []
  },
  {
   "cell_type": "code",
   "execution_count": null,
   "id": "cae1d51c",
   "metadata": {},
   "outputs": [],
   "source": []
  },
  {
   "cell_type": "code",
   "execution_count": null,
   "id": "4e06a89f",
   "metadata": {},
   "outputs": [],
   "source": []
  },
  {
   "cell_type": "code",
   "execution_count": null,
   "id": "5658a377",
   "metadata": {},
   "outputs": [],
   "source": []
  },
  {
   "cell_type": "code",
   "execution_count": null,
   "id": "60aa1908",
   "metadata": {},
   "outputs": [],
   "source": []
  },
  {
   "cell_type": "code",
   "execution_count": null,
   "id": "882cb9e1",
   "metadata": {},
   "outputs": [],
   "source": []
  },
  {
   "cell_type": "code",
   "execution_count": null,
   "id": "1b24164d",
   "metadata": {},
   "outputs": [],
   "source": []
  },
  {
   "cell_type": "code",
   "execution_count": null,
   "id": "655d64d6",
   "metadata": {},
   "outputs": [],
   "source": []
  },
  {
   "cell_type": "code",
   "execution_count": null,
   "id": "636df518",
   "metadata": {},
   "outputs": [],
   "source": []
  }
 ],
 "metadata": {
  "kernelspec": {
   "display_name": "Python 3 (ipykernel)",
   "language": "python",
   "name": "python3"
  },
  "language_info": {
   "codemirror_mode": {
    "name": "ipython",
    "version": 3
   },
   "file_extension": ".py",
   "mimetype": "text/x-python",
   "name": "python",
   "nbconvert_exporter": "python",
   "pygments_lexer": "ipython3",
   "version": "3.8.10"
  }
 },
 "nbformat": 4,
 "nbformat_minor": 5
}

{
 "cells": [
  {
   "cell_type": "code",
   "execution_count": null,
   "id": "bd721fbd",
   "metadata": {},
   "outputs": [],
   "source": [
    "#Reverse word within a sentence"
   ]
  },
  {
   "cell_type": "code",
   "execution_count": 25,
   "id": "c19f2ef4",
   "metadata": {},
   "outputs": [
    {
     "data": {
      "text/plain": [
       "'esrever drow  nihtiw   a    ecnetnes'"
      ]
     },
     "execution_count": 25,
     "metadata": {},
     "output_type": "execute_result"
    }
   ],
   "source": [
    "string = \"reverse word  within   a    sentence\"\n",
    "# string.split(\" \")\n",
    "result = [word[::-1] for word in string.split(\" \")]\n",
    "\" \".join(result)"
   ]
  },
  {
   "cell_type": "code",
   "execution_count": 26,
   "id": "d1f61725",
   "metadata": {},
   "outputs": [
    {
     "ename": "IndentationError",
     "evalue": "expected an indented block (586849755.py, line 3)",
     "output_type": "error",
     "traceback": [
      "\u001b[0;36m  Input \u001b[0;32mIn [26]\u001b[0;36m\u001b[0m\n\u001b[0;31m    @app.route('/reverse', methods=\"GET\")\u001b[0m\n\u001b[0m    ^\u001b[0m\n\u001b[0;31mIndentationError\u001b[0m\u001b[0;31m:\u001b[0m expected an indented block\n"
     ]
    }
   ],
   "source": [
    "def create_application():\n",
    "    \n",
    "payload = {'key':'value'}\n",
    "\n",
    "import request\n",
    "\n",
    "@app.route('/reverse', methods=\"POST\")\n",
    "def reverse():\n",
    "    json = request.get_json()\n",
    "    \n",
    "#     string = \"reverse word  within   a    sentence\"\n",
    "    # string.split(\" \")\n",
    "    result = [word[::-1] for word in string.split(\" \")]\n",
    "    final_result = \" \".join(result)\n",
    "    return final_result"
   ]
  },
  {
   "cell_type": "code",
   "execution_count": null,
   "id": "99746d39",
   "metadata": {},
   "outputs": [],
   "source": []
  },
  {
   "cell_type": "code",
   "execution_count": null,
   "id": "3f70fad3",
   "metadata": {},
   "outputs": [],
   "source": [
    "#Cli Program for CSV to JSON Conversion"
   ]
  },
  {
   "cell_type": "code",
   "execution_count": 24,
   "id": "e4bcf835",
   "metadata": {},
   "outputs": [],
   "source": [
    "import json\n",
    "import csv\n",
    "csv_path = 'home/rahul/download/file.csv'\n",
    "json_path = 'home/rahul/download/file.json'\n",
    "final = {'A':'value_a'}\n",
    "\n",
    "with(csv_path, mode='r') as file:\n",
    "    file.read()\n",
    "\n",
    "for value in file:\n",
    "    final['key'] = value\n",
    "\n",
    "with(json_path, mode='w') as file:\n",
    "    file.write(final)\n",
    "    \n",
    "1. read csv\n",
    "2. parse json{'key':'value'}\n",
    "3. write to json"
   ]
  },
  {
   "cell_type": "code",
   "execution_count": null,
   "id": "7f3f6772",
   "metadata": {},
   "outputs": [],
   "source": []
  },
  {
   "cell_type": "code",
   "execution_count": null,
   "id": "c8962bfe",
   "metadata": {},
   "outputs": [],
   "source": []
  },
  {
   "cell_type": "code",
   "execution_count": null,
   "id": "aa55599e",
   "metadata": {},
   "outputs": [],
   "source": []
  },
  {
   "cell_type": "code",
   "execution_count": null,
   "id": "00ce0fa4",
   "metadata": {},
   "outputs": [],
   "source": []
  },
  {
   "cell_type": "code",
   "execution_count": null,
   "id": "c3cfb46d",
   "metadata": {},
   "outputs": [],
   "source": []
  },
  {
   "cell_type": "code",
   "execution_count": 32,
   "id": "e293556a",
   "metadata": {},
   "outputs": [
    {
     "name": "stdout",
     "output_type": "stream",
     "text": [
      "<class 'dict'>\n"
     ]
    }
   ],
   "source": [
    "import json\n",
    "\n",
    "sampleDict= {\n",
    "    \"string1\": \"明彦\",\n",
    "    \"string2\": u\"\\u00f8\"\n",
    "}\n",
    "sampleDict = {'Document_Deconstruct':[{'heading':{'page_number':'1','value':'  ','entity_value':'','entity':'','subsections':[{'paragraph':{'page_number':'1','value':'Санхүүгийн тайлан гэдэг нь компанийн бизнесийн үйл ажиллагаа,  санхүүгийн гүйцэтгэлийг илэрхийлдэг бичмэл бүртгэл юм.Санхүүгийн  тайланг төрийн байгууллага, нягтлан бодогч, пүүс гэх мэтээрнягтлан  шалгах, татвар, санхүүжилт,хөрөнгө оруулалтын зорилгоор аудит  хийдэг.Ашгийн төлөөх санхүүгийн анхан шатны тайланд баланс,  орлогын тайлан, мөнгөн гүйлгээний тайлан,өмчийн өөрчлөлтийн тайлан  орно.Ашгийн бус байгууллагууд ижил төстэй боловчөөр санхүүгийн  тайланг ашигладаг.  ҮНДСЭН ЗААВАЛ','entity_value':'','entity':'','subsections':[]}},{'paragraph':{'page_number':'1','value':'•','entity_value':'','entity':'','subsections':[]}},{'paragraph':{'page_number':'1','value':'Санхүүгийн тайлан гэдэг нь аж ахуйннэгжийн бизнесийн үйл  ажиллагаа, санхүүгийн үр дүнг харуулсан бичмэл бүртгэл юм.  Баланс нь хөрөнгө, өр төлбөр, хувь нийлүүлэгчдийн өмчийн тоймыг  цаг тухайд нь агшин зуурын хэлбэрээр өгдөг.  Хөрөнгө орлогын мэдүүлэг нь үндсэндээ тухайн үеийн компанийн  орлого, зарлагыг голчлон анхаардаг.Орлогоос зардлыг хассаны  дараа тайлан нь цэвэр орлого гэж нэрлэгддэг компанийн ашгийн  үзүүлэлтийг гаргадаг.  Мөнгөн гүйлгээний тайлан (CFS)нь компани өр төлбөрөө төлөх,  үйл ажиллагааны зардлаа санхүүжүүлэх, хөрөнгө оруулалтаа  санхүүжүүлэхэд хэр сайн бэлэн мөнгө бий болгож байгааг хэмждэг.  Өмчийн өөрчлөлтийн тайланд ашигнь ирээдүйд өсөхзорилгоор  компанид хэрхэн хадгалагдаж, эсвэл гадны талуудад  хуваарилагдаж байгааг бүртгэдэг.','entity_value':'','entity':'','subsections':[]}},{'paragraph':{'page_number':'1','value':'•','entity_value':'','entity':'','subsections':[]}},{'paragraph':{'page_number':'1','value':'•','entity_value':'','entity':'','subsections':[]}},{'paragraph':{'page_number':'1','value':'•','entity_value':'','entity':'','subsections':[]}},{'paragraph':{'page_number':'1','value':'•','entity_value':'','entity':'','subsections':[]}},{'heading':{'page_number':'1','value':'    ','entity_value':'','entity':'','subsections':[{'paragraph':{'page_number':'1','value':'Хөрөнгө оруулагчид болон санхүүгийн шинжээчид санхүүгийн мэдээлэлд  тулгуурлан компанийн гүйцэтгэлд дүн шинжилгээ хийж, компанийн  хувьцааны үнийн ирээдүйн чиг хандлагын талаар таамаглал дэвшүүлдэг.  Санхүүгийн найдвартай, аудитлагдсан мэдээллийн хамгийн чухал  нөөцүүдийннэгболпүүсийн санхүүгийн тайланг агуулсанжилийн тайлан  юм.  Санхүүгийн тайланг хөрөнгө оруулагчид, зах зээлийн шинжээчид,  зээлдүүлэгчид компанийн санхүүгийн эрүүл мэнд, орлогын чадавхийг','entity_value':'','entity':'','subsections':[]}},{'paragraph':{'page_number':'2','value':'үнэлэхэд ашигладаг.Санхүүгийн тайлангийнгурван том тайлан бол  баланс, орлогын тайлан, мөнгөн гүйлгээний тайлан юм.','entity_value':'','entity':'','subsections':[]}}]}},{'heading':{'page_number':'2','value':' ','entity_value':'','entity':'','subsections':[{'paragraph':{'page_number':'2','value':'Баланс нь компанийн хөрөнгө, өр төлбөр, хувь нийлүүлэгчдийн өмчийн  тоймыгцаг тухайд нь агшин зуурын зураг болгон өгдөг.Балансын дээд  талд байгааогноонь агшин зуурын зургийг хэзээ авсан тухай өгүүлдэг  бөгөөд энэ нь ерөнхийдөө тайлант хугацааны төгсгөл юм.Доорх нь  балансын зүйлсийн задаргаа юм.','entity_value':'','entity':'','subsections':[]}},{'paragraph':{'page_number':'2','value':'Хэсэг  Тэмдэг лэлийн  дугаар  2014 оны  арванхоёрдуг аар сарын 31  Хөрөнгө 1  333,894  Өртөлбөр 2  444,894  Амлалтууд 3  555,894  Болзошгүй нөхцөл байдал 4  333,666  Өмч хөрөнгө 5  333,777  Бусад хөрөнгө 6  173,894  Бусадөр төлбөр 7  333,894  Бусад өмч 8  333,894  Бусад амлалтууд 9  555,894  Бусад гэнэтийн нөхцөл  байдал 10  173,894','entity_value':'','entity':'','subsections':[]}},{'heading':{'page_number':'2','value':'2013      31  173,894  555,894  333,894  333,894  333,894  173,894  333,777  333,666  555,894  444,894','entity_value':'','entity':'','subsections':[]}},{'heading':{'page_number':'3','value':'  ','entity_value':'','entity':'','subsections':[{'paragraph':{'page_number':'3','value':'Балансаас ялгаатай нь орлогын тайлан нь жилийн санхүүгийн тайлангийн  хувьд нэг жил, улирлын санхүүгийн тайлангийн хувьднэгулирал гэсэн  тодорхой хугацааг хамардаг.Орлогын тайлан нь орлого, зарлага, цэвэр  орлого, нэгж хувьцаанд ногдох ашгийг тоймлон харуулдаг.','entity_value':'','entity':'','subsections':[]}},{'paragraph':{'page_number':'3','value':'Хэсэг  Тэмдэгл элийн  дугаар  2014 оны  арванхоёрд угаар сарын 31  2013оны  арванхоёрдуг аар сарын 31  Орлого 11  333,894  173,894  Бусад орлого 21  444,894  555,894  Зардал 31  555,894  333,894  Бусад суутгалууд 41  333,666  333,894  Орлогын татварын  өмнөх орлого  (алдагдал).15  333,777  333,894  Бусад хөрөнгө 16  173,894  173,894  Нийт орлого 17  333,894  333,777  Орлого 18  333,894  333,666  Бусад амлалтууд 19  555,894  555,894  Бусад гэнэтийн нөхцөл  байдал 20  173,894  444,894','entity_value':'','entity':'','subsections':[]}}]}},{'heading':{'page_number':'4','value':'  ','entity_value':'','entity':'','subsections':[{'paragraph':{'page_number':'4','value':'Санхүүгийн  тайлан  нь  компанийн  санхүүгийн  үйл  ажиллагааны  хөндлөнгийн үнэлгээний тасалбар юм.Баланс нь хөрвөх чадвар,  төлбөрийн чадвараараа дамжуулан компанийн санхүүгийн эрүүл мэндийг  тайлагнадаг бол орлогын тайлан нь компанийнашигтажиллагааг  илтгэдэг.Мөнгөн гүйлгээний тайлан нь бэлэн мөнгөнийэх үүсвэр,  ашиглалтыг хянах замаар эдгээр хоёрыг хооронднь холбодог.Хамтдаа  санхүүгийн тайлангууд нькомпани цаг хугацааны явцад болон  өрсөлдөгчийнхөө эсрэг хэрхэн ажиллаж байгааг харуулдаг.','entity_value':'','entity':'','subsections':[]}}]}}]}}]}}]}\n",
    "print(type(sampleDict))\n",
    "with open(\"unicodeFile_1.json\", \"w\", encoding='utf8') as write_file:\n",
    "    json.dump(sampleDict, write_file, ensure_ascii=False)\n",
    "# print(\"Done writing JSON serialized Unicode Data as-is into file\")\n",
    "\n",
    "# with open(\"unicodeFile.json\", \"r\", encoding='utf-8') as read_file:\n",
    "#     print(\"Reading JSON serialized Unicode data from file\")\n",
    "#     sampleData = json.load(read_file)\n",
    "# print(\"Decoded JSON serialized Unicode data\")\n",
    "# print(sampleData[\"string1\"], sampleData[\"string1\"])"
   ]
  },
  {
   "cell_type": "code",
   "execution_count": null,
   "id": "f05d891b",
   "metadata": {},
   "outputs": [],
   "source": []
  },
  {
   "cell_type": "code",
   "execution_count": null,
   "id": "75019033",
   "metadata": {},
   "outputs": [],
   "source": []
  },
  {
   "cell_type": "code",
   "execution_count": null,
   "id": "d3ccb5aa",
   "metadata": {},
   "outputs": [],
   "source": []
  },
  {
   "cell_type": "code",
   "execution_count": null,
   "id": "d78212b7",
   "metadata": {},
   "outputs": [],
   "source": []
  },
  {
   "cell_type": "code",
   "execution_count": null,
   "id": "b1a3dfca",
   "metadata": {},
   "outputs": [],
   "source": []
  },
  {
   "cell_type": "code",
   "execution_count": null,
   "id": "90c3edc1",
   "metadata": {},
   "outputs": [],
   "source": []
  },
  {
   "cell_type": "code",
   "execution_count": null,
   "id": "892e1841",
   "metadata": {},
   "outputs": [],
   "source": []
  },
  {
   "cell_type": "code",
   "execution_count": null,
   "id": "ad6f9a17",
   "metadata": {},
   "outputs": [],
   "source": []
  },
  {
   "cell_type": "code",
   "execution_count": null,
   "id": "b4559703",
   "metadata": {},
   "outputs": [],
   "source": []
  },
  {
   "cell_type": "code",
   "execution_count": null,
   "id": "2a0a299a",
   "metadata": {},
   "outputs": [],
   "source": []
  },
  {
   "cell_type": "code",
   "execution_count": null,
   "id": "2081b884",
   "metadata": {},
   "outputs": [],
   "source": []
  },
  {
   "cell_type": "code",
   "execution_count": null,
   "id": "09634322",
   "metadata": {},
   "outputs": [],
   "source": []
  },
  {
   "cell_type": "code",
   "execution_count": null,
   "id": "08885a9b",
   "metadata": {},
   "outputs": [],
   "source": []
  },
  {
   "cell_type": "code",
   "execution_count": null,
   "id": "9ebb9548",
   "metadata": {},
   "outputs": [],
   "source": []
  },
  {
   "cell_type": "code",
   "execution_count": null,
   "id": "13fd29d5",
   "metadata": {},
   "outputs": [],
   "source": []
  },
  {
   "cell_type": "code",
   "execution_count": null,
   "id": "f36114ac",
   "metadata": {},
   "outputs": [],
   "source": []
  },
  {
   "cell_type": "code",
   "execution_count": null,
   "id": "f835c719",
   "metadata": {},
   "outputs": [],
   "source": []
  },
  {
   "cell_type": "code",
   "execution_count": null,
   "id": "649165c2",
   "metadata": {},
   "outputs": [],
   "source": []
  },
  {
   "cell_type": "code",
   "execution_count": null,
   "id": "2906e1ce",
   "metadata": {},
   "outputs": [],
   "source": []
  }
 ],
 "metadata": {
  "kernelspec": {
   "display_name": "Python 3 (ipykernel)",
   "language": "python",
   "name": "python3"
  },
  "language_info": {
   "codemirror_mode": {
    "name": "ipython",
    "version": 3
   },
   "file_extension": ".py",
   "mimetype": "text/x-python",
   "name": "python",
   "nbconvert_exporter": "python",
   "pygments_lexer": "ipython3",
   "version": "3.8.10"
  }
 },
 "nbformat": 4,
 "nbformat_minor": 5
}

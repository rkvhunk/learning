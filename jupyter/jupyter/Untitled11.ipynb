{
 "cells": [
  {
   "cell_type": "code",
   "execution_count": null,
   "id": "a79ed976",
   "metadata": {},
   "outputs": [],
   "source": [
    "nums = [2,7,11,15], target = 9\n",
    "nums = [3,2,4], target = 6\n",
    "nums = [3,3], target = 6"
   ]
  },
  {
   "cell_type": "code",
   "execution_count": 32,
   "id": "fb913282",
   "metadata": {},
   "outputs": [],
   "source": [
    "def sum_of_addition(nums, target):\n",
    "    l = len(nums) -1 \n",
    "    for k,v in enumerate(nums):\n",
    "        if l>k:\n",
    "            if target == nums[k]+nums[k+1]:\n",
    "                print(k,k+1)\n",
    "\n",
    "nums = [2,7,11,15]\n",
    "target = 13\n",
    "sum_of_addition(nums, target)"
   ]
  },
  {
   "cell_type": "code",
   "execution_count": 45,
   "id": "db459026",
   "metadata": {},
   "outputs": [
    {
     "name": "stdout",
     "output_type": "stream",
     "text": [
      "2 0\n"
     ]
    }
   ],
   "source": [
    "def sum_of_addition(nums, target):\n",
    "    for k,v in enumerate(nums):\n",
    "        for i,j in enumerate(nums):\n",
    "            if target == nums[k]+nums[i]:\n",
    "                print(k,i)\n",
    "                break\n",
    "            break\n",
    "\n",
    "nums = [2,7,11,15]\n",
    "target = 13\n",
    "sum_of_addition(nums, target)"
   ]
  },
  {
   "cell_type": "code",
   "execution_count": 10,
   "id": "5e971336",
   "metadata": {},
   "outputs": [
    {
     "data": {
      "text/plain": [
       "-1"
      ]
     },
     "execution_count": 10,
     "metadata": {},
     "output_type": "execute_result"
    }
   ],
   "source": [
    "# def sum_of_addition(nums, target):\n",
    "#     l = len(nums) -1 \n",
    "#     for k,v in enumerate(nums):\n",
    "#         if l>k:\n",
    "#             if target == nums[k]+nums[k+1]:\n",
    "#                 print(k,k+1)\n",
    "\n",
    "# def sum_of_addition(x, target):\n",
    "#     for i in x:\n",
    "#         if i < target:\n",
    "#             pair = int(target) - int(i)\n",
    "#             if pair in x:\n",
    "#                 print(\"the first number= %d the second number %d\"%(i,pair))\n",
    "#                 break\n",
    "def sum_of_addition(list1, target):\n",
    "    length = len(list1)\n",
    "    for i in range(length-1):  \n",
    "        for j in range(i+1, length):  \n",
    "            if list1[i]+list1[j] == target:  \n",
    "                new_list = i, j  \n",
    "                return list(new_list)  \n",
    "        return -1                  \n",
    "\n",
    "nums = [3,2,4]\n",
    "target = 6\n",
    "sum_of_addition(nums, target)"
   ]
  },
  {
   "cell_type": "code",
   "execution_count": 11,
   "id": "69d62c4b",
   "metadata": {},
   "outputs": [
    {
     "name": "stdout",
     "output_type": "stream",
     "text": [
      "[0, 1]\n",
      "[4, 6]\n"
     ]
    }
   ],
   "source": [
    "import itertools\n",
    "\n",
    "integer_array = [2, 8, 4, 7, 9, 5, 1]\n",
    "target = 10\n",
    "for numbers in itertools.combinations(integer_array,2):\n",
    "    if sum(numbers) == target:\n",
    "        print([integer_array.index(number) for number in numbers])"
   ]
  },
  {
   "cell_type": "code",
   "execution_count": 3,
   "id": "01fee7cc",
   "metadata": {},
   "outputs": [],
   "source": [
    "#generator\n",
    "def generator_name(arg):\n",
    "    # statements\n",
    "    yield 1\n",
    "x=generator_name('hello')"
   ]
  },
  {
   "cell_type": "code",
   "execution_count": 5,
   "id": "f761941f",
   "metadata": {},
   "outputs": [
    {
     "data": {
      "text/plain": [
       "1"
      ]
     },
     "execution_count": 5,
     "metadata": {},
     "output_type": "execute_result"
    }
   ],
   "source": [
    "next(x)"
   ]
  },
  {
   "cell_type": "code",
   "execution_count": 25,
   "id": "7fd20ef9",
   "metadata": {},
   "outputs": [],
   "source": [
    "def gen():\n",
    "    for i in range(0,11):\n",
    "        yield i"
   ]
  },
  {
   "cell_type": "code",
   "execution_count": 31,
   "id": "096bf10f",
   "metadata": {},
   "outputs": [],
   "source": [
    "a = gen()"
   ]
  },
  {
   "cell_type": "code",
   "execution_count": 33,
   "id": "99f37860",
   "metadata": {},
   "outputs": [
    {
     "data": {
      "text/plain": [
       "0"
      ]
     },
     "execution_count": 33,
     "metadata": {},
     "output_type": "execute_result"
    }
   ],
   "source": [
    "next(a)"
   ]
  },
  {
   "cell_type": "code",
   "execution_count": 34,
   "id": "2e39cba1",
   "metadata": {},
   "outputs": [
    {
     "data": {
      "text/plain": [
       "1"
      ]
     },
     "execution_count": 34,
     "metadata": {},
     "output_type": "execute_result"
    }
   ],
   "source": [
    "next(a)"
   ]
  },
  {
   "cell_type": "code",
   "execution_count": 35,
   "id": "56fa6eff",
   "metadata": {},
   "outputs": [
    {
     "data": {
      "text/plain": [
       "2"
      ]
     },
     "execution_count": 35,
     "metadata": {},
     "output_type": "execute_result"
    }
   ],
   "source": [
    "next(a)"
   ]
  },
  {
   "cell_type": "code",
   "execution_count": 36,
   "id": "b99022a7",
   "metadata": {},
   "outputs": [
    {
     "data": {
      "text/plain": [
       "3"
      ]
     },
     "execution_count": 36,
     "metadata": {},
     "output_type": "execute_result"
    }
   ],
   "source": [
    "next(a)"
   ]
  },
  {
   "cell_type": "code",
   "execution_count": 37,
   "id": "c4b3a5db",
   "metadata": {},
   "outputs": [
    {
     "data": {
      "text/plain": [
       "4"
      ]
     },
     "execution_count": 37,
     "metadata": {},
     "output_type": "execute_result"
    }
   ],
   "source": [
    "next(a)"
   ]
  },
  {
   "cell_type": "code",
   "execution_count": null,
   "id": "bc3e731a",
   "metadata": {},
   "outputs": [],
   "source": []
  },
  {
   "cell_type": "code",
   "execution_count": 48,
   "id": "83eaae92",
   "metadata": {},
   "outputs": [],
   "source": [
    "#decorator\n",
    "def dec(fun):\n",
    "    def inner():\n",
    "        print(\"inside decorator\")\n",
    "        fun()\n",
    "    return inner"
   ]
  },
  {
   "cell_type": "code",
   "execution_count": 49,
   "id": "00280910",
   "metadata": {},
   "outputs": [],
   "source": [
    "def simple():\n",
    "    print(\"inside simple\")"
   ]
  },
  {
   "cell_type": "code",
   "execution_count": 50,
   "id": "2d673b3e",
   "metadata": {},
   "outputs": [],
   "source": [
    "a = dec(simple)"
   ]
  },
  {
   "cell_type": "code",
   "execution_count": 52,
   "id": "949e3b47",
   "metadata": {},
   "outputs": [
    {
     "name": "stdout",
     "output_type": "stream",
     "text": [
      "inside decorator\n",
      "inside simple\n"
     ]
    }
   ],
   "source": [
    "a()"
   ]
  },
  {
   "cell_type": "code",
   "execution_count": 46,
   "id": "34367bd0",
   "metadata": {},
   "outputs": [],
   "source": [
    "@dec\n",
    "def simple():\n",
    "    print(\"outside decorator\")"
   ]
  },
  {
   "cell_type": "code",
   "execution_count": 47,
   "id": "57d9045b",
   "metadata": {},
   "outputs": [
    {
     "name": "stdout",
     "output_type": "stream",
     "text": [
      "inside decorator\n",
      "outside decorator\n"
     ]
    }
   ],
   "source": [
    "simple()"
   ]
  },
  {
   "cell_type": "code",
   "execution_count": null,
   "id": "76c960dd",
   "metadata": {},
   "outputs": [],
   "source": []
  },
  {
   "cell_type": "code",
   "execution_count": null,
   "id": "c2b7f58b",
   "metadata": {},
   "outputs": [],
   "source": []
  },
  {
   "cell_type": "code",
   "execution_count": null,
   "id": "d000068c",
   "metadata": {},
   "outputs": [],
   "source": []
  },
  {
   "cell_type": "code",
   "execution_count": null,
   "id": "7dcfa05b",
   "metadata": {},
   "outputs": [],
   "source": []
  },
  {
   "cell_type": "code",
   "execution_count": null,
   "id": "1e1dfa62",
   "metadata": {},
   "outputs": [],
   "source": []
  },
  {
   "cell_type": "code",
   "execution_count": null,
   "id": "c9282af4",
   "metadata": {},
   "outputs": [],
   "source": []
  },
  {
   "cell_type": "code",
   "execution_count": null,
   "id": "f7efd929",
   "metadata": {},
   "outputs": [],
   "source": []
  },
  {
   "cell_type": "code",
   "execution_count": null,
   "id": "cb603f86",
   "metadata": {},
   "outputs": [],
   "source": []
  },
  {
   "cell_type": "code",
   "execution_count": null,
   "id": "ab5c4ea9",
   "metadata": {},
   "outputs": [],
   "source": []
  },
  {
   "cell_type": "code",
   "execution_count": null,
   "id": "fb47b2ce",
   "metadata": {},
   "outputs": [],
   "source": []
  },
  {
   "cell_type": "code",
   "execution_count": null,
   "id": "95c7521d",
   "metadata": {},
   "outputs": [],
   "source": []
  }
 ],
 "metadata": {
  "kernelspec": {
   "display_name": "Python 3 (ipykernel)",
   "language": "python",
   "name": "python3"
  },
  "language_info": {
   "codemirror_mode": {
    "name": "ipython",
    "version": 3
   },
   "file_extension": ".py",
   "mimetype": "text/x-python",
   "name": "python",
   "nbconvert_exporter": "python",
   "pygments_lexer": "ipython3",
   "version": "3.8.10"
  }
 },
 "nbformat": 4,
 "nbformat_minor": 5
}
